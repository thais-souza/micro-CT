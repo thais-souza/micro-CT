{
 "cells": [
  {
   "cell_type": "markdown",
   "id": "03e2fd33",
   "metadata": {},
   "source": [
    "# IMPORTAÇÃO DE BIBLIOTECAS"
   ]
  },
  {
   "cell_type": "code",
   "execution_count": 37,
   "id": "61739f03",
   "metadata": {},
   "outputs": [],
   "source": [
    "from skimage import data, io\n",
    "from scipy import linalg\n",
    "import matplotlib.pyplot as plt\n",
    "import chart_studio.tools as tls\n",
    "import pyvista as pv\n",
    "import plotly\n",
    "import plotly.graph_objects as go\n",
    "import plotly.express as px\n",
    "import math\n",
    "import numpy as np\n",
    "import numpy.matlib\n",
    "from scipy.sparse import csr_matrix, find\n",
    "import copy\n",
    "import stl\n",
    "from mpl_toolkits import mplot3d\n",
    "import gmsh"
   ]
  },
  {
   "cell_type": "markdown",
   "id": "d4c341d4",
   "metadata": {},
   "source": [
    "# DETERMINAÇÃO DAS PROPRIEDADES"
   ]
  },
  {
   "cell_type": "markdown",
   "id": "eb51d51a",
   "metadata": {},
   "source": [
    "## PROPRIEDADES DO ARCABOUÇO"
   ]
  },
  {
   "cell_type": "code",
   "execution_count": 2,
   "id": "f97448d5",
   "metadata": {},
   "outputs": [],
   "source": [
    "#=======================================================================================================\n",
    "# PCL\n",
    "#=======================================================================================================\n",
    "MELT = 5\n",
    "CFP = 0.3"
   ]
  },
  {
   "cell_type": "markdown",
   "id": "79283c4f",
   "metadata": {},
   "source": [
    "## PROPRIEDADES DAS CÉLULAS"
   ]
  },
  {
   "cell_type": "code",
   "execution_count": 3,
   "id": "7be1c1c6",
   "metadata": {},
   "outputs": [],
   "source": [
    "MELTC = 0.9e12\n",
    "CFPC = 0.499"
   ]
  },
  {
   "cell_type": "markdown",
   "id": "25471c06",
   "metadata": {},
   "source": [
    "## PROPRIEDADES DA ESTRUTURA"
   ]
  },
  {
   "cell_type": "code",
   "execution_count": 32,
   "id": "66f2899c",
   "metadata": {},
   "outputs": [],
   "source": [
    "EX = size [2]                                                       #NÚMERO DE ELEMENTOS X (PIXELS)\n",
    "EY = size [1]                                                       #NÚMERO DE ELEMENTOS Y (PIXELS)\n",
    "EZ = size [0]                                                       #NÚMERO DE ELEMENTOS Z (CAMADAS)\n",
    "TAM_VOX = 1e-5\n",
    "L = EX * TAM_VOX                                                    #TAMANHO X\n",
    "H = EY * TAM_VOX                                                    #TAMANHO Y\n",
    "W = EZ * TAM_VOX                                                    #TAMANHO Z"
   ]
  },
  {
   "cell_type": "markdown",
   "id": "e04f1b69",
   "metadata": {},
   "source": [
    "# RETIRADA DOS ELEMENTOS FLUTUANTES"
   ]
  },
  {
   "cell_type": "markdown",
   "id": "34cf3196",
   "metadata": {},
   "source": [
    "## DEFINIÇÃO DAS FUNÇÕES PARA A APLICAÇÃO DO ALGORITMO UNION-FIND"
   ]
  },
  {
   "cell_type": "code",
   "execution_count": 4,
   "id": "3199f0c9",
   "metadata": {},
   "outputs": [],
   "source": [
    "def find(x):\n",
    "    global parent\n",
    "    if(parent[x] == x):\n",
    "        return x\n",
    "    parent [x] = find(parent[x])\n",
    "    return parent[x]\n",
    "\n",
    "def join (x, y):\n",
    "    global parent\n",
    "    x = find(x)\n",
    "    y = find(y)\n",
    "    if (x == y):\n",
    "        return\n",
    "    if (qty[x] <= qty[y]):\n",
    "        parent[x] = y\n",
    "        qty [y] += qty [x]\n",
    "    else:\n",
    "        parent[y] = x\n",
    "        qty [x] += qty [y]"
   ]
  },
  {
   "cell_type": "markdown",
   "id": "5606f60f",
   "metadata": {},
   "source": [
    "## FUNÇÃO PARA A DETERMINAÇÃO DA RELAÇÃO ENTRE A POSIÇÃO NA MATRIZ 3D E O ID DO ELEMENTO"
   ]
  },
  {
   "cell_type": "code",
   "execution_count": 5,
   "id": "434330ef",
   "metadata": {},
   "outputs": [],
   "source": [
    "def id(position, size):\n",
    "    id = position[0] * size [1] * size [2] + position[1] * size [2] + position[2]\n",
    "    return id"
   ]
  },
  {
   "cell_type": "markdown",
   "id": "f787b8d2",
   "metadata": {},
   "source": [
    "## CARREGAMENTO DO ARQUIVO E VISUALIZAÇÃO"
   ]
  },
  {
   "cell_type": "code",
   "execution_count": 18,
   "id": "a07f1d35",
   "metadata": {},
   "outputs": [
    {
     "data": {
      "application/vnd.plotly.v1+json": {
       "config": {
        "plotlyServerURL": "https://plot.ly"
       },
       "data": [
        {
         "hovertemplate": "x: %{x}<br>y: %{y}<br>color: %{z}<extra></extra>",
         "name": "0",
         "source": "data:image/png;base64,iVBORw0KGgoAAAANSUhEUgAAABQAAAAPCAAAAADB87CJAAAAQUlEQVR4Xp2QMQ4AIAjEivH/Xz4HFVEZjDeRpskB4NEafyMBKicGLIM8wLHVZQpkJ4HEJG+33ZzX1wihV0TT39QAPowKEnx4W6EAAAAASUVORK5CYII=",
         "type": "image",
         "xaxis": "x",
         "yaxis": "y"
        }
       ],
       "frames": [
        {
         "data": [
          {
           "name": "0",
           "source": "data:image/png;base64,iVBORw0KGgoAAAANSUhEUgAAABQAAAAPCAAAAADB87CJAAAAQUlEQVR4Xp2QMQ4AIAjEivH/Xz4HFVEZjDeRpskB4NEafyMBKicGLIM8wLHVZQpkJ4HEJG+33ZzX1wihV0TT39QAPowKEnx4W6EAAAAASUVORK5CYII=",
           "type": "image"
          }
         ],
         "layout": {
          "margin": {
           "t": 60
          }
         },
         "name": "0"
        },
        {
         "data": [
          {
           "name": "1",
           "source": "data:image/png;base64,iVBORw0KGgoAAAANSUhEUgAAABQAAAAPCAAAAADB87CJAAAAPUlEQVR4XoWNMRIAIAzCgv//Mw7Voa09GXMBIMcAq8AxfphuYN7M8DT/5r1opgsM0dWUgApBKMFoi24CsAE9uQsTWG84hwAAAABJRU5ErkJggg==",
           "type": "image"
          }
         ],
         "layout": {
          "margin": {
           "t": 60
          }
         },
         "name": "1"
        },
        {
         "data": [
          {
           "name": "2",
           "source": "data:image/png;base64,iVBORw0KGgoAAAANSUhEUgAAABQAAAAPCAAAAADB87CJAAAARklEQVR4Xm2QQQ4AIAjDiv//8zxAVIY7kFCWDIAmCdDqEICwXgB0ZzKDJYcaUBXiTmDA3OaFle3OyMkDdco36N6p0/0eIjZ57A4RJUJKuwAAAABJRU5ErkJggg==",
           "type": "image"
          }
         ],
         "layout": {
          "margin": {
           "t": 60
          }
         },
         "name": "2"
        },
        {
         "data": [
          {
           "name": "3",
           "source": "data:image/png;base64,iVBORw0KGgoAAAANSUhEUgAAABQAAAAPCAAAAADB87CJAAAATUlEQVR4Xo3PQQ6AMAgEwKHx/19eD7ZK9SIHSCYNS0uvXOPYENQbfleupWOzGdUxZkrDec+OUPJFkY652+cl0v4UKMJYmcsUY6557sEJ3yATDKVzP0IAAAAASUVORK5CYII=",
           "type": "image"
          }
         ],
         "layout": {
          "margin": {
           "t": 60
          }
         },
         "name": "3"
        },
        {
         "data": [
          {
           "name": "4",
           "source": "data:image/png;base64,iVBORw0KGgoAAAANSUhEUgAAABQAAAAPCAAAAADB87CJAAAASUlEQVR4Xm2PQQrAMAzD5P7/z94hYXOaCXoRCriQ2OBhml+56Eq3EnBCvoSsW0/ZeEkB9idj31VaQ1aomjR+pXoHG2I4CK0SeAAxXhMMu6P57gAAAABJRU5ErkJggg==",
           "type": "image"
          }
         ],
         "layout": {
          "margin": {
           "t": 60
          }
         },
         "name": "4"
        },
        {
         "data": [
          {
           "name": "5",
           "source": "data:image/png;base64,iVBORw0KGgoAAAANSUhEUgAAABQAAAAPCAAAAADB87CJAAAATUlEQVR4XmXOQRKAMAgEwd6U//8yHmKUGE4wNQvQq0ptYDIwOltNh+SA9bq7afInsEaQnxmoD04xtJ396eNQcFXsGsYfCIPaHiOGIyw3kQUSFH7pNkcAAAAASUVORK5CYII=",
           "type": "image"
          }
         ],
         "layout": {
          "margin": {
           "t": 60
          }
         },
         "name": "5"
        },
        {
         "data": [
          {
           "name": "6",
           "source": "data:image/png;base64,iVBORw0KGgoAAAANSUhEUgAAABQAAAAPCAAAAADB87CJAAAASklEQVR4XoXQQQoAIQxD0R/vf+fMoq1WQSfQhQ+JRbFiQACjYVlHl503Iz/onA1bHuhcMl9X0DoAaErTS6eqiSpygGfP9iHKPgN8cb0NHLWvlikAAAAASUVORK5CYII=",
           "type": "image"
          }
         ],
         "layout": {
          "margin": {
           "t": 60
          }
         },
         "name": "6"
        },
        {
         "data": [
          {
           "name": "7",
           "source": "data:image/png;base64,iVBORw0KGgoAAAANSUhEUgAAABQAAAAPCAAAAADB87CJAAAAT0lEQVR4XmWPSQoAQQgDKzL//7JzMLa9BEQsJEYxymoiNtgMzZRrCiDTrBUc2wMfWofSfrb4NqslR5LrgL1fvcMf9P2Iuan7ozumweQSwA8IgxAZL+uVUAAAAABJRU5ErkJggg==",
           "type": "image"
          }
         ],
         "layout": {
          "margin": {
           "t": 60
          }
         },
         "name": "7"
        },
        {
         "data": [
          {
           "name": "8",
           "source": "data:image/png;base64,iVBORw0KGgoAAAANSUhEUgAAABQAAAAPCAAAAADB87CJAAAATklEQVR4XlXOWwoAIQxD0RuZ/W8582EfMSDK0daKjWvXCWwj0IBABF4TFNrRsHFSN2ePq1/I5Jar1oOejwO3rQPfCMCIfj1zKqdqBJz+A4pVEhtZ4il8AAAAAElFTkSuQmCC",
           "type": "image"
          }
         ],
         "layout": {
          "margin": {
           "t": 60
          }
         },
         "name": "8"
        },
        {
         "data": [
          {
           "name": "9",
           "source": "data:image/png;base64,iVBORw0KGgoAAAANSUhEUgAAABQAAAAPCAAAAADB87CJAAAAU0lEQVR4Xl3PQRLAIAgEwcby/18mBwmS7I2pgdVwkyBYA3YGbFFMFqQomEIO46wf1tlzylJvUcTbdWAJTRekbKvhAAlbdd+L7N8XwPrN6Cflp+kBFeAVHj44COEAAAAASUVORK5CYII=",
           "type": "image"
          }
         ],
         "layout": {
          "margin": {
           "t": 60
          }
         },
         "name": "9"
        }
       ],
       "layout": {
        "margin": {
         "t": 60
        },
        "sliders": [
         {
          "active": 0,
          "currentvalue": {
           "prefix": "Profundidade="
          },
          "len": 0.9,
          "pad": {
           "b": 10,
           "t": 60
          },
          "steps": [
           {
            "args": [
             [
              "0"
             ],
             {
              "frame": {
               "duration": 0,
               "redraw": true
              },
              "fromcurrent": true,
              "mode": "immediate",
              "transition": {
               "duration": 0,
               "easing": "linear"
              }
             }
            ],
            "label": "0",
            "method": "animate"
           },
           {
            "args": [
             [
              "1"
             ],
             {
              "frame": {
               "duration": 0,
               "redraw": true
              },
              "fromcurrent": true,
              "mode": "immediate",
              "transition": {
               "duration": 0,
               "easing": "linear"
              }
             }
            ],
            "label": "1",
            "method": "animate"
           },
           {
            "args": [
             [
              "2"
             ],
             {
              "frame": {
               "duration": 0,
               "redraw": true
              },
              "fromcurrent": true,
              "mode": "immediate",
              "transition": {
               "duration": 0,
               "easing": "linear"
              }
             }
            ],
            "label": "2",
            "method": "animate"
           },
           {
            "args": [
             [
              "3"
             ],
             {
              "frame": {
               "duration": 0,
               "redraw": true
              },
              "fromcurrent": true,
              "mode": "immediate",
              "transition": {
               "duration": 0,
               "easing": "linear"
              }
             }
            ],
            "label": "3",
            "method": "animate"
           },
           {
            "args": [
             [
              "4"
             ],
             {
              "frame": {
               "duration": 0,
               "redraw": true
              },
              "fromcurrent": true,
              "mode": "immediate",
              "transition": {
               "duration": 0,
               "easing": "linear"
              }
             }
            ],
            "label": "4",
            "method": "animate"
           },
           {
            "args": [
             [
              "5"
             ],
             {
              "frame": {
               "duration": 0,
               "redraw": true
              },
              "fromcurrent": true,
              "mode": "immediate",
              "transition": {
               "duration": 0,
               "easing": "linear"
              }
             }
            ],
            "label": "5",
            "method": "animate"
           },
           {
            "args": [
             [
              "6"
             ],
             {
              "frame": {
               "duration": 0,
               "redraw": true
              },
              "fromcurrent": true,
              "mode": "immediate",
              "transition": {
               "duration": 0,
               "easing": "linear"
              }
             }
            ],
            "label": "6",
            "method": "animate"
           },
           {
            "args": [
             [
              "7"
             ],
             {
              "frame": {
               "duration": 0,
               "redraw": true
              },
              "fromcurrent": true,
              "mode": "immediate",
              "transition": {
               "duration": 0,
               "easing": "linear"
              }
             }
            ],
            "label": "7",
            "method": "animate"
           },
           {
            "args": [
             [
              "8"
             ],
             {
              "frame": {
               "duration": 0,
               "redraw": true
              },
              "fromcurrent": true,
              "mode": "immediate",
              "transition": {
               "duration": 0,
               "easing": "linear"
              }
             }
            ],
            "label": "8",
            "method": "animate"
           },
           {
            "args": [
             [
              "9"
             ],
             {
              "frame": {
               "duration": 0,
               "redraw": true
              },
              "fromcurrent": true,
              "mode": "immediate",
              "transition": {
               "duration": 0,
               "easing": "linear"
              }
             }
            ],
            "label": "9",
            "method": "animate"
           }
          ],
          "x": 0.1,
          "xanchor": "left",
          "y": 0,
          "yanchor": "top"
         }
        ],
        "template": {
         "data": {
          "bar": [
           {
            "error_x": {
             "color": "#2a3f5f"
            },
            "error_y": {
             "color": "#2a3f5f"
            },
            "marker": {
             "line": {
              "color": "#E5ECF6",
              "width": 0.5
             },
             "pattern": {
              "fillmode": "overlay",
              "size": 10,
              "solidity": 0.2
             }
            },
            "type": "bar"
           }
          ],
          "barpolar": [
           {
            "marker": {
             "line": {
              "color": "#E5ECF6",
              "width": 0.5
             },
             "pattern": {
              "fillmode": "overlay",
              "size": 10,
              "solidity": 0.2
             }
            },
            "type": "barpolar"
           }
          ],
          "carpet": [
           {
            "aaxis": {
             "endlinecolor": "#2a3f5f",
             "gridcolor": "white",
             "linecolor": "white",
             "minorgridcolor": "white",
             "startlinecolor": "#2a3f5f"
            },
            "baxis": {
             "endlinecolor": "#2a3f5f",
             "gridcolor": "white",
             "linecolor": "white",
             "minorgridcolor": "white",
             "startlinecolor": "#2a3f5f"
            },
            "type": "carpet"
           }
          ],
          "choropleth": [
           {
            "colorbar": {
             "outlinewidth": 0,
             "ticks": ""
            },
            "type": "choropleth"
           }
          ],
          "contour": [
           {
            "colorbar": {
             "outlinewidth": 0,
             "ticks": ""
            },
            "colorscale": [
             [
              0,
              "#0d0887"
             ],
             [
              0.1111111111111111,
              "#46039f"
             ],
             [
              0.2222222222222222,
              "#7201a8"
             ],
             [
              0.3333333333333333,
              "#9c179e"
             ],
             [
              0.4444444444444444,
              "#bd3786"
             ],
             [
              0.5555555555555556,
              "#d8576b"
             ],
             [
              0.6666666666666666,
              "#ed7953"
             ],
             [
              0.7777777777777778,
              "#fb9f3a"
             ],
             [
              0.8888888888888888,
              "#fdca26"
             ],
             [
              1,
              "#f0f921"
             ]
            ],
            "type": "contour"
           }
          ],
          "contourcarpet": [
           {
            "colorbar": {
             "outlinewidth": 0,
             "ticks": ""
            },
            "type": "contourcarpet"
           }
          ],
          "heatmap": [
           {
            "colorbar": {
             "outlinewidth": 0,
             "ticks": ""
            },
            "colorscale": [
             [
              0,
              "#0d0887"
             ],
             [
              0.1111111111111111,
              "#46039f"
             ],
             [
              0.2222222222222222,
              "#7201a8"
             ],
             [
              0.3333333333333333,
              "#9c179e"
             ],
             [
              0.4444444444444444,
              "#bd3786"
             ],
             [
              0.5555555555555556,
              "#d8576b"
             ],
             [
              0.6666666666666666,
              "#ed7953"
             ],
             [
              0.7777777777777778,
              "#fb9f3a"
             ],
             [
              0.8888888888888888,
              "#fdca26"
             ],
             [
              1,
              "#f0f921"
             ]
            ],
            "type": "heatmap"
           }
          ],
          "heatmapgl": [
           {
            "colorbar": {
             "outlinewidth": 0,
             "ticks": ""
            },
            "colorscale": [
             [
              0,
              "#0d0887"
             ],
             [
              0.1111111111111111,
              "#46039f"
             ],
             [
              0.2222222222222222,
              "#7201a8"
             ],
             [
              0.3333333333333333,
              "#9c179e"
             ],
             [
              0.4444444444444444,
              "#bd3786"
             ],
             [
              0.5555555555555556,
              "#d8576b"
             ],
             [
              0.6666666666666666,
              "#ed7953"
             ],
             [
              0.7777777777777778,
              "#fb9f3a"
             ],
             [
              0.8888888888888888,
              "#fdca26"
             ],
             [
              1,
              "#f0f921"
             ]
            ],
            "type": "heatmapgl"
           }
          ],
          "histogram": [
           {
            "marker": {
             "pattern": {
              "fillmode": "overlay",
              "size": 10,
              "solidity": 0.2
             }
            },
            "type": "histogram"
           }
          ],
          "histogram2d": [
           {
            "colorbar": {
             "outlinewidth": 0,
             "ticks": ""
            },
            "colorscale": [
             [
              0,
              "#0d0887"
             ],
             [
              0.1111111111111111,
              "#46039f"
             ],
             [
              0.2222222222222222,
              "#7201a8"
             ],
             [
              0.3333333333333333,
              "#9c179e"
             ],
             [
              0.4444444444444444,
              "#bd3786"
             ],
             [
              0.5555555555555556,
              "#d8576b"
             ],
             [
              0.6666666666666666,
              "#ed7953"
             ],
             [
              0.7777777777777778,
              "#fb9f3a"
             ],
             [
              0.8888888888888888,
              "#fdca26"
             ],
             [
              1,
              "#f0f921"
             ]
            ],
            "type": "histogram2d"
           }
          ],
          "histogram2dcontour": [
           {
            "colorbar": {
             "outlinewidth": 0,
             "ticks": ""
            },
            "colorscale": [
             [
              0,
              "#0d0887"
             ],
             [
              0.1111111111111111,
              "#46039f"
             ],
             [
              0.2222222222222222,
              "#7201a8"
             ],
             [
              0.3333333333333333,
              "#9c179e"
             ],
             [
              0.4444444444444444,
              "#bd3786"
             ],
             [
              0.5555555555555556,
              "#d8576b"
             ],
             [
              0.6666666666666666,
              "#ed7953"
             ],
             [
              0.7777777777777778,
              "#fb9f3a"
             ],
             [
              0.8888888888888888,
              "#fdca26"
             ],
             [
              1,
              "#f0f921"
             ]
            ],
            "type": "histogram2dcontour"
           }
          ],
          "mesh3d": [
           {
            "colorbar": {
             "outlinewidth": 0,
             "ticks": ""
            },
            "type": "mesh3d"
           }
          ],
          "parcoords": [
           {
            "line": {
             "colorbar": {
              "outlinewidth": 0,
              "ticks": ""
             }
            },
            "type": "parcoords"
           }
          ],
          "pie": [
           {
            "automargin": true,
            "type": "pie"
           }
          ],
          "scatter": [
           {
            "fillpattern": {
             "fillmode": "overlay",
             "size": 10,
             "solidity": 0.2
            },
            "type": "scatter"
           }
          ],
          "scatter3d": [
           {
            "line": {
             "colorbar": {
              "outlinewidth": 0,
              "ticks": ""
             }
            },
            "marker": {
             "colorbar": {
              "outlinewidth": 0,
              "ticks": ""
             }
            },
            "type": "scatter3d"
           }
          ],
          "scattercarpet": [
           {
            "marker": {
             "colorbar": {
              "outlinewidth": 0,
              "ticks": ""
             }
            },
            "type": "scattercarpet"
           }
          ],
          "scattergeo": [
           {
            "marker": {
             "colorbar": {
              "outlinewidth": 0,
              "ticks": ""
             }
            },
            "type": "scattergeo"
           }
          ],
          "scattergl": [
           {
            "marker": {
             "colorbar": {
              "outlinewidth": 0,
              "ticks": ""
             }
            },
            "type": "scattergl"
           }
          ],
          "scattermapbox": [
           {
            "marker": {
             "colorbar": {
              "outlinewidth": 0,
              "ticks": ""
             }
            },
            "type": "scattermapbox"
           }
          ],
          "scatterpolar": [
           {
            "marker": {
             "colorbar": {
              "outlinewidth": 0,
              "ticks": ""
             }
            },
            "type": "scatterpolar"
           }
          ],
          "scatterpolargl": [
           {
            "marker": {
             "colorbar": {
              "outlinewidth": 0,
              "ticks": ""
             }
            },
            "type": "scatterpolargl"
           }
          ],
          "scatterternary": [
           {
            "marker": {
             "colorbar": {
              "outlinewidth": 0,
              "ticks": ""
             }
            },
            "type": "scatterternary"
           }
          ],
          "surface": [
           {
            "colorbar": {
             "outlinewidth": 0,
             "ticks": ""
            },
            "colorscale": [
             [
              0,
              "#0d0887"
             ],
             [
              0.1111111111111111,
              "#46039f"
             ],
             [
              0.2222222222222222,
              "#7201a8"
             ],
             [
              0.3333333333333333,
              "#9c179e"
             ],
             [
              0.4444444444444444,
              "#bd3786"
             ],
             [
              0.5555555555555556,
              "#d8576b"
             ],
             [
              0.6666666666666666,
              "#ed7953"
             ],
             [
              0.7777777777777778,
              "#fb9f3a"
             ],
             [
              0.8888888888888888,
              "#fdca26"
             ],
             [
              1,
              "#f0f921"
             ]
            ],
            "type": "surface"
           }
          ],
          "table": [
           {
            "cells": {
             "fill": {
              "color": "#EBF0F8"
             },
             "line": {
              "color": "white"
             }
            },
            "header": {
             "fill": {
              "color": "#C8D4E3"
             },
             "line": {
              "color": "white"
             }
            },
            "type": "table"
           }
          ]
         },
         "layout": {
          "annotationdefaults": {
           "arrowcolor": "#2a3f5f",
           "arrowhead": 0,
           "arrowwidth": 1
          },
          "autotypenumbers": "strict",
          "coloraxis": {
           "colorbar": {
            "outlinewidth": 0,
            "ticks": ""
           }
          },
          "colorscale": {
           "diverging": [
            [
             0,
             "#8e0152"
            ],
            [
             0.1,
             "#c51b7d"
            ],
            [
             0.2,
             "#de77ae"
            ],
            [
             0.3,
             "#f1b6da"
            ],
            [
             0.4,
             "#fde0ef"
            ],
            [
             0.5,
             "#f7f7f7"
            ],
            [
             0.6,
             "#e6f5d0"
            ],
            [
             0.7,
             "#b8e186"
            ],
            [
             0.8,
             "#7fbc41"
            ],
            [
             0.9,
             "#4d9221"
            ],
            [
             1,
             "#276419"
            ]
           ],
           "sequential": [
            [
             0,
             "#0d0887"
            ],
            [
             0.1111111111111111,
             "#46039f"
            ],
            [
             0.2222222222222222,
             "#7201a8"
            ],
            [
             0.3333333333333333,
             "#9c179e"
            ],
            [
             0.4444444444444444,
             "#bd3786"
            ],
            [
             0.5555555555555556,
             "#d8576b"
            ],
            [
             0.6666666666666666,
             "#ed7953"
            ],
            [
             0.7777777777777778,
             "#fb9f3a"
            ],
            [
             0.8888888888888888,
             "#fdca26"
            ],
            [
             1,
             "#f0f921"
            ]
           ],
           "sequentialminus": [
            [
             0,
             "#0d0887"
            ],
            [
             0.1111111111111111,
             "#46039f"
            ],
            [
             0.2222222222222222,
             "#7201a8"
            ],
            [
             0.3333333333333333,
             "#9c179e"
            ],
            [
             0.4444444444444444,
             "#bd3786"
            ],
            [
             0.5555555555555556,
             "#d8576b"
            ],
            [
             0.6666666666666666,
             "#ed7953"
            ],
            [
             0.7777777777777778,
             "#fb9f3a"
            ],
            [
             0.8888888888888888,
             "#fdca26"
            ],
            [
             1,
             "#f0f921"
            ]
           ]
          },
          "colorway": [
           "#636efa",
           "#EF553B",
           "#00cc96",
           "#ab63fa",
           "#FFA15A",
           "#19d3f3",
           "#FF6692",
           "#B6E880",
           "#FF97FF",
           "#FECB52"
          ],
          "font": {
           "color": "#2a3f5f"
          },
          "geo": {
           "bgcolor": "white",
           "lakecolor": "white",
           "landcolor": "#E5ECF6",
           "showlakes": true,
           "showland": true,
           "subunitcolor": "white"
          },
          "hoverlabel": {
           "align": "left"
          },
          "hovermode": "closest",
          "mapbox": {
           "style": "light"
          },
          "paper_bgcolor": "white",
          "plot_bgcolor": "#E5ECF6",
          "polar": {
           "angularaxis": {
            "gridcolor": "white",
            "linecolor": "white",
            "ticks": ""
           },
           "bgcolor": "#E5ECF6",
           "radialaxis": {
            "gridcolor": "white",
            "linecolor": "white",
            "ticks": ""
           }
          },
          "scene": {
           "xaxis": {
            "backgroundcolor": "#E5ECF6",
            "gridcolor": "white",
            "gridwidth": 2,
            "linecolor": "white",
            "showbackground": true,
            "ticks": "",
            "zerolinecolor": "white"
           },
           "yaxis": {
            "backgroundcolor": "#E5ECF6",
            "gridcolor": "white",
            "gridwidth": 2,
            "linecolor": "white",
            "showbackground": true,
            "ticks": "",
            "zerolinecolor": "white"
           },
           "zaxis": {
            "backgroundcolor": "#E5ECF6",
            "gridcolor": "white",
            "gridwidth": 2,
            "linecolor": "white",
            "showbackground": true,
            "ticks": "",
            "zerolinecolor": "white"
           }
          },
          "shapedefaults": {
           "line": {
            "color": "#2a3f5f"
           }
          },
          "ternary": {
           "aaxis": {
            "gridcolor": "white",
            "linecolor": "white",
            "ticks": ""
           },
           "baxis": {
            "gridcolor": "white",
            "linecolor": "white",
            "ticks": ""
           },
           "bgcolor": "#E5ECF6",
           "caxis": {
            "gridcolor": "white",
            "linecolor": "white",
            "ticks": ""
           }
          },
          "title": {
           "x": 0.05
          },
          "xaxis": {
           "automargin": true,
           "gridcolor": "white",
           "linecolor": "white",
           "ticks": "",
           "title": {
            "standoff": 15
           },
           "zerolinecolor": "white",
           "zerolinewidth": 2
          },
          "yaxis": {
           "automargin": true,
           "gridcolor": "white",
           "linecolor": "white",
           "ticks": "",
           "title": {
            "standoff": 15
           },
           "zerolinecolor": "white",
           "zerolinewidth": 2
          }
         }
        },
        "updatemenus": [
         {
          "buttons": [
           {
            "args": [
             null,
             {
              "frame": {
               "duration": 500,
               "redraw": true
              },
              "fromcurrent": true,
              "mode": "immediate",
              "transition": {
               "duration": 500,
               "easing": "linear"
              }
             }
            ],
            "label": "&#9654;",
            "method": "animate"
           },
           {
            "args": [
             [
              null
             ],
             {
              "frame": {
               "duration": 0,
               "redraw": true
              },
              "fromcurrent": true,
              "mode": "immediate",
              "transition": {
               "duration": 0,
               "easing": "linear"
              }
             }
            ],
            "label": "&#9724;",
            "method": "animate"
           }
          ],
          "direction": "left",
          "pad": {
           "r": 10,
           "t": 70
          },
          "showactive": false,
          "type": "buttons",
          "x": 0.1,
          "xanchor": "right",
          "y": 0,
          "yanchor": "top"
         }
        ],
        "xaxis": {
         "anchor": "y",
         "domain": [
          0,
          1
         ]
        },
        "yaxis": {
         "anchor": "x",
         "domain": [
          0,
          1
         ]
        }
       }
      },
      "text/html": [
       "<div>                            <div id=\"ccc6c91f-7b23-45ce-bf21-228b6d47e69d\" class=\"plotly-graph-div\" style=\"height:525px; width:100%;\"></div>            <script type=\"text/javascript\">                require([\"plotly\"], function(Plotly) {                    window.PLOTLYENV=window.PLOTLYENV || {};                                    if (document.getElementById(\"ccc6c91f-7b23-45ce-bf21-228b6d47e69d\")) {                    Plotly.newPlot(                        \"ccc6c91f-7b23-45ce-bf21-228b6d47e69d\",                        [{\"name\":\"0\",\"source\":\"data:image/png;base64,iVBORw0KGgoAAAANSUhEUgAAABQAAAAPCAAAAADB87CJAAAAQUlEQVR4Xp2QMQ4AIAjEivH/Xz4HFVEZjDeRpskB4NEafyMBKicGLIM8wLHVZQpkJ4HEJG+33ZzX1wihV0TT39QAPowKEnx4W6EAAAAASUVORK5CYII=\",\"type\":\"image\",\"xaxis\":\"x\",\"yaxis\":\"y\",\"hovertemplate\":\"x: %{x}<br>y: %{y}<br>color: %{z}<extra></extra>\"}],                        {\"template\":{\"data\":{\"histogram2dcontour\":[{\"type\":\"histogram2dcontour\",\"colorbar\":{\"outlinewidth\":0,\"ticks\":\"\"},\"colorscale\":[[0.0,\"#0d0887\"],[0.1111111111111111,\"#46039f\"],[0.2222222222222222,\"#7201a8\"],[0.3333333333333333,\"#9c179e\"],[0.4444444444444444,\"#bd3786\"],[0.5555555555555556,\"#d8576b\"],[0.6666666666666666,\"#ed7953\"],[0.7777777777777778,\"#fb9f3a\"],[0.8888888888888888,\"#fdca26\"],[1.0,\"#f0f921\"]]}],\"choropleth\":[{\"type\":\"choropleth\",\"colorbar\":{\"outlinewidth\":0,\"ticks\":\"\"}}],\"histogram2d\":[{\"type\":\"histogram2d\",\"colorbar\":{\"outlinewidth\":0,\"ticks\":\"\"},\"colorscale\":[[0.0,\"#0d0887\"],[0.1111111111111111,\"#46039f\"],[0.2222222222222222,\"#7201a8\"],[0.3333333333333333,\"#9c179e\"],[0.4444444444444444,\"#bd3786\"],[0.5555555555555556,\"#d8576b\"],[0.6666666666666666,\"#ed7953\"],[0.7777777777777778,\"#fb9f3a\"],[0.8888888888888888,\"#fdca26\"],[1.0,\"#f0f921\"]]}],\"heatmap\":[{\"type\":\"heatmap\",\"colorbar\":{\"outlinewidth\":0,\"ticks\":\"\"},\"colorscale\":[[0.0,\"#0d0887\"],[0.1111111111111111,\"#46039f\"],[0.2222222222222222,\"#7201a8\"],[0.3333333333333333,\"#9c179e\"],[0.4444444444444444,\"#bd3786\"],[0.5555555555555556,\"#d8576b\"],[0.6666666666666666,\"#ed7953\"],[0.7777777777777778,\"#fb9f3a\"],[0.8888888888888888,\"#fdca26\"],[1.0,\"#f0f921\"]]}],\"heatmapgl\":[{\"type\":\"heatmapgl\",\"colorbar\":{\"outlinewidth\":0,\"ticks\":\"\"},\"colorscale\":[[0.0,\"#0d0887\"],[0.1111111111111111,\"#46039f\"],[0.2222222222222222,\"#7201a8\"],[0.3333333333333333,\"#9c179e\"],[0.4444444444444444,\"#bd3786\"],[0.5555555555555556,\"#d8576b\"],[0.6666666666666666,\"#ed7953\"],[0.7777777777777778,\"#fb9f3a\"],[0.8888888888888888,\"#fdca26\"],[1.0,\"#f0f921\"]]}],\"contourcarpet\":[{\"type\":\"contourcarpet\",\"colorbar\":{\"outlinewidth\":0,\"ticks\":\"\"}}],\"contour\":[{\"type\":\"contour\",\"colorbar\":{\"outlinewidth\":0,\"ticks\":\"\"},\"colorscale\":[[0.0,\"#0d0887\"],[0.1111111111111111,\"#46039f\"],[0.2222222222222222,\"#7201a8\"],[0.3333333333333333,\"#9c179e\"],[0.4444444444444444,\"#bd3786\"],[0.5555555555555556,\"#d8576b\"],[0.6666666666666666,\"#ed7953\"],[0.7777777777777778,\"#fb9f3a\"],[0.8888888888888888,\"#fdca26\"],[1.0,\"#f0f921\"]]}],\"surface\":[{\"type\":\"surface\",\"colorbar\":{\"outlinewidth\":0,\"ticks\":\"\"},\"colorscale\":[[0.0,\"#0d0887\"],[0.1111111111111111,\"#46039f\"],[0.2222222222222222,\"#7201a8\"],[0.3333333333333333,\"#9c179e\"],[0.4444444444444444,\"#bd3786\"],[0.5555555555555556,\"#d8576b\"],[0.6666666666666666,\"#ed7953\"],[0.7777777777777778,\"#fb9f3a\"],[0.8888888888888888,\"#fdca26\"],[1.0,\"#f0f921\"]]}],\"mesh3d\":[{\"type\":\"mesh3d\",\"colorbar\":{\"outlinewidth\":0,\"ticks\":\"\"}}],\"scatter\":[{\"fillpattern\":{\"fillmode\":\"overlay\",\"size\":10,\"solidity\":0.2},\"type\":\"scatter\"}],\"parcoords\":[{\"type\":\"parcoords\",\"line\":{\"colorbar\":{\"outlinewidth\":0,\"ticks\":\"\"}}}],\"scatterpolargl\":[{\"type\":\"scatterpolargl\",\"marker\":{\"colorbar\":{\"outlinewidth\":0,\"ticks\":\"\"}}}],\"bar\":[{\"error_x\":{\"color\":\"#2a3f5f\"},\"error_y\":{\"color\":\"#2a3f5f\"},\"marker\":{\"line\":{\"color\":\"#E5ECF6\",\"width\":0.5},\"pattern\":{\"fillmode\":\"overlay\",\"size\":10,\"solidity\":0.2}},\"type\":\"bar\"}],\"scattergeo\":[{\"type\":\"scattergeo\",\"marker\":{\"colorbar\":{\"outlinewidth\":0,\"ticks\":\"\"}}}],\"scatterpolar\":[{\"type\":\"scatterpolar\",\"marker\":{\"colorbar\":{\"outlinewidth\":0,\"ticks\":\"\"}}}],\"histogram\":[{\"marker\":{\"pattern\":{\"fillmode\":\"overlay\",\"size\":10,\"solidity\":0.2}},\"type\":\"histogram\"}],\"scattergl\":[{\"type\":\"scattergl\",\"marker\":{\"colorbar\":{\"outlinewidth\":0,\"ticks\":\"\"}}}],\"scatter3d\":[{\"type\":\"scatter3d\",\"line\":{\"colorbar\":{\"outlinewidth\":0,\"ticks\":\"\"}},\"marker\":{\"colorbar\":{\"outlinewidth\":0,\"ticks\":\"\"}}}],\"scattermapbox\":[{\"type\":\"scattermapbox\",\"marker\":{\"colorbar\":{\"outlinewidth\":0,\"ticks\":\"\"}}}],\"scatterternary\":[{\"type\":\"scatterternary\",\"marker\":{\"colorbar\":{\"outlinewidth\":0,\"ticks\":\"\"}}}],\"scattercarpet\":[{\"type\":\"scattercarpet\",\"marker\":{\"colorbar\":{\"outlinewidth\":0,\"ticks\":\"\"}}}],\"carpet\":[{\"aaxis\":{\"endlinecolor\":\"#2a3f5f\",\"gridcolor\":\"white\",\"linecolor\":\"white\",\"minorgridcolor\":\"white\",\"startlinecolor\":\"#2a3f5f\"},\"baxis\":{\"endlinecolor\":\"#2a3f5f\",\"gridcolor\":\"white\",\"linecolor\":\"white\",\"minorgridcolor\":\"white\",\"startlinecolor\":\"#2a3f5f\"},\"type\":\"carpet\"}],\"table\":[{\"cells\":{\"fill\":{\"color\":\"#EBF0F8\"},\"line\":{\"color\":\"white\"}},\"header\":{\"fill\":{\"color\":\"#C8D4E3\"},\"line\":{\"color\":\"white\"}},\"type\":\"table\"}],\"barpolar\":[{\"marker\":{\"line\":{\"color\":\"#E5ECF6\",\"width\":0.5},\"pattern\":{\"fillmode\":\"overlay\",\"size\":10,\"solidity\":0.2}},\"type\":\"barpolar\"}],\"pie\":[{\"automargin\":true,\"type\":\"pie\"}]},\"layout\":{\"autotypenumbers\":\"strict\",\"colorway\":[\"#636efa\",\"#EF553B\",\"#00cc96\",\"#ab63fa\",\"#FFA15A\",\"#19d3f3\",\"#FF6692\",\"#B6E880\",\"#FF97FF\",\"#FECB52\"],\"font\":{\"color\":\"#2a3f5f\"},\"hovermode\":\"closest\",\"hoverlabel\":{\"align\":\"left\"},\"paper_bgcolor\":\"white\",\"plot_bgcolor\":\"#E5ECF6\",\"polar\":{\"bgcolor\":\"#E5ECF6\",\"angularaxis\":{\"gridcolor\":\"white\",\"linecolor\":\"white\",\"ticks\":\"\"},\"radialaxis\":{\"gridcolor\":\"white\",\"linecolor\":\"white\",\"ticks\":\"\"}},\"ternary\":{\"bgcolor\":\"#E5ECF6\",\"aaxis\":{\"gridcolor\":\"white\",\"linecolor\":\"white\",\"ticks\":\"\"},\"baxis\":{\"gridcolor\":\"white\",\"linecolor\":\"white\",\"ticks\":\"\"},\"caxis\":{\"gridcolor\":\"white\",\"linecolor\":\"white\",\"ticks\":\"\"}},\"coloraxis\":{\"colorbar\":{\"outlinewidth\":0,\"ticks\":\"\"}},\"colorscale\":{\"sequential\":[[0.0,\"#0d0887\"],[0.1111111111111111,\"#46039f\"],[0.2222222222222222,\"#7201a8\"],[0.3333333333333333,\"#9c179e\"],[0.4444444444444444,\"#bd3786\"],[0.5555555555555556,\"#d8576b\"],[0.6666666666666666,\"#ed7953\"],[0.7777777777777778,\"#fb9f3a\"],[0.8888888888888888,\"#fdca26\"],[1.0,\"#f0f921\"]],\"sequentialminus\":[[0.0,\"#0d0887\"],[0.1111111111111111,\"#46039f\"],[0.2222222222222222,\"#7201a8\"],[0.3333333333333333,\"#9c179e\"],[0.4444444444444444,\"#bd3786\"],[0.5555555555555556,\"#d8576b\"],[0.6666666666666666,\"#ed7953\"],[0.7777777777777778,\"#fb9f3a\"],[0.8888888888888888,\"#fdca26\"],[1.0,\"#f0f921\"]],\"diverging\":[[0,\"#8e0152\"],[0.1,\"#c51b7d\"],[0.2,\"#de77ae\"],[0.3,\"#f1b6da\"],[0.4,\"#fde0ef\"],[0.5,\"#f7f7f7\"],[0.6,\"#e6f5d0\"],[0.7,\"#b8e186\"],[0.8,\"#7fbc41\"],[0.9,\"#4d9221\"],[1,\"#276419\"]]},\"xaxis\":{\"gridcolor\":\"white\",\"linecolor\":\"white\",\"ticks\":\"\",\"title\":{\"standoff\":15},\"zerolinecolor\":\"white\",\"automargin\":true,\"zerolinewidth\":2},\"yaxis\":{\"gridcolor\":\"white\",\"linecolor\":\"white\",\"ticks\":\"\",\"title\":{\"standoff\":15},\"zerolinecolor\":\"white\",\"automargin\":true,\"zerolinewidth\":2},\"scene\":{\"xaxis\":{\"backgroundcolor\":\"#E5ECF6\",\"gridcolor\":\"white\",\"linecolor\":\"white\",\"showbackground\":true,\"ticks\":\"\",\"zerolinecolor\":\"white\",\"gridwidth\":2},\"yaxis\":{\"backgroundcolor\":\"#E5ECF6\",\"gridcolor\":\"white\",\"linecolor\":\"white\",\"showbackground\":true,\"ticks\":\"\",\"zerolinecolor\":\"white\",\"gridwidth\":2},\"zaxis\":{\"backgroundcolor\":\"#E5ECF6\",\"gridcolor\":\"white\",\"linecolor\":\"white\",\"showbackground\":true,\"ticks\":\"\",\"zerolinecolor\":\"white\",\"gridwidth\":2}},\"shapedefaults\":{\"line\":{\"color\":\"#2a3f5f\"}},\"annotationdefaults\":{\"arrowcolor\":\"#2a3f5f\",\"arrowhead\":0,\"arrowwidth\":1},\"geo\":{\"bgcolor\":\"white\",\"landcolor\":\"#E5ECF6\",\"subunitcolor\":\"white\",\"showland\":true,\"showlakes\":true,\"lakecolor\":\"white\"},\"title\":{\"x\":0.05},\"mapbox\":{\"style\":\"light\"}}},\"xaxis\":{\"anchor\":\"y\",\"domain\":[0.0,1.0]},\"yaxis\":{\"anchor\":\"x\",\"domain\":[0.0,1.0]},\"margin\":{\"t\":60},\"updatemenus\":[{\"buttons\":[{\"args\":[null,{\"frame\":{\"duration\":500,\"redraw\":true},\"mode\":\"immediate\",\"fromcurrent\":true,\"transition\":{\"duration\":500,\"easing\":\"linear\"}}],\"label\":\"&#9654;\",\"method\":\"animate\"},{\"args\":[[null],{\"frame\":{\"duration\":0,\"redraw\":true},\"mode\":\"immediate\",\"fromcurrent\":true,\"transition\":{\"duration\":0,\"easing\":\"linear\"}}],\"label\":\"&#9724;\",\"method\":\"animate\"}],\"direction\":\"left\",\"pad\":{\"r\":10,\"t\":70},\"showactive\":false,\"type\":\"buttons\",\"x\":0.1,\"xanchor\":\"right\",\"y\":0,\"yanchor\":\"top\"}],\"sliders\":[{\"active\":0,\"currentvalue\":{\"prefix\":\"Profundidade=\"},\"len\":0.9,\"pad\":{\"b\":10,\"t\":60},\"steps\":[{\"args\":[[\"0\"],{\"frame\":{\"duration\":0,\"redraw\":true},\"mode\":\"immediate\",\"fromcurrent\":true,\"transition\":{\"duration\":0,\"easing\":\"linear\"}}],\"label\":\"0\",\"method\":\"animate\"},{\"args\":[[\"1\"],{\"frame\":{\"duration\":0,\"redraw\":true},\"mode\":\"immediate\",\"fromcurrent\":true,\"transition\":{\"duration\":0,\"easing\":\"linear\"}}],\"label\":\"1\",\"method\":\"animate\"},{\"args\":[[\"2\"],{\"frame\":{\"duration\":0,\"redraw\":true},\"mode\":\"immediate\",\"fromcurrent\":true,\"transition\":{\"duration\":0,\"easing\":\"linear\"}}],\"label\":\"2\",\"method\":\"animate\"},{\"args\":[[\"3\"],{\"frame\":{\"duration\":0,\"redraw\":true},\"mode\":\"immediate\",\"fromcurrent\":true,\"transition\":{\"duration\":0,\"easing\":\"linear\"}}],\"label\":\"3\",\"method\":\"animate\"},{\"args\":[[\"4\"],{\"frame\":{\"duration\":0,\"redraw\":true},\"mode\":\"immediate\",\"fromcurrent\":true,\"transition\":{\"duration\":0,\"easing\":\"linear\"}}],\"label\":\"4\",\"method\":\"animate\"},{\"args\":[[\"5\"],{\"frame\":{\"duration\":0,\"redraw\":true},\"mode\":\"immediate\",\"fromcurrent\":true,\"transition\":{\"duration\":0,\"easing\":\"linear\"}}],\"label\":\"5\",\"method\":\"animate\"},{\"args\":[[\"6\"],{\"frame\":{\"duration\":0,\"redraw\":true},\"mode\":\"immediate\",\"fromcurrent\":true,\"transition\":{\"duration\":0,\"easing\":\"linear\"}}],\"label\":\"6\",\"method\":\"animate\"},{\"args\":[[\"7\"],{\"frame\":{\"duration\":0,\"redraw\":true},\"mode\":\"immediate\",\"fromcurrent\":true,\"transition\":{\"duration\":0,\"easing\":\"linear\"}}],\"label\":\"7\",\"method\":\"animate\"},{\"args\":[[\"8\"],{\"frame\":{\"duration\":0,\"redraw\":true},\"mode\":\"immediate\",\"fromcurrent\":true,\"transition\":{\"duration\":0,\"easing\":\"linear\"}}],\"label\":\"8\",\"method\":\"animate\"},{\"args\":[[\"9\"],{\"frame\":{\"duration\":0,\"redraw\":true},\"mode\":\"immediate\",\"fromcurrent\":true,\"transition\":{\"duration\":0,\"easing\":\"linear\"}}],\"label\":\"9\",\"method\":\"animate\"}],\"x\":0.1,\"xanchor\":\"left\",\"y\":0,\"yanchor\":\"top\"}]},                        {\"responsive\": true}                    ).then(function(){\n",
       "                            Plotly.addFrames('ccc6c91f-7b23-45ce-bf21-228b6d47e69d', [{\"data\":[{\"name\":\"0\",\"source\":\"data:image/png;base64,iVBORw0KGgoAAAANSUhEUgAAABQAAAAPCAAAAADB87CJAAAAQUlEQVR4Xp2QMQ4AIAjEivH/Xz4HFVEZjDeRpskB4NEafyMBKicGLIM8wLHVZQpkJ4HEJG+33ZzX1wihV0TT39QAPowKEnx4W6EAAAAASUVORK5CYII=\",\"type\":\"image\"}],\"layout\":{\"margin\":{\"t\":60}},\"name\":\"0\"},{\"data\":[{\"name\":\"1\",\"source\":\"data:image/png;base64,iVBORw0KGgoAAAANSUhEUgAAABQAAAAPCAAAAADB87CJAAAAPUlEQVR4XoWNMRIAIAzCgv//Mw7Voa09GXMBIMcAq8AxfphuYN7M8DT/5r1opgsM0dWUgApBKMFoi24CsAE9uQsTWG84hwAAAABJRU5ErkJggg==\",\"type\":\"image\"}],\"layout\":{\"margin\":{\"t\":60}},\"name\":\"1\"},{\"data\":[{\"name\":\"2\",\"source\":\"data:image/png;base64,iVBORw0KGgoAAAANSUhEUgAAABQAAAAPCAAAAADB87CJAAAARklEQVR4Xm2QQQ4AIAjDiv//8zxAVIY7kFCWDIAmCdDqEICwXgB0ZzKDJYcaUBXiTmDA3OaFle3OyMkDdco36N6p0/0eIjZ57A4RJUJKuwAAAABJRU5ErkJggg==\",\"type\":\"image\"}],\"layout\":{\"margin\":{\"t\":60}},\"name\":\"2\"},{\"data\":[{\"name\":\"3\",\"source\":\"data:image/png;base64,iVBORw0KGgoAAAANSUhEUgAAABQAAAAPCAAAAADB87CJAAAATUlEQVR4Xo3PQQ6AMAgEwKHx/19eD7ZK9SIHSCYNS0uvXOPYENQbfleupWOzGdUxZkrDec+OUPJFkY652+cl0v4UKMJYmcsUY6557sEJ3yATDKVzP0IAAAAASUVORK5CYII=\",\"type\":\"image\"}],\"layout\":{\"margin\":{\"t\":60}},\"name\":\"3\"},{\"data\":[{\"name\":\"4\",\"source\":\"data:image/png;base64,iVBORw0KGgoAAAANSUhEUgAAABQAAAAPCAAAAADB87CJAAAASUlEQVR4Xm2PQQrAMAzD5P7/z94hYXOaCXoRCriQ2OBhml+56Eq3EnBCvoSsW0/ZeEkB9idj31VaQ1aomjR+pXoHG2I4CK0SeAAxXhMMu6P57gAAAABJRU5ErkJggg==\",\"type\":\"image\"}],\"layout\":{\"margin\":{\"t\":60}},\"name\":\"4\"},{\"data\":[{\"name\":\"5\",\"source\":\"data:image/png;base64,iVBORw0KGgoAAAANSUhEUgAAABQAAAAPCAAAAADB87CJAAAATUlEQVR4XmXOQRKAMAgEwd6U//8yHmKUGE4wNQvQq0ptYDIwOltNh+SA9bq7afInsEaQnxmoD04xtJ396eNQcFXsGsYfCIPaHiOGIyw3kQUSFH7pNkcAAAAASUVORK5CYII=\",\"type\":\"image\"}],\"layout\":{\"margin\":{\"t\":60}},\"name\":\"5\"},{\"data\":[{\"name\":\"6\",\"source\":\"data:image/png;base64,iVBORw0KGgoAAAANSUhEUgAAABQAAAAPCAAAAADB87CJAAAASklEQVR4XoXQQQoAIQxD0R/vf+fMoq1WQSfQhQ+JRbFiQACjYVlHl503Iz/onA1bHuhcMl9X0DoAaErTS6eqiSpygGfP9iHKPgN8cb0NHLWvlikAAAAASUVORK5CYII=\",\"type\":\"image\"}],\"layout\":{\"margin\":{\"t\":60}},\"name\":\"6\"},{\"data\":[{\"name\":\"7\",\"source\":\"data:image/png;base64,iVBORw0KGgoAAAANSUhEUgAAABQAAAAPCAAAAADB87CJAAAAT0lEQVR4XmWPSQoAQQgDKzL//7JzMLa9BEQsJEYxymoiNtgMzZRrCiDTrBUc2wMfWofSfrb4NqslR5LrgL1fvcMf9P2Iuan7ozumweQSwA8IgxAZL+uVUAAAAABJRU5ErkJggg==\",\"type\":\"image\"}],\"layout\":{\"margin\":{\"t\":60}},\"name\":\"7\"},{\"data\":[{\"name\":\"8\",\"source\":\"data:image/png;base64,iVBORw0KGgoAAAANSUhEUgAAABQAAAAPCAAAAADB87CJAAAATklEQVR4XlXOWwoAIQxD0RuZ/W8582EfMSDK0daKjWvXCWwj0IBABF4TFNrRsHFSN2ePq1/I5Jar1oOejwO3rQPfCMCIfj1zKqdqBJz+A4pVEhtZ4il8AAAAAElFTkSuQmCC\",\"type\":\"image\"}],\"layout\":{\"margin\":{\"t\":60}},\"name\":\"8\"},{\"data\":[{\"name\":\"9\",\"source\":\"data:image/png;base64,iVBORw0KGgoAAAANSUhEUgAAABQAAAAPCAAAAADB87CJAAAAU0lEQVR4Xl3PQRLAIAgEwcby/18mBwmS7I2pgdVwkyBYA3YGbFFMFqQomEIO46wf1tlzylJvUcTbdWAJTRekbKvhAAlbdd+L7N8XwPrN6Cflp+kBFeAVHj44COEAAAAASUVORK5CYII=\",\"type\":\"image\"}],\"layout\":{\"margin\":{\"t\":60}},\"name\":\"9\"}]);\n",
       "                        }).then(function(){\n",
       "                            \n",
       "var gd = document.getElementById('ccc6c91f-7b23-45ce-bf21-228b6d47e69d');\n",
       "var x = new MutationObserver(function (mutations, observer) {{\n",
       "        var display = window.getComputedStyle(gd).display;\n",
       "        if (!display || display === 'none') {{\n",
       "            console.log([gd, 'removed!']);\n",
       "            Plotly.purge(gd);\n",
       "            observer.disconnect();\n",
       "        }}\n",
       "}});\n",
       "\n",
       "// Listen for the removal of the full notebook cells\n",
       "var notebookContainer = gd.closest('#notebook-container');\n",
       "if (notebookContainer) {{\n",
       "    x.observe(notebookContainer, {childList: true});\n",
       "}}\n",
       "\n",
       "// Listen for the clearing of the current output cell\n",
       "var outputEl = gd.closest('.output');\n",
       "if (outputEl) {{\n",
       "    x.observe(outputEl, {childList: true});\n",
       "}}\n",
       "\n",
       "                        })                };                });            </script>        </div>"
      ]
     },
     "metadata": {},
     "output_type": "display_data"
    }
   ],
   "source": [
    "im = io.imread('PCL_corte_retangular_binarizado_diario.tif') #VARIÁVEL \"im\" É UMA MATRIZ (Z, Y, X)\n",
    "                                                             #NO CASO, SE A ESPESSURA É 501, O COMPRIMENTO É 546 E A ALTURA É 536,\n",
    "                                                             #\"im\" FINAL: (501, 536, 546)\n",
    "                                                             #VERIFICAR O TAMANHO: \"cte.shape\"\n",
    "fig_orig = px.imshow(im, animation_frame=0, labels=dict(animation_frame=\"Profundidade\"), binary_string=True)\n",
    "fig_orig.show()\n",
    "size = im.shape\n",
    "area = size[0]*size[1]*size[2] "
   ]
  },
  {
   "cell_type": "markdown",
   "id": "294fb793",
   "metadata": {},
   "source": [
    "## APLICAÇÃO DO UNION-FIND"
   ]
  },
  {
   "cell_type": "code",
   "execution_count": 19,
   "id": "ea205aa7",
   "metadata": {},
   "outputs": [],
   "source": [
    "global parent\n",
    "global qty\n",
    "parent = np.full((area), range(area))\n",
    "qty = np.full((area), 1)\n",
    "for z in range(size[0]):\n",
    "    for y in range(size[1]):\n",
    "        for x in range (size[2]):\n",
    "            position = (z, y, x)\n",
    "            if (im[position] == 255):\n",
    "                options = [-1, 0, 1]\n",
    "                for k in options:\n",
    "                    for j in options:\n",
    "                        for i in options:\n",
    "                            if ((i,j,k) == (0,0,0)):\n",
    "                                continue\n",
    "                            if ((x+i) >= 0 and (x+i) < size [2] and (y+j) >= 0 and (y+j) < size[1]\\\n",
    "                                and (z+k) >= 0 and (z+k) < size[0]):\n",
    "                                adj = (z+k, y+j, x+i)\n",
    "                                if (im[adj] == 255):\n",
    "                                    join(id(position, size), id(adj, size))"
   ]
  },
  {
   "cell_type": "markdown",
   "id": "3bac21ed",
   "metadata": {},
   "source": [
    "## ELIMINAÇÃO DOS ELEMENTOS FLUTUANTES\n",
    "\n",
    "Dessa forma, a matriz *im* continua sendo a original e há a criação da *elim_im*, em que os elementos flutuantes foram zerados. Nesse caso ainda criou-se um vetor, denominado *material_elementos*, para armazenar o material (arcabouço ou vazio) constituinte."
   ]
  },
  {
   "cell_type": "code",
   "execution_count": 21,
   "id": "4342440f",
   "metadata": {},
   "outputs": [],
   "source": [
    "material_elementos = np.empty((area + 1), dtype = object)\n",
    "material_elementos.fill ((0,0))\n",
    "contador = 0\n",
    "parent_bgg = np.where(qty == np.amax(qty))\n",
    "elim_im = copy.deepcopy (im)\n",
    "for z in range(size[0]):\n",
    "    for y in range(size[1]):\n",
    "        for x in range (size[2]):\n",
    "            position = (z, y, x)\n",
    "            idty = id(position, size)\n",
    "            if (find(idty) != parent_bgg and im[position] != 0):\n",
    "                elim_im [position] = 0\n",
    "            if elim_im [position] != 0:\n",
    "                material_elementos [idty + 1] = (MELT, CFP)\n",
    "elementos_validos = [ i for i in range(len(material_elementos)) if material_elementos[i] != (0,0)]"
   ]
  },
  {
   "cell_type": "markdown",
   "id": "dc41bf87",
   "metadata": {},
   "source": [
    "## VISUALIZAÇÃO APÓS A RETIRADA DOS FLUTUANTES"
   ]
  },
  {
   "cell_type": "code",
   "execution_count": 22,
   "id": "c2dbdec4",
   "metadata": {},
   "outputs": [
    {
     "data": {
      "application/vnd.plotly.v1+json": {
       "config": {
        "plotlyServerURL": "https://plot.ly"
       },
       "data": [
        {
         "hovertemplate": "x: %{x}<br>y: %{y}<br>color: %{z}<extra></extra>",
         "name": "0",
         "source": "data:image/png;base64,iVBORw0KGgoAAAANSUhEUgAAABQAAAAPCAAAAADB87CJAAAAPElEQVR4Xq3NOQ7AMAgAwcHK/79MCjuSD4oUphwtwM1J0CrdEb+wnzzLJGMXihJRYKzl2PbMSH8xl1/oBRLICBPHECZfAAAAAElFTkSuQmCC",
         "type": "image",
         "xaxis": "x",
         "yaxis": "y"
        }
       ],
       "frames": [
        {
         "data": [
          {
           "name": "0",
           "source": "data:image/png;base64,iVBORw0KGgoAAAANSUhEUgAAABQAAAAPCAAAAADB87CJAAAAPElEQVR4Xq3NOQ7AMAgAwcHK/79MCjuSD4oUphwtwM1J0CrdEb+wnzzLJGMXihJRYKzl2PbMSH8xl1/oBRLICBPHECZfAAAAAElFTkSuQmCC",
           "type": "image"
          }
         ],
         "layout": {
          "margin": {
           "t": 60
          }
         },
         "name": "0"
        },
        {
         "data": [
          {
           "name": "1",
           "source": "data:image/png;base64,iVBORw0KGgoAAAANSUhEUgAAABQAAAAPCAAAAADB87CJAAAAO0lEQVR4XqXMMRLAMAgDwSX//7NS2A3YqaJy54C+wDPw3/L9s2NuuNdwh2eZgSvMLKswkVIN13U5S/ACV4kJEwRa5MEAAAAASUVORK5CYII=",
           "type": "image"
          }
         ],
         "layout": {
          "margin": {
           "t": 60
          }
         },
         "name": "1"
        },
        {
         "data": [
          {
           "name": "2",
           "source": "data:image/png;base64,iVBORw0KGgoAAAANSUhEUgAAABQAAAAPCAAAAADB87CJAAAARklEQVR4Xm2QQQ4AIAjDiv//8zxAVIY7kFCWDIAmCdDqEICwXgB0ZzKDJYcaUBXiTmDA3OaFle3OyMkDdco36N6p0/0eIjZ57A4RJUJKuwAAAABJRU5ErkJggg==",
           "type": "image"
          }
         ],
         "layout": {
          "margin": {
           "t": 60
          }
         },
         "name": "2"
        },
        {
         "data": [
          {
           "name": "3",
           "source": "data:image/png;base64,iVBORw0KGgoAAAANSUhEUgAAABQAAAAPCAAAAADB87CJAAAATUlEQVR4Xo3PQQ6AMAgEwKHx/19eD7ZK9SIHSCYNS0uvXOPYENQbfleupWOzGdUxZkrDec+OUPJFkY652+cl0v4UKMJYmcsUY6557sEJ3yATDKVzP0IAAAAASUVORK5CYII=",
           "type": "image"
          }
         ],
         "layout": {
          "margin": {
           "t": 60
          }
         },
         "name": "3"
        },
        {
         "data": [
          {
           "name": "4",
           "source": "data:image/png;base64,iVBORw0KGgoAAAANSUhEUgAAABQAAAAPCAAAAADB87CJAAAASUlEQVR4Xm2PQQrAMAzD5P7/z94hYXOaCXoRCriQ2OBhml+56Eq3EnBCvoSsW0/ZeEkB9idj31VaQ1aomjR+pXoHG2I4CK0SeAAxXhMMu6P57gAAAABJRU5ErkJggg==",
           "type": "image"
          }
         ],
         "layout": {
          "margin": {
           "t": 60
          }
         },
         "name": "4"
        },
        {
         "data": [
          {
           "name": "5",
           "source": "data:image/png;base64,iVBORw0KGgoAAAANSUhEUgAAABQAAAAPCAAAAADB87CJAAAATUlEQVR4XmXOQRKAMAgEwd6U//8yHmKUGE4wNQvQq0ptYDIwOltNh+SA9bq7afInsEaQnxmoD04xtJ396eNQcFXsGsYfCIPaHiOGIyw3kQUSFH7pNkcAAAAASUVORK5CYII=",
           "type": "image"
          }
         ],
         "layout": {
          "margin": {
           "t": 60
          }
         },
         "name": "5"
        },
        {
         "data": [
          {
           "name": "6",
           "source": "data:image/png;base64,iVBORw0KGgoAAAANSUhEUgAAABQAAAAPCAAAAADB87CJAAAASklEQVR4XoXQQQoAIQxD0R/vf+fMoq1WQSfQhQ+JRbFiQACjYVlHl503Iz/onA1bHuhcMl9X0DoAaErTS6eqiSpygGfP9iHKPgN8cb0NHLWvlikAAAAASUVORK5CYII=",
           "type": "image"
          }
         ],
         "layout": {
          "margin": {
           "t": 60
          }
         },
         "name": "6"
        },
        {
         "data": [
          {
           "name": "7",
           "source": "data:image/png;base64,iVBORw0KGgoAAAANSUhEUgAAABQAAAAPCAAAAADB87CJAAAAT0lEQVR4XmWPSQoAQQgDKzL//7JzMLa9BEQsJEYxymoiNtgMzZRrCiDTrBUc2wMfWofSfrb4NqslR5LrgL1fvcMf9P2Iuan7ozumweQSwA8IgxAZL+uVUAAAAABJRU5ErkJggg==",
           "type": "image"
          }
         ],
         "layout": {
          "margin": {
           "t": 60
          }
         },
         "name": "7"
        },
        {
         "data": [
          {
           "name": "8",
           "source": "data:image/png;base64,iVBORw0KGgoAAAANSUhEUgAAABQAAAAPCAAAAADB87CJAAAATklEQVR4XlXOWwoAIQxD0RuZ/W8582EfMSDK0daKjWvXCWwj0IBABF4TFNrRsHFSN2ePq1/I5Jar1oOejwO3rQPfCMCIfj1zKqdqBJz+A4pVEhtZ4il8AAAAAElFTkSuQmCC",
           "type": "image"
          }
         ],
         "layout": {
          "margin": {
           "t": 60
          }
         },
         "name": "8"
        },
        {
         "data": [
          {
           "name": "9",
           "source": "data:image/png;base64,iVBORw0KGgoAAAANSUhEUgAAABQAAAAPCAAAAADB87CJAAAAU0lEQVR4Xl3PQRLAIAgEwcby/18mBwmS7I2pgdVwkyBYA3YGbFFMFqQomEIO46wf1tlzylJvUcTbdWAJTRekbKvhAAlbdd+L7N8XwPrN6Cflp+kBFeAVHj44COEAAAAASUVORK5CYII=",
           "type": "image"
          }
         ],
         "layout": {
          "margin": {
           "t": 60
          }
         },
         "name": "9"
        }
       ],
       "layout": {
        "margin": {
         "t": 60
        },
        "sliders": [
         {
          "active": 0,
          "currentvalue": {
           "prefix": "Profundidade="
          },
          "len": 0.9,
          "pad": {
           "b": 10,
           "t": 60
          },
          "steps": [
           {
            "args": [
             [
              "0"
             ],
             {
              "frame": {
               "duration": 0,
               "redraw": true
              },
              "fromcurrent": true,
              "mode": "immediate",
              "transition": {
               "duration": 0,
               "easing": "linear"
              }
             }
            ],
            "label": "0",
            "method": "animate"
           },
           {
            "args": [
             [
              "1"
             ],
             {
              "frame": {
               "duration": 0,
               "redraw": true
              },
              "fromcurrent": true,
              "mode": "immediate",
              "transition": {
               "duration": 0,
               "easing": "linear"
              }
             }
            ],
            "label": "1",
            "method": "animate"
           },
           {
            "args": [
             [
              "2"
             ],
             {
              "frame": {
               "duration": 0,
               "redraw": true
              },
              "fromcurrent": true,
              "mode": "immediate",
              "transition": {
               "duration": 0,
               "easing": "linear"
              }
             }
            ],
            "label": "2",
            "method": "animate"
           },
           {
            "args": [
             [
              "3"
             ],
             {
              "frame": {
               "duration": 0,
               "redraw": true
              },
              "fromcurrent": true,
              "mode": "immediate",
              "transition": {
               "duration": 0,
               "easing": "linear"
              }
             }
            ],
            "label": "3",
            "method": "animate"
           },
           {
            "args": [
             [
              "4"
             ],
             {
              "frame": {
               "duration": 0,
               "redraw": true
              },
              "fromcurrent": true,
              "mode": "immediate",
              "transition": {
               "duration": 0,
               "easing": "linear"
              }
             }
            ],
            "label": "4",
            "method": "animate"
           },
           {
            "args": [
             [
              "5"
             ],
             {
              "frame": {
               "duration": 0,
               "redraw": true
              },
              "fromcurrent": true,
              "mode": "immediate",
              "transition": {
               "duration": 0,
               "easing": "linear"
              }
             }
            ],
            "label": "5",
            "method": "animate"
           },
           {
            "args": [
             [
              "6"
             ],
             {
              "frame": {
               "duration": 0,
               "redraw": true
              },
              "fromcurrent": true,
              "mode": "immediate",
              "transition": {
               "duration": 0,
               "easing": "linear"
              }
             }
            ],
            "label": "6",
            "method": "animate"
           },
           {
            "args": [
             [
              "7"
             ],
             {
              "frame": {
               "duration": 0,
               "redraw": true
              },
              "fromcurrent": true,
              "mode": "immediate",
              "transition": {
               "duration": 0,
               "easing": "linear"
              }
             }
            ],
            "label": "7",
            "method": "animate"
           },
           {
            "args": [
             [
              "8"
             ],
             {
              "frame": {
               "duration": 0,
               "redraw": true
              },
              "fromcurrent": true,
              "mode": "immediate",
              "transition": {
               "duration": 0,
               "easing": "linear"
              }
             }
            ],
            "label": "8",
            "method": "animate"
           },
           {
            "args": [
             [
              "9"
             ],
             {
              "frame": {
               "duration": 0,
               "redraw": true
              },
              "fromcurrent": true,
              "mode": "immediate",
              "transition": {
               "duration": 0,
               "easing": "linear"
              }
             }
            ],
            "label": "9",
            "method": "animate"
           }
          ],
          "x": 0.1,
          "xanchor": "left",
          "y": 0,
          "yanchor": "top"
         }
        ],
        "template": {
         "data": {
          "bar": [
           {
            "error_x": {
             "color": "#2a3f5f"
            },
            "error_y": {
             "color": "#2a3f5f"
            },
            "marker": {
             "line": {
              "color": "#E5ECF6",
              "width": 0.5
             },
             "pattern": {
              "fillmode": "overlay",
              "size": 10,
              "solidity": 0.2
             }
            },
            "type": "bar"
           }
          ],
          "barpolar": [
           {
            "marker": {
             "line": {
              "color": "#E5ECF6",
              "width": 0.5
             },
             "pattern": {
              "fillmode": "overlay",
              "size": 10,
              "solidity": 0.2
             }
            },
            "type": "barpolar"
           }
          ],
          "carpet": [
           {
            "aaxis": {
             "endlinecolor": "#2a3f5f",
             "gridcolor": "white",
             "linecolor": "white",
             "minorgridcolor": "white",
             "startlinecolor": "#2a3f5f"
            },
            "baxis": {
             "endlinecolor": "#2a3f5f",
             "gridcolor": "white",
             "linecolor": "white",
             "minorgridcolor": "white",
             "startlinecolor": "#2a3f5f"
            },
            "type": "carpet"
           }
          ],
          "choropleth": [
           {
            "colorbar": {
             "outlinewidth": 0,
             "ticks": ""
            },
            "type": "choropleth"
           }
          ],
          "contour": [
           {
            "colorbar": {
             "outlinewidth": 0,
             "ticks": ""
            },
            "colorscale": [
             [
              0,
              "#0d0887"
             ],
             [
              0.1111111111111111,
              "#46039f"
             ],
             [
              0.2222222222222222,
              "#7201a8"
             ],
             [
              0.3333333333333333,
              "#9c179e"
             ],
             [
              0.4444444444444444,
              "#bd3786"
             ],
             [
              0.5555555555555556,
              "#d8576b"
             ],
             [
              0.6666666666666666,
              "#ed7953"
             ],
             [
              0.7777777777777778,
              "#fb9f3a"
             ],
             [
              0.8888888888888888,
              "#fdca26"
             ],
             [
              1,
              "#f0f921"
             ]
            ],
            "type": "contour"
           }
          ],
          "contourcarpet": [
           {
            "colorbar": {
             "outlinewidth": 0,
             "ticks": ""
            },
            "type": "contourcarpet"
           }
          ],
          "heatmap": [
           {
            "colorbar": {
             "outlinewidth": 0,
             "ticks": ""
            },
            "colorscale": [
             [
              0,
              "#0d0887"
             ],
             [
              0.1111111111111111,
              "#46039f"
             ],
             [
              0.2222222222222222,
              "#7201a8"
             ],
             [
              0.3333333333333333,
              "#9c179e"
             ],
             [
              0.4444444444444444,
              "#bd3786"
             ],
             [
              0.5555555555555556,
              "#d8576b"
             ],
             [
              0.6666666666666666,
              "#ed7953"
             ],
             [
              0.7777777777777778,
              "#fb9f3a"
             ],
             [
              0.8888888888888888,
              "#fdca26"
             ],
             [
              1,
              "#f0f921"
             ]
            ],
            "type": "heatmap"
           }
          ],
          "heatmapgl": [
           {
            "colorbar": {
             "outlinewidth": 0,
             "ticks": ""
            },
            "colorscale": [
             [
              0,
              "#0d0887"
             ],
             [
              0.1111111111111111,
              "#46039f"
             ],
             [
              0.2222222222222222,
              "#7201a8"
             ],
             [
              0.3333333333333333,
              "#9c179e"
             ],
             [
              0.4444444444444444,
              "#bd3786"
             ],
             [
              0.5555555555555556,
              "#d8576b"
             ],
             [
              0.6666666666666666,
              "#ed7953"
             ],
             [
              0.7777777777777778,
              "#fb9f3a"
             ],
             [
              0.8888888888888888,
              "#fdca26"
             ],
             [
              1,
              "#f0f921"
             ]
            ],
            "type": "heatmapgl"
           }
          ],
          "histogram": [
           {
            "marker": {
             "pattern": {
              "fillmode": "overlay",
              "size": 10,
              "solidity": 0.2
             }
            },
            "type": "histogram"
           }
          ],
          "histogram2d": [
           {
            "colorbar": {
             "outlinewidth": 0,
             "ticks": ""
            },
            "colorscale": [
             [
              0,
              "#0d0887"
             ],
             [
              0.1111111111111111,
              "#46039f"
             ],
             [
              0.2222222222222222,
              "#7201a8"
             ],
             [
              0.3333333333333333,
              "#9c179e"
             ],
             [
              0.4444444444444444,
              "#bd3786"
             ],
             [
              0.5555555555555556,
              "#d8576b"
             ],
             [
              0.6666666666666666,
              "#ed7953"
             ],
             [
              0.7777777777777778,
              "#fb9f3a"
             ],
             [
              0.8888888888888888,
              "#fdca26"
             ],
             [
              1,
              "#f0f921"
             ]
            ],
            "type": "histogram2d"
           }
          ],
          "histogram2dcontour": [
           {
            "colorbar": {
             "outlinewidth": 0,
             "ticks": ""
            },
            "colorscale": [
             [
              0,
              "#0d0887"
             ],
             [
              0.1111111111111111,
              "#46039f"
             ],
             [
              0.2222222222222222,
              "#7201a8"
             ],
             [
              0.3333333333333333,
              "#9c179e"
             ],
             [
              0.4444444444444444,
              "#bd3786"
             ],
             [
              0.5555555555555556,
              "#d8576b"
             ],
             [
              0.6666666666666666,
              "#ed7953"
             ],
             [
              0.7777777777777778,
              "#fb9f3a"
             ],
             [
              0.8888888888888888,
              "#fdca26"
             ],
             [
              1,
              "#f0f921"
             ]
            ],
            "type": "histogram2dcontour"
           }
          ],
          "mesh3d": [
           {
            "colorbar": {
             "outlinewidth": 0,
             "ticks": ""
            },
            "type": "mesh3d"
           }
          ],
          "parcoords": [
           {
            "line": {
             "colorbar": {
              "outlinewidth": 0,
              "ticks": ""
             }
            },
            "type": "parcoords"
           }
          ],
          "pie": [
           {
            "automargin": true,
            "type": "pie"
           }
          ],
          "scatter": [
           {
            "fillpattern": {
             "fillmode": "overlay",
             "size": 10,
             "solidity": 0.2
            },
            "type": "scatter"
           }
          ],
          "scatter3d": [
           {
            "line": {
             "colorbar": {
              "outlinewidth": 0,
              "ticks": ""
             }
            },
            "marker": {
             "colorbar": {
              "outlinewidth": 0,
              "ticks": ""
             }
            },
            "type": "scatter3d"
           }
          ],
          "scattercarpet": [
           {
            "marker": {
             "colorbar": {
              "outlinewidth": 0,
              "ticks": ""
             }
            },
            "type": "scattercarpet"
           }
          ],
          "scattergeo": [
           {
            "marker": {
             "colorbar": {
              "outlinewidth": 0,
              "ticks": ""
             }
            },
            "type": "scattergeo"
           }
          ],
          "scattergl": [
           {
            "marker": {
             "colorbar": {
              "outlinewidth": 0,
              "ticks": ""
             }
            },
            "type": "scattergl"
           }
          ],
          "scattermapbox": [
           {
            "marker": {
             "colorbar": {
              "outlinewidth": 0,
              "ticks": ""
             }
            },
            "type": "scattermapbox"
           }
          ],
          "scatterpolar": [
           {
            "marker": {
             "colorbar": {
              "outlinewidth": 0,
              "ticks": ""
             }
            },
            "type": "scatterpolar"
           }
          ],
          "scatterpolargl": [
           {
            "marker": {
             "colorbar": {
              "outlinewidth": 0,
              "ticks": ""
             }
            },
            "type": "scatterpolargl"
           }
          ],
          "scatterternary": [
           {
            "marker": {
             "colorbar": {
              "outlinewidth": 0,
              "ticks": ""
             }
            },
            "type": "scatterternary"
           }
          ],
          "surface": [
           {
            "colorbar": {
             "outlinewidth": 0,
             "ticks": ""
            },
            "colorscale": [
             [
              0,
              "#0d0887"
             ],
             [
              0.1111111111111111,
              "#46039f"
             ],
             [
              0.2222222222222222,
              "#7201a8"
             ],
             [
              0.3333333333333333,
              "#9c179e"
             ],
             [
              0.4444444444444444,
              "#bd3786"
             ],
             [
              0.5555555555555556,
              "#d8576b"
             ],
             [
              0.6666666666666666,
              "#ed7953"
             ],
             [
              0.7777777777777778,
              "#fb9f3a"
             ],
             [
              0.8888888888888888,
              "#fdca26"
             ],
             [
              1,
              "#f0f921"
             ]
            ],
            "type": "surface"
           }
          ],
          "table": [
           {
            "cells": {
             "fill": {
              "color": "#EBF0F8"
             },
             "line": {
              "color": "white"
             }
            },
            "header": {
             "fill": {
              "color": "#C8D4E3"
             },
             "line": {
              "color": "white"
             }
            },
            "type": "table"
           }
          ]
         },
         "layout": {
          "annotationdefaults": {
           "arrowcolor": "#2a3f5f",
           "arrowhead": 0,
           "arrowwidth": 1
          },
          "autotypenumbers": "strict",
          "coloraxis": {
           "colorbar": {
            "outlinewidth": 0,
            "ticks": ""
           }
          },
          "colorscale": {
           "diverging": [
            [
             0,
             "#8e0152"
            ],
            [
             0.1,
             "#c51b7d"
            ],
            [
             0.2,
             "#de77ae"
            ],
            [
             0.3,
             "#f1b6da"
            ],
            [
             0.4,
             "#fde0ef"
            ],
            [
             0.5,
             "#f7f7f7"
            ],
            [
             0.6,
             "#e6f5d0"
            ],
            [
             0.7,
             "#b8e186"
            ],
            [
             0.8,
             "#7fbc41"
            ],
            [
             0.9,
             "#4d9221"
            ],
            [
             1,
             "#276419"
            ]
           ],
           "sequential": [
            [
             0,
             "#0d0887"
            ],
            [
             0.1111111111111111,
             "#46039f"
            ],
            [
             0.2222222222222222,
             "#7201a8"
            ],
            [
             0.3333333333333333,
             "#9c179e"
            ],
            [
             0.4444444444444444,
             "#bd3786"
            ],
            [
             0.5555555555555556,
             "#d8576b"
            ],
            [
             0.6666666666666666,
             "#ed7953"
            ],
            [
             0.7777777777777778,
             "#fb9f3a"
            ],
            [
             0.8888888888888888,
             "#fdca26"
            ],
            [
             1,
             "#f0f921"
            ]
           ],
           "sequentialminus": [
            [
             0,
             "#0d0887"
            ],
            [
             0.1111111111111111,
             "#46039f"
            ],
            [
             0.2222222222222222,
             "#7201a8"
            ],
            [
             0.3333333333333333,
             "#9c179e"
            ],
            [
             0.4444444444444444,
             "#bd3786"
            ],
            [
             0.5555555555555556,
             "#d8576b"
            ],
            [
             0.6666666666666666,
             "#ed7953"
            ],
            [
             0.7777777777777778,
             "#fb9f3a"
            ],
            [
             0.8888888888888888,
             "#fdca26"
            ],
            [
             1,
             "#f0f921"
            ]
           ]
          },
          "colorway": [
           "#636efa",
           "#EF553B",
           "#00cc96",
           "#ab63fa",
           "#FFA15A",
           "#19d3f3",
           "#FF6692",
           "#B6E880",
           "#FF97FF",
           "#FECB52"
          ],
          "font": {
           "color": "#2a3f5f"
          },
          "geo": {
           "bgcolor": "white",
           "lakecolor": "white",
           "landcolor": "#E5ECF6",
           "showlakes": true,
           "showland": true,
           "subunitcolor": "white"
          },
          "hoverlabel": {
           "align": "left"
          },
          "hovermode": "closest",
          "mapbox": {
           "style": "light"
          },
          "paper_bgcolor": "white",
          "plot_bgcolor": "#E5ECF6",
          "polar": {
           "angularaxis": {
            "gridcolor": "white",
            "linecolor": "white",
            "ticks": ""
           },
           "bgcolor": "#E5ECF6",
           "radialaxis": {
            "gridcolor": "white",
            "linecolor": "white",
            "ticks": ""
           }
          },
          "scene": {
           "xaxis": {
            "backgroundcolor": "#E5ECF6",
            "gridcolor": "white",
            "gridwidth": 2,
            "linecolor": "white",
            "showbackground": true,
            "ticks": "",
            "zerolinecolor": "white"
           },
           "yaxis": {
            "backgroundcolor": "#E5ECF6",
            "gridcolor": "white",
            "gridwidth": 2,
            "linecolor": "white",
            "showbackground": true,
            "ticks": "",
            "zerolinecolor": "white"
           },
           "zaxis": {
            "backgroundcolor": "#E5ECF6",
            "gridcolor": "white",
            "gridwidth": 2,
            "linecolor": "white",
            "showbackground": true,
            "ticks": "",
            "zerolinecolor": "white"
           }
          },
          "shapedefaults": {
           "line": {
            "color": "#2a3f5f"
           }
          },
          "ternary": {
           "aaxis": {
            "gridcolor": "white",
            "linecolor": "white",
            "ticks": ""
           },
           "baxis": {
            "gridcolor": "white",
            "linecolor": "white",
            "ticks": ""
           },
           "bgcolor": "#E5ECF6",
           "caxis": {
            "gridcolor": "white",
            "linecolor": "white",
            "ticks": ""
           }
          },
          "title": {
           "x": 0.05
          },
          "xaxis": {
           "automargin": true,
           "gridcolor": "white",
           "linecolor": "white",
           "ticks": "",
           "title": {
            "standoff": 15
           },
           "zerolinecolor": "white",
           "zerolinewidth": 2
          },
          "yaxis": {
           "automargin": true,
           "gridcolor": "white",
           "linecolor": "white",
           "ticks": "",
           "title": {
            "standoff": 15
           },
           "zerolinecolor": "white",
           "zerolinewidth": 2
          }
         }
        },
        "updatemenus": [
         {
          "buttons": [
           {
            "args": [
             null,
             {
              "frame": {
               "duration": 500,
               "redraw": true
              },
              "fromcurrent": true,
              "mode": "immediate",
              "transition": {
               "duration": 500,
               "easing": "linear"
              }
             }
            ],
            "label": "&#9654;",
            "method": "animate"
           },
           {
            "args": [
             [
              null
             ],
             {
              "frame": {
               "duration": 0,
               "redraw": true
              },
              "fromcurrent": true,
              "mode": "immediate",
              "transition": {
               "duration": 0,
               "easing": "linear"
              }
             }
            ],
            "label": "&#9724;",
            "method": "animate"
           }
          ],
          "direction": "left",
          "pad": {
           "r": 10,
           "t": 70
          },
          "showactive": false,
          "type": "buttons",
          "x": 0.1,
          "xanchor": "right",
          "y": 0,
          "yanchor": "top"
         }
        ],
        "xaxis": {
         "anchor": "y",
         "domain": [
          0,
          1
         ]
        },
        "yaxis": {
         "anchor": "x",
         "domain": [
          0,
          1
         ]
        }
       }
      },
      "text/html": [
       "<div>                            <div id=\"9054c6cb-0aa5-4a12-810b-8f690df523dc\" class=\"plotly-graph-div\" style=\"height:525px; width:100%;\"></div>            <script type=\"text/javascript\">                require([\"plotly\"], function(Plotly) {                    window.PLOTLYENV=window.PLOTLYENV || {};                                    if (document.getElementById(\"9054c6cb-0aa5-4a12-810b-8f690df523dc\")) {                    Plotly.newPlot(                        \"9054c6cb-0aa5-4a12-810b-8f690df523dc\",                        [{\"name\":\"0\",\"source\":\"data:image/png;base64,iVBORw0KGgoAAAANSUhEUgAAABQAAAAPCAAAAADB87CJAAAAPElEQVR4Xq3NOQ7AMAgAwcHK/79MCjuSD4oUphwtwM1J0CrdEb+wnzzLJGMXihJRYKzl2PbMSH8xl1/oBRLICBPHECZfAAAAAElFTkSuQmCC\",\"type\":\"image\",\"xaxis\":\"x\",\"yaxis\":\"y\",\"hovertemplate\":\"x: %{x}<br>y: %{y}<br>color: %{z}<extra></extra>\"}],                        {\"template\":{\"data\":{\"histogram2dcontour\":[{\"type\":\"histogram2dcontour\",\"colorbar\":{\"outlinewidth\":0,\"ticks\":\"\"},\"colorscale\":[[0.0,\"#0d0887\"],[0.1111111111111111,\"#46039f\"],[0.2222222222222222,\"#7201a8\"],[0.3333333333333333,\"#9c179e\"],[0.4444444444444444,\"#bd3786\"],[0.5555555555555556,\"#d8576b\"],[0.6666666666666666,\"#ed7953\"],[0.7777777777777778,\"#fb9f3a\"],[0.8888888888888888,\"#fdca26\"],[1.0,\"#f0f921\"]]}],\"choropleth\":[{\"type\":\"choropleth\",\"colorbar\":{\"outlinewidth\":0,\"ticks\":\"\"}}],\"histogram2d\":[{\"type\":\"histogram2d\",\"colorbar\":{\"outlinewidth\":0,\"ticks\":\"\"},\"colorscale\":[[0.0,\"#0d0887\"],[0.1111111111111111,\"#46039f\"],[0.2222222222222222,\"#7201a8\"],[0.3333333333333333,\"#9c179e\"],[0.4444444444444444,\"#bd3786\"],[0.5555555555555556,\"#d8576b\"],[0.6666666666666666,\"#ed7953\"],[0.7777777777777778,\"#fb9f3a\"],[0.8888888888888888,\"#fdca26\"],[1.0,\"#f0f921\"]]}],\"heatmap\":[{\"type\":\"heatmap\",\"colorbar\":{\"outlinewidth\":0,\"ticks\":\"\"},\"colorscale\":[[0.0,\"#0d0887\"],[0.1111111111111111,\"#46039f\"],[0.2222222222222222,\"#7201a8\"],[0.3333333333333333,\"#9c179e\"],[0.4444444444444444,\"#bd3786\"],[0.5555555555555556,\"#d8576b\"],[0.6666666666666666,\"#ed7953\"],[0.7777777777777778,\"#fb9f3a\"],[0.8888888888888888,\"#fdca26\"],[1.0,\"#f0f921\"]]}],\"heatmapgl\":[{\"type\":\"heatmapgl\",\"colorbar\":{\"outlinewidth\":0,\"ticks\":\"\"},\"colorscale\":[[0.0,\"#0d0887\"],[0.1111111111111111,\"#46039f\"],[0.2222222222222222,\"#7201a8\"],[0.3333333333333333,\"#9c179e\"],[0.4444444444444444,\"#bd3786\"],[0.5555555555555556,\"#d8576b\"],[0.6666666666666666,\"#ed7953\"],[0.7777777777777778,\"#fb9f3a\"],[0.8888888888888888,\"#fdca26\"],[1.0,\"#f0f921\"]]}],\"contourcarpet\":[{\"type\":\"contourcarpet\",\"colorbar\":{\"outlinewidth\":0,\"ticks\":\"\"}}],\"contour\":[{\"type\":\"contour\",\"colorbar\":{\"outlinewidth\":0,\"ticks\":\"\"},\"colorscale\":[[0.0,\"#0d0887\"],[0.1111111111111111,\"#46039f\"],[0.2222222222222222,\"#7201a8\"],[0.3333333333333333,\"#9c179e\"],[0.4444444444444444,\"#bd3786\"],[0.5555555555555556,\"#d8576b\"],[0.6666666666666666,\"#ed7953\"],[0.7777777777777778,\"#fb9f3a\"],[0.8888888888888888,\"#fdca26\"],[1.0,\"#f0f921\"]]}],\"surface\":[{\"type\":\"surface\",\"colorbar\":{\"outlinewidth\":0,\"ticks\":\"\"},\"colorscale\":[[0.0,\"#0d0887\"],[0.1111111111111111,\"#46039f\"],[0.2222222222222222,\"#7201a8\"],[0.3333333333333333,\"#9c179e\"],[0.4444444444444444,\"#bd3786\"],[0.5555555555555556,\"#d8576b\"],[0.6666666666666666,\"#ed7953\"],[0.7777777777777778,\"#fb9f3a\"],[0.8888888888888888,\"#fdca26\"],[1.0,\"#f0f921\"]]}],\"mesh3d\":[{\"type\":\"mesh3d\",\"colorbar\":{\"outlinewidth\":0,\"ticks\":\"\"}}],\"scatter\":[{\"fillpattern\":{\"fillmode\":\"overlay\",\"size\":10,\"solidity\":0.2},\"type\":\"scatter\"}],\"parcoords\":[{\"type\":\"parcoords\",\"line\":{\"colorbar\":{\"outlinewidth\":0,\"ticks\":\"\"}}}],\"scatterpolargl\":[{\"type\":\"scatterpolargl\",\"marker\":{\"colorbar\":{\"outlinewidth\":0,\"ticks\":\"\"}}}],\"bar\":[{\"error_x\":{\"color\":\"#2a3f5f\"},\"error_y\":{\"color\":\"#2a3f5f\"},\"marker\":{\"line\":{\"color\":\"#E5ECF6\",\"width\":0.5},\"pattern\":{\"fillmode\":\"overlay\",\"size\":10,\"solidity\":0.2}},\"type\":\"bar\"}],\"scattergeo\":[{\"type\":\"scattergeo\",\"marker\":{\"colorbar\":{\"outlinewidth\":0,\"ticks\":\"\"}}}],\"scatterpolar\":[{\"type\":\"scatterpolar\",\"marker\":{\"colorbar\":{\"outlinewidth\":0,\"ticks\":\"\"}}}],\"histogram\":[{\"marker\":{\"pattern\":{\"fillmode\":\"overlay\",\"size\":10,\"solidity\":0.2}},\"type\":\"histogram\"}],\"scattergl\":[{\"type\":\"scattergl\",\"marker\":{\"colorbar\":{\"outlinewidth\":0,\"ticks\":\"\"}}}],\"scatter3d\":[{\"type\":\"scatter3d\",\"line\":{\"colorbar\":{\"outlinewidth\":0,\"ticks\":\"\"}},\"marker\":{\"colorbar\":{\"outlinewidth\":0,\"ticks\":\"\"}}}],\"scattermapbox\":[{\"type\":\"scattermapbox\",\"marker\":{\"colorbar\":{\"outlinewidth\":0,\"ticks\":\"\"}}}],\"scatterternary\":[{\"type\":\"scatterternary\",\"marker\":{\"colorbar\":{\"outlinewidth\":0,\"ticks\":\"\"}}}],\"scattercarpet\":[{\"type\":\"scattercarpet\",\"marker\":{\"colorbar\":{\"outlinewidth\":0,\"ticks\":\"\"}}}],\"carpet\":[{\"aaxis\":{\"endlinecolor\":\"#2a3f5f\",\"gridcolor\":\"white\",\"linecolor\":\"white\",\"minorgridcolor\":\"white\",\"startlinecolor\":\"#2a3f5f\"},\"baxis\":{\"endlinecolor\":\"#2a3f5f\",\"gridcolor\":\"white\",\"linecolor\":\"white\",\"minorgridcolor\":\"white\",\"startlinecolor\":\"#2a3f5f\"},\"type\":\"carpet\"}],\"table\":[{\"cells\":{\"fill\":{\"color\":\"#EBF0F8\"},\"line\":{\"color\":\"white\"}},\"header\":{\"fill\":{\"color\":\"#C8D4E3\"},\"line\":{\"color\":\"white\"}},\"type\":\"table\"}],\"barpolar\":[{\"marker\":{\"line\":{\"color\":\"#E5ECF6\",\"width\":0.5},\"pattern\":{\"fillmode\":\"overlay\",\"size\":10,\"solidity\":0.2}},\"type\":\"barpolar\"}],\"pie\":[{\"automargin\":true,\"type\":\"pie\"}]},\"layout\":{\"autotypenumbers\":\"strict\",\"colorway\":[\"#636efa\",\"#EF553B\",\"#00cc96\",\"#ab63fa\",\"#FFA15A\",\"#19d3f3\",\"#FF6692\",\"#B6E880\",\"#FF97FF\",\"#FECB52\"],\"font\":{\"color\":\"#2a3f5f\"},\"hovermode\":\"closest\",\"hoverlabel\":{\"align\":\"left\"},\"paper_bgcolor\":\"white\",\"plot_bgcolor\":\"#E5ECF6\",\"polar\":{\"bgcolor\":\"#E5ECF6\",\"angularaxis\":{\"gridcolor\":\"white\",\"linecolor\":\"white\",\"ticks\":\"\"},\"radialaxis\":{\"gridcolor\":\"white\",\"linecolor\":\"white\",\"ticks\":\"\"}},\"ternary\":{\"bgcolor\":\"#E5ECF6\",\"aaxis\":{\"gridcolor\":\"white\",\"linecolor\":\"white\",\"ticks\":\"\"},\"baxis\":{\"gridcolor\":\"white\",\"linecolor\":\"white\",\"ticks\":\"\"},\"caxis\":{\"gridcolor\":\"white\",\"linecolor\":\"white\",\"ticks\":\"\"}},\"coloraxis\":{\"colorbar\":{\"outlinewidth\":0,\"ticks\":\"\"}},\"colorscale\":{\"sequential\":[[0.0,\"#0d0887\"],[0.1111111111111111,\"#46039f\"],[0.2222222222222222,\"#7201a8\"],[0.3333333333333333,\"#9c179e\"],[0.4444444444444444,\"#bd3786\"],[0.5555555555555556,\"#d8576b\"],[0.6666666666666666,\"#ed7953\"],[0.7777777777777778,\"#fb9f3a\"],[0.8888888888888888,\"#fdca26\"],[1.0,\"#f0f921\"]],\"sequentialminus\":[[0.0,\"#0d0887\"],[0.1111111111111111,\"#46039f\"],[0.2222222222222222,\"#7201a8\"],[0.3333333333333333,\"#9c179e\"],[0.4444444444444444,\"#bd3786\"],[0.5555555555555556,\"#d8576b\"],[0.6666666666666666,\"#ed7953\"],[0.7777777777777778,\"#fb9f3a\"],[0.8888888888888888,\"#fdca26\"],[1.0,\"#f0f921\"]],\"diverging\":[[0,\"#8e0152\"],[0.1,\"#c51b7d\"],[0.2,\"#de77ae\"],[0.3,\"#f1b6da\"],[0.4,\"#fde0ef\"],[0.5,\"#f7f7f7\"],[0.6,\"#e6f5d0\"],[0.7,\"#b8e186\"],[0.8,\"#7fbc41\"],[0.9,\"#4d9221\"],[1,\"#276419\"]]},\"xaxis\":{\"gridcolor\":\"white\",\"linecolor\":\"white\",\"ticks\":\"\",\"title\":{\"standoff\":15},\"zerolinecolor\":\"white\",\"automargin\":true,\"zerolinewidth\":2},\"yaxis\":{\"gridcolor\":\"white\",\"linecolor\":\"white\",\"ticks\":\"\",\"title\":{\"standoff\":15},\"zerolinecolor\":\"white\",\"automargin\":true,\"zerolinewidth\":2},\"scene\":{\"xaxis\":{\"backgroundcolor\":\"#E5ECF6\",\"gridcolor\":\"white\",\"linecolor\":\"white\",\"showbackground\":true,\"ticks\":\"\",\"zerolinecolor\":\"white\",\"gridwidth\":2},\"yaxis\":{\"backgroundcolor\":\"#E5ECF6\",\"gridcolor\":\"white\",\"linecolor\":\"white\",\"showbackground\":true,\"ticks\":\"\",\"zerolinecolor\":\"white\",\"gridwidth\":2},\"zaxis\":{\"backgroundcolor\":\"#E5ECF6\",\"gridcolor\":\"white\",\"linecolor\":\"white\",\"showbackground\":true,\"ticks\":\"\",\"zerolinecolor\":\"white\",\"gridwidth\":2}},\"shapedefaults\":{\"line\":{\"color\":\"#2a3f5f\"}},\"annotationdefaults\":{\"arrowcolor\":\"#2a3f5f\",\"arrowhead\":0,\"arrowwidth\":1},\"geo\":{\"bgcolor\":\"white\",\"landcolor\":\"#E5ECF6\",\"subunitcolor\":\"white\",\"showland\":true,\"showlakes\":true,\"lakecolor\":\"white\"},\"title\":{\"x\":0.05},\"mapbox\":{\"style\":\"light\"}}},\"xaxis\":{\"anchor\":\"y\",\"domain\":[0.0,1.0]},\"yaxis\":{\"anchor\":\"x\",\"domain\":[0.0,1.0]},\"margin\":{\"t\":60},\"updatemenus\":[{\"buttons\":[{\"args\":[null,{\"frame\":{\"duration\":500,\"redraw\":true},\"mode\":\"immediate\",\"fromcurrent\":true,\"transition\":{\"duration\":500,\"easing\":\"linear\"}}],\"label\":\"&#9654;\",\"method\":\"animate\"},{\"args\":[[null],{\"frame\":{\"duration\":0,\"redraw\":true},\"mode\":\"immediate\",\"fromcurrent\":true,\"transition\":{\"duration\":0,\"easing\":\"linear\"}}],\"label\":\"&#9724;\",\"method\":\"animate\"}],\"direction\":\"left\",\"pad\":{\"r\":10,\"t\":70},\"showactive\":false,\"type\":\"buttons\",\"x\":0.1,\"xanchor\":\"right\",\"y\":0,\"yanchor\":\"top\"}],\"sliders\":[{\"active\":0,\"currentvalue\":{\"prefix\":\"Profundidade=\"},\"len\":0.9,\"pad\":{\"b\":10,\"t\":60},\"steps\":[{\"args\":[[\"0\"],{\"frame\":{\"duration\":0,\"redraw\":true},\"mode\":\"immediate\",\"fromcurrent\":true,\"transition\":{\"duration\":0,\"easing\":\"linear\"}}],\"label\":\"0\",\"method\":\"animate\"},{\"args\":[[\"1\"],{\"frame\":{\"duration\":0,\"redraw\":true},\"mode\":\"immediate\",\"fromcurrent\":true,\"transition\":{\"duration\":0,\"easing\":\"linear\"}}],\"label\":\"1\",\"method\":\"animate\"},{\"args\":[[\"2\"],{\"frame\":{\"duration\":0,\"redraw\":true},\"mode\":\"immediate\",\"fromcurrent\":true,\"transition\":{\"duration\":0,\"easing\":\"linear\"}}],\"label\":\"2\",\"method\":\"animate\"},{\"args\":[[\"3\"],{\"frame\":{\"duration\":0,\"redraw\":true},\"mode\":\"immediate\",\"fromcurrent\":true,\"transition\":{\"duration\":0,\"easing\":\"linear\"}}],\"label\":\"3\",\"method\":\"animate\"},{\"args\":[[\"4\"],{\"frame\":{\"duration\":0,\"redraw\":true},\"mode\":\"immediate\",\"fromcurrent\":true,\"transition\":{\"duration\":0,\"easing\":\"linear\"}}],\"label\":\"4\",\"method\":\"animate\"},{\"args\":[[\"5\"],{\"frame\":{\"duration\":0,\"redraw\":true},\"mode\":\"immediate\",\"fromcurrent\":true,\"transition\":{\"duration\":0,\"easing\":\"linear\"}}],\"label\":\"5\",\"method\":\"animate\"},{\"args\":[[\"6\"],{\"frame\":{\"duration\":0,\"redraw\":true},\"mode\":\"immediate\",\"fromcurrent\":true,\"transition\":{\"duration\":0,\"easing\":\"linear\"}}],\"label\":\"6\",\"method\":\"animate\"},{\"args\":[[\"7\"],{\"frame\":{\"duration\":0,\"redraw\":true},\"mode\":\"immediate\",\"fromcurrent\":true,\"transition\":{\"duration\":0,\"easing\":\"linear\"}}],\"label\":\"7\",\"method\":\"animate\"},{\"args\":[[\"8\"],{\"frame\":{\"duration\":0,\"redraw\":true},\"mode\":\"immediate\",\"fromcurrent\":true,\"transition\":{\"duration\":0,\"easing\":\"linear\"}}],\"label\":\"8\",\"method\":\"animate\"},{\"args\":[[\"9\"],{\"frame\":{\"duration\":0,\"redraw\":true},\"mode\":\"immediate\",\"fromcurrent\":true,\"transition\":{\"duration\":0,\"easing\":\"linear\"}}],\"label\":\"9\",\"method\":\"animate\"}],\"x\":0.1,\"xanchor\":\"left\",\"y\":0,\"yanchor\":\"top\"}]},                        {\"responsive\": true}                    ).then(function(){\n",
       "                            Plotly.addFrames('9054c6cb-0aa5-4a12-810b-8f690df523dc', [{\"data\":[{\"name\":\"0\",\"source\":\"data:image/png;base64,iVBORw0KGgoAAAANSUhEUgAAABQAAAAPCAAAAADB87CJAAAAPElEQVR4Xq3NOQ7AMAgAwcHK/79MCjuSD4oUphwtwM1J0CrdEb+wnzzLJGMXihJRYKzl2PbMSH8xl1/oBRLICBPHECZfAAAAAElFTkSuQmCC\",\"type\":\"image\"}],\"layout\":{\"margin\":{\"t\":60}},\"name\":\"0\"},{\"data\":[{\"name\":\"1\",\"source\":\"data:image/png;base64,iVBORw0KGgoAAAANSUhEUgAAABQAAAAPCAAAAADB87CJAAAAO0lEQVR4XqXMMRLAMAgDwSX//7NS2A3YqaJy54C+wDPw3/L9s2NuuNdwh2eZgSvMLKswkVIN13U5S/ACV4kJEwRa5MEAAAAASUVORK5CYII=\",\"type\":\"image\"}],\"layout\":{\"margin\":{\"t\":60}},\"name\":\"1\"},{\"data\":[{\"name\":\"2\",\"source\":\"data:image/png;base64,iVBORw0KGgoAAAANSUhEUgAAABQAAAAPCAAAAADB87CJAAAARklEQVR4Xm2QQQ4AIAjDiv//8zxAVIY7kFCWDIAmCdDqEICwXgB0ZzKDJYcaUBXiTmDA3OaFle3OyMkDdco36N6p0/0eIjZ57A4RJUJKuwAAAABJRU5ErkJggg==\",\"type\":\"image\"}],\"layout\":{\"margin\":{\"t\":60}},\"name\":\"2\"},{\"data\":[{\"name\":\"3\",\"source\":\"data:image/png;base64,iVBORw0KGgoAAAANSUhEUgAAABQAAAAPCAAAAADB87CJAAAATUlEQVR4Xo3PQQ6AMAgEwKHx/19eD7ZK9SIHSCYNS0uvXOPYENQbfleupWOzGdUxZkrDec+OUPJFkY652+cl0v4UKMJYmcsUY6557sEJ3yATDKVzP0IAAAAASUVORK5CYII=\",\"type\":\"image\"}],\"layout\":{\"margin\":{\"t\":60}},\"name\":\"3\"},{\"data\":[{\"name\":\"4\",\"source\":\"data:image/png;base64,iVBORw0KGgoAAAANSUhEUgAAABQAAAAPCAAAAADB87CJAAAASUlEQVR4Xm2PQQrAMAzD5P7/z94hYXOaCXoRCriQ2OBhml+56Eq3EnBCvoSsW0/ZeEkB9idj31VaQ1aomjR+pXoHG2I4CK0SeAAxXhMMu6P57gAAAABJRU5ErkJggg==\",\"type\":\"image\"}],\"layout\":{\"margin\":{\"t\":60}},\"name\":\"4\"},{\"data\":[{\"name\":\"5\",\"source\":\"data:image/png;base64,iVBORw0KGgoAAAANSUhEUgAAABQAAAAPCAAAAADB87CJAAAATUlEQVR4XmXOQRKAMAgEwd6U//8yHmKUGE4wNQvQq0ptYDIwOltNh+SA9bq7afInsEaQnxmoD04xtJ396eNQcFXsGsYfCIPaHiOGIyw3kQUSFH7pNkcAAAAASUVORK5CYII=\",\"type\":\"image\"}],\"layout\":{\"margin\":{\"t\":60}},\"name\":\"5\"},{\"data\":[{\"name\":\"6\",\"source\":\"data:image/png;base64,iVBORw0KGgoAAAANSUhEUgAAABQAAAAPCAAAAADB87CJAAAASklEQVR4XoXQQQoAIQxD0R/vf+fMoq1WQSfQhQ+JRbFiQACjYVlHl503Iz/onA1bHuhcMl9X0DoAaErTS6eqiSpygGfP9iHKPgN8cb0NHLWvlikAAAAASUVORK5CYII=\",\"type\":\"image\"}],\"layout\":{\"margin\":{\"t\":60}},\"name\":\"6\"},{\"data\":[{\"name\":\"7\",\"source\":\"data:image/png;base64,iVBORw0KGgoAAAANSUhEUgAAABQAAAAPCAAAAADB87CJAAAAT0lEQVR4XmWPSQoAQQgDKzL//7JzMLa9BEQsJEYxymoiNtgMzZRrCiDTrBUc2wMfWofSfrb4NqslR5LrgL1fvcMf9P2Iuan7ozumweQSwA8IgxAZL+uVUAAAAABJRU5ErkJggg==\",\"type\":\"image\"}],\"layout\":{\"margin\":{\"t\":60}},\"name\":\"7\"},{\"data\":[{\"name\":\"8\",\"source\":\"data:image/png;base64,iVBORw0KGgoAAAANSUhEUgAAABQAAAAPCAAAAADB87CJAAAATklEQVR4XlXOWwoAIQxD0RuZ/W8582EfMSDK0daKjWvXCWwj0IBABF4TFNrRsHFSN2ePq1/I5Jar1oOejwO3rQPfCMCIfj1zKqdqBJz+A4pVEhtZ4il8AAAAAElFTkSuQmCC\",\"type\":\"image\"}],\"layout\":{\"margin\":{\"t\":60}},\"name\":\"8\"},{\"data\":[{\"name\":\"9\",\"source\":\"data:image/png;base64,iVBORw0KGgoAAAANSUhEUgAAABQAAAAPCAAAAADB87CJAAAAU0lEQVR4Xl3PQRLAIAgEwcby/18mBwmS7I2pgdVwkyBYA3YGbFFMFqQomEIO46wf1tlzylJvUcTbdWAJTRekbKvhAAlbdd+L7N8XwPrN6Cflp+kBFeAVHj44COEAAAAASUVORK5CYII=\",\"type\":\"image\"}],\"layout\":{\"margin\":{\"t\":60}},\"name\":\"9\"}]);\n",
       "                        }).then(function(){\n",
       "                            \n",
       "var gd = document.getElementById('9054c6cb-0aa5-4a12-810b-8f690df523dc');\n",
       "var x = new MutationObserver(function (mutations, observer) {{\n",
       "        var display = window.getComputedStyle(gd).display;\n",
       "        if (!display || display === 'none') {{\n",
       "            console.log([gd, 'removed!']);\n",
       "            Plotly.purge(gd);\n",
       "            observer.disconnect();\n",
       "        }}\n",
       "}});\n",
       "\n",
       "// Listen for the removal of the full notebook cells\n",
       "var notebookContainer = gd.closest('#notebook-container');\n",
       "if (notebookContainer) {{\n",
       "    x.observe(notebookContainer, {childList: true});\n",
       "}}\n",
       "\n",
       "// Listen for the clearing of the current output cell\n",
       "var outputEl = gd.closest('.output');\n",
       "if (outputEl) {{\n",
       "    x.observe(outputEl, {childList: true});\n",
       "}}\n",
       "\n",
       "                        })                };                });            </script>        </div>"
      ]
     },
     "metadata": {},
     "output_type": "display_data"
    }
   ],
   "source": [
    "elim_fig = px.imshow(elim_im, animation_frame=0, labels=dict(animation_frame=\"Profundidade\"),binary_string=True)\n",
    "elim_fig.show()\n",
    "io.imsave('resultado.tif', elim_im)"
   ]
  },
  {
   "cell_type": "markdown",
   "id": "428fe044",
   "metadata": {},
   "source": [
    "# MAPEAMENTO DAS CÉLULAS\n",
    "\n",
    "Criação de uma nova matriz, *im_cel*, para a consideração das células como parte do sistema."
   ]
  },
  {
   "cell_type": "code",
   "execution_count": 30,
   "id": "69a37031",
   "metadata": {
    "scrolled": true
   },
   "outputs": [],
   "source": [
    "im_cel = copy.deepcopy (elim_im)\n",
    "for z in range(size[0]):\n",
    "    for y in range(size[1]):\n",
    "        for x in range (size[2]):\n",
    "            position = (z, y, x)\n",
    "            idty = id(position, size)\n",
    "            if (im_cel[position] == 255):\n",
    "                options = [-1, 0, 1]\n",
    "                for k in options:\n",
    "                    for j in options:\n",
    "                        for i in options:\n",
    "                            if ((i,j,k) == (0,0,0) or (i,j) == (-1,1) or (i,j) == (1,1) or \\\n",
    "                                (i,j) == (-1,-1) or (i,j) == (1,-1)):\n",
    "                                continue\n",
    "                            if ((x+i) >= 0 and (x+i) < size [2] and (y+j) >= 0 and (y+j) < size[1]\\\n",
    "                                and (z+k) >= 0 and (z+k) < size[0]):\n",
    "                                adj = (z+k, y+j, x+i)\n",
    "                                idty_adj = id(adj, size)\n",
    "                                if (im_cel[adj] == 0):\n",
    "                                    im_cel [adj] = 128\n",
    "                                    material_elementos [idty_adj + 1] = (MELTC, CFPC)\n",
    "elementos_cel = [ i for i in range(len(material_elementos)) if material_elementos[i] == (MELTC, CFPC)]"
   ]
  },
  {
   "cell_type": "markdown",
   "id": "cbfba481",
   "metadata": {},
   "source": [
    "## VISUALIZAÇÃO APÓS A INSERÇÃO DAS CÉLULAS"
   ]
  },
  {
   "cell_type": "code",
   "execution_count": 31,
   "id": "4e525a13",
   "metadata": {},
   "outputs": [
    {
     "data": {
      "application/vnd.plotly.v1+json": {
       "config": {
        "plotlyServerURL": "https://plot.ly"
       },
       "data": [
        {
         "coloraxis": "coloraxis",
         "hovertemplate": "x: %{x}<br>y: %{y}<br>color: %{z}<extra></extra>",
         "name": "0",
         "type": "heatmap",
         "xaxis": "x",
         "yaxis": "y",
         "z": [
          [
           0,
           0,
           0,
           0,
           0,
           0,
           0,
           0,
           0,
           0,
           0,
           0,
           0,
           0,
           128,
           128,
           128,
           0,
           0,
           0
          ],
          [
           0,
           0,
           0,
           0,
           0,
           0,
           0,
           0,
           0,
           0,
           0,
           0,
           0,
           0,
           128,
           128,
           128,
           0,
           0,
           0
          ],
          [
           0,
           0,
           0,
           0,
           0,
           0,
           0,
           0,
           0,
           0,
           0,
           0,
           0,
           0,
           128,
           128,
           0,
           0,
           0,
           0
          ],
          [
           0,
           0,
           0,
           0,
           0,
           0,
           0,
           0,
           0,
           0,
           0,
           0,
           0,
           128,
           255,
           128,
           0,
           0,
           0,
           0
          ],
          [
           0,
           0,
           0,
           0,
           0,
           0,
           0,
           0,
           0,
           0,
           0,
           0,
           0,
           128,
           255,
           255,
           128,
           0,
           0,
           0
          ],
          [
           0,
           0,
           0,
           0,
           0,
           0,
           0,
           0,
           0,
           0,
           0,
           0,
           0,
           128,
           255,
           255,
           128,
           0,
           0,
           0
          ],
          [
           0,
           0,
           0,
           0,
           0,
           0,
           0,
           0,
           0,
           0,
           0,
           0,
           128,
           128,
           255,
           255,
           128,
           0,
           0,
           0
          ],
          [
           0,
           0,
           0,
           0,
           0,
           0,
           0,
           0,
           0,
           0,
           0,
           0,
           128,
           255,
           255,
           255,
           128,
           0,
           0,
           128
          ],
          [
           0,
           0,
           0,
           0,
           0,
           0,
           0,
           0,
           0,
           0,
           0,
           128,
           128,
           255,
           255,
           255,
           255,
           128,
           128,
           255
          ],
          [
           0,
           0,
           0,
           0,
           0,
           0,
           0,
           0,
           0,
           0,
           0,
           128,
           128,
           255,
           255,
           255,
           255,
           255,
           255,
           255
          ],
          [
           0,
           0,
           0,
           0,
           0,
           0,
           0,
           0,
           0,
           0,
           128,
           128,
           128,
           255,
           255,
           255,
           255,
           255,
           255,
           128
          ],
          [
           0,
           0,
           0,
           0,
           0,
           0,
           0,
           0,
           0,
           0,
           128,
           128,
           128,
           255,
           255,
           255,
           255,
           255,
           128,
           0
          ],
          [
           0,
           0,
           0,
           0,
           0,
           0,
           0,
           0,
           0,
           0,
           128,
           128,
           255,
           255,
           255,
           255,
           255,
           255,
           128,
           0
          ],
          [
           0,
           0,
           0,
           0,
           0,
           0,
           0,
           0,
           0,
           128,
           128,
           128,
           255,
           255,
           128,
           128,
           128,
           128,
           0,
           0
          ],
          [
           0,
           0,
           0,
           0,
           0,
           0,
           0,
           0,
           0,
           128,
           128,
           255,
           255,
           255,
           128,
           0,
           0,
           0,
           0,
           0
          ]
         ]
        }
       ],
       "frames": [
        {
         "data": [
          {
           "coloraxis": "coloraxis",
           "name": "0",
           "type": "heatmap",
           "z": [
            [
             0,
             0,
             0,
             0,
             0,
             0,
             0,
             0,
             0,
             0,
             0,
             0,
             0,
             0,
             128,
             128,
             128,
             0,
             0,
             0
            ],
            [
             0,
             0,
             0,
             0,
             0,
             0,
             0,
             0,
             0,
             0,
             0,
             0,
             0,
             0,
             128,
             128,
             128,
             0,
             0,
             0
            ],
            [
             0,
             0,
             0,
             0,
             0,
             0,
             0,
             0,
             0,
             0,
             0,
             0,
             0,
             0,
             128,
             128,
             0,
             0,
             0,
             0
            ],
            [
             0,
             0,
             0,
             0,
             0,
             0,
             0,
             0,
             0,
             0,
             0,
             0,
             0,
             128,
             255,
             128,
             0,
             0,
             0,
             0
            ],
            [
             0,
             0,
             0,
             0,
             0,
             0,
             0,
             0,
             0,
             0,
             0,
             0,
             0,
             128,
             255,
             255,
             128,
             0,
             0,
             0
            ],
            [
             0,
             0,
             0,
             0,
             0,
             0,
             0,
             0,
             0,
             0,
             0,
             0,
             0,
             128,
             255,
             255,
             128,
             0,
             0,
             0
            ],
            [
             0,
             0,
             0,
             0,
             0,
             0,
             0,
             0,
             0,
             0,
             0,
             0,
             128,
             128,
             255,
             255,
             128,
             0,
             0,
             0
            ],
            [
             0,
             0,
             0,
             0,
             0,
             0,
             0,
             0,
             0,
             0,
             0,
             0,
             128,
             255,
             255,
             255,
             128,
             0,
             0,
             128
            ],
            [
             0,
             0,
             0,
             0,
             0,
             0,
             0,
             0,
             0,
             0,
             0,
             128,
             128,
             255,
             255,
             255,
             255,
             128,
             128,
             255
            ],
            [
             0,
             0,
             0,
             0,
             0,
             0,
             0,
             0,
             0,
             0,
             0,
             128,
             128,
             255,
             255,
             255,
             255,
             255,
             255,
             255
            ],
            [
             0,
             0,
             0,
             0,
             0,
             0,
             0,
             0,
             0,
             0,
             128,
             128,
             128,
             255,
             255,
             255,
             255,
             255,
             255,
             128
            ],
            [
             0,
             0,
             0,
             0,
             0,
             0,
             0,
             0,
             0,
             0,
             128,
             128,
             128,
             255,
             255,
             255,
             255,
             255,
             128,
             0
            ],
            [
             0,
             0,
             0,
             0,
             0,
             0,
             0,
             0,
             0,
             0,
             128,
             128,
             255,
             255,
             255,
             255,
             255,
             255,
             128,
             0
            ],
            [
             0,
             0,
             0,
             0,
             0,
             0,
             0,
             0,
             0,
             128,
             128,
             128,
             255,
             255,
             128,
             128,
             128,
             128,
             0,
             0
            ],
            [
             0,
             0,
             0,
             0,
             0,
             0,
             0,
             0,
             0,
             128,
             128,
             255,
             255,
             255,
             128,
             0,
             0,
             0,
             0,
             0
            ]
           ]
          }
         ],
         "layout": {
          "coloraxis": {
           "colorscale": [
            [
             0,
             "rgb(0, 0, 0)"
            ],
            [
             0.09090909090909091,
             "rgb(16, 16, 16)"
            ],
            [
             0.18181818181818182,
             "rgb(38, 38, 38)"
            ],
            [
             0.2727272727272727,
             "rgb(59, 59, 59)"
            ],
            [
             0.36363636363636365,
             "rgb(81, 80, 80)"
            ],
            [
             0.45454545454545453,
             "rgb(102, 101, 101)"
            ],
            [
             0.5454545454545454,
             "rgb(124, 123, 122)"
            ],
            [
             0.6363636363636364,
             "rgb(146, 146, 145)"
            ],
            [
             0.7272727272727273,
             "rgb(171, 171, 170)"
            ],
            [
             0.8181818181818182,
             "rgb(197, 197, 195)"
            ],
            [
             0.9090909090909091,
             "rgb(224, 224, 223)"
            ],
            [
             1,
             "rgb(254, 254, 253)"
            ]
           ]
          },
          "margin": {
           "t": 60
          },
          "xaxis": {
           "constrain": "domain",
           "scaleanchor": "y"
          },
          "yaxis": {
           "autorange": "reversed",
           "constrain": "domain"
          }
         },
         "name": "0"
        },
        {
         "data": [
          {
           "coloraxis": "coloraxis",
           "name": "1",
           "type": "heatmap",
           "z": [
            [
             0,
             0,
             0,
             0,
             0,
             0,
             0,
             0,
             0,
             0,
             0,
             0,
             0,
             128,
             128,
             255,
             128,
             0,
             128,
             128
            ],
            [
             0,
             0,
             0,
             0,
             0,
             0,
             0,
             0,
             0,
             0,
             0,
             0,
             0,
             128,
             128,
             255,
             128,
             0,
             0,
             128
            ],
            [
             0,
             0,
             0,
             0,
             0,
             0,
             0,
             0,
             0,
             0,
             0,
             0,
             0,
             128,
             128,
             128,
             0,
             0,
             0,
             0
            ],
            [
             0,
             0,
             0,
             0,
             0,
             0,
             0,
             0,
             0,
             0,
             0,
             0,
             128,
             128,
             128,
             128,
             0,
             0,
             0,
             0
            ],
            [
             0,
             0,
             0,
             0,
             0,
             0,
             0,
             0,
             0,
             0,
             0,
             0,
             128,
             128,
             255,
             255,
             128,
             0,
             0,
             0
            ],
            [
             0,
             0,
             0,
             0,
             0,
             0,
             0,
             0,
             0,
             0,
             0,
             0,
             128,
             128,
             255,
             255,
             128,
             0,
             0,
             0
            ],
            [
             0,
             0,
             0,
             0,
             0,
             0,
             0,
             0,
             0,
             0,
             0,
             128,
             128,
             255,
             255,
             255,
             128,
             0,
             0,
             0
            ],
            [
             0,
             0,
             0,
             0,
             0,
             0,
             0,
             0,
             0,
             0,
             0,
             128,
             128,
             255,
             255,
             255,
             128,
             0,
             0,
             128
            ],
            [
             0,
             0,
             0,
             0,
             0,
             0,
             0,
             0,
             0,
             0,
             0,
             128,
             255,
             255,
             255,
             255,
             128,
             128,
             128,
             128
            ],
            [
             0,
             0,
             0,
             0,
             0,
             0,
             0,
             0,
             0,
             0,
             128,
             128,
             255,
             255,
             255,
             255,
             255,
             128,
             128,
             128
            ],
            [
             0,
             0,
             0,
             0,
             0,
             0,
             0,
             0,
             0,
             0,
             128,
             255,
             255,
             255,
             255,
             255,
             255,
             255,
             128,
             128
            ],
            [
             0,
             0,
             0,
             0,
             0,
             0,
             0,
             0,
             0,
             128,
             128,
             255,
             255,
             128,
             128,
             255,
             255,
             255,
             128,
             0
            ],
            [
             0,
             0,
             0,
             0,
             0,
             0,
             0,
             0,
             0,
             128,
             128,
             255,
             255,
             128,
             128,
             128,
             255,
             128,
             128,
             128
            ],
            [
             0,
             0,
             0,
             0,
             0,
             0,
             0,
             0,
             128,
             128,
             255,
             255,
             255,
             128,
             128,
             128,
             128,
             128,
             128,
             128
            ],
            [
             0,
             0,
             0,
             0,
             0,
             0,
             0,
             0,
             128,
             128,
             255,
             255,
             255,
             128,
             128,
             0,
             0,
             128,
             128,
             128
            ]
           ]
          }
         ],
         "layout": {
          "coloraxis": {
           "colorscale": [
            [
             0,
             "rgb(0, 0, 0)"
            ],
            [
             0.09090909090909091,
             "rgb(16, 16, 16)"
            ],
            [
             0.18181818181818182,
             "rgb(38, 38, 38)"
            ],
            [
             0.2727272727272727,
             "rgb(59, 59, 59)"
            ],
            [
             0.36363636363636365,
             "rgb(81, 80, 80)"
            ],
            [
             0.45454545454545453,
             "rgb(102, 101, 101)"
            ],
            [
             0.5454545454545454,
             "rgb(124, 123, 122)"
            ],
            [
             0.6363636363636364,
             "rgb(146, 146, 145)"
            ],
            [
             0.7272727272727273,
             "rgb(171, 171, 170)"
            ],
            [
             0.8181818181818182,
             "rgb(197, 197, 195)"
            ],
            [
             0.9090909090909091,
             "rgb(224, 224, 223)"
            ],
            [
             1,
             "rgb(254, 254, 253)"
            ]
           ]
          },
          "margin": {
           "t": 60
          },
          "xaxis": {
           "constrain": "domain",
           "scaleanchor": "y"
          },
          "yaxis": {
           "autorange": "reversed",
           "constrain": "domain"
          }
         },
         "name": "1"
        },
        {
         "data": [
          {
           "coloraxis": "coloraxis",
           "name": "2",
           "type": "heatmap",
           "z": [
            [
             0,
             0,
             0,
             0,
             0,
             0,
             0,
             0,
             0,
             0,
             0,
             0,
             128,
             128,
             255,
             255,
             128,
             128,
             128,
             255
            ],
            [
             0,
             0,
             0,
             0,
             0,
             0,
             0,
             0,
             0,
             0,
             0,
             0,
             128,
             128,
             255,
             255,
             128,
             128,
             128,
             128
            ],
            [
             0,
             0,
             0,
             0,
             0,
             0,
             0,
             0,
             0,
             0,
             0,
             0,
             0,
             128,
             255,
             128,
             128,
             128,
             0,
             0
            ],
            [
             0,
             0,
             0,
             0,
             0,
             0,
             0,
             0,
             0,
             0,
             0,
             0,
             128,
             255,
             255,
             128,
             0,
             0,
             0,
             0
            ],
            [
             0,
             0,
             0,
             0,
             0,
             0,
             0,
             0,
             0,
             0,
             0,
             0,
             128,
             255,
             255,
             128,
             128,
             0,
             0,
             0
            ],
            [
             0,
             0,
             0,
             0,
             0,
             0,
             0,
             0,
             0,
             0,
             0,
             128,
             128,
             255,
             255,
             255,
             128,
             0,
             0,
             0
            ],
            [
             0,
             0,
             0,
             0,
             0,
             0,
             0,
             0,
             0,
             0,
             128,
             128,
             255,
             255,
             255,
             128,
             128,
             0,
             0,
             0
            ],
            [
             0,
             0,
             0,
             0,
             0,
             0,
             0,
             0,
             0,
             128,
             128,
             128,
             255,
             255,
             255,
             128,
             128,
             0,
             0,
             0
            ],
            [
             0,
             0,
             0,
             0,
             0,
             0,
             0,
             0,
             0,
             128,
             128,
             128,
             255,
             255,
             128,
             128,
             128,
             128,
             0,
             0
            ],
            [
             0,
             0,
             0,
             0,
             0,
             0,
             0,
             0,
             0,
             128,
             128,
             255,
             255,
             255,
             128,
             128,
             128,
             128,
             128,
             0
            ],
            [
             0,
             0,
             0,
             0,
             0,
             0,
             0,
             0,
             128,
             128,
             128,
             255,
             255,
             128,
             128,
             128,
             255,
             128,
             128,
             0
            ],
            [
             0,
             0,
             0,
             0,
             0,
             0,
             0,
             0,
             128,
             128,
             255,
             255,
             255,
             128,
             128,
             255,
             255,
             128,
             128,
             128
            ],
            [
             128,
             0,
             0,
             0,
             0,
             0,
             0,
             0,
             128,
             128,
             255,
             255,
             255,
             128,
             128,
             255,
             255,
             128,
             128,
             128
            ],
            [
             128,
             128,
             0,
             0,
             0,
             0,
             0,
             128,
             128,
             255,
             255,
             255,
             255,
             128,
             0,
             128,
             128,
             128,
             128,
             255
            ],
            [
             128,
             128,
             128,
             0,
             0,
             0,
             128,
             128,
             128,
             255,
             255,
             255,
             255,
             128,
             0,
             0,
             0,
             128,
             255,
             255
            ]
           ]
          }
         ],
         "layout": {
          "coloraxis": {
           "colorscale": [
            [
             0,
             "rgb(0, 0, 0)"
            ],
            [
             0.09090909090909091,
             "rgb(16, 16, 16)"
            ],
            [
             0.18181818181818182,
             "rgb(38, 38, 38)"
            ],
            [
             0.2727272727272727,
             "rgb(59, 59, 59)"
            ],
            [
             0.36363636363636365,
             "rgb(81, 80, 80)"
            ],
            [
             0.45454545454545453,
             "rgb(102, 101, 101)"
            ],
            [
             0.5454545454545454,
             "rgb(124, 123, 122)"
            ],
            [
             0.6363636363636364,
             "rgb(146, 146, 145)"
            ],
            [
             0.7272727272727273,
             "rgb(171, 171, 170)"
            ],
            [
             0.8181818181818182,
             "rgb(197, 197, 195)"
            ],
            [
             0.9090909090909091,
             "rgb(224, 224, 223)"
            ],
            [
             1,
             "rgb(254, 254, 253)"
            ]
           ]
          },
          "margin": {
           "t": 60
          },
          "xaxis": {
           "constrain": "domain",
           "scaleanchor": "y"
          },
          "yaxis": {
           "autorange": "reversed",
           "constrain": "domain"
          }
         },
         "name": "2"
        },
        {
         "data": [
          {
           "coloraxis": "coloraxis",
           "name": "3",
           "type": "heatmap",
           "z": [
            [
             0,
             0,
             0,
             0,
             0,
             0,
             0,
             0,
             0,
             0,
             0,
             0,
             128,
             255,
             255,
             255,
             255,
             255,
             255,
             255
            ],
            [
             0,
             0,
             0,
             0,
             0,
             0,
             0,
             0,
             0,
             0,
             0,
             0,
             128,
             255,
             255,
             255,
             255,
             255,
             128,
             128
            ],
            [
             0,
             0,
             0,
             0,
             0,
             0,
             0,
             0,
             0,
             0,
             0,
             0,
             0,
             128,
             128,
             128,
             128,
             128,
             0,
             0
            ],
            [
             0,
             0,
             0,
             0,
             0,
             0,
             0,
             0,
             0,
             0,
             0,
             128,
             128,
             128,
             128,
             128,
             0,
             0,
             0,
             0
            ],
            [
             0,
             0,
             0,
             0,
             0,
             0,
             0,
             0,
             0,
             0,
             128,
             128,
             128,
             255,
             255,
             128,
             128,
             0,
             0,
             0
            ],
            [
             0,
             0,
             0,
             0,
             0,
             0,
             0,
             0,
             0,
             0,
             128,
             128,
             255,
             255,
             255,
             255,
             128,
             0,
             0,
             0
            ],
            [
             0,
             0,
             0,
             0,
             0,
             0,
             0,
             0,
             0,
             128,
             128,
             255,
             255,
             255,
             255,
             128,
             128,
             128,
             0,
             0
            ],
            [
             0,
             0,
             0,
             0,
             0,
             0,
             0,
             0,
             0,
             128,
             255,
             255,
             255,
             255,
             255,
             128,
             128,
             128,
             128,
             128
            ],
            [
             0,
             0,
             0,
             0,
             0,
             0,
             0,
             0,
             0,
             128,
             255,
             255,
             255,
             255,
             128,
             128,
             255,
             128,
             128,
             128
            ],
            [
             0,
             0,
             0,
             0,
             0,
             0,
             0,
             0,
             128,
             128,
             255,
             255,
             255,
             255,
             128,
             255,
             255,
             255,
             128,
             128
            ],
            [
             0,
             0,
             0,
             0,
             0,
             0,
             0,
             0,
             128,
             255,
             255,
             255,
             255,
             255,
             255,
             255,
             255,
             255,
             128,
             128
            ],
            [
             128,
             0,
             0,
             0,
             0,
             0,
             0,
             128,
             128,
             255,
             255,
             255,
             255,
             255,
             255,
             255,
             255,
             255,
             255,
             128
            ],
            [
             128,
             128,
             128,
             0,
             0,
             0,
             0,
             128,
             128,
             255,
             255,
             255,
             255,
             255,
             128,
             128,
             128,
             255,
             255,
             255
            ],
            [
             255,
             128,
             128,
             128,
             128,
             128,
             128,
             128,
             255,
             255,
             255,
             255,
             255,
             128,
             0,
             128,
             128,
             128,
             255,
             255
            ],
            [
             255,
             255,
             128,
             128,
             128,
             128,
             128,
             255,
             255,
             255,
             255,
             255,
             255,
             128,
             0,
             0,
             0,
             128,
             255,
             255
            ]
           ]
          }
         ],
         "layout": {
          "coloraxis": {
           "colorscale": [
            [
             0,
             "rgb(0, 0, 0)"
            ],
            [
             0.09090909090909091,
             "rgb(16, 16, 16)"
            ],
            [
             0.18181818181818182,
             "rgb(38, 38, 38)"
            ],
            [
             0.2727272727272727,
             "rgb(59, 59, 59)"
            ],
            [
             0.36363636363636365,
             "rgb(81, 80, 80)"
            ],
            [
             0.45454545454545453,
             "rgb(102, 101, 101)"
            ],
            [
             0.5454545454545454,
             "rgb(124, 123, 122)"
            ],
            [
             0.6363636363636364,
             "rgb(146, 146, 145)"
            ],
            [
             0.7272727272727273,
             "rgb(171, 171, 170)"
            ],
            [
             0.8181818181818182,
             "rgb(197, 197, 195)"
            ],
            [
             0.9090909090909091,
             "rgb(224, 224, 223)"
            ],
            [
             1,
             "rgb(254, 254, 253)"
            ]
           ]
          },
          "margin": {
           "t": 60
          },
          "xaxis": {
           "constrain": "domain",
           "scaleanchor": "y"
          },
          "yaxis": {
           "autorange": "reversed",
           "constrain": "domain"
          }
         },
         "name": "3"
        },
        {
         "data": [
          {
           "coloraxis": "coloraxis",
           "name": "4",
           "type": "heatmap",
           "z": [
            [
             0,
             0,
             0,
             0,
             0,
             0,
             0,
             0,
             0,
             0,
             0,
             0,
             128,
             255,
             255,
             128,
             128,
             255,
             128,
             128
            ],
            [
             0,
             0,
             0,
             0,
             0,
             0,
             0,
             0,
             0,
             0,
             0,
             128,
             128,
             128,
             128,
             128,
             128,
             255,
             128,
             128
            ],
            [
             0,
             0,
             0,
             0,
             0,
             0,
             0,
             0,
             0,
             0,
             128,
             128,
             128,
             128,
             128,
             128,
             128,
             128,
             0,
             0
            ],
            [
             0,
             0,
             0,
             0,
             0,
             0,
             0,
             0,
             0,
             0,
             128,
             128,
             128,
             255,
             128,
             128,
             0,
             0,
             0,
             0
            ],
            [
             0,
             0,
             0,
             0,
             0,
             0,
             0,
             0,
             0,
             128,
             128,
             255,
             255,
             255,
             255,
             255,
             128,
             0,
             0,
             0
            ],
            [
             0,
             0,
             0,
             0,
             0,
             0,
             0,
             0,
             0,
             128,
             128,
             255,
             255,
             255,
             255,
             255,
             128,
             128,
             128,
             0
            ],
            [
             0,
             0,
             0,
             0,
             0,
             0,
             0,
             0,
             0,
             128,
             255,
             255,
             255,
             255,
             255,
             255,
             255,
             128,
             128,
             128
            ],
            [
             0,
             0,
             0,
             0,
             0,
             0,
             0,
             0,
             0,
             128,
             255,
             255,
             255,
             255,
             255,
             255,
             255,
             255,
             128,
             128
            ],
            [
             0,
             0,
             0,
             0,
             0,
             0,
             0,
             0,
             128,
             128,
             255,
             255,
             255,
             255,
             128,
             255,
             255,
             255,
             255,
             255
            ],
            [
             0,
             0,
             0,
             0,
             0,
             0,
             0,
             128,
             128,
             255,
             255,
             255,
             255,
             255,
             128,
             255,
             255,
             255,
             255,
             255
            ],
            [
             128,
             0,
             0,
             0,
             0,
             128,
             128,
             128,
             128,
             255,
             255,
             255,
             255,
             255,
             255,
             128,
             255,
             255,
             255,
             255
            ],
            [
             128,
             128,
             0,
             0,
             128,
             128,
             128,
             128,
             255,
             255,
             255,
             255,
             255,
             255,
             128,
             128,
             128,
             255,
             255,
             255
            ],
            [
             255,
             128,
             128,
             0,
             128,
             128,
             128,
             128,
             255,
             255,
             255,
             255,
             255,
             128,
             128,
             128,
             128,
             128,
             255,
             255
            ],
            [
             255,
             255,
             255,
             128,
             128,
             128,
             128,
             255,
             255,
             255,
             255,
             255,
             128,
             128,
             128,
             0,
             0,
             128,
             128,
             255
            ],
            [
             255,
             255,
             255,
             255,
             255,
             255,
             255,
             255,
             255,
             255,
             255,
             255,
             255,
             128,
             128,
             0,
             0,
             128,
             128,
             128
            ]
           ]
          }
         ],
         "layout": {
          "coloraxis": {
           "colorscale": [
            [
             0,
             "rgb(0, 0, 0)"
            ],
            [
             0.09090909090909091,
             "rgb(16, 16, 16)"
            ],
            [
             0.18181818181818182,
             "rgb(38, 38, 38)"
            ],
            [
             0.2727272727272727,
             "rgb(59, 59, 59)"
            ],
            [
             0.36363636363636365,
             "rgb(81, 80, 80)"
            ],
            [
             0.45454545454545453,
             "rgb(102, 101, 101)"
            ],
            [
             0.5454545454545454,
             "rgb(124, 123, 122)"
            ],
            [
             0.6363636363636364,
             "rgb(146, 146, 145)"
            ],
            [
             0.7272727272727273,
             "rgb(171, 171, 170)"
            ],
            [
             0.8181818181818182,
             "rgb(197, 197, 195)"
            ],
            [
             0.9090909090909091,
             "rgb(224, 224, 223)"
            ],
            [
             1,
             "rgb(254, 254, 253)"
            ]
           ]
          },
          "margin": {
           "t": 60
          },
          "xaxis": {
           "constrain": "domain",
           "scaleanchor": "y"
          },
          "yaxis": {
           "autorange": "reversed",
           "constrain": "domain"
          }
         },
         "name": "4"
        },
        {
         "data": [
          {
           "coloraxis": "coloraxis",
           "name": "5",
           "type": "heatmap",
           "z": [
            [
             0,
             0,
             0,
             0,
             0,
             0,
             0,
             0,
             0,
             0,
             128,
             128,
             128,
             255,
             255,
             128,
             255,
             128,
             128,
             0
            ],
            [
             0,
             0,
             0,
             0,
             0,
             0,
             0,
             0,
             0,
             0,
             128,
             128,
             255,
             255,
             128,
             0,
             128,
             128,
             128,
             0
            ],
            [
             0,
             0,
             0,
             0,
             0,
             0,
             0,
             0,
             0,
             128,
             128,
             255,
             255,
             255,
             128,
             0,
             0,
             128,
             0,
             0
            ],
            [
             0,
             0,
             0,
             0,
             0,
             0,
             0,
             0,
             0,
             128,
             128,
             255,
             255,
             128,
             128,
             128,
             0,
             0,
             0,
             0
            ],
            [
             0,
             0,
             0,
             0,
             0,
             0,
             0,
             0,
             0,
             128,
             255,
             255,
             255,
             255,
             128,
             128,
             128,
             0,
             0,
             0
            ],
            [
             0,
             0,
             0,
             0,
             0,
             0,
             0,
             0,
             128,
             128,
             255,
             255,
             255,
             255,
             128,
             128,
             255,
             128,
             128,
             0
            ],
            [
             0,
             0,
             0,
             0,
             0,
             0,
             0,
             0,
             128,
             128,
             255,
             255,
             255,
             255,
             255,
             255,
             255,
             255,
             255,
             128
            ],
            [
             0,
             0,
             0,
             0,
             0,
             128,
             0,
             0,
             128,
             128,
             255,
             255,
             255,
             255,
             128,
             255,
             255,
             255,
             255,
             255
            ],
            [
             0,
             0,
             0,
             128,
             128,
             128,
             128,
             128,
             128,
             255,
             255,
             255,
             255,
             255,
             128,
             128,
             255,
             255,
             255,
             255
            ],
            [
             128,
             128,
             128,
             128,
             128,
             128,
             128,
             128,
             255,
             255,
             255,
             255,
             255,
             255,
             128,
             128,
             255,
             255,
             255,
             255
            ],
            [
             128,
             128,
             128,
             128,
             128,
             128,
             128,
             128,
             255,
             255,
             255,
             255,
             255,
             255,
             128,
             128,
             128,
             255,
             255,
             255
            ],
            [
             255,
             128,
             128,
             128,
             128,
             255,
             255,
             255,
             255,
             255,
             255,
             255,
             255,
             255,
             128,
             0,
             128,
             255,
             255,
             255
            ],
            [
             255,
             255,
             128,
             128,
             128,
             255,
             255,
             255,
             255,
             255,
             255,
             255,
             255,
             255,
             128,
             0,
             0,
             128,
             255,
             255
            ],
            [
             255,
             255,
             255,
             128,
             128,
             128,
             255,
             255,
             255,
             255,
             255,
             255,
             255,
             255,
             128,
             128,
             0,
             0,
             128,
             255
            ],
            [
             255,
             255,
             255,
             255,
             128,
             128,
             255,
             255,
             255,
             255,
             255,
             255,
             255,
             255,
             128,
             128,
             128,
             0,
             0,
             128
            ]
           ]
          }
         ],
         "layout": {
          "coloraxis": {
           "colorscale": [
            [
             0,
             "rgb(0, 0, 0)"
            ],
            [
             0.09090909090909091,
             "rgb(16, 16, 16)"
            ],
            [
             0.18181818181818182,
             "rgb(38, 38, 38)"
            ],
            [
             0.2727272727272727,
             "rgb(59, 59, 59)"
            ],
            [
             0.36363636363636365,
             "rgb(81, 80, 80)"
            ],
            [
             0.45454545454545453,
             "rgb(102, 101, 101)"
            ],
            [
             0.5454545454545454,
             "rgb(124, 123, 122)"
            ],
            [
             0.6363636363636364,
             "rgb(146, 146, 145)"
            ],
            [
             0.7272727272727273,
             "rgb(171, 171, 170)"
            ],
            [
             0.8181818181818182,
             "rgb(197, 197, 195)"
            ],
            [
             0.9090909090909091,
             "rgb(224, 224, 223)"
            ],
            [
             1,
             "rgb(254, 254, 253)"
            ]
           ]
          },
          "margin": {
           "t": 60
          },
          "xaxis": {
           "constrain": "domain",
           "scaleanchor": "y"
          },
          "yaxis": {
           "autorange": "reversed",
           "constrain": "domain"
          }
         },
         "name": "5"
        },
        {
         "data": [
          {
           "coloraxis": "coloraxis",
           "name": "6",
           "type": "heatmap",
           "z": [
            [
             0,
             0,
             0,
             0,
             0,
             0,
             0,
             0,
             0,
             0,
             128,
             255,
             255,
             255,
             255,
             128,
             128,
             128,
             128,
             0
            ],
            [
             0,
             0,
             0,
             0,
             0,
             0,
             0,
             0,
             0,
             0,
             128,
             255,
             255,
             255,
             128,
             128,
             128,
             128,
             0,
             0
            ],
            [
             0,
             0,
             0,
             128,
             128,
             0,
             0,
             0,
             0,
             128,
             255,
             255,
             255,
             128,
             128,
             128,
             128,
             0,
             0,
             0
            ],
            [
             0,
             0,
             128,
             128,
             128,
             128,
             0,
             0,
             128,
             128,
             255,
             255,
             255,
             128,
             0,
             0,
             0,
             0,
             0,
             0
            ],
            [
             0,
             0,
             0,
             128,
             128,
             128,
             0,
             0,
             128,
             128,
             255,
             255,
             255,
             128,
             128,
             0,
             128,
             0,
             0,
             0
            ],
            [
             0,
             0,
             0,
             0,
             128,
             128,
             128,
             0,
             128,
             255,
             255,
             255,
             255,
             255,
             128,
             128,
             128,
             128,
             128,
             0
            ],
            [
             128,
             128,
             128,
             128,
             128,
             128,
             128,
             128,
             128,
             255,
             255,
             255,
             255,
             255,
             128,
             128,
             128,
             128,
             128,
             128
            ],
            [
             128,
             128,
             128,
             128,
             128,
             128,
             128,
             128,
             128,
             255,
             255,
             255,
             255,
             255,
             128,
             128,
             128,
             128,
             128,
             128
            ],
            [
             128,
             128,
             128,
             128,
             128,
             255,
             128,
             128,
             255,
             255,
             255,
             255,
             128,
             128,
             128,
             128,
             128,
             128,
             128,
             128
            ],
            [
             128,
             128,
             128,
             255,
             255,
             255,
             255,
             255,
             255,
             255,
             255,
             255,
             128,
             128,
             128,
             128,
             128,
             128,
             128,
             128
            ],
            [
             255,
             255,
             255,
             255,
             255,
             255,
             255,
             255,
             255,
             255,
             255,
             255,
             255,
             128,
             128,
             128,
             128,
             128,
             128,
             128
            ],
            [
             255,
             255,
             255,
             255,
             255,
             255,
             255,
             255,
             255,
             255,
             255,
             255,
             255,
             128,
             128,
             128,
             128,
             128,
             128,
             128
            ],
            [
             255,
             128,
             128,
             128,
             255,
             255,
             255,
             255,
             255,
             255,
             255,
             255,
             255,
             255,
             128,
             128,
             0,
             128,
             128,
             255
            ],
            [
             128,
             128,
             128,
             128,
             128,
             255,
             255,
             255,
             128,
             255,
             255,
             255,
             255,
             255,
             255,
             128,
             0,
             0,
             128,
             128
            ],
            [
             128,
             128,
             128,
             128,
             128,
             255,
             255,
             128,
             128,
             128,
             255,
             255,
             255,
             255,
             255,
             255,
             128,
             0,
             0,
             128
            ]
           ]
          }
         ],
         "layout": {
          "coloraxis": {
           "colorscale": [
            [
             0,
             "rgb(0, 0, 0)"
            ],
            [
             0.09090909090909091,
             "rgb(16, 16, 16)"
            ],
            [
             0.18181818181818182,
             "rgb(38, 38, 38)"
            ],
            [
             0.2727272727272727,
             "rgb(59, 59, 59)"
            ],
            [
             0.36363636363636365,
             "rgb(81, 80, 80)"
            ],
            [
             0.45454545454545453,
             "rgb(102, 101, 101)"
            ],
            [
             0.5454545454545454,
             "rgb(124, 123, 122)"
            ],
            [
             0.6363636363636364,
             "rgb(146, 146, 145)"
            ],
            [
             0.7272727272727273,
             "rgb(171, 171, 170)"
            ],
            [
             0.8181818181818182,
             "rgb(197, 197, 195)"
            ],
            [
             0.9090909090909091,
             "rgb(224, 224, 223)"
            ],
            [
             1,
             "rgb(254, 254, 253)"
            ]
           ]
          },
          "margin": {
           "t": 60
          },
          "xaxis": {
           "constrain": "domain",
           "scaleanchor": "y"
          },
          "yaxis": {
           "autorange": "reversed",
           "constrain": "domain"
          }
         },
         "name": "6"
        },
        {
         "data": [
          {
           "coloraxis": "coloraxis",
           "name": "7",
           "type": "heatmap",
           "z": [
            [
             0,
             0,
             0,
             0,
             0,
             0,
             0,
             0,
             0,
             0,
             128,
             255,
             255,
             255,
             255,
             255,
             255,
             255,
             128,
             128
            ],
            [
             0,
             0,
             0,
             0,
             0,
             0,
             0,
             0,
             0,
             0,
             128,
             255,
             255,
             255,
             255,
             255,
             255,
             128,
             128,
             0
            ],
            [
             0,
             0,
             0,
             128,
             128,
             0,
             0,
             0,
             0,
             128,
             255,
             255,
             255,
             128,
             128,
             128,
             128,
             128,
             0,
             0
            ],
            [
             0,
             0,
             128,
             255,
             255,
             128,
             0,
             0,
             128,
             255,
             255,
             255,
             255,
             128,
             0,
             128,
             128,
             128,
             0,
             0
            ],
            [
             0,
             0,
             0,
             128,
             255,
             128,
             128,
             128,
             128,
             255,
             255,
             255,
             255,
             128,
             0,
             0,
             128,
             0,
             0,
             0
            ],
            [
             0,
             0,
             0,
             128,
             128,
             128,
             128,
             128,
             128,
             255,
             255,
             255,
             255,
             128,
             128,
             0,
             0,
             0,
             0,
             0
            ],
            [
             128,
             128,
             128,
             128,
             128,
             255,
             255,
             128,
             128,
             128,
             255,
             255,
             255,
             255,
             128,
             128,
             0,
             0,
             0,
             0
            ],
            [
             255,
             255,
             255,
             255,
             255,
             255,
             255,
             128,
             128,
             128,
             255,
             255,
             255,
             255,
             128,
             128,
             0,
             0,
             0,
             0
            ],
            [
             255,
             255,
             255,
             255,
             255,
             255,
             128,
             128,
             128,
             128,
             128,
             255,
             255,
             255,
             128,
             128,
             0,
             0,
             0,
             0
            ],
            [
             255,
             255,
             255,
             255,
             255,
             255,
             255,
             128,
             128,
             128,
             128,
             255,
             255,
             255,
             255,
             128,
             0,
             0,
             0,
             0
            ],
            [
             255,
             255,
             255,
             255,
             255,
             255,
             255,
             255,
             128,
             128,
             128,
             255,
             255,
             255,
             255,
             255,
             128,
             0,
             0,
             0
            ],
            [
             255,
             255,
             255,
             255,
             255,
             255,
             255,
             255,
             128,
             128,
             128,
             255,
             255,
             255,
             255,
             255,
             128,
             0,
             0,
             128
            ],
            [
             128,
             128,
             128,
             255,
             255,
             255,
             255,
             128,
             128,
             128,
             255,
             255,
             255,
             128,
             128,
             128,
             128,
             0,
             128,
             128
            ],
            [
             128,
             0,
             0,
             128,
             255,
             255,
             255,
             128,
             128,
             128,
             255,
             255,
             255,
             128,
             128,
             128,
             128,
             0,
             0,
             128
            ],
            [
             0,
             0,
             0,
             0,
             128,
             255,
             255,
             255,
             255,
             255,
             255,
             255,
             255,
             255,
             255,
             128,
             128,
             0,
             0,
             0
            ]
           ]
          }
         ],
         "layout": {
          "coloraxis": {
           "colorscale": [
            [
             0,
             "rgb(0, 0, 0)"
            ],
            [
             0.09090909090909091,
             "rgb(16, 16, 16)"
            ],
            [
             0.18181818181818182,
             "rgb(38, 38, 38)"
            ],
            [
             0.2727272727272727,
             "rgb(59, 59, 59)"
            ],
            [
             0.36363636363636365,
             "rgb(81, 80, 80)"
            ],
            [
             0.45454545454545453,
             "rgb(102, 101, 101)"
            ],
            [
             0.5454545454545454,
             "rgb(124, 123, 122)"
            ],
            [
             0.6363636363636364,
             "rgb(146, 146, 145)"
            ],
            [
             0.7272727272727273,
             "rgb(171, 171, 170)"
            ],
            [
             0.8181818181818182,
             "rgb(197, 197, 195)"
            ],
            [
             0.9090909090909091,
             "rgb(224, 224, 223)"
            ],
            [
             1,
             "rgb(254, 254, 253)"
            ]
           ]
          },
          "margin": {
           "t": 60
          },
          "xaxis": {
           "constrain": "domain",
           "scaleanchor": "y"
          },
          "yaxis": {
           "autorange": "reversed",
           "constrain": "domain"
          }
         },
         "name": "7"
        },
        {
         "data": [
          {
           "coloraxis": "coloraxis",
           "name": "8",
           "type": "heatmap",
           "z": [
            [
             0,
             0,
             0,
             0,
             0,
             0,
             0,
             0,
             0,
             0,
             128,
             255,
             255,
             255,
             255,
             255,
             255,
             255,
             255,
             128
            ],
            [
             0,
             0,
             0,
             0,
             0,
             0,
             0,
             0,
             0,
             0,
             128,
             255,
             255,
             255,
             255,
             255,
             255,
             255,
             128,
             0
            ],
            [
             0,
             0,
             0,
             128,
             128,
             0,
             0,
             0,
             0,
             128,
             255,
             255,
             255,
             255,
             128,
             255,
             255,
             128,
             0,
             0
            ],
            [
             0,
             0,
             128,
             128,
             128,
             128,
             0,
             0,
             128,
             255,
             255,
             255,
             255,
             128,
             128,
             128,
             255,
             128,
             0,
             0
            ],
            [
             0,
             0,
             0,
             128,
             255,
             255,
             128,
             128,
             255,
             255,
             255,
             255,
             255,
             128,
             0,
             128,
             128,
             0,
             0,
             0
            ],
            [
             128,
             128,
             128,
             128,
             255,
             255,
             128,
             128,
             255,
             255,
             255,
             255,
             255,
             255,
             128,
             0,
             0,
             0,
             0,
             0
            ],
            [
             128,
             128,
             128,
             255,
             255,
             255,
             128,
             128,
             255,
             255,
             255,
             255,
             255,
             255,
             255,
             128,
             0,
             0,
             0,
             0
            ],
            [
             255,
             255,
             255,
             255,
             255,
             255,
             128,
             128,
             255,
             255,
             255,
             255,
             255,
             255,
             255,
             128,
             0,
             0,
             0,
             0
            ],
            [
             255,
             255,
             255,
             255,
             255,
             128,
             128,
             128,
             255,
             128,
             255,
             255,
             255,
             255,
             255,
             128,
             0,
             0,
             0,
             0
            ],
            [
             255,
             255,
             255,
             255,
             255,
             255,
             128,
             128,
             128,
             128,
             128,
             255,
             255,
             255,
             255,
             128,
             0,
             0,
             0,
             0
            ],
            [
             255,
             255,
             255,
             255,
             255,
             255,
             255,
             128,
             128,
             128,
             128,
             255,
             255,
             255,
             255,
             255,
             128,
             0,
             0,
             0
            ],
            [
             255,
             255,
             255,
             255,
             255,
             255,
             255,
             128,
             128,
             128,
             128,
             255,
             255,
             255,
             255,
             255,
             128,
             0,
             0,
             0
            ],
            [
             128,
             128,
             128,
             128,
             255,
             255,
             128,
             128,
             0,
             128,
             255,
             255,
             255,
             255,
             255,
             255,
             128,
             0,
             0,
             0
            ],
            [
             128,
             0,
             0,
             128,
             128,
             255,
             255,
             128,
             128,
             128,
             255,
             255,
             255,
             255,
             255,
             255,
             128,
             0,
             0,
             0
            ],
            [
             0,
             0,
             0,
             0,
             128,
             255,
             255,
             255,
             128,
             255,
             255,
             255,
             255,
             255,
             255,
             255,
             128,
             0,
             0,
             0
            ]
           ]
          }
         ],
         "layout": {
          "coloraxis": {
           "colorscale": [
            [
             0,
             "rgb(0, 0, 0)"
            ],
            [
             0.09090909090909091,
             "rgb(16, 16, 16)"
            ],
            [
             0.18181818181818182,
             "rgb(38, 38, 38)"
            ],
            [
             0.2727272727272727,
             "rgb(59, 59, 59)"
            ],
            [
             0.36363636363636365,
             "rgb(81, 80, 80)"
            ],
            [
             0.45454545454545453,
             "rgb(102, 101, 101)"
            ],
            [
             0.5454545454545454,
             "rgb(124, 123, 122)"
            ],
            [
             0.6363636363636364,
             "rgb(146, 146, 145)"
            ],
            [
             0.7272727272727273,
             "rgb(171, 171, 170)"
            ],
            [
             0.8181818181818182,
             "rgb(197, 197, 195)"
            ],
            [
             0.9090909090909091,
             "rgb(224, 224, 223)"
            ],
            [
             1,
             "rgb(254, 254, 253)"
            ]
           ]
          },
          "margin": {
           "t": 60
          },
          "xaxis": {
           "constrain": "domain",
           "scaleanchor": "y"
          },
          "yaxis": {
           "autorange": "reversed",
           "constrain": "domain"
          }
         },
         "name": "8"
        },
        {
         "data": [
          {
           "coloraxis": "coloraxis",
           "name": "9",
           "type": "heatmap",
           "z": [
            [
             0,
             0,
             0,
             0,
             0,
             0,
             0,
             0,
             0,
             0,
             128,
             255,
             255,
             255,
             255,
             255,
             255,
             128,
             128,
             128
            ],
            [
             0,
             0,
             0,
             0,
             0,
             0,
             0,
             0,
             0,
             0,
             128,
             255,
             255,
             255,
             255,
             255,
             255,
             128,
             128,
             0
            ],
            [
             0,
             0,
             0,
             0,
             0,
             0,
             0,
             0,
             0,
             128,
             255,
             255,
             255,
             255,
             255,
             255,
             128,
             128,
             0,
             0
            ],
            [
             0,
             0,
             0,
             0,
             128,
             128,
             0,
             0,
             128,
             255,
             255,
             255,
             128,
             128,
             128,
             255,
             255,
             128,
             0,
             0
            ],
            [
             0,
             0,
             0,
             128,
             255,
             255,
             128,
             128,
             255,
             255,
             255,
             255,
             128,
             128,
             0,
             128,
             128,
             0,
             0,
             0
            ],
            [
             128,
             128,
             128,
             128,
             255,
             128,
             128,
             255,
             255,
             255,
             255,
             255,
             128,
             128,
             128,
             0,
             0,
             0,
             0,
             0
            ],
            [
             255,
             255,
             255,
             255,
             255,
             128,
             128,
             255,
             255,
             255,
             255,
             255,
             255,
             128,
             128,
             128,
             0,
             0,
             0,
             0
            ],
            [
             255,
             255,
             255,
             255,
             255,
             128,
             128,
             255,
             255,
             128,
             128,
             255,
             255,
             255,
             128,
             128,
             0,
             0,
             0,
             0
            ],
            [
             255,
             255,
             255,
             255,
             128,
             128,
             128,
             255,
             255,
             128,
             128,
             128,
             255,
             255,
             255,
             128,
             0,
             0,
             0,
             0
            ],
            [
             255,
             255,
             255,
             255,
             255,
             128,
             255,
             255,
             255,
             255,
             128,
             128,
             255,
             255,
             255,
             128,
             0,
             0,
             0,
             0
            ],
            [
             255,
             255,
             255,
             255,
             255,
             255,
             255,
             255,
             255,
             255,
             128,
             128,
             255,
             255,
             255,
             255,
             128,
             0,
             0,
             0
            ],
            [
             255,
             255,
             255,
             128,
             128,
             255,
             255,
             255,
             128,
             128,
             128,
             255,
             255,
             255,
             255,
             255,
             128,
             0,
             0,
             0
            ],
            [
             255,
             128,
             128,
             128,
             128,
             128,
             128,
             128,
             0,
             128,
             128,
             255,
             255,
             255,
             255,
             255,
             128,
             0,
             0,
             0
            ],
            [
             128,
             0,
             0,
             0,
             128,
             128,
             128,
             128,
             0,
             128,
             128,
             255,
             255,
             255,
             255,
             255,
             128,
             0,
             0,
             0
            ],
            [
             0,
             0,
             0,
             0,
             128,
             128,
             255,
             255,
             128,
             128,
             255,
             255,
             255,
             255,
             255,
             255,
             128,
             0,
             0,
             0
            ]
           ]
          }
         ],
         "layout": {
          "coloraxis": {
           "colorscale": [
            [
             0,
             "rgb(0, 0, 0)"
            ],
            [
             0.09090909090909091,
             "rgb(16, 16, 16)"
            ],
            [
             0.18181818181818182,
             "rgb(38, 38, 38)"
            ],
            [
             0.2727272727272727,
             "rgb(59, 59, 59)"
            ],
            [
             0.36363636363636365,
             "rgb(81, 80, 80)"
            ],
            [
             0.45454545454545453,
             "rgb(102, 101, 101)"
            ],
            [
             0.5454545454545454,
             "rgb(124, 123, 122)"
            ],
            [
             0.6363636363636364,
             "rgb(146, 146, 145)"
            ],
            [
             0.7272727272727273,
             "rgb(171, 171, 170)"
            ],
            [
             0.8181818181818182,
             "rgb(197, 197, 195)"
            ],
            [
             0.9090909090909091,
             "rgb(224, 224, 223)"
            ],
            [
             1,
             "rgb(254, 254, 253)"
            ]
           ]
          },
          "margin": {
           "t": 60
          },
          "xaxis": {
           "constrain": "domain",
           "scaleanchor": "y"
          },
          "yaxis": {
           "autorange": "reversed",
           "constrain": "domain"
          }
         },
         "name": "9"
        }
       ],
       "layout": {
        "coloraxis": {
         "colorscale": [
          [
           0,
           "rgb(0, 0, 0)"
          ],
          [
           0.09090909090909091,
           "rgb(16, 16, 16)"
          ],
          [
           0.18181818181818182,
           "rgb(38, 38, 38)"
          ],
          [
           0.2727272727272727,
           "rgb(59, 59, 59)"
          ],
          [
           0.36363636363636365,
           "rgb(81, 80, 80)"
          ],
          [
           0.45454545454545453,
           "rgb(102, 101, 101)"
          ],
          [
           0.5454545454545454,
           "rgb(124, 123, 122)"
          ],
          [
           0.6363636363636364,
           "rgb(146, 146, 145)"
          ],
          [
           0.7272727272727273,
           "rgb(171, 171, 170)"
          ],
          [
           0.8181818181818182,
           "rgb(197, 197, 195)"
          ],
          [
           0.9090909090909091,
           "rgb(224, 224, 223)"
          ],
          [
           1,
           "rgb(254, 254, 253)"
          ]
         ]
        },
        "margin": {
         "t": 60
        },
        "sliders": [
         {
          "active": 0,
          "currentvalue": {
           "prefix": "Profundidade="
          },
          "len": 0.9,
          "pad": {
           "b": 10,
           "t": 60
          },
          "steps": [
           {
            "args": [
             [
              "0"
             ],
             {
              "frame": {
               "duration": 0,
               "redraw": true
              },
              "fromcurrent": true,
              "mode": "immediate",
              "transition": {
               "duration": 0,
               "easing": "linear"
              }
             }
            ],
            "label": "0",
            "method": "animate"
           },
           {
            "args": [
             [
              "1"
             ],
             {
              "frame": {
               "duration": 0,
               "redraw": true
              },
              "fromcurrent": true,
              "mode": "immediate",
              "transition": {
               "duration": 0,
               "easing": "linear"
              }
             }
            ],
            "label": "1",
            "method": "animate"
           },
           {
            "args": [
             [
              "2"
             ],
             {
              "frame": {
               "duration": 0,
               "redraw": true
              },
              "fromcurrent": true,
              "mode": "immediate",
              "transition": {
               "duration": 0,
               "easing": "linear"
              }
             }
            ],
            "label": "2",
            "method": "animate"
           },
           {
            "args": [
             [
              "3"
             ],
             {
              "frame": {
               "duration": 0,
               "redraw": true
              },
              "fromcurrent": true,
              "mode": "immediate",
              "transition": {
               "duration": 0,
               "easing": "linear"
              }
             }
            ],
            "label": "3",
            "method": "animate"
           },
           {
            "args": [
             [
              "4"
             ],
             {
              "frame": {
               "duration": 0,
               "redraw": true
              },
              "fromcurrent": true,
              "mode": "immediate",
              "transition": {
               "duration": 0,
               "easing": "linear"
              }
             }
            ],
            "label": "4",
            "method": "animate"
           },
           {
            "args": [
             [
              "5"
             ],
             {
              "frame": {
               "duration": 0,
               "redraw": true
              },
              "fromcurrent": true,
              "mode": "immediate",
              "transition": {
               "duration": 0,
               "easing": "linear"
              }
             }
            ],
            "label": "5",
            "method": "animate"
           },
           {
            "args": [
             [
              "6"
             ],
             {
              "frame": {
               "duration": 0,
               "redraw": true
              },
              "fromcurrent": true,
              "mode": "immediate",
              "transition": {
               "duration": 0,
               "easing": "linear"
              }
             }
            ],
            "label": "6",
            "method": "animate"
           },
           {
            "args": [
             [
              "7"
             ],
             {
              "frame": {
               "duration": 0,
               "redraw": true
              },
              "fromcurrent": true,
              "mode": "immediate",
              "transition": {
               "duration": 0,
               "easing": "linear"
              }
             }
            ],
            "label": "7",
            "method": "animate"
           },
           {
            "args": [
             [
              "8"
             ],
             {
              "frame": {
               "duration": 0,
               "redraw": true
              },
              "fromcurrent": true,
              "mode": "immediate",
              "transition": {
               "duration": 0,
               "easing": "linear"
              }
             }
            ],
            "label": "8",
            "method": "animate"
           },
           {
            "args": [
             [
              "9"
             ],
             {
              "frame": {
               "duration": 0,
               "redraw": true
              },
              "fromcurrent": true,
              "mode": "immediate",
              "transition": {
               "duration": 0,
               "easing": "linear"
              }
             }
            ],
            "label": "9",
            "method": "animate"
           }
          ],
          "x": 0.1,
          "xanchor": "left",
          "y": 0,
          "yanchor": "top"
         }
        ],
        "template": {
         "data": {
          "bar": [
           {
            "error_x": {
             "color": "#2a3f5f"
            },
            "error_y": {
             "color": "#2a3f5f"
            },
            "marker": {
             "line": {
              "color": "#E5ECF6",
              "width": 0.5
             },
             "pattern": {
              "fillmode": "overlay",
              "size": 10,
              "solidity": 0.2
             }
            },
            "type": "bar"
           }
          ],
          "barpolar": [
           {
            "marker": {
             "line": {
              "color": "#E5ECF6",
              "width": 0.5
             },
             "pattern": {
              "fillmode": "overlay",
              "size": 10,
              "solidity": 0.2
             }
            },
            "type": "barpolar"
           }
          ],
          "carpet": [
           {
            "aaxis": {
             "endlinecolor": "#2a3f5f",
             "gridcolor": "white",
             "linecolor": "white",
             "minorgridcolor": "white",
             "startlinecolor": "#2a3f5f"
            },
            "baxis": {
             "endlinecolor": "#2a3f5f",
             "gridcolor": "white",
             "linecolor": "white",
             "minorgridcolor": "white",
             "startlinecolor": "#2a3f5f"
            },
            "type": "carpet"
           }
          ],
          "choropleth": [
           {
            "colorbar": {
             "outlinewidth": 0,
             "ticks": ""
            },
            "type": "choropleth"
           }
          ],
          "contour": [
           {
            "colorbar": {
             "outlinewidth": 0,
             "ticks": ""
            },
            "colorscale": [
             [
              0,
              "#0d0887"
             ],
             [
              0.1111111111111111,
              "#46039f"
             ],
             [
              0.2222222222222222,
              "#7201a8"
             ],
             [
              0.3333333333333333,
              "#9c179e"
             ],
             [
              0.4444444444444444,
              "#bd3786"
             ],
             [
              0.5555555555555556,
              "#d8576b"
             ],
             [
              0.6666666666666666,
              "#ed7953"
             ],
             [
              0.7777777777777778,
              "#fb9f3a"
             ],
             [
              0.8888888888888888,
              "#fdca26"
             ],
             [
              1,
              "#f0f921"
             ]
            ],
            "type": "contour"
           }
          ],
          "contourcarpet": [
           {
            "colorbar": {
             "outlinewidth": 0,
             "ticks": ""
            },
            "type": "contourcarpet"
           }
          ],
          "heatmap": [
           {
            "colorbar": {
             "outlinewidth": 0,
             "ticks": ""
            },
            "colorscale": [
             [
              0,
              "#0d0887"
             ],
             [
              0.1111111111111111,
              "#46039f"
             ],
             [
              0.2222222222222222,
              "#7201a8"
             ],
             [
              0.3333333333333333,
              "#9c179e"
             ],
             [
              0.4444444444444444,
              "#bd3786"
             ],
             [
              0.5555555555555556,
              "#d8576b"
             ],
             [
              0.6666666666666666,
              "#ed7953"
             ],
             [
              0.7777777777777778,
              "#fb9f3a"
             ],
             [
              0.8888888888888888,
              "#fdca26"
             ],
             [
              1,
              "#f0f921"
             ]
            ],
            "type": "heatmap"
           }
          ],
          "heatmapgl": [
           {
            "colorbar": {
             "outlinewidth": 0,
             "ticks": ""
            },
            "colorscale": [
             [
              0,
              "#0d0887"
             ],
             [
              0.1111111111111111,
              "#46039f"
             ],
             [
              0.2222222222222222,
              "#7201a8"
             ],
             [
              0.3333333333333333,
              "#9c179e"
             ],
             [
              0.4444444444444444,
              "#bd3786"
             ],
             [
              0.5555555555555556,
              "#d8576b"
             ],
             [
              0.6666666666666666,
              "#ed7953"
             ],
             [
              0.7777777777777778,
              "#fb9f3a"
             ],
             [
              0.8888888888888888,
              "#fdca26"
             ],
             [
              1,
              "#f0f921"
             ]
            ],
            "type": "heatmapgl"
           }
          ],
          "histogram": [
           {
            "marker": {
             "pattern": {
              "fillmode": "overlay",
              "size": 10,
              "solidity": 0.2
             }
            },
            "type": "histogram"
           }
          ],
          "histogram2d": [
           {
            "colorbar": {
             "outlinewidth": 0,
             "ticks": ""
            },
            "colorscale": [
             [
              0,
              "#0d0887"
             ],
             [
              0.1111111111111111,
              "#46039f"
             ],
             [
              0.2222222222222222,
              "#7201a8"
             ],
             [
              0.3333333333333333,
              "#9c179e"
             ],
             [
              0.4444444444444444,
              "#bd3786"
             ],
             [
              0.5555555555555556,
              "#d8576b"
             ],
             [
              0.6666666666666666,
              "#ed7953"
             ],
             [
              0.7777777777777778,
              "#fb9f3a"
             ],
             [
              0.8888888888888888,
              "#fdca26"
             ],
             [
              1,
              "#f0f921"
             ]
            ],
            "type": "histogram2d"
           }
          ],
          "histogram2dcontour": [
           {
            "colorbar": {
             "outlinewidth": 0,
             "ticks": ""
            },
            "colorscale": [
             [
              0,
              "#0d0887"
             ],
             [
              0.1111111111111111,
              "#46039f"
             ],
             [
              0.2222222222222222,
              "#7201a8"
             ],
             [
              0.3333333333333333,
              "#9c179e"
             ],
             [
              0.4444444444444444,
              "#bd3786"
             ],
             [
              0.5555555555555556,
              "#d8576b"
             ],
             [
              0.6666666666666666,
              "#ed7953"
             ],
             [
              0.7777777777777778,
              "#fb9f3a"
             ],
             [
              0.8888888888888888,
              "#fdca26"
             ],
             [
              1,
              "#f0f921"
             ]
            ],
            "type": "histogram2dcontour"
           }
          ],
          "mesh3d": [
           {
            "colorbar": {
             "outlinewidth": 0,
             "ticks": ""
            },
            "type": "mesh3d"
           }
          ],
          "parcoords": [
           {
            "line": {
             "colorbar": {
              "outlinewidth": 0,
              "ticks": ""
             }
            },
            "type": "parcoords"
           }
          ],
          "pie": [
           {
            "automargin": true,
            "type": "pie"
           }
          ],
          "scatter": [
           {
            "fillpattern": {
             "fillmode": "overlay",
             "size": 10,
             "solidity": 0.2
            },
            "type": "scatter"
           }
          ],
          "scatter3d": [
           {
            "line": {
             "colorbar": {
              "outlinewidth": 0,
              "ticks": ""
             }
            },
            "marker": {
             "colorbar": {
              "outlinewidth": 0,
              "ticks": ""
             }
            },
            "type": "scatter3d"
           }
          ],
          "scattercarpet": [
           {
            "marker": {
             "colorbar": {
              "outlinewidth": 0,
              "ticks": ""
             }
            },
            "type": "scattercarpet"
           }
          ],
          "scattergeo": [
           {
            "marker": {
             "colorbar": {
              "outlinewidth": 0,
              "ticks": ""
             }
            },
            "type": "scattergeo"
           }
          ],
          "scattergl": [
           {
            "marker": {
             "colorbar": {
              "outlinewidth": 0,
              "ticks": ""
             }
            },
            "type": "scattergl"
           }
          ],
          "scattermapbox": [
           {
            "marker": {
             "colorbar": {
              "outlinewidth": 0,
              "ticks": ""
             }
            },
            "type": "scattermapbox"
           }
          ],
          "scatterpolar": [
           {
            "marker": {
             "colorbar": {
              "outlinewidth": 0,
              "ticks": ""
             }
            },
            "type": "scatterpolar"
           }
          ],
          "scatterpolargl": [
           {
            "marker": {
             "colorbar": {
              "outlinewidth": 0,
              "ticks": ""
             }
            },
            "type": "scatterpolargl"
           }
          ],
          "scatterternary": [
           {
            "marker": {
             "colorbar": {
              "outlinewidth": 0,
              "ticks": ""
             }
            },
            "type": "scatterternary"
           }
          ],
          "surface": [
           {
            "colorbar": {
             "outlinewidth": 0,
             "ticks": ""
            },
            "colorscale": [
             [
              0,
              "#0d0887"
             ],
             [
              0.1111111111111111,
              "#46039f"
             ],
             [
              0.2222222222222222,
              "#7201a8"
             ],
             [
              0.3333333333333333,
              "#9c179e"
             ],
             [
              0.4444444444444444,
              "#bd3786"
             ],
             [
              0.5555555555555556,
              "#d8576b"
             ],
             [
              0.6666666666666666,
              "#ed7953"
             ],
             [
              0.7777777777777778,
              "#fb9f3a"
             ],
             [
              0.8888888888888888,
              "#fdca26"
             ],
             [
              1,
              "#f0f921"
             ]
            ],
            "type": "surface"
           }
          ],
          "table": [
           {
            "cells": {
             "fill": {
              "color": "#EBF0F8"
             },
             "line": {
              "color": "white"
             }
            },
            "header": {
             "fill": {
              "color": "#C8D4E3"
             },
             "line": {
              "color": "white"
             }
            },
            "type": "table"
           }
          ]
         },
         "layout": {
          "annotationdefaults": {
           "arrowcolor": "#2a3f5f",
           "arrowhead": 0,
           "arrowwidth": 1
          },
          "autotypenumbers": "strict",
          "coloraxis": {
           "colorbar": {
            "outlinewidth": 0,
            "ticks": ""
           }
          },
          "colorscale": {
           "diverging": [
            [
             0,
             "#8e0152"
            ],
            [
             0.1,
             "#c51b7d"
            ],
            [
             0.2,
             "#de77ae"
            ],
            [
             0.3,
             "#f1b6da"
            ],
            [
             0.4,
             "#fde0ef"
            ],
            [
             0.5,
             "#f7f7f7"
            ],
            [
             0.6,
             "#e6f5d0"
            ],
            [
             0.7,
             "#b8e186"
            ],
            [
             0.8,
             "#7fbc41"
            ],
            [
             0.9,
             "#4d9221"
            ],
            [
             1,
             "#276419"
            ]
           ],
           "sequential": [
            [
             0,
             "#0d0887"
            ],
            [
             0.1111111111111111,
             "#46039f"
            ],
            [
             0.2222222222222222,
             "#7201a8"
            ],
            [
             0.3333333333333333,
             "#9c179e"
            ],
            [
             0.4444444444444444,
             "#bd3786"
            ],
            [
             0.5555555555555556,
             "#d8576b"
            ],
            [
             0.6666666666666666,
             "#ed7953"
            ],
            [
             0.7777777777777778,
             "#fb9f3a"
            ],
            [
             0.8888888888888888,
             "#fdca26"
            ],
            [
             1,
             "#f0f921"
            ]
           ],
           "sequentialminus": [
            [
             0,
             "#0d0887"
            ],
            [
             0.1111111111111111,
             "#46039f"
            ],
            [
             0.2222222222222222,
             "#7201a8"
            ],
            [
             0.3333333333333333,
             "#9c179e"
            ],
            [
             0.4444444444444444,
             "#bd3786"
            ],
            [
             0.5555555555555556,
             "#d8576b"
            ],
            [
             0.6666666666666666,
             "#ed7953"
            ],
            [
             0.7777777777777778,
             "#fb9f3a"
            ],
            [
             0.8888888888888888,
             "#fdca26"
            ],
            [
             1,
             "#f0f921"
            ]
           ]
          },
          "colorway": [
           "#636efa",
           "#EF553B",
           "#00cc96",
           "#ab63fa",
           "#FFA15A",
           "#19d3f3",
           "#FF6692",
           "#B6E880",
           "#FF97FF",
           "#FECB52"
          ],
          "font": {
           "color": "#2a3f5f"
          },
          "geo": {
           "bgcolor": "white",
           "lakecolor": "white",
           "landcolor": "#E5ECF6",
           "showlakes": true,
           "showland": true,
           "subunitcolor": "white"
          },
          "hoverlabel": {
           "align": "left"
          },
          "hovermode": "closest",
          "mapbox": {
           "style": "light"
          },
          "paper_bgcolor": "white",
          "plot_bgcolor": "#E5ECF6",
          "polar": {
           "angularaxis": {
            "gridcolor": "white",
            "linecolor": "white",
            "ticks": ""
           },
           "bgcolor": "#E5ECF6",
           "radialaxis": {
            "gridcolor": "white",
            "linecolor": "white",
            "ticks": ""
           }
          },
          "scene": {
           "xaxis": {
            "backgroundcolor": "#E5ECF6",
            "gridcolor": "white",
            "gridwidth": 2,
            "linecolor": "white",
            "showbackground": true,
            "ticks": "",
            "zerolinecolor": "white"
           },
           "yaxis": {
            "backgroundcolor": "#E5ECF6",
            "gridcolor": "white",
            "gridwidth": 2,
            "linecolor": "white",
            "showbackground": true,
            "ticks": "",
            "zerolinecolor": "white"
           },
           "zaxis": {
            "backgroundcolor": "#E5ECF6",
            "gridcolor": "white",
            "gridwidth": 2,
            "linecolor": "white",
            "showbackground": true,
            "ticks": "",
            "zerolinecolor": "white"
           }
          },
          "shapedefaults": {
           "line": {
            "color": "#2a3f5f"
           }
          },
          "ternary": {
           "aaxis": {
            "gridcolor": "white",
            "linecolor": "white",
            "ticks": ""
           },
           "baxis": {
            "gridcolor": "white",
            "linecolor": "white",
            "ticks": ""
           },
           "bgcolor": "#E5ECF6",
           "caxis": {
            "gridcolor": "white",
            "linecolor": "white",
            "ticks": ""
           }
          },
          "title": {
           "x": 0.05
          },
          "xaxis": {
           "automargin": true,
           "gridcolor": "white",
           "linecolor": "white",
           "ticks": "",
           "title": {
            "standoff": 15
           },
           "zerolinecolor": "white",
           "zerolinewidth": 2
          },
          "yaxis": {
           "automargin": true,
           "gridcolor": "white",
           "linecolor": "white",
           "ticks": "",
           "title": {
            "standoff": 15
           },
           "zerolinecolor": "white",
           "zerolinewidth": 2
          }
         }
        },
        "updatemenus": [
         {
          "buttons": [
           {
            "args": [
             null,
             {
              "frame": {
               "duration": 500,
               "redraw": true
              },
              "fromcurrent": true,
              "mode": "immediate",
              "transition": {
               "duration": 500,
               "easing": "linear"
              }
             }
            ],
            "label": "&#9654;",
            "method": "animate"
           },
           {
            "args": [
             [
              null
             ],
             {
              "frame": {
               "duration": 0,
               "redraw": true
              },
              "fromcurrent": true,
              "mode": "immediate",
              "transition": {
               "duration": 0,
               "easing": "linear"
              }
             }
            ],
            "label": "&#9724;",
            "method": "animate"
           }
          ],
          "direction": "left",
          "pad": {
           "r": 10,
           "t": 70
          },
          "showactive": false,
          "type": "buttons",
          "x": 0.1,
          "xanchor": "right",
          "y": 0,
          "yanchor": "top"
         }
        ],
        "xaxis": {
         "anchor": "y",
         "constrain": "domain",
         "domain": [
          0,
          1
         ],
         "scaleanchor": "y"
        },
        "yaxis": {
         "anchor": "x",
         "autorange": "reversed",
         "constrain": "domain",
         "domain": [
          0,
          1
         ]
        }
       }
      },
      "text/html": [
       "<div>                            <div id=\"1be191ad-42a5-4809-8ae3-8a5424229c63\" class=\"plotly-graph-div\" style=\"height:525px; width:100%;\"></div>            <script type=\"text/javascript\">                require([\"plotly\"], function(Plotly) {                    window.PLOTLYENV=window.PLOTLYENV || {};                                    if (document.getElementById(\"1be191ad-42a5-4809-8ae3-8a5424229c63\")) {                    Plotly.newPlot(                        \"1be191ad-42a5-4809-8ae3-8a5424229c63\",                        [{\"coloraxis\":\"coloraxis\",\"name\":\"0\",\"z\":[[0,0,0,0,0,0,0,0,0,0,0,0,0,0,128,128,128,0,0,0],[0,0,0,0,0,0,0,0,0,0,0,0,0,0,128,128,128,0,0,0],[0,0,0,0,0,0,0,0,0,0,0,0,0,0,128,128,0,0,0,0],[0,0,0,0,0,0,0,0,0,0,0,0,0,128,255,128,0,0,0,0],[0,0,0,0,0,0,0,0,0,0,0,0,0,128,255,255,128,0,0,0],[0,0,0,0,0,0,0,0,0,0,0,0,0,128,255,255,128,0,0,0],[0,0,0,0,0,0,0,0,0,0,0,0,128,128,255,255,128,0,0,0],[0,0,0,0,0,0,0,0,0,0,0,0,128,255,255,255,128,0,0,128],[0,0,0,0,0,0,0,0,0,0,0,128,128,255,255,255,255,128,128,255],[0,0,0,0,0,0,0,0,0,0,0,128,128,255,255,255,255,255,255,255],[0,0,0,0,0,0,0,0,0,0,128,128,128,255,255,255,255,255,255,128],[0,0,0,0,0,0,0,0,0,0,128,128,128,255,255,255,255,255,128,0],[0,0,0,0,0,0,0,0,0,0,128,128,255,255,255,255,255,255,128,0],[0,0,0,0,0,0,0,0,0,128,128,128,255,255,128,128,128,128,0,0],[0,0,0,0,0,0,0,0,0,128,128,255,255,255,128,0,0,0,0,0]],\"type\":\"heatmap\",\"xaxis\":\"x\",\"yaxis\":\"y\",\"hovertemplate\":\"x: %{x}<br>y: %{y}<br>color: %{z}<extra></extra>\"}],                        {\"template\":{\"data\":{\"histogram2dcontour\":[{\"type\":\"histogram2dcontour\",\"colorbar\":{\"outlinewidth\":0,\"ticks\":\"\"},\"colorscale\":[[0.0,\"#0d0887\"],[0.1111111111111111,\"#46039f\"],[0.2222222222222222,\"#7201a8\"],[0.3333333333333333,\"#9c179e\"],[0.4444444444444444,\"#bd3786\"],[0.5555555555555556,\"#d8576b\"],[0.6666666666666666,\"#ed7953\"],[0.7777777777777778,\"#fb9f3a\"],[0.8888888888888888,\"#fdca26\"],[1.0,\"#f0f921\"]]}],\"choropleth\":[{\"type\":\"choropleth\",\"colorbar\":{\"outlinewidth\":0,\"ticks\":\"\"}}],\"histogram2d\":[{\"type\":\"histogram2d\",\"colorbar\":{\"outlinewidth\":0,\"ticks\":\"\"},\"colorscale\":[[0.0,\"#0d0887\"],[0.1111111111111111,\"#46039f\"],[0.2222222222222222,\"#7201a8\"],[0.3333333333333333,\"#9c179e\"],[0.4444444444444444,\"#bd3786\"],[0.5555555555555556,\"#d8576b\"],[0.6666666666666666,\"#ed7953\"],[0.7777777777777778,\"#fb9f3a\"],[0.8888888888888888,\"#fdca26\"],[1.0,\"#f0f921\"]]}],\"heatmap\":[{\"type\":\"heatmap\",\"colorbar\":{\"outlinewidth\":0,\"ticks\":\"\"},\"colorscale\":[[0.0,\"#0d0887\"],[0.1111111111111111,\"#46039f\"],[0.2222222222222222,\"#7201a8\"],[0.3333333333333333,\"#9c179e\"],[0.4444444444444444,\"#bd3786\"],[0.5555555555555556,\"#d8576b\"],[0.6666666666666666,\"#ed7953\"],[0.7777777777777778,\"#fb9f3a\"],[0.8888888888888888,\"#fdca26\"],[1.0,\"#f0f921\"]]}],\"heatmapgl\":[{\"type\":\"heatmapgl\",\"colorbar\":{\"outlinewidth\":0,\"ticks\":\"\"},\"colorscale\":[[0.0,\"#0d0887\"],[0.1111111111111111,\"#46039f\"],[0.2222222222222222,\"#7201a8\"],[0.3333333333333333,\"#9c179e\"],[0.4444444444444444,\"#bd3786\"],[0.5555555555555556,\"#d8576b\"],[0.6666666666666666,\"#ed7953\"],[0.7777777777777778,\"#fb9f3a\"],[0.8888888888888888,\"#fdca26\"],[1.0,\"#f0f921\"]]}],\"contourcarpet\":[{\"type\":\"contourcarpet\",\"colorbar\":{\"outlinewidth\":0,\"ticks\":\"\"}}],\"contour\":[{\"type\":\"contour\",\"colorbar\":{\"outlinewidth\":0,\"ticks\":\"\"},\"colorscale\":[[0.0,\"#0d0887\"],[0.1111111111111111,\"#46039f\"],[0.2222222222222222,\"#7201a8\"],[0.3333333333333333,\"#9c179e\"],[0.4444444444444444,\"#bd3786\"],[0.5555555555555556,\"#d8576b\"],[0.6666666666666666,\"#ed7953\"],[0.7777777777777778,\"#fb9f3a\"],[0.8888888888888888,\"#fdca26\"],[1.0,\"#f0f921\"]]}],\"surface\":[{\"type\":\"surface\",\"colorbar\":{\"outlinewidth\":0,\"ticks\":\"\"},\"colorscale\":[[0.0,\"#0d0887\"],[0.1111111111111111,\"#46039f\"],[0.2222222222222222,\"#7201a8\"],[0.3333333333333333,\"#9c179e\"],[0.4444444444444444,\"#bd3786\"],[0.5555555555555556,\"#d8576b\"],[0.6666666666666666,\"#ed7953\"],[0.7777777777777778,\"#fb9f3a\"],[0.8888888888888888,\"#fdca26\"],[1.0,\"#f0f921\"]]}],\"mesh3d\":[{\"type\":\"mesh3d\",\"colorbar\":{\"outlinewidth\":0,\"ticks\":\"\"}}],\"scatter\":[{\"fillpattern\":{\"fillmode\":\"overlay\",\"size\":10,\"solidity\":0.2},\"type\":\"scatter\"}],\"parcoords\":[{\"type\":\"parcoords\",\"line\":{\"colorbar\":{\"outlinewidth\":0,\"ticks\":\"\"}}}],\"scatterpolargl\":[{\"type\":\"scatterpolargl\",\"marker\":{\"colorbar\":{\"outlinewidth\":0,\"ticks\":\"\"}}}],\"bar\":[{\"error_x\":{\"color\":\"#2a3f5f\"},\"error_y\":{\"color\":\"#2a3f5f\"},\"marker\":{\"line\":{\"color\":\"#E5ECF6\",\"width\":0.5},\"pattern\":{\"fillmode\":\"overlay\",\"size\":10,\"solidity\":0.2}},\"type\":\"bar\"}],\"scattergeo\":[{\"type\":\"scattergeo\",\"marker\":{\"colorbar\":{\"outlinewidth\":0,\"ticks\":\"\"}}}],\"scatterpolar\":[{\"type\":\"scatterpolar\",\"marker\":{\"colorbar\":{\"outlinewidth\":0,\"ticks\":\"\"}}}],\"histogram\":[{\"marker\":{\"pattern\":{\"fillmode\":\"overlay\",\"size\":10,\"solidity\":0.2}},\"type\":\"histogram\"}],\"scattergl\":[{\"type\":\"scattergl\",\"marker\":{\"colorbar\":{\"outlinewidth\":0,\"ticks\":\"\"}}}],\"scatter3d\":[{\"type\":\"scatter3d\",\"line\":{\"colorbar\":{\"outlinewidth\":0,\"ticks\":\"\"}},\"marker\":{\"colorbar\":{\"outlinewidth\":0,\"ticks\":\"\"}}}],\"scattermapbox\":[{\"type\":\"scattermapbox\",\"marker\":{\"colorbar\":{\"outlinewidth\":0,\"ticks\":\"\"}}}],\"scatterternary\":[{\"type\":\"scatterternary\",\"marker\":{\"colorbar\":{\"outlinewidth\":0,\"ticks\":\"\"}}}],\"scattercarpet\":[{\"type\":\"scattercarpet\",\"marker\":{\"colorbar\":{\"outlinewidth\":0,\"ticks\":\"\"}}}],\"carpet\":[{\"aaxis\":{\"endlinecolor\":\"#2a3f5f\",\"gridcolor\":\"white\",\"linecolor\":\"white\",\"minorgridcolor\":\"white\",\"startlinecolor\":\"#2a3f5f\"},\"baxis\":{\"endlinecolor\":\"#2a3f5f\",\"gridcolor\":\"white\",\"linecolor\":\"white\",\"minorgridcolor\":\"white\",\"startlinecolor\":\"#2a3f5f\"},\"type\":\"carpet\"}],\"table\":[{\"cells\":{\"fill\":{\"color\":\"#EBF0F8\"},\"line\":{\"color\":\"white\"}},\"header\":{\"fill\":{\"color\":\"#C8D4E3\"},\"line\":{\"color\":\"white\"}},\"type\":\"table\"}],\"barpolar\":[{\"marker\":{\"line\":{\"color\":\"#E5ECF6\",\"width\":0.5},\"pattern\":{\"fillmode\":\"overlay\",\"size\":10,\"solidity\":0.2}},\"type\":\"barpolar\"}],\"pie\":[{\"automargin\":true,\"type\":\"pie\"}]},\"layout\":{\"autotypenumbers\":\"strict\",\"colorway\":[\"#636efa\",\"#EF553B\",\"#00cc96\",\"#ab63fa\",\"#FFA15A\",\"#19d3f3\",\"#FF6692\",\"#B6E880\",\"#FF97FF\",\"#FECB52\"],\"font\":{\"color\":\"#2a3f5f\"},\"hovermode\":\"closest\",\"hoverlabel\":{\"align\":\"left\"},\"paper_bgcolor\":\"white\",\"plot_bgcolor\":\"#E5ECF6\",\"polar\":{\"bgcolor\":\"#E5ECF6\",\"angularaxis\":{\"gridcolor\":\"white\",\"linecolor\":\"white\",\"ticks\":\"\"},\"radialaxis\":{\"gridcolor\":\"white\",\"linecolor\":\"white\",\"ticks\":\"\"}},\"ternary\":{\"bgcolor\":\"#E5ECF6\",\"aaxis\":{\"gridcolor\":\"white\",\"linecolor\":\"white\",\"ticks\":\"\"},\"baxis\":{\"gridcolor\":\"white\",\"linecolor\":\"white\",\"ticks\":\"\"},\"caxis\":{\"gridcolor\":\"white\",\"linecolor\":\"white\",\"ticks\":\"\"}},\"coloraxis\":{\"colorbar\":{\"outlinewidth\":0,\"ticks\":\"\"}},\"colorscale\":{\"sequential\":[[0.0,\"#0d0887\"],[0.1111111111111111,\"#46039f\"],[0.2222222222222222,\"#7201a8\"],[0.3333333333333333,\"#9c179e\"],[0.4444444444444444,\"#bd3786\"],[0.5555555555555556,\"#d8576b\"],[0.6666666666666666,\"#ed7953\"],[0.7777777777777778,\"#fb9f3a\"],[0.8888888888888888,\"#fdca26\"],[1.0,\"#f0f921\"]],\"sequentialminus\":[[0.0,\"#0d0887\"],[0.1111111111111111,\"#46039f\"],[0.2222222222222222,\"#7201a8\"],[0.3333333333333333,\"#9c179e\"],[0.4444444444444444,\"#bd3786\"],[0.5555555555555556,\"#d8576b\"],[0.6666666666666666,\"#ed7953\"],[0.7777777777777778,\"#fb9f3a\"],[0.8888888888888888,\"#fdca26\"],[1.0,\"#f0f921\"]],\"diverging\":[[0,\"#8e0152\"],[0.1,\"#c51b7d\"],[0.2,\"#de77ae\"],[0.3,\"#f1b6da\"],[0.4,\"#fde0ef\"],[0.5,\"#f7f7f7\"],[0.6,\"#e6f5d0\"],[0.7,\"#b8e186\"],[0.8,\"#7fbc41\"],[0.9,\"#4d9221\"],[1,\"#276419\"]]},\"xaxis\":{\"gridcolor\":\"white\",\"linecolor\":\"white\",\"ticks\":\"\",\"title\":{\"standoff\":15},\"zerolinecolor\":\"white\",\"automargin\":true,\"zerolinewidth\":2},\"yaxis\":{\"gridcolor\":\"white\",\"linecolor\":\"white\",\"ticks\":\"\",\"title\":{\"standoff\":15},\"zerolinecolor\":\"white\",\"automargin\":true,\"zerolinewidth\":2},\"scene\":{\"xaxis\":{\"backgroundcolor\":\"#E5ECF6\",\"gridcolor\":\"white\",\"linecolor\":\"white\",\"showbackground\":true,\"ticks\":\"\",\"zerolinecolor\":\"white\",\"gridwidth\":2},\"yaxis\":{\"backgroundcolor\":\"#E5ECF6\",\"gridcolor\":\"white\",\"linecolor\":\"white\",\"showbackground\":true,\"ticks\":\"\",\"zerolinecolor\":\"white\",\"gridwidth\":2},\"zaxis\":{\"backgroundcolor\":\"#E5ECF6\",\"gridcolor\":\"white\",\"linecolor\":\"white\",\"showbackground\":true,\"ticks\":\"\",\"zerolinecolor\":\"white\",\"gridwidth\":2}},\"shapedefaults\":{\"line\":{\"color\":\"#2a3f5f\"}},\"annotationdefaults\":{\"arrowcolor\":\"#2a3f5f\",\"arrowhead\":0,\"arrowwidth\":1},\"geo\":{\"bgcolor\":\"white\",\"landcolor\":\"#E5ECF6\",\"subunitcolor\":\"white\",\"showland\":true,\"showlakes\":true,\"lakecolor\":\"white\"},\"title\":{\"x\":0.05},\"mapbox\":{\"style\":\"light\"}}},\"xaxis\":{\"anchor\":\"y\",\"domain\":[0.0,1.0],\"scaleanchor\":\"y\",\"constrain\":\"domain\"},\"yaxis\":{\"anchor\":\"x\",\"domain\":[0.0,1.0],\"autorange\":\"reversed\",\"constrain\":\"domain\"},\"coloraxis\":{\"colorscale\":[[0.0,\"rgb(0, 0, 0)\"],[0.09090909090909091,\"rgb(16, 16, 16)\"],[0.18181818181818182,\"rgb(38, 38, 38)\"],[0.2727272727272727,\"rgb(59, 59, 59)\"],[0.36363636363636365,\"rgb(81, 80, 80)\"],[0.45454545454545453,\"rgb(102, 101, 101)\"],[0.5454545454545454,\"rgb(124, 123, 122)\"],[0.6363636363636364,\"rgb(146, 146, 145)\"],[0.7272727272727273,\"rgb(171, 171, 170)\"],[0.8181818181818182,\"rgb(197, 197, 195)\"],[0.9090909090909091,\"rgb(224, 224, 223)\"],[1.0,\"rgb(254, 254, 253)\"]]},\"margin\":{\"t\":60},\"updatemenus\":[{\"buttons\":[{\"args\":[null,{\"frame\":{\"duration\":500,\"redraw\":true},\"mode\":\"immediate\",\"fromcurrent\":true,\"transition\":{\"duration\":500,\"easing\":\"linear\"}}],\"label\":\"&#9654;\",\"method\":\"animate\"},{\"args\":[[null],{\"frame\":{\"duration\":0,\"redraw\":true},\"mode\":\"immediate\",\"fromcurrent\":true,\"transition\":{\"duration\":0,\"easing\":\"linear\"}}],\"label\":\"&#9724;\",\"method\":\"animate\"}],\"direction\":\"left\",\"pad\":{\"r\":10,\"t\":70},\"showactive\":false,\"type\":\"buttons\",\"x\":0.1,\"xanchor\":\"right\",\"y\":0,\"yanchor\":\"top\"}],\"sliders\":[{\"active\":0,\"currentvalue\":{\"prefix\":\"Profundidade=\"},\"len\":0.9,\"pad\":{\"b\":10,\"t\":60},\"steps\":[{\"args\":[[\"0\"],{\"frame\":{\"duration\":0,\"redraw\":true},\"mode\":\"immediate\",\"fromcurrent\":true,\"transition\":{\"duration\":0,\"easing\":\"linear\"}}],\"label\":\"0\",\"method\":\"animate\"},{\"args\":[[\"1\"],{\"frame\":{\"duration\":0,\"redraw\":true},\"mode\":\"immediate\",\"fromcurrent\":true,\"transition\":{\"duration\":0,\"easing\":\"linear\"}}],\"label\":\"1\",\"method\":\"animate\"},{\"args\":[[\"2\"],{\"frame\":{\"duration\":0,\"redraw\":true},\"mode\":\"immediate\",\"fromcurrent\":true,\"transition\":{\"duration\":0,\"easing\":\"linear\"}}],\"label\":\"2\",\"method\":\"animate\"},{\"args\":[[\"3\"],{\"frame\":{\"duration\":0,\"redraw\":true},\"mode\":\"immediate\",\"fromcurrent\":true,\"transition\":{\"duration\":0,\"easing\":\"linear\"}}],\"label\":\"3\",\"method\":\"animate\"},{\"args\":[[\"4\"],{\"frame\":{\"duration\":0,\"redraw\":true},\"mode\":\"immediate\",\"fromcurrent\":true,\"transition\":{\"duration\":0,\"easing\":\"linear\"}}],\"label\":\"4\",\"method\":\"animate\"},{\"args\":[[\"5\"],{\"frame\":{\"duration\":0,\"redraw\":true},\"mode\":\"immediate\",\"fromcurrent\":true,\"transition\":{\"duration\":0,\"easing\":\"linear\"}}],\"label\":\"5\",\"method\":\"animate\"},{\"args\":[[\"6\"],{\"frame\":{\"duration\":0,\"redraw\":true},\"mode\":\"immediate\",\"fromcurrent\":true,\"transition\":{\"duration\":0,\"easing\":\"linear\"}}],\"label\":\"6\",\"method\":\"animate\"},{\"args\":[[\"7\"],{\"frame\":{\"duration\":0,\"redraw\":true},\"mode\":\"immediate\",\"fromcurrent\":true,\"transition\":{\"duration\":0,\"easing\":\"linear\"}}],\"label\":\"7\",\"method\":\"animate\"},{\"args\":[[\"8\"],{\"frame\":{\"duration\":0,\"redraw\":true},\"mode\":\"immediate\",\"fromcurrent\":true,\"transition\":{\"duration\":0,\"easing\":\"linear\"}}],\"label\":\"8\",\"method\":\"animate\"},{\"args\":[[\"9\"],{\"frame\":{\"duration\":0,\"redraw\":true},\"mode\":\"immediate\",\"fromcurrent\":true,\"transition\":{\"duration\":0,\"easing\":\"linear\"}}],\"label\":\"9\",\"method\":\"animate\"}],\"x\":0.1,\"xanchor\":\"left\",\"y\":0,\"yanchor\":\"top\"}]},                        {\"responsive\": true}                    ).then(function(){\n",
       "                            Plotly.addFrames('1be191ad-42a5-4809-8ae3-8a5424229c63', [{\"data\":[{\"coloraxis\":\"coloraxis\",\"name\":\"0\",\"z\":[[0,0,0,0,0,0,0,0,0,0,0,0,0,0,128,128,128,0,0,0],[0,0,0,0,0,0,0,0,0,0,0,0,0,0,128,128,128,0,0,0],[0,0,0,0,0,0,0,0,0,0,0,0,0,0,128,128,0,0,0,0],[0,0,0,0,0,0,0,0,0,0,0,0,0,128,255,128,0,0,0,0],[0,0,0,0,0,0,0,0,0,0,0,0,0,128,255,255,128,0,0,0],[0,0,0,0,0,0,0,0,0,0,0,0,0,128,255,255,128,0,0,0],[0,0,0,0,0,0,0,0,0,0,0,0,128,128,255,255,128,0,0,0],[0,0,0,0,0,0,0,0,0,0,0,0,128,255,255,255,128,0,0,128],[0,0,0,0,0,0,0,0,0,0,0,128,128,255,255,255,255,128,128,255],[0,0,0,0,0,0,0,0,0,0,0,128,128,255,255,255,255,255,255,255],[0,0,0,0,0,0,0,0,0,0,128,128,128,255,255,255,255,255,255,128],[0,0,0,0,0,0,0,0,0,0,128,128,128,255,255,255,255,255,128,0],[0,0,0,0,0,0,0,0,0,0,128,128,255,255,255,255,255,255,128,0],[0,0,0,0,0,0,0,0,0,128,128,128,255,255,128,128,128,128,0,0],[0,0,0,0,0,0,0,0,0,128,128,255,255,255,128,0,0,0,0,0]],\"type\":\"heatmap\"}],\"layout\":{\"margin\":{\"t\":60},\"xaxis\":{\"constrain\":\"domain\",\"scaleanchor\":\"y\"},\"yaxis\":{\"autorange\":\"reversed\",\"constrain\":\"domain\"},\"coloraxis\":{\"colorscale\":[[0.0,\"rgb(0, 0, 0)\"],[0.09090909090909091,\"rgb(16, 16, 16)\"],[0.18181818181818182,\"rgb(38, 38, 38)\"],[0.2727272727272727,\"rgb(59, 59, 59)\"],[0.36363636363636365,\"rgb(81, 80, 80)\"],[0.45454545454545453,\"rgb(102, 101, 101)\"],[0.5454545454545454,\"rgb(124, 123, 122)\"],[0.6363636363636364,\"rgb(146, 146, 145)\"],[0.7272727272727273,\"rgb(171, 171, 170)\"],[0.8181818181818182,\"rgb(197, 197, 195)\"],[0.9090909090909091,\"rgb(224, 224, 223)\"],[1.0,\"rgb(254, 254, 253)\"]]}},\"name\":\"0\"},{\"data\":[{\"coloraxis\":\"coloraxis\",\"name\":\"1\",\"z\":[[0,0,0,0,0,0,0,0,0,0,0,0,0,128,128,255,128,0,128,128],[0,0,0,0,0,0,0,0,0,0,0,0,0,128,128,255,128,0,0,128],[0,0,0,0,0,0,0,0,0,0,0,0,0,128,128,128,0,0,0,0],[0,0,0,0,0,0,0,0,0,0,0,0,128,128,128,128,0,0,0,0],[0,0,0,0,0,0,0,0,0,0,0,0,128,128,255,255,128,0,0,0],[0,0,0,0,0,0,0,0,0,0,0,0,128,128,255,255,128,0,0,0],[0,0,0,0,0,0,0,0,0,0,0,128,128,255,255,255,128,0,0,0],[0,0,0,0,0,0,0,0,0,0,0,128,128,255,255,255,128,0,0,128],[0,0,0,0,0,0,0,0,0,0,0,128,255,255,255,255,128,128,128,128],[0,0,0,0,0,0,0,0,0,0,128,128,255,255,255,255,255,128,128,128],[0,0,0,0,0,0,0,0,0,0,128,255,255,255,255,255,255,255,128,128],[0,0,0,0,0,0,0,0,0,128,128,255,255,128,128,255,255,255,128,0],[0,0,0,0,0,0,0,0,0,128,128,255,255,128,128,128,255,128,128,128],[0,0,0,0,0,0,0,0,128,128,255,255,255,128,128,128,128,128,128,128],[0,0,0,0,0,0,0,0,128,128,255,255,255,128,128,0,0,128,128,128]],\"type\":\"heatmap\"}],\"layout\":{\"margin\":{\"t\":60},\"xaxis\":{\"constrain\":\"domain\",\"scaleanchor\":\"y\"},\"yaxis\":{\"autorange\":\"reversed\",\"constrain\":\"domain\"},\"coloraxis\":{\"colorscale\":[[0.0,\"rgb(0, 0, 0)\"],[0.09090909090909091,\"rgb(16, 16, 16)\"],[0.18181818181818182,\"rgb(38, 38, 38)\"],[0.2727272727272727,\"rgb(59, 59, 59)\"],[0.36363636363636365,\"rgb(81, 80, 80)\"],[0.45454545454545453,\"rgb(102, 101, 101)\"],[0.5454545454545454,\"rgb(124, 123, 122)\"],[0.6363636363636364,\"rgb(146, 146, 145)\"],[0.7272727272727273,\"rgb(171, 171, 170)\"],[0.8181818181818182,\"rgb(197, 197, 195)\"],[0.9090909090909091,\"rgb(224, 224, 223)\"],[1.0,\"rgb(254, 254, 253)\"]]}},\"name\":\"1\"},{\"data\":[{\"coloraxis\":\"coloraxis\",\"name\":\"2\",\"z\":[[0,0,0,0,0,0,0,0,0,0,0,0,128,128,255,255,128,128,128,255],[0,0,0,0,0,0,0,0,0,0,0,0,128,128,255,255,128,128,128,128],[0,0,0,0,0,0,0,0,0,0,0,0,0,128,255,128,128,128,0,0],[0,0,0,0,0,0,0,0,0,0,0,0,128,255,255,128,0,0,0,0],[0,0,0,0,0,0,0,0,0,0,0,0,128,255,255,128,128,0,0,0],[0,0,0,0,0,0,0,0,0,0,0,128,128,255,255,255,128,0,0,0],[0,0,0,0,0,0,0,0,0,0,128,128,255,255,255,128,128,0,0,0],[0,0,0,0,0,0,0,0,0,128,128,128,255,255,255,128,128,0,0,0],[0,0,0,0,0,0,0,0,0,128,128,128,255,255,128,128,128,128,0,0],[0,0,0,0,0,0,0,0,0,128,128,255,255,255,128,128,128,128,128,0],[0,0,0,0,0,0,0,0,128,128,128,255,255,128,128,128,255,128,128,0],[0,0,0,0,0,0,0,0,128,128,255,255,255,128,128,255,255,128,128,128],[128,0,0,0,0,0,0,0,128,128,255,255,255,128,128,255,255,128,128,128],[128,128,0,0,0,0,0,128,128,255,255,255,255,128,0,128,128,128,128,255],[128,128,128,0,0,0,128,128,128,255,255,255,255,128,0,0,0,128,255,255]],\"type\":\"heatmap\"}],\"layout\":{\"margin\":{\"t\":60},\"xaxis\":{\"constrain\":\"domain\",\"scaleanchor\":\"y\"},\"yaxis\":{\"autorange\":\"reversed\",\"constrain\":\"domain\"},\"coloraxis\":{\"colorscale\":[[0.0,\"rgb(0, 0, 0)\"],[0.09090909090909091,\"rgb(16, 16, 16)\"],[0.18181818181818182,\"rgb(38, 38, 38)\"],[0.2727272727272727,\"rgb(59, 59, 59)\"],[0.36363636363636365,\"rgb(81, 80, 80)\"],[0.45454545454545453,\"rgb(102, 101, 101)\"],[0.5454545454545454,\"rgb(124, 123, 122)\"],[0.6363636363636364,\"rgb(146, 146, 145)\"],[0.7272727272727273,\"rgb(171, 171, 170)\"],[0.8181818181818182,\"rgb(197, 197, 195)\"],[0.9090909090909091,\"rgb(224, 224, 223)\"],[1.0,\"rgb(254, 254, 253)\"]]}},\"name\":\"2\"},{\"data\":[{\"coloraxis\":\"coloraxis\",\"name\":\"3\",\"z\":[[0,0,0,0,0,0,0,0,0,0,0,0,128,255,255,255,255,255,255,255],[0,0,0,0,0,0,0,0,0,0,0,0,128,255,255,255,255,255,128,128],[0,0,0,0,0,0,0,0,0,0,0,0,0,128,128,128,128,128,0,0],[0,0,0,0,0,0,0,0,0,0,0,128,128,128,128,128,0,0,0,0],[0,0,0,0,0,0,0,0,0,0,128,128,128,255,255,128,128,0,0,0],[0,0,0,0,0,0,0,0,0,0,128,128,255,255,255,255,128,0,0,0],[0,0,0,0,0,0,0,0,0,128,128,255,255,255,255,128,128,128,0,0],[0,0,0,0,0,0,0,0,0,128,255,255,255,255,255,128,128,128,128,128],[0,0,0,0,0,0,0,0,0,128,255,255,255,255,128,128,255,128,128,128],[0,0,0,0,0,0,0,0,128,128,255,255,255,255,128,255,255,255,128,128],[0,0,0,0,0,0,0,0,128,255,255,255,255,255,255,255,255,255,128,128],[128,0,0,0,0,0,0,128,128,255,255,255,255,255,255,255,255,255,255,128],[128,128,128,0,0,0,0,128,128,255,255,255,255,255,128,128,128,255,255,255],[255,128,128,128,128,128,128,128,255,255,255,255,255,128,0,128,128,128,255,255],[255,255,128,128,128,128,128,255,255,255,255,255,255,128,0,0,0,128,255,255]],\"type\":\"heatmap\"}],\"layout\":{\"margin\":{\"t\":60},\"xaxis\":{\"constrain\":\"domain\",\"scaleanchor\":\"y\"},\"yaxis\":{\"autorange\":\"reversed\",\"constrain\":\"domain\"},\"coloraxis\":{\"colorscale\":[[0.0,\"rgb(0, 0, 0)\"],[0.09090909090909091,\"rgb(16, 16, 16)\"],[0.18181818181818182,\"rgb(38, 38, 38)\"],[0.2727272727272727,\"rgb(59, 59, 59)\"],[0.36363636363636365,\"rgb(81, 80, 80)\"],[0.45454545454545453,\"rgb(102, 101, 101)\"],[0.5454545454545454,\"rgb(124, 123, 122)\"],[0.6363636363636364,\"rgb(146, 146, 145)\"],[0.7272727272727273,\"rgb(171, 171, 170)\"],[0.8181818181818182,\"rgb(197, 197, 195)\"],[0.9090909090909091,\"rgb(224, 224, 223)\"],[1.0,\"rgb(254, 254, 253)\"]]}},\"name\":\"3\"},{\"data\":[{\"coloraxis\":\"coloraxis\",\"name\":\"4\",\"z\":[[0,0,0,0,0,0,0,0,0,0,0,0,128,255,255,128,128,255,128,128],[0,0,0,0,0,0,0,0,0,0,0,128,128,128,128,128,128,255,128,128],[0,0,0,0,0,0,0,0,0,0,128,128,128,128,128,128,128,128,0,0],[0,0,0,0,0,0,0,0,0,0,128,128,128,255,128,128,0,0,0,0],[0,0,0,0,0,0,0,0,0,128,128,255,255,255,255,255,128,0,0,0],[0,0,0,0,0,0,0,0,0,128,128,255,255,255,255,255,128,128,128,0],[0,0,0,0,0,0,0,0,0,128,255,255,255,255,255,255,255,128,128,128],[0,0,0,0,0,0,0,0,0,128,255,255,255,255,255,255,255,255,128,128],[0,0,0,0,0,0,0,0,128,128,255,255,255,255,128,255,255,255,255,255],[0,0,0,0,0,0,0,128,128,255,255,255,255,255,128,255,255,255,255,255],[128,0,0,0,0,128,128,128,128,255,255,255,255,255,255,128,255,255,255,255],[128,128,0,0,128,128,128,128,255,255,255,255,255,255,128,128,128,255,255,255],[255,128,128,0,128,128,128,128,255,255,255,255,255,128,128,128,128,128,255,255],[255,255,255,128,128,128,128,255,255,255,255,255,128,128,128,0,0,128,128,255],[255,255,255,255,255,255,255,255,255,255,255,255,255,128,128,0,0,128,128,128]],\"type\":\"heatmap\"}],\"layout\":{\"margin\":{\"t\":60},\"xaxis\":{\"constrain\":\"domain\",\"scaleanchor\":\"y\"},\"yaxis\":{\"autorange\":\"reversed\",\"constrain\":\"domain\"},\"coloraxis\":{\"colorscale\":[[0.0,\"rgb(0, 0, 0)\"],[0.09090909090909091,\"rgb(16, 16, 16)\"],[0.18181818181818182,\"rgb(38, 38, 38)\"],[0.2727272727272727,\"rgb(59, 59, 59)\"],[0.36363636363636365,\"rgb(81, 80, 80)\"],[0.45454545454545453,\"rgb(102, 101, 101)\"],[0.5454545454545454,\"rgb(124, 123, 122)\"],[0.6363636363636364,\"rgb(146, 146, 145)\"],[0.7272727272727273,\"rgb(171, 171, 170)\"],[0.8181818181818182,\"rgb(197, 197, 195)\"],[0.9090909090909091,\"rgb(224, 224, 223)\"],[1.0,\"rgb(254, 254, 253)\"]]}},\"name\":\"4\"},{\"data\":[{\"coloraxis\":\"coloraxis\",\"name\":\"5\",\"z\":[[0,0,0,0,0,0,0,0,0,0,128,128,128,255,255,128,255,128,128,0],[0,0,0,0,0,0,0,0,0,0,128,128,255,255,128,0,128,128,128,0],[0,0,0,0,0,0,0,0,0,128,128,255,255,255,128,0,0,128,0,0],[0,0,0,0,0,0,0,0,0,128,128,255,255,128,128,128,0,0,0,0],[0,0,0,0,0,0,0,0,0,128,255,255,255,255,128,128,128,0,0,0],[0,0,0,0,0,0,0,0,128,128,255,255,255,255,128,128,255,128,128,0],[0,0,0,0,0,0,0,0,128,128,255,255,255,255,255,255,255,255,255,128],[0,0,0,0,0,128,0,0,128,128,255,255,255,255,128,255,255,255,255,255],[0,0,0,128,128,128,128,128,128,255,255,255,255,255,128,128,255,255,255,255],[128,128,128,128,128,128,128,128,255,255,255,255,255,255,128,128,255,255,255,255],[128,128,128,128,128,128,128,128,255,255,255,255,255,255,128,128,128,255,255,255],[255,128,128,128,128,255,255,255,255,255,255,255,255,255,128,0,128,255,255,255],[255,255,128,128,128,255,255,255,255,255,255,255,255,255,128,0,0,128,255,255],[255,255,255,128,128,128,255,255,255,255,255,255,255,255,128,128,0,0,128,255],[255,255,255,255,128,128,255,255,255,255,255,255,255,255,128,128,128,0,0,128]],\"type\":\"heatmap\"}],\"layout\":{\"margin\":{\"t\":60},\"xaxis\":{\"constrain\":\"domain\",\"scaleanchor\":\"y\"},\"yaxis\":{\"autorange\":\"reversed\",\"constrain\":\"domain\"},\"coloraxis\":{\"colorscale\":[[0.0,\"rgb(0, 0, 0)\"],[0.09090909090909091,\"rgb(16, 16, 16)\"],[0.18181818181818182,\"rgb(38, 38, 38)\"],[0.2727272727272727,\"rgb(59, 59, 59)\"],[0.36363636363636365,\"rgb(81, 80, 80)\"],[0.45454545454545453,\"rgb(102, 101, 101)\"],[0.5454545454545454,\"rgb(124, 123, 122)\"],[0.6363636363636364,\"rgb(146, 146, 145)\"],[0.7272727272727273,\"rgb(171, 171, 170)\"],[0.8181818181818182,\"rgb(197, 197, 195)\"],[0.9090909090909091,\"rgb(224, 224, 223)\"],[1.0,\"rgb(254, 254, 253)\"]]}},\"name\":\"5\"},{\"data\":[{\"coloraxis\":\"coloraxis\",\"name\":\"6\",\"z\":[[0,0,0,0,0,0,0,0,0,0,128,255,255,255,255,128,128,128,128,0],[0,0,0,0,0,0,0,0,0,0,128,255,255,255,128,128,128,128,0,0],[0,0,0,128,128,0,0,0,0,128,255,255,255,128,128,128,128,0,0,0],[0,0,128,128,128,128,0,0,128,128,255,255,255,128,0,0,0,0,0,0],[0,0,0,128,128,128,0,0,128,128,255,255,255,128,128,0,128,0,0,0],[0,0,0,0,128,128,128,0,128,255,255,255,255,255,128,128,128,128,128,0],[128,128,128,128,128,128,128,128,128,255,255,255,255,255,128,128,128,128,128,128],[128,128,128,128,128,128,128,128,128,255,255,255,255,255,128,128,128,128,128,128],[128,128,128,128,128,255,128,128,255,255,255,255,128,128,128,128,128,128,128,128],[128,128,128,255,255,255,255,255,255,255,255,255,128,128,128,128,128,128,128,128],[255,255,255,255,255,255,255,255,255,255,255,255,255,128,128,128,128,128,128,128],[255,255,255,255,255,255,255,255,255,255,255,255,255,128,128,128,128,128,128,128],[255,128,128,128,255,255,255,255,255,255,255,255,255,255,128,128,0,128,128,255],[128,128,128,128,128,255,255,255,128,255,255,255,255,255,255,128,0,0,128,128],[128,128,128,128,128,255,255,128,128,128,255,255,255,255,255,255,128,0,0,128]],\"type\":\"heatmap\"}],\"layout\":{\"margin\":{\"t\":60},\"xaxis\":{\"constrain\":\"domain\",\"scaleanchor\":\"y\"},\"yaxis\":{\"autorange\":\"reversed\",\"constrain\":\"domain\"},\"coloraxis\":{\"colorscale\":[[0.0,\"rgb(0, 0, 0)\"],[0.09090909090909091,\"rgb(16, 16, 16)\"],[0.18181818181818182,\"rgb(38, 38, 38)\"],[0.2727272727272727,\"rgb(59, 59, 59)\"],[0.36363636363636365,\"rgb(81, 80, 80)\"],[0.45454545454545453,\"rgb(102, 101, 101)\"],[0.5454545454545454,\"rgb(124, 123, 122)\"],[0.6363636363636364,\"rgb(146, 146, 145)\"],[0.7272727272727273,\"rgb(171, 171, 170)\"],[0.8181818181818182,\"rgb(197, 197, 195)\"],[0.9090909090909091,\"rgb(224, 224, 223)\"],[1.0,\"rgb(254, 254, 253)\"]]}},\"name\":\"6\"},{\"data\":[{\"coloraxis\":\"coloraxis\",\"name\":\"7\",\"z\":[[0,0,0,0,0,0,0,0,0,0,128,255,255,255,255,255,255,255,128,128],[0,0,0,0,0,0,0,0,0,0,128,255,255,255,255,255,255,128,128,0],[0,0,0,128,128,0,0,0,0,128,255,255,255,128,128,128,128,128,0,0],[0,0,128,255,255,128,0,0,128,255,255,255,255,128,0,128,128,128,0,0],[0,0,0,128,255,128,128,128,128,255,255,255,255,128,0,0,128,0,0,0],[0,0,0,128,128,128,128,128,128,255,255,255,255,128,128,0,0,0,0,0],[128,128,128,128,128,255,255,128,128,128,255,255,255,255,128,128,0,0,0,0],[255,255,255,255,255,255,255,128,128,128,255,255,255,255,128,128,0,0,0,0],[255,255,255,255,255,255,128,128,128,128,128,255,255,255,128,128,0,0,0,0],[255,255,255,255,255,255,255,128,128,128,128,255,255,255,255,128,0,0,0,0],[255,255,255,255,255,255,255,255,128,128,128,255,255,255,255,255,128,0,0,0],[255,255,255,255,255,255,255,255,128,128,128,255,255,255,255,255,128,0,0,128],[128,128,128,255,255,255,255,128,128,128,255,255,255,128,128,128,128,0,128,128],[128,0,0,128,255,255,255,128,128,128,255,255,255,128,128,128,128,0,0,128],[0,0,0,0,128,255,255,255,255,255,255,255,255,255,255,128,128,0,0,0]],\"type\":\"heatmap\"}],\"layout\":{\"margin\":{\"t\":60},\"xaxis\":{\"constrain\":\"domain\",\"scaleanchor\":\"y\"},\"yaxis\":{\"autorange\":\"reversed\",\"constrain\":\"domain\"},\"coloraxis\":{\"colorscale\":[[0.0,\"rgb(0, 0, 0)\"],[0.09090909090909091,\"rgb(16, 16, 16)\"],[0.18181818181818182,\"rgb(38, 38, 38)\"],[0.2727272727272727,\"rgb(59, 59, 59)\"],[0.36363636363636365,\"rgb(81, 80, 80)\"],[0.45454545454545453,\"rgb(102, 101, 101)\"],[0.5454545454545454,\"rgb(124, 123, 122)\"],[0.6363636363636364,\"rgb(146, 146, 145)\"],[0.7272727272727273,\"rgb(171, 171, 170)\"],[0.8181818181818182,\"rgb(197, 197, 195)\"],[0.9090909090909091,\"rgb(224, 224, 223)\"],[1.0,\"rgb(254, 254, 253)\"]]}},\"name\":\"7\"},{\"data\":[{\"coloraxis\":\"coloraxis\",\"name\":\"8\",\"z\":[[0,0,0,0,0,0,0,0,0,0,128,255,255,255,255,255,255,255,255,128],[0,0,0,0,0,0,0,0,0,0,128,255,255,255,255,255,255,255,128,0],[0,0,0,128,128,0,0,0,0,128,255,255,255,255,128,255,255,128,0,0],[0,0,128,128,128,128,0,0,128,255,255,255,255,128,128,128,255,128,0,0],[0,0,0,128,255,255,128,128,255,255,255,255,255,128,0,128,128,0,0,0],[128,128,128,128,255,255,128,128,255,255,255,255,255,255,128,0,0,0,0,0],[128,128,128,255,255,255,128,128,255,255,255,255,255,255,255,128,0,0,0,0],[255,255,255,255,255,255,128,128,255,255,255,255,255,255,255,128,0,0,0,0],[255,255,255,255,255,128,128,128,255,128,255,255,255,255,255,128,0,0,0,0],[255,255,255,255,255,255,128,128,128,128,128,255,255,255,255,128,0,0,0,0],[255,255,255,255,255,255,255,128,128,128,128,255,255,255,255,255,128,0,0,0],[255,255,255,255,255,255,255,128,128,128,128,255,255,255,255,255,128,0,0,0],[128,128,128,128,255,255,128,128,0,128,255,255,255,255,255,255,128,0,0,0],[128,0,0,128,128,255,255,128,128,128,255,255,255,255,255,255,128,0,0,0],[0,0,0,0,128,255,255,255,128,255,255,255,255,255,255,255,128,0,0,0]],\"type\":\"heatmap\"}],\"layout\":{\"margin\":{\"t\":60},\"xaxis\":{\"constrain\":\"domain\",\"scaleanchor\":\"y\"},\"yaxis\":{\"autorange\":\"reversed\",\"constrain\":\"domain\"},\"coloraxis\":{\"colorscale\":[[0.0,\"rgb(0, 0, 0)\"],[0.09090909090909091,\"rgb(16, 16, 16)\"],[0.18181818181818182,\"rgb(38, 38, 38)\"],[0.2727272727272727,\"rgb(59, 59, 59)\"],[0.36363636363636365,\"rgb(81, 80, 80)\"],[0.45454545454545453,\"rgb(102, 101, 101)\"],[0.5454545454545454,\"rgb(124, 123, 122)\"],[0.6363636363636364,\"rgb(146, 146, 145)\"],[0.7272727272727273,\"rgb(171, 171, 170)\"],[0.8181818181818182,\"rgb(197, 197, 195)\"],[0.9090909090909091,\"rgb(224, 224, 223)\"],[1.0,\"rgb(254, 254, 253)\"]]}},\"name\":\"8\"},{\"data\":[{\"coloraxis\":\"coloraxis\",\"name\":\"9\",\"z\":[[0,0,0,0,0,0,0,0,0,0,128,255,255,255,255,255,255,128,128,128],[0,0,0,0,0,0,0,0,0,0,128,255,255,255,255,255,255,128,128,0],[0,0,0,0,0,0,0,0,0,128,255,255,255,255,255,255,128,128,0,0],[0,0,0,0,128,128,0,0,128,255,255,255,128,128,128,255,255,128,0,0],[0,0,0,128,255,255,128,128,255,255,255,255,128,128,0,128,128,0,0,0],[128,128,128,128,255,128,128,255,255,255,255,255,128,128,128,0,0,0,0,0],[255,255,255,255,255,128,128,255,255,255,255,255,255,128,128,128,0,0,0,0],[255,255,255,255,255,128,128,255,255,128,128,255,255,255,128,128,0,0,0,0],[255,255,255,255,128,128,128,255,255,128,128,128,255,255,255,128,0,0,0,0],[255,255,255,255,255,128,255,255,255,255,128,128,255,255,255,128,0,0,0,0],[255,255,255,255,255,255,255,255,255,255,128,128,255,255,255,255,128,0,0,0],[255,255,255,128,128,255,255,255,128,128,128,255,255,255,255,255,128,0,0,0],[255,128,128,128,128,128,128,128,0,128,128,255,255,255,255,255,128,0,0,0],[128,0,0,0,128,128,128,128,0,128,128,255,255,255,255,255,128,0,0,0],[0,0,0,0,128,128,255,255,128,128,255,255,255,255,255,255,128,0,0,0]],\"type\":\"heatmap\"}],\"layout\":{\"margin\":{\"t\":60},\"xaxis\":{\"constrain\":\"domain\",\"scaleanchor\":\"y\"},\"yaxis\":{\"autorange\":\"reversed\",\"constrain\":\"domain\"},\"coloraxis\":{\"colorscale\":[[0.0,\"rgb(0, 0, 0)\"],[0.09090909090909091,\"rgb(16, 16, 16)\"],[0.18181818181818182,\"rgb(38, 38, 38)\"],[0.2727272727272727,\"rgb(59, 59, 59)\"],[0.36363636363636365,\"rgb(81, 80, 80)\"],[0.45454545454545453,\"rgb(102, 101, 101)\"],[0.5454545454545454,\"rgb(124, 123, 122)\"],[0.6363636363636364,\"rgb(146, 146, 145)\"],[0.7272727272727273,\"rgb(171, 171, 170)\"],[0.8181818181818182,\"rgb(197, 197, 195)\"],[0.9090909090909091,\"rgb(224, 224, 223)\"],[1.0,\"rgb(254, 254, 253)\"]]}},\"name\":\"9\"}]);\n",
       "                        }).then(function(){\n",
       "                            \n",
       "var gd = document.getElementById('1be191ad-42a5-4809-8ae3-8a5424229c63');\n",
       "var x = new MutationObserver(function (mutations, observer) {{\n",
       "        var display = window.getComputedStyle(gd).display;\n",
       "        if (!display || display === 'none') {{\n",
       "            console.log([gd, 'removed!']);\n",
       "            Plotly.purge(gd);\n",
       "            observer.disconnect();\n",
       "        }}\n",
       "}});\n",
       "\n",
       "// Listen for the removal of the full notebook cells\n",
       "var notebookContainer = gd.closest('#notebook-container');\n",
       "if (notebookContainer) {{\n",
       "    x.observe(notebookContainer, {childList: true});\n",
       "}}\n",
       "\n",
       "// Listen for the clearing of the current output cell\n",
       "var outputEl = gd.closest('.output');\n",
       "if (outputEl) {{\n",
       "    x.observe(outputEl, {childList: true});\n",
       "}}\n",
       "\n",
       "                        })                };                });            </script>        </div>"
      ]
     },
     "metadata": {},
     "output_type": "display_data"
    }
   ],
   "source": [
    "fig_cel = px.imshow(im_cel, animation_frame=0, labels=dict(animation_frame=\"Profundidade\"),\\\n",
    "                    color_continuous_scale='gray')\n",
    "fig_cel.show()"
   ]
  },
  {
   "cell_type": "markdown",
   "id": "118d707f",
   "metadata": {},
   "source": [
    "# FORMAÇÃO DAS MATRIZES DE CONECTIVIDADE E DE COORDENADAS"
   ]
  },
  {
   "cell_type": "markdown",
   "id": "f5dbbeac",
   "metadata": {},
   "source": [
    "## DETERMINAÇÃO DOS PARÂMETROS BASEADOS NA ESTRUTURA"
   ]
  },
  {
   "cell_type": "code",
   "execution_count": 33,
   "id": "a57b6931",
   "metadata": {},
   "outputs": [],
   "source": [
    "NX = EX + 1                                                         #NÚMERO DE PONTOS NO EIXO X\n",
    "NY = EY + 1                                                         #NÚMERO DE PONTOS NO EIXO Y\n",
    "NZ = EZ + 1                                                         #NÚMERO DE ELEMENTOS NO EIXO Z\n",
    "NPP = NX * NY                                                       #NÚMERO DE PONTOS POR CAMADA\n",
    "NEP = EX * EY                                                       #NÚMERO DE ELEMENTOS POR CAMADA\n",
    "NP = NPP * NZ                                                       #NÚMERO DE PONTOS NO TOTAL\n",
    "NE = NEP * EZ                                                       #NÚMERO DE ELEMENTOS NO TOTAL"
   ]
  },
  {
   "cell_type": "markdown",
   "id": "23f2af93",
   "metadata": {},
   "source": [
    "## DETERMINAÇÃO DAS COORDENADAS DOS PONTOS EXISTENTES"
   ]
  },
  {
   "cell_type": "code",
   "execution_count": 34,
   "id": "fda27396",
   "metadata": {},
   "outputs": [],
   "source": [
    "X = np.concatenate (([0.0] , np.linspace ( 0 , L , NX )))\n",
    "Y = np.concatenate (([0.0] , np.linspace ( 0 , H , NY )))\n",
    "Z = np.concatenate (([0.0] , np.linspace ( 0 , W , NZ )))"
   ]
  },
  {
   "cell_type": "markdown",
   "id": "b3c0f3c9",
   "metadata": {},
   "source": [
    "## INICIALIZAÇÃO DAS MATRIZES DE CONECTIVIDADE E DE COORDENADAS"
   ]
  },
  {
   "cell_type": "code",
   "execution_count": 35,
   "id": "ceba5168",
   "metadata": {},
   "outputs": [],
   "source": [
    "mconect = np.full ( ( NE + 1, 8 ),0)\n",
    "mcoord = np.zeros ( ( NP + 1, 3 ))"
   ]
  },
  {
   "cell_type": "markdown",
   "id": "6a869bf6",
   "metadata": {},
   "source": [
    "## DETERMINAÇÃO DAS MATRIZES DE CONECTIVIDADE E DE COORDENADAS"
   ]
  },
  {
   "cell_type": "code",
   "execution_count": 36,
   "id": "6e3091b4",
   "metadata": {},
   "outputs": [],
   "source": [
    "elemento = 1\n",
    "linha_elementar = 1\n",
    "profundidade_elementar = 1\n",
    "no_atual = 1\n",
    "while elemento <= NE:\n",
    "    if elemento == 1:\n",
    "        #=================================================================================================================\n",
    "        #PRIMEIRO ELEMENTO DA PRIMEIRA CAMADA\n",
    "        #=================================================================================================================\n",
    "        mconect [ elemento, : ] = [ 1 , 2 , 3 , 4 , 5 , 6 , 7, 8 ]\n",
    "\n",
    "        mcoord [ mconect [ elemento, : ], 0 ] = [ X [ 1 ], X [ 2 ], X [ 2 ], X [ 1 ], X [ 1 ], X [ 2 ], X [ 2 ], X [ 1 ] ]\n",
    "        mcoord [ mconect [ elemento, : ], 1 ] = [ Y [ 1 ], Y [ 1 ], Y [ 1 ], Y [ 1 ], Y [ 2 ], Y [ 2 ], Y [ 2 ], Y [ 2 ] ]\n",
    "        mcoord [ mconect [ elemento, : ], 2 ] = [ Z [ 1 ], Z [ 1 ], Z [ 2 ], Z [ 2 ], Z [ 1 ], Z [ 1 ], Z [ 2 ], Z [ 2 ] ]\n",
    "        no_atual += 7\n",
    "\n",
    "    elif elemento <= EX:\n",
    "        #=================================================================================================================\n",
    "        #PRIMEIRA LINHA DA PRIMEIRA CAMADA\n",
    "        #=================================================================================================================\n",
    "        mconect [ elemento ] [ : ] = [ mconect [ elemento - 1, 1 ], no_atual + 1, \\\n",
    "                                      no_atual + 2 , mconect [ elemento - 1, 2 ], \\\n",
    "                                      mconect [elemento - 1, 5 ], no_atual + 3, \\\n",
    "                                      no_atual + 4 , mconect [elemento - 1, 6 ] ]    \n",
    "\n",
    "        mcoord [ mconect [ elemento, [1, 2, 5, 6] ], 0 ] = [ X [ elemento + 1 ], X [ elemento + 1 ], \\\n",
    "                                                             X [ elemento + 1 ], X [elemento + 1 ] ]\n",
    "        mcoord [ mconect [ elemento, [1, 2, 5, 6] ], 1 ] = [ Y [ 1 ], Y [ 1 ], Y [ 2 ], Y [ 2 ] ]\n",
    "        mcoord [ mconect [ elemento, [1, 2, 5, 6] ], 2 ] = [ Z [ 1 ], Z [ 2 ], Z [ 1 ], Z [ 2 ] ]\n",
    "        no_atual += 4\n",
    "\n",
    "    elif elemento == ( ( linha_elementar - 1 ) * EX ) + 1 and profundidade_elementar == 1:\n",
    "        #=================================================================================================================\n",
    "        #PRIMEIRA COLUNA DA PRIMEIRA CAMADA\n",
    "        #=================================================================================================================\n",
    "        mconect [ elemento ] [ : ] = [ mconect [ elemento - EX ] [ 4 ], mconect [ elemento - EX ] [ 5 ], \\\n",
    "                                       mconect [ elemento - EX ] [ 6 ], mconect [ elemento - EX ] [ 7 ],\\\n",
    "                                       no_atual + 1, no_atual + 2, \\\n",
    "                                       no_atual + 3, no_atual + 4]\n",
    "                                  \n",
    "        mcoord [ mconect [ elemento, 4:8 ], 0 ] = [ X [ 1 ], X [ 2 ], X [ 2 ], X [ 1 ] ]\n",
    "        mcoord [ mconect [ elemento, 4:8 ], 1 ] = [ Y [ linha_elementar + 1 ], Y [ linha_elementar + 1 ], \\\n",
    "                                                    Y [ linha_elementar + 1 ], Y [ linha_elementar + 1 ] ]\n",
    "        mcoord [ mconect [ elemento, 4:8 ], 2 ] = [ Z [ 1 ], Z [ 1 ], Z [ 2 ], Z [ 2 ] ]\n",
    "        no_atual += 4\n",
    "\n",
    "    elif profundidade_elementar == 1:\n",
    "        #=================================================================================================================\n",
    "        #RESTANTE DA PRIMEIRA CAMADA (O QUE NÃO ESTÁ NEM NA PRIMEIRA COLUNA NEM NA PRIMEIRA LINHA)\n",
    "        #=================================================================================================================\n",
    "        mconect [ elemento ] [ : ] = [ mconect [ elemento - EX ] [ 4 ], mconect [ elemento - EX ] [ 5 ], \\\n",
    "                                      mconect [ elemento - EX ] [ 6 ], mconect [ elemento - EX ] [ 7 ],\\\n",
    "                                      mconect [ elemento - 1 ] [ 5 ], no_atual + 1, \\\n",
    "                                      no_atual + 2 , mconect [ elemento - 1 ] [ 6 ] ]\n",
    "\n",
    "        mcoord [ mconect [ elemento, [5, 6] ], 0 ] = [ mcoord [ mconect [ elemento - EX , 1 ], 0 ], \\\n",
    "                                                       mcoord [ mconect [ elemento - EX , 1 ], 0 ] ]\n",
    "        mcoord [ mconect [ elemento, [5, 6] ], 1 ] = [ mcoord [ mconect [ elemento - 1 , 5 ], 1 ], \\\n",
    "                                                       mcoord [ mconect [ elemento - 1 , 5 ], 1 ] ]\n",
    "        mcoord [ mconect [ elemento, [5, 6] ], 2 ] = [ Z [ 1 ], Z [ 2 ] ]\n",
    "        no_atual += 2\n",
    "\n",
    "    elif elemento == ( ( profundidade_elementar - 1) * NEP ) + 1:\n",
    "        #=================================================================================================================\n",
    "        #PRIMEIRO ELEMENTO DAS CAMADAS EXCETO A PRIMEIRA\n",
    "        #=================================================================================================================\n",
    "        mconect [ elemento, : ] = [ mconect [ elemento - NEP ] [ 3 ], mconect [ elemento - NEP ] [ 2 ] ,\\\n",
    "                                    no_atual + 2, no_atual + 1,\\\n",
    "                                    mconect [ elemento - NEP ] [ 7 ], mconect [ elemento - NEP ] [ 6 ],\\\n",
    "                                    no_atual + 3, no_atual + 4 ]\n",
    "    \n",
    "        mcoord [ mconect [ elemento, [2, 3, 6, 7] ], 0 ] = [ mcoord [ mconect [ elemento , 1 ], 0 ], \\\n",
    "                                                             mcoord [ mconect [ elemento , 0 ], 0 ],\\\n",
    "                                                             mcoord [ mconect [ elemento , 1 ], 0 ],\\\n",
    "                                                             mcoord [ mconect [ elemento , 0 ], 0 ] ]\n",
    "        mcoord [ mconect [ elemento, [2, 3, 6, 7] ], 1 ] = [ mcoord [ mconect [ elemento , 1 ], 1 ], \\\n",
    "                                                             mcoord [ mconect [ elemento , 0 ], 1 ],\\\n",
    "                                                             mcoord [ mconect [ elemento , 5 ], 1 ],\\\n",
    "                                                             mcoord [ mconect [ elemento , 4 ], 1 ] ]\n",
    "        mcoord [ mconect [ elemento, [2, 3, 6, 7] ], 2 ] = [ Z [ profundidade_elementar + 1 ], Z [ profundidade_elementar + 1 ],\\\n",
    "                                                             Z [ profundidade_elementar + 1 ], Z [ profundidade_elementar + 1 ]]\n",
    "        no_atual += 4\n",
    "\n",
    "    elif elemento <= ( ( profundidade_elementar -1 ) * NEP ) + EX:\n",
    "        #=================================================================================================================\n",
    "        #PRIMEIRA LINHA DAS CAMADAS EXCETO A PRIMEIRA\n",
    "        #=================================================================================================================\n",
    "        mconect [ elemento, : ] = [ mconect [ elemento - 1 ] [ 1 ], mconect [ elemento - NEP ] [ 2 ] ,\\\n",
    "                                    no_atual + 1, mconect [ elemento - 1 ] [ 2 ] ,\\\n",
    "                                    mconect [ elemento - 1 ] [ 5 ], mconect [ elemento - NEP ] [ 6 ] ,\\\n",
    "                                    no_atual + 2, mconect [ elemento - 1 ] [ 6 ] ]\n",
    "    \n",
    "        mcoord [ mconect [ elemento, [2, 6 ] ], 0 ] = [ mcoord [ mconect [ elemento - NEP , 1 ], 0 ], \\\n",
    "                                                        mcoord [ mconect [ elemento - NEP , 1 ], 0 ] ]\n",
    "        mcoord [ mconect [ elemento, [2, 6 ] ], 1 ] = [ mcoord [ mconect [ elemento - NEP , 1 ], 1 ], \\\n",
    "                                                        mcoord [ mconect [ elemento - NEP , 5 ], 1 ] ]\n",
    "        mcoord [ mconect [ elemento, [2, 6 ] ], 2 ] = [ Z [ profundidade_elementar + 1 ], Z [ profundidade_elementar + 1 ] ]\n",
    "        no_atual += 2\n",
    "\n",
    "    elif elemento == ( ( linha_elementar - 1 ) * EX ) + 1:\n",
    "        #=================================================================================================================\n",
    "        #PRIMEIRA COLUNA DAS CAMADAS EXCETO A PRIMEIRA\n",
    "        #=================================================================================================================\n",
    "        mconect [ elemento, : ] = [ mconect [ elemento - EX ] [ 4 ], mconect [ elemento - EX ] [ 5 ] ,\\\n",
    "                                    mconect [ elemento - EX ] [ 6 ], mconect [ elemento - EX ] [ 7 ] ,\\\n",
    "                                    mconect [ elemento - NEP ] [ 7 ], mconect [ elemento - NEP ] [ 6 ] ,\\\n",
    "                                    no_atual + 1, no_atual + 2 ]\n",
    "    \n",
    "        mcoord [ mconect [ elemento, 6:8 ], 0 ] = [ mcoord [ mconect [ elemento - NEP , 5 ], 0 ], \\\n",
    "                                                    mcoord [ mconect [ elemento - NEP , 4 ], 0 ] ]\n",
    "        mcoord [ mconect [ elemento, 6:8 ], 1 ] = [ mcoord [ mconect [ elemento - NEP , 5 ], 1 ], \\\n",
    "                                                    mcoord [ mconect [ elemento - NEP , 4 ], 1 ] ]\n",
    "        mcoord [ mconect [ elemento, 6:8 ], 2 ] = [ Z [ profundidade_elementar + 1 ], Z [ profundidade_elementar + 1 ] ] \n",
    "        no_atual += 2\n",
    "    else:\n",
    "        #=================================================================================================================\n",
    "        #RESTANTE DAS OUTRAS CAMADAS EXCETO A PRIMEIRA (O QUE NÃO ESTÁ NEM NA PRIMEIRA COLUNA NEM NA PRIMEIRA LINHA\n",
    "        #NEM NA PRIMEIRA CAMADA)\n",
    "        #=================================================================================================================\n",
    "        mconect [ elemento ] [ : ] = [ mconect [ elemento - EX, 4 ], mconect [ elemento - EX, 5 ], \\\n",
    "                                      mconect [ elemento - EX, 6 ] , mconect [ elemento - EX, 7 ],\\\n",
    "                                      mconect [ elemento - 1, 5 ], mconect [ elemento - NEP, 6 ],\\\n",
    "                                      no_atual + 1, mconect [ elemento - 1, 6 ] ]\n",
    "\n",
    "        mcoord [ mconect [ elemento, 6 ], : ] = [ mcoord [ mconect [ elemento - NEP , 5 ], 0 ],\\\n",
    "                                                  mcoord [ mconect [ elemento - NEP , 5 ], 1 ],\\\n",
    "                                                  Z [ profundidade_elementar + 1 ] ]\n",
    "        no_atual += 1\n",
    "    if elemento == EX * linha_elementar:\n",
    "        linha_elementar += 1\n",
    "    if elemento == NEP * profundidade_elementar:\n",
    "        profundidade_elementar += 1\n",
    "    elemento += 1"
   ]
  },
  {
   "cell_type": "markdown",
   "id": "b8fe087b",
   "metadata": {},
   "source": [
    "# SUBDIVISÃO DO ARCABOUÇO EM MAIS ELEMENTOS"
   ]
  },
  {
   "cell_type": "markdown",
   "id": "38f3946f",
   "metadata": {},
   "source": [
    "## REORGANIZAÇÃO DO ARCABOUÇO EM FACES RETANGULARES"
   ]
  },
  {
   "cell_type": "code",
   "execution_count": 38,
   "id": "85761972",
   "metadata": {},
   "outputs": [],
   "source": [
    "mconect_polydata_square = copy.deepcopy(mconect)[elementos_validos]\n",
    "mconect_polydata_square = [np.concatenate(([4], face[[0,1,2,3]], [4], face[[0,1,5,4]], [4], face[[1,2,6,5]], \\\n",
    "                           [4], face[[3,2,6,7]], [4], face[[0,3,7,4]], [4], face[[4,5,6,7]] )) \\\n",
    "                           for face in mconect_polydata_square]\n",
    "faces_square = np.hstack(mconect_polydata_square)"
   ]
  },
  {
   "cell_type": "code",
   "execution_count": 44,
   "id": "d91b088e",
   "metadata": {},
   "outputs": [
    {
     "data": {
      "text/plain": [
       "[array([  4, 155, 157, 158, 156,   4, 155, 157, 199, 197,   4, 157, 158,\n",
       "        200, 199,   4, 156, 158, 200, 198,   4, 155, 156, 198, 197,   4,\n",
       "        197, 199, 200, 198]),\n",
       " array([  4, 197, 199, 200, 198,   4, 197, 199, 241, 239,   4, 199, 200,\n",
       "        242, 241,   4, 198, 200, 242, 240,   4, 197, 198, 240, 239,   4,\n",
       "        239, 241, 242, 240]),\n",
       " array([  4, 199, 201, 202, 200,   4, 199, 201, 243, 241,   4, 201, 202,\n",
       "        244, 243,   4, 200, 202, 244, 242,   4, 199, 200, 242, 241,   4,\n",
       "        241, 243, 244, 242]),\n",
       " array([  4, 239, 241, 242, 240,   4, 239, 241, 283, 281,   4, 241, 242,\n",
       "        284, 283,   4, 240, 242, 284, 282,   4, 239, 240, 282, 281,   4,\n",
       "        281, 283, 284, 282]),\n",
       " array([  4, 241, 243, 244, 242,   4, 241, 243, 285, 283,   4, 243, 244,\n",
       "        286, 285,   4, 242, 244, 286, 284,   4, 241, 242, 284, 283,   4,\n",
       "        283, 285, 286, 284]),\n",
       " array([  4, 281, 283, 284, 282,   4, 281, 283, 325, 323,   4, 283, 284,\n",
       "        326, 325,   4, 282, 284, 326, 324,   4, 281, 282, 324, 323,   4,\n",
       "        323, 325, 326, 324]),\n",
       " array([  4, 283, 285, 286, 284,   4, 283, 285, 327, 325,   4, 285, 286,\n",
       "        328, 327,   4, 284, 286, 328, 326,   4, 283, 284, 326, 325,   4,\n",
       "        325, 327, 328, 326]),\n",
       " array([  4, 321, 323, 324, 322,   4, 321, 323, 365, 363,   4, 323, 324,\n",
       "        366, 365,   4, 322, 324, 366, 364,   4, 321, 322, 364, 363,   4,\n",
       "        363, 365, 366, 364]),\n",
       " array([  4, 323, 325, 326, 324,   4, 323, 325, 367, 365,   4, 325, 326,\n",
       "        368, 367,   4, 324, 326, 368, 366,   4, 323, 324, 366, 365,   4,\n",
       "        365, 367, 368, 366]),\n",
       " array([  4, 325, 327, 328, 326,   4, 325, 327, 369, 367,   4, 327, 328,\n",
       "        370, 369,   4, 326, 328, 370, 368,   4, 325, 326, 368, 367,   4,\n",
       "        367, 369, 370, 368]),\n",
       " array([  4, 363, 365, 366, 364,   4, 363, 365, 407, 405,   4, 365, 366,\n",
       "        408, 407,   4, 364, 366, 408, 406,   4, 363, 364, 406, 405,   4,\n",
       "        405, 407, 408, 406]),\n",
       " array([  4, 365, 367, 368, 366,   4, 365, 367, 409, 407,   4, 367, 368,\n",
       "        410, 409,   4, 366, 368, 410, 408,   4, 365, 366, 408, 407,   4,\n",
       "        407, 409, 410, 408]),\n",
       " array([  4, 367, 369, 370, 368,   4, 367, 369, 411, 409,   4, 369, 370,\n",
       "        412, 411,   4, 368, 370, 412, 410,   4, 367, 368, 410, 409,   4,\n",
       "        409, 411, 412, 410]),\n",
       " array([  4, 369, 371, 372, 370,   4, 369, 371, 413, 411,   4, 371, 372,\n",
       "        414, 413,   4, 370, 372, 414, 412,   4, 369, 370, 412, 411,   4,\n",
       "        411, 413, 414, 412]),\n",
       " array([  4, 375, 377, 378, 376,   4, 375, 377, 419, 417,   4, 377, 378,\n",
       "        420, 419,   4, 376, 378, 420, 418,   4, 375, 376, 418, 417,   4,\n",
       "        417, 419, 420, 418]),\n",
       " array([  4, 405, 407, 408, 406,   4, 405, 407, 449, 447,   4, 407, 408,\n",
       "        450, 449,   4, 406, 408, 450, 448,   4, 405, 406, 448, 447,   4,\n",
       "        447, 449, 450, 448]),\n",
       " array([  4, 407, 409, 410, 408,   4, 407, 409, 451, 449,   4, 409, 410,\n",
       "        452, 451,   4, 408, 410, 452, 450,   4, 407, 408, 450, 449,   4,\n",
       "        449, 451, 452, 450]),\n",
       " array([  4, 409, 411, 412, 410,   4, 409, 411, 453, 451,   4, 411, 412,\n",
       "        454, 453,   4, 410, 412, 454, 452,   4, 409, 410, 452, 451,   4,\n",
       "        451, 453, 454, 452]),\n",
       " array([  4, 411, 413, 414, 412,   4, 411, 413, 455, 453,   4, 413, 414,\n",
       "        456, 455,   4, 412, 414, 456, 454,   4, 411, 412, 454, 453,   4,\n",
       "        453, 455, 456, 454]),\n",
       " array([  4, 413, 415, 416, 414,   4, 413, 415, 457, 455,   4, 415, 416,\n",
       "        458, 457,   4, 414, 416, 458, 456,   4, 413, 414, 456, 455,   4,\n",
       "        455, 457, 458, 456]),\n",
       " array([  4, 415, 417, 418, 416,   4, 415, 417, 459, 457,   4, 417, 418,\n",
       "        460, 459,   4, 416, 418, 460, 458,   4, 415, 416, 458, 457,   4,\n",
       "        457, 459, 460, 458]),\n",
       " array([  4, 417, 419, 420, 418,   4, 417, 419, 461, 459,   4, 419, 420,\n",
       "        462, 461,   4, 418, 420, 462, 460,   4, 417, 418, 460, 459,   4,\n",
       "        459, 461, 462, 460]),\n",
       " array([  4, 447, 449, 450, 448,   4, 447, 449, 491, 489,   4, 449, 450,\n",
       "        492, 491,   4, 448, 450, 492, 490,   4, 447, 448, 490, 489,   4,\n",
       "        489, 491, 492, 490]),\n",
       " array([  4, 449, 451, 452, 450,   4, 449, 451, 493, 491,   4, 451, 452,\n",
       "        494, 493,   4, 450, 452, 494, 492,   4, 449, 450, 492, 491,   4,\n",
       "        491, 493, 494, 492]),\n",
       " array([  4, 451, 453, 454, 452,   4, 451, 453, 495, 493,   4, 453, 454,\n",
       "        496, 495,   4, 452, 454, 496, 494,   4, 451, 452, 494, 493,   4,\n",
       "        493, 495, 496, 494]),\n",
       " array([  4, 453, 455, 456, 454,   4, 453, 455, 497, 495,   4, 455, 456,\n",
       "        498, 497,   4, 454, 456, 498, 496,   4, 453, 454, 496, 495,   4,\n",
       "        495, 497, 498, 496]),\n",
       " array([  4, 455, 457, 458, 456,   4, 455, 457, 499, 497,   4, 457, 458,\n",
       "        500, 499,   4, 456, 458, 500, 498,   4, 455, 456, 498, 497,   4,\n",
       "        497, 499, 500, 498]),\n",
       " array([  4, 457, 459, 460, 458,   4, 457, 459, 501, 499,   4, 459, 460,\n",
       "        502, 501,   4, 458, 460, 502, 500,   4, 457, 458, 500, 499,   4,\n",
       "        499, 501, 502, 500]),\n",
       " array([  4, 489, 491, 492, 490,   4, 489, 491, 533, 531,   4, 491, 492,\n",
       "        534, 533,   4, 490, 492, 534, 532,   4, 489, 490, 532, 531,   4,\n",
       "        531, 533, 534, 532]),\n",
       " array([  4, 491, 493, 494, 492,   4, 491, 493, 535, 533,   4, 493, 494,\n",
       "        536, 535,   4, 492, 494, 536, 534,   4, 491, 492, 534, 533,   4,\n",
       "        533, 535, 536, 534]),\n",
       " array([  4, 493, 495, 496, 494,   4, 493, 495, 537, 535,   4, 495, 496,\n",
       "        538, 537,   4, 494, 496, 538, 536,   4, 493, 494, 536, 535,   4,\n",
       "        535, 537, 538, 536]),\n",
       " array([  4, 495, 497, 498, 496,   4, 495, 497, 539, 537,   4, 497, 498,\n",
       "        540, 539,   4, 496, 498, 540, 538,   4, 495, 496, 538, 537,   4,\n",
       "        537, 539, 540, 538]),\n",
       " array([  4, 497, 499, 500, 498,   4, 497, 499, 541, 539,   4, 499, 500,\n",
       "        542, 541,   4, 498, 500, 542, 540,   4, 497, 498, 540, 539,   4,\n",
       "        539, 541, 542, 540]),\n",
       " array([  4, 529, 531, 532, 530,   4, 529, 531, 573, 571,   4, 531, 532,\n",
       "        574, 573,   4, 530, 532, 574, 572,   4, 529, 530, 572, 571,   4,\n",
       "        571, 573, 574, 572]),\n",
       " array([  4, 531, 533, 534, 532,   4, 531, 533, 575, 573,   4, 533, 534,\n",
       "        576, 575,   4, 532, 534, 576, 574,   4, 531, 532, 574, 573,   4,\n",
       "        573, 575, 576, 574]),\n",
       " array([  4, 533, 535, 536, 534,   4, 533, 535, 577, 575,   4, 535, 536,\n",
       "        578, 577,   4, 534, 536, 578, 576,   4, 533, 534, 576, 575,   4,\n",
       "        575, 577, 578, 576]),\n",
       " array([  4, 535, 537, 538, 536,   4, 535, 537, 579, 577,   4, 537, 538,\n",
       "        580, 579,   4, 536, 538, 580, 578,   4, 535, 536, 578, 577,   4,\n",
       "        577, 579, 580, 578]),\n",
       " array([  4, 537, 539, 540, 538,   4, 537, 539, 581, 579,   4, 539, 540,\n",
       "        582, 581,   4, 538, 540, 582, 580,   4, 537, 538, 580, 579,   4,\n",
       "        579, 581, 582, 580]),\n",
       " array([  4, 539, 541, 542, 540,   4, 539, 541, 583, 581,   4, 541, 542,\n",
       "        584, 583,   4, 540, 542, 584, 582,   4, 539, 540, 582, 581,   4,\n",
       "        581, 583, 584, 582]),\n",
       " array([  4, 571, 573, 574, 572,   4, 571, 573, 615, 613,   4, 573, 574,\n",
       "        616, 615,   4, 572, 574, 616, 614,   4, 571, 572, 614, 613,   4,\n",
       "        613, 615, 616, 614]),\n",
       " array([  4, 573, 575, 576, 574,   4, 573, 575, 617, 615,   4, 575, 576,\n",
       "        618, 617,   4, 574, 576, 618, 616,   4, 573, 574, 616, 615,   4,\n",
       "        615, 617, 618, 616]),\n",
       " array([  4, 611, 613, 614, 612,   4, 611, 613, 655, 653,   4, 613, 614,\n",
       "        656, 655,   4, 612, 614, 656, 654,   4, 611, 612, 654, 653,   4,\n",
       "        653, 655, 656, 654]),\n",
       " array([  4, 613, 615, 616, 614,   4, 613, 615, 657, 655,   4, 615, 616,\n",
       "        658, 657,   4, 614, 616, 658, 656,   4, 613, 614, 656, 655,   4,\n",
       "        655, 657, 658, 656]),\n",
       " array([  4, 615, 617, 618, 616,   4, 615, 617, 659, 657,   4, 617, 618,\n",
       "        660, 659,   4, 616, 618, 660, 658,   4, 615, 616, 658, 657,   4,\n",
       "        657, 659, 660, 658]),\n",
       " array([  4,  62,  66, 705, 703,   4,  62,  66,  68,  64,   4,  66, 705,\n",
       "        706,  68,   4, 703, 705, 706, 704,   4,  62, 703, 704,  64,   4,\n",
       "         64,  68, 706, 704]),\n",
       " array([  4,  64,  68, 706, 704,   4,  64,  68, 118, 116,   4,  68, 706,\n",
       "        731, 118,   4, 704, 706, 731, 730,   4,  64, 704, 730, 116,   4,\n",
       "        116, 118, 731, 730]),\n",
       " array([  4, 198, 200, 772, 771,   4, 198, 200, 242, 240,   4, 200, 772,\n",
       "        793, 242,   4, 771, 772, 793, 792,   4, 198, 771, 792, 240,   4,\n",
       "        240, 242, 793, 792]),\n",
       " array([  4, 200, 202, 773, 772,   4, 200, 202, 244, 242,   4, 202, 773,\n",
       "        794, 244,   4, 772, 773, 794, 793,   4, 200, 772, 793, 242,   4,\n",
       "        242, 244, 794, 793]),\n",
       " array([  4, 240, 242, 793, 792,   4, 240, 242, 284, 282,   4, 242, 793,\n",
       "        814, 284,   4, 792, 793, 814, 813,   4, 240, 792, 813, 282,   4,\n",
       "        282, 284, 814, 813]),\n",
       " array([  4, 242, 244, 794, 793,   4, 242, 244, 286, 284,   4, 244, 794,\n",
       "        815, 286,   4, 793, 794, 815, 814,   4, 242, 793, 814, 284,   4,\n",
       "        284, 286, 815, 814]),\n",
       " array([  4, 280, 282, 813, 812,   4, 280, 282, 324, 322,   4, 282, 813,\n",
       "        834, 324,   4, 812, 813, 834, 833,   4, 280, 812, 833, 322,   4,\n",
       "        322, 324, 834, 833]),\n",
       " array([  4, 282, 284, 814, 813,   4, 282, 284, 326, 324,   4, 284, 814,\n",
       "        835, 326,   4, 813, 814, 835, 834,   4, 282, 813, 834, 324,   4,\n",
       "        324, 326, 835, 834]),\n",
       " array([  4, 284, 286, 815, 814,   4, 284, 286, 328, 326,   4, 286, 815,\n",
       "        836, 328,   4, 814, 815, 836, 835,   4, 284, 814, 835, 326,   4,\n",
       "        326, 328, 836, 835]),\n",
       " array([  4, 322, 324, 834, 833,   4, 322, 324, 366, 364,   4, 324, 834,\n",
       "        855, 366,   4, 833, 834, 855, 854,   4, 322, 833, 854, 364,   4,\n",
       "        364, 366, 855, 854]),\n",
       " array([  4, 324, 326, 835, 834,   4, 324, 326, 368, 366,   4, 326, 835,\n",
       "        856, 368,   4, 834, 835, 856, 855,   4, 324, 834, 855, 366,   4,\n",
       "        366, 368, 856, 855]),\n",
       " array([  4, 326, 328, 836, 835,   4, 326, 328, 370, 368,   4, 328, 836,\n",
       "        857, 370,   4, 835, 836, 857, 856,   4, 326, 835, 856, 368,   4,\n",
       "        368, 370, 857, 856]),\n",
       " array([  4, 362, 364, 854, 853,   4, 362, 364, 406, 404,   4, 364, 854,\n",
       "        875, 406,   4, 853, 854, 875, 874,   4, 362, 853, 874, 404,   4,\n",
       "        404, 406, 875, 874]),\n",
       " array([  4, 364, 366, 855, 854,   4, 364, 366, 408, 406,   4, 366, 855,\n",
       "        876, 408,   4, 854, 855, 876, 875,   4, 364, 854, 875, 406,   4,\n",
       "        406, 408, 876, 875]),\n",
       " array([  4, 366, 368, 856, 855,   4, 366, 368, 410, 408,   4, 368, 856,\n",
       "        877, 410,   4, 855, 856, 877, 876,   4, 366, 855, 876, 408,   4,\n",
       "        408, 410, 877, 876]),\n",
       " array([  4, 368, 370, 857, 856,   4, 368, 370, 412, 410,   4, 370, 857,\n",
       "        878, 412,   4, 856, 857, 878, 877,   4, 368, 856, 877, 410,   4,\n",
       "        410, 412, 878, 877]),\n",
       " array([  4, 404, 406, 875, 874,   4, 404, 406, 448, 446,   4, 406, 875,\n",
       "        896, 448,   4, 874, 875, 896, 895,   4, 404, 874, 895, 446,   4,\n",
       "        446, 448, 896, 895]),\n",
       " array([  4, 406, 408, 876, 875,   4, 406, 408, 450, 448,   4, 408, 876,\n",
       "        897, 450,   4, 875, 876, 897, 896,   4, 406, 875, 896, 448,   4,\n",
       "        448, 450, 897, 896]),\n",
       " array([  4, 408, 410, 877, 876,   4, 408, 410, 452, 450,   4, 410, 877,\n",
       "        898, 452,   4, 876, 877, 898, 897,   4, 408, 876, 897, 450,   4,\n",
       "        450, 452, 898, 897]),\n",
       " array([  4, 410, 412, 878, 877,   4, 410, 412, 454, 452,   4, 412, 878,\n",
       "        899, 454,   4, 877, 878, 899, 898,   4, 410, 877, 898, 452,   4,\n",
       "        452, 454, 899, 898]),\n",
       " array([  4, 412, 414, 879, 878,   4, 412, 414, 456, 454,   4, 414, 879,\n",
       "        900, 456,   4, 878, 879, 900, 899,   4, 412, 878, 899, 454,   4,\n",
       "        454, 456, 900, 899]),\n",
       " array([  4, 444, 446, 895, 894,   4, 444, 446, 488, 486,   4, 446, 895,\n",
       "        916, 488,   4, 894, 895, 916, 915,   4, 444, 894, 915, 486,   4,\n",
       "        486, 488, 916, 915]),\n",
       " array([  4, 446, 448, 896, 895,   4, 446, 448, 490, 488,   4, 448, 896,\n",
       "        917, 490,   4, 895, 896, 917, 916,   4, 446, 895, 916, 488,   4,\n",
       "        488, 490, 917, 916]),\n",
       " array([  4, 448, 450, 897, 896,   4, 448, 450, 492, 490,   4, 450, 897,\n",
       "        918, 492,   4, 896, 897, 918, 917,   4, 448, 896, 917, 490,   4,\n",
       "        490, 492, 918, 917]),\n",
       " array([  4, 450, 452, 898, 897,   4, 450, 452, 494, 492,   4, 452, 898,\n",
       "        919, 494,   4, 897, 898, 919, 918,   4, 450, 897, 918, 492,   4,\n",
       "        492, 494, 919, 918]),\n",
       " array([  4, 452, 454, 899, 898,   4, 452, 454, 496, 494,   4, 454, 899,\n",
       "        920, 496,   4, 898, 899, 920, 919,   4, 452, 898, 919, 494,   4,\n",
       "        494, 496, 920, 919]),\n",
       " array([  4, 454, 456, 900, 899,   4, 454, 456, 498, 496,   4, 456, 900,\n",
       "        921, 498,   4, 899, 900, 921, 920,   4, 454, 899, 920, 496,   4,\n",
       "        496, 498, 921, 920]),\n",
       " array([  4, 456, 458, 901, 900,   4, 456, 458, 500, 498,   4, 458, 901,\n",
       "        922, 500,   4, 900, 901, 922, 921,   4, 456, 900, 921, 498,   4,\n",
       "        498, 500, 922, 921]),\n",
       " array([  4, 486, 488, 916, 915,   4, 486, 488, 530, 528,   4, 488, 916,\n",
       "        937, 530,   4, 915, 916, 937, 936,   4, 486, 915, 936, 528,   4,\n",
       "        528, 530, 937, 936]),\n",
       " array([  4, 488, 490, 917, 916,   4, 488, 490, 532, 530,   4, 490, 917,\n",
       "        938, 532,   4, 916, 917, 938, 937,   4, 488, 916, 937, 530,   4,\n",
       "        530, 532, 938, 937]),\n",
       " array([  4, 494, 496, 920, 919,   4, 494, 496, 538, 536,   4, 496, 920,\n",
       "        941, 538,   4, 919, 920, 941, 940,   4, 494, 919, 940, 536,   4,\n",
       "        536, 538, 941, 940]),\n",
       " array([  4, 496, 498, 921, 920,   4, 496, 498, 540, 538,   4, 498, 921,\n",
       "        942, 540,   4, 920, 921, 942, 941,   4, 496, 920, 941, 538,   4,\n",
       "        538, 540, 942, 941]),\n",
       " array([  4, 498, 500, 922, 921,   4, 498, 500, 542, 540,   4, 500, 922,\n",
       "        943, 542,   4, 921, 922, 943, 942,   4, 498, 921, 942, 540,   4,\n",
       "        540, 542, 943, 942]),\n",
       " array([  4, 528, 530, 937, 936,   4, 528, 530, 572, 570,   4, 530, 937,\n",
       "        958, 572,   4, 936, 937, 958, 957,   4, 528, 936, 957, 570,   4,\n",
       "        570, 572, 958, 957]),\n",
       " array([  4, 530, 532, 938, 937,   4, 530, 532, 574, 572,   4, 532, 938,\n",
       "        959, 574,   4, 937, 938, 959, 958,   4, 530, 937, 958, 572,   4,\n",
       "        572, 574, 959, 958]),\n",
       " array([  4, 538, 540, 942, 941,   4, 538, 540, 582, 580,   4, 540, 942,\n",
       "        963, 582,   4, 941, 942, 963, 962,   4, 538, 941, 962, 580,   4,\n",
       "        580, 582, 963, 962]),\n",
       " array([  4, 568, 570, 957, 956,   4, 568, 570, 612, 610,   4, 570, 957,\n",
       "        978, 612,   4, 956, 957, 978, 977,   4, 568, 956, 977, 610,   4,\n",
       "        610, 612, 978, 977]),\n",
       " array([  4, 570, 572, 958, 957,   4, 570, 572, 614, 612,   4, 572, 958,\n",
       "        979, 614,   4, 957, 958, 979, 978,   4, 570, 957, 978, 612,   4,\n",
       "        612, 614, 979, 978]),\n",
       " array([  4, 572, 574, 959, 958,   4, 572, 574, 616, 614,   4, 574, 959,\n",
       "        980, 616,   4, 958, 959, 980, 979,   4, 572, 958, 979, 614,   4,\n",
       "        614, 616, 980, 979]),\n",
       " array([  4, 610, 612, 978, 977,   4, 610, 612, 654, 652,   4, 612, 978,\n",
       "        999, 654,   4, 977, 978, 999, 998,   4, 610, 977, 998, 652,   4,\n",
       "        652, 654, 999, 998]),\n",
       " array([   4,  612,  614,  979,  978,    4,  612,  614,  656,  654,    4,\n",
       "         614,  979, 1000,  656,    4,  978,  979, 1000,  999,    4,  612,\n",
       "         978,  999,  654,    4,  654,  656, 1000,  999]),\n",
       " array([   4,  614,  616,  980,  979,    4,  614,  616,  658,  656,    4,\n",
       "         616,  980, 1001,  658,    4,  979,  980, 1001, 1000,    4,  614,\n",
       "         979, 1000,  656,    4,  656,  658, 1001, 1000]),\n",
       " array([   4,  701,  703, 1039, 1037,    4,  701,  703,  704,  702,    4,\n",
       "         703, 1039, 1040,  704,    4, 1037, 1039, 1040, 1038,    4,  701,\n",
       "        1037, 1038,  702,    4,  702,  704, 1040, 1038]),\n",
       " array([   4,  703,  705, 1041, 1039,    4,  703,  705,  706,  704,    4,\n",
       "         705, 1041, 1042,  706,    4, 1039, 1041, 1042, 1040,    4,  703,\n",
       "        1039, 1040,  704,    4,  704,  706, 1042, 1040]),\n",
       " array([   4,  711,  713, 1049, 1047,    4,  711,  713,  714,  712,    4,\n",
       "         713, 1049, 1050,  714,    4, 1047, 1049, 1050, 1048,    4,  711,\n",
       "        1047, 1048,  712,    4,  712,  714, 1050, 1048]),\n",
       " array([   4,  702,  704, 1040, 1038,    4,  702,  704,  730,  729,    4,\n",
       "         704, 1040, 1066,  730,    4, 1038, 1040, 1066, 1065,    4,  702,\n",
       "        1038, 1065,  729,    4,  729,  730, 1066, 1065]),\n",
       " array([   4,  704,  706, 1042, 1040,    4,  704,  706,  731,  730,    4,\n",
       "         706, 1042, 1067,  731,    4, 1040, 1042, 1067, 1066,    4,  704,\n",
       "        1040, 1066,  730,    4,  730,  731, 1067, 1066]),\n",
       " array([   4,  729,  730, 1066, 1065,    4,  729,  730,  751,  750,    4,\n",
       "         730, 1066, 1087,  751,    4, 1065, 1066, 1087, 1086,    4,  729,\n",
       "        1065, 1086,  750,    4,  750,  751, 1087, 1086]),\n",
       " array([   4,  749,  750, 1086, 1085,    4,  749,  750,  771,  770,    4,\n",
       "         750, 1086, 1107,  771,    4, 1085, 1086, 1107, 1106,    4,  749,\n",
       "        1085, 1106,  770,    4,  770,  771, 1107, 1106]),\n",
       " array([   4,  750,  751, 1087, 1086,    4,  750,  751,  772,  771,    4,\n",
       "         751, 1087, 1108,  772,    4, 1086, 1087, 1108, 1107,    4,  750,\n",
       "        1086, 1107,  771,    4,  771,  772, 1108, 1107]),\n",
       " array([   4,  770,  771, 1107, 1106,    4,  770,  771,  792,  791,    4,\n",
       "         771, 1107, 1128,  792,    4, 1106, 1107, 1128, 1127,    4,  770,\n",
       "        1106, 1127,  791,    4,  791,  792, 1128, 1127]),\n",
       " array([   4,  771,  772, 1108, 1107,    4,  771,  772,  793,  792,    4,\n",
       "         772, 1108, 1129,  793,    4, 1107, 1108, 1129, 1128,    4,  771,\n",
       "        1107, 1128,  792,    4,  792,  793, 1129, 1128]),\n",
       " array([   4,  791,  792, 1128, 1127,    4,  791,  792,  813,  812,    4,\n",
       "         792, 1128, 1149,  813,    4, 1127, 1128, 1149, 1148,    4,  791,\n",
       "        1127, 1148,  812,    4,  812,  813, 1149, 1148]),\n",
       " array([   4,  792,  793, 1129, 1128,    4,  792,  793,  814,  813,    4,\n",
       "         793, 1129, 1150,  814,    4, 1128, 1129, 1150, 1149,    4,  792,\n",
       "        1128, 1149,  813,    4,  813,  814, 1150, 1149]),\n",
       " array([   4,  793,  794, 1130, 1129,    4,  793,  794,  815,  814,    4,\n",
       "         794, 1130, 1151,  815,    4, 1129, 1130, 1151, 1150,    4,  793,\n",
       "        1129, 1150,  814,    4,  814,  815, 1151, 1150]),\n",
       " array([   4,  811,  812, 1148, 1147,    4,  811,  812,  833,  832,    4,\n",
       "         812, 1148, 1169,  833,    4, 1147, 1148, 1169, 1168,    4,  811,\n",
       "        1147, 1168,  832,    4,  832,  833, 1169, 1168]),\n",
       " array([   4,  812,  813, 1149, 1148,    4,  812,  813,  834,  833,    4,\n",
       "         813, 1149, 1170,  834,    4, 1148, 1149, 1170, 1169,    4,  812,\n",
       "        1148, 1169,  833,    4,  833,  834, 1170, 1169]),\n",
       " array([   4,  813,  814, 1150, 1149,    4,  813,  814,  835,  834,    4,\n",
       "         814, 1150, 1171,  835,    4, 1149, 1150, 1171, 1170,    4,  813,\n",
       "        1149, 1170,  834,    4,  834,  835, 1171, 1170]),\n",
       " array([   4,  832,  833, 1169, 1168,    4,  832,  833,  854,  853,    4,\n",
       "         833, 1169, 1190,  854,    4, 1168, 1169, 1190, 1189,    4,  832,\n",
       "        1168, 1189,  853,    4,  853,  854, 1190, 1189]),\n",
       " array([   4,  833,  834, 1170, 1169,    4,  833,  834,  855,  854,    4,\n",
       "         834, 1170, 1191,  855,    4, 1169, 1170, 1191, 1190,    4,  833,\n",
       "        1169, 1190,  854,    4,  854,  855, 1191, 1190]),\n",
       " array([   4,  834,  835, 1171, 1170,    4,  834,  835,  856,  855,    4,\n",
       "         835, 1171, 1192,  856,    4, 1170, 1171, 1192, 1191,    4,  834,\n",
       "        1170, 1191,  855,    4,  855,  856, 1192, 1191]),\n",
       " array([   4,  853,  854, 1190, 1189,    4,  853,  854,  875,  874,    4,\n",
       "         854, 1190, 1211,  875,    4, 1189, 1190, 1211, 1210,    4,  853,\n",
       "        1189, 1210,  874,    4,  874,  875, 1211, 1210]),\n",
       " array([   4,  854,  855, 1191, 1190,    4,  854,  855,  876,  875,    4,\n",
       "         855, 1191, 1212,  876,    4, 1190, 1191, 1212, 1211,    4,  854,\n",
       "        1190, 1211,  875,    4,  875,  876, 1212, 1211]),\n",
       " array([   4,  873,  874, 1210, 1209,    4,  873,  874,  895,  894,    4,\n",
       "         874, 1210, 1231,  895,    4, 1209, 1210, 1231, 1230,    4,  873,\n",
       "        1209, 1230,  894,    4,  894,  895, 1231, 1230]),\n",
       " array([   4,  874,  875, 1211, 1210,    4,  874,  875,  896,  895,    4,\n",
       "         875, 1211, 1232,  896,    4, 1210, 1211, 1232, 1231,    4,  874,\n",
       "        1210, 1231,  895,    4,  895,  896, 1232, 1231]),\n",
       " array([   4,  875,  876, 1212, 1211,    4,  875,  876,  897,  896,    4,\n",
       "         876, 1212, 1233,  897,    4, 1211, 1212, 1233, 1232,    4,  875,\n",
       "        1211, 1232,  896,    4,  896,  897, 1233, 1232]),\n",
       " array([   4,  894,  895, 1231, 1230,    4,  894,  895,  916,  915,    4,\n",
       "         895, 1231, 1252,  916,    4, 1230, 1231, 1252, 1251,    4,  894,\n",
       "        1230, 1251,  915,    4,  915,  916, 1252, 1251]),\n",
       " array([   4,  895,  896, 1232, 1231,    4,  895,  896,  917,  916,    4,\n",
       "         896, 1232, 1253,  917,    4, 1231, 1232, 1253, 1252,    4,  895,\n",
       "        1231, 1252,  916,    4,  916,  917, 1253, 1252]),\n",
       " array([   4,  899,  900, 1236, 1235,    4,  899,  900,  921,  920,    4,\n",
       "         900, 1236, 1257,  921,    4, 1235, 1236, 1257, 1256,    4,  899,\n",
       "        1235, 1256,  920,    4,  920,  921, 1257, 1256]),\n",
       " array([   4,  914,  915, 1251, 1250,    4,  914,  915,  936,  935,    4,\n",
       "         915, 1251, 1272,  936,    4, 1250, 1251, 1272, 1271,    4,  914,\n",
       "        1250, 1271,  935,    4,  935,  936, 1272, 1271]),\n",
       " array([   4,  915,  916, 1252, 1251,    4,  915,  916,  937,  936,    4,\n",
       "         916, 1252, 1273,  937,    4, 1251, 1252, 1273, 1272,    4,  915,\n",
       "        1251, 1272,  936,    4,  936,  937, 1273, 1272]),\n",
       " array([   4,  916,  917, 1253, 1252,    4,  916,  917,  938,  937,    4,\n",
       "         917, 1253, 1274,  938,    4, 1252, 1253, 1274, 1273,    4,  916,\n",
       "        1252, 1273,  937,    4,  937,  938, 1274, 1273]),\n",
       " array([   4,  919,  920, 1256, 1255,    4,  919,  920,  941,  940,    4,\n",
       "         920, 1256, 1277,  941,    4, 1255, 1256, 1277, 1276,    4,  919,\n",
       "        1255, 1276,  940,    4,  940,  941, 1277, 1276]),\n",
       " array([   4,  920,  921, 1257, 1256,    4,  920,  921,  942,  941,    4,\n",
       "         921, 1257, 1278,  942,    4, 1256, 1257, 1278, 1277,    4,  920,\n",
       "        1256, 1277,  941,    4,  941,  942, 1278, 1277]),\n",
       " array([   4,  935,  936, 1272, 1271,    4,  935,  936,  957,  956,    4,\n",
       "         936, 1272, 1293,  957,    4, 1271, 1272, 1293, 1292,    4,  935,\n",
       "        1271, 1292,  956,    4,  956,  957, 1293, 1292]),\n",
       " array([   4,  936,  937, 1273, 1272,    4,  936,  937,  958,  957,    4,\n",
       "         937, 1273, 1294,  958,    4, 1272, 1273, 1294, 1293,    4,  936,\n",
       "        1272, 1293,  957,    4,  957,  958, 1294, 1293]),\n",
       " array([   4,  937,  938, 1274, 1273,    4,  937,  938,  959,  958,    4,\n",
       "         938, 1274, 1295,  959,    4, 1273, 1274, 1295, 1294,    4,  937,\n",
       "        1273, 1294,  958,    4,  958,  959, 1295, 1294]),\n",
       " array([   4,  940,  941, 1277, 1276,    4,  940,  941,  962,  961,    4,\n",
       "         941, 1277, 1298,  962,    4, 1276, 1277, 1298, 1297,    4,  940,\n",
       "        1276, 1297,  961,    4,  961,  962, 1298, 1297]),\n",
       " array([   4,  941,  942, 1278, 1277,    4,  941,  942,  963,  962,    4,\n",
       "         942, 1278, 1299,  963,    4, 1277, 1278, 1299, 1298,    4,  941,\n",
       "        1277, 1298,  962,    4,  962,  963, 1299, 1298]),\n",
       " array([   4,  955,  956, 1292, 1291,    4,  955,  956,  977,  976,    4,\n",
       "         956, 1292, 1313,  977,    4, 1291, 1292, 1313, 1312,    4,  955,\n",
       "        1291, 1312,  976,    4,  976,  977, 1313, 1312]),\n",
       " array([   4,  956,  957, 1293, 1292,    4,  956,  957,  978,  977,    4,\n",
       "         957, 1293, 1314,  978,    4, 1292, 1293, 1314, 1313,    4,  956,\n",
       "        1292, 1313,  977,    4,  977,  978, 1314, 1313]),\n",
       " array([   4,  957,  958, 1294, 1293,    4,  957,  958,  979,  978,    4,\n",
       "         958, 1294, 1315,  979,    4, 1293, 1294, 1315, 1314,    4,  957,\n",
       "        1293, 1314,  978,    4,  978,  979, 1315, 1314]),\n",
       " array([   4,  958,  959, 1295, 1294,    4,  958,  959,  980,  979,    4,\n",
       "         959, 1295, 1316,  980,    4, 1294, 1295, 1316, 1315,    4,  958,\n",
       "        1294, 1315,  979,    4,  979,  980, 1316, 1315]),\n",
       " array([   4,  965,  966, 1302, 1301,    4,  965,  966,  987,  986,    4,\n",
       "         966, 1302, 1323,  987,    4, 1301, 1302, 1323, 1322,    4,  965,\n",
       "        1301, 1322,  986,    4,  986,  987, 1323, 1322]),\n",
       " array([   4,  976,  977, 1313, 1312,    4,  976,  977,  998,  997,    4,\n",
       "         977, 1313, 1334,  998,    4, 1312, 1313, 1334, 1333,    4,  976,\n",
       "        1312, 1333,  997,    4,  997,  998, 1334, 1333]),\n",
       " array([   4,  977,  978, 1314, 1313,    4,  977,  978,  999,  998,    4,\n",
       "         978, 1314, 1335,  999,    4, 1313, 1314, 1335, 1334,    4,  977,\n",
       "        1313, 1334,  998,    4,  998,  999, 1335, 1334]),\n",
       " array([   4,  978,  979, 1315, 1314,    4,  978,  979, 1000,  999,    4,\n",
       "         979, 1315, 1336, 1000,    4, 1314, 1315, 1336, 1335,    4,  978,\n",
       "        1314, 1335,  999,    4,  999, 1000, 1336, 1335]),\n",
       " array([   4,  979,  980, 1316, 1315,    4,  979,  980, 1001, 1000,    4,\n",
       "         980, 1316, 1337, 1001,    4, 1315, 1316, 1337, 1336,    4,  979,\n",
       "        1315, 1336, 1000,    4, 1000, 1001, 1337, 1336]),\n",
       " array([   4,  985,  986, 1322, 1321,    4,  985,  986, 1007, 1006,    4,\n",
       "         986, 1322, 1343, 1007,    4, 1321, 1322, 1343, 1342,    4,  985,\n",
       "        1321, 1342, 1006,    4, 1006, 1007, 1343, 1342]),\n",
       " array([   4,  986,  987, 1323, 1322,    4,  986,  987, 1008, 1007,    4,\n",
       "         987, 1323, 1344, 1008,    4, 1322, 1323, 1344, 1343,    4,  986,\n",
       "        1322, 1343, 1007,    4, 1007, 1008, 1344, 1343]),\n",
       " array([   4, 1035, 1037, 1373, 1371,    4, 1035, 1037, 1038, 1036,    4,\n",
       "        1037, 1373, 1374, 1038,    4, 1371, 1373, 1374, 1372,    4, 1035,\n",
       "        1371, 1372, 1036,    4, 1036, 1038, 1374, 1372]),\n",
       " array([   4, 1037, 1039, 1375, 1373,    4, 1037, 1039, 1040, 1038,    4,\n",
       "        1039, 1375, 1376, 1040,    4, 1373, 1375, 1376, 1374,    4, 1037,\n",
       "        1373, 1374, 1038,    4, 1038, 1040, 1376, 1374]),\n",
       " array([   4, 1039, 1041, 1377, 1375,    4, 1039, 1041, 1042, 1040,    4,\n",
       "        1041, 1377, 1378, 1042,    4, 1375, 1377, 1378, 1376,    4, 1039,\n",
       "        1375, 1376, 1040,    4, 1040, 1042, 1378, 1376]),\n",
       " array([   4, 1041, 1043, 1379, 1377,    4, 1041, 1043, 1044, 1042,    4,\n",
       "        1043, 1379, 1380, 1044,    4, 1377, 1379, 1380, 1378,    4, 1041,\n",
       "        1377, 1378, 1042,    4, 1042, 1044, 1380, 1378]),\n",
       " array([   4, 1043, 1045, 1381, 1379,    4, 1043, 1045, 1046, 1044,    4,\n",
       "        1045, 1381, 1382, 1046,    4, 1379, 1381, 1382, 1380,    4, 1043,\n",
       "        1379, 1380, 1044,    4, 1044, 1046, 1382, 1380]),\n",
       " array([   4, 1045, 1047, 1383, 1381,    4, 1045, 1047, 1048, 1046,    4,\n",
       "        1047, 1383, 1384, 1048,    4, 1381, 1383, 1384, 1382,    4, 1045,\n",
       "        1381, 1382, 1046,    4, 1046, 1048, 1384, 1382]),\n",
       " array([   4, 1047, 1049, 1385, 1383,    4, 1047, 1049, 1050, 1048,    4,\n",
       "        1049, 1385, 1386, 1050,    4, 1383, 1385, 1386, 1384,    4, 1047,\n",
       "        1383, 1384, 1048,    4, 1048, 1050, 1386, 1384]),\n",
       " array([   4, 1036, 1038, 1374, 1372,    4, 1036, 1038, 1065, 1064,    4,\n",
       "        1038, 1374, 1401, 1065,    4, 1372, 1374, 1401, 1400,    4, 1036,\n",
       "        1372, 1400, 1064,    4, 1064, 1065, 1401, 1400]),\n",
       " array([   4, 1038, 1040, 1376, 1374,    4, 1038, 1040, 1066, 1065,    4,\n",
       "        1040, 1376, 1402, 1066,    4, 1374, 1376, 1402, 1401,    4, 1038,\n",
       "        1374, 1401, 1065,    4, 1065, 1066, 1402, 1401]),\n",
       " array([   4, 1040, 1042, 1378, 1376,    4, 1040, 1042, 1067, 1066,    4,\n",
       "        1042, 1378, 1403, 1067,    4, 1376, 1378, 1403, 1402,    4, 1040,\n",
       "        1376, 1402, 1066,    4, 1066, 1067, 1403, 1402]),\n",
       " array([   4, 1042, 1044, 1380, 1378,    4, 1042, 1044, 1068, 1067,    4,\n",
       "        1044, 1380, 1404, 1068,    4, 1378, 1380, 1404, 1403,    4, 1042,\n",
       "        1378, 1403, 1067,    4, 1067, 1068, 1404, 1403]),\n",
       " array([   4, 1044, 1046, 1382, 1380,    4, 1044, 1046, 1069, 1068,    4,\n",
       "        1046, 1382, 1405, 1069,    4, 1380, 1382, 1405, 1404,    4, 1044,\n",
       "        1380, 1404, 1068,    4, 1068, 1069, 1405, 1404]),\n",
       " array([   4, 1106, 1107, 1443, 1442,    4, 1106, 1107, 1128, 1127,    4,\n",
       "        1107, 1443, 1464, 1128,    4, 1442, 1443, 1464, 1463,    4, 1106,\n",
       "        1442, 1463, 1127,    4, 1127, 1128, 1464, 1463]),\n",
       " array([   4, 1107, 1108, 1444, 1443,    4, 1107, 1108, 1129, 1128,    4,\n",
       "        1108, 1444, 1465, 1129,    4, 1443, 1444, 1465, 1464,    4, 1107,\n",
       "        1443, 1464, 1128,    4, 1128, 1129, 1465, 1464]),\n",
       " array([   4, 1126, 1127, 1463, 1462,    4, 1126, 1127, 1148, 1147,    4,\n",
       "        1127, 1463, 1484, 1148,    4, 1462, 1463, 1484, 1483,    4, 1126,\n",
       "        1462, 1483, 1147,    4, 1147, 1148, 1484, 1483]),\n",
       " array([   4, 1127, 1128, 1464, 1463,    4, 1127, 1128, 1149, 1148,    4,\n",
       "        1128, 1464, 1485, 1149,    4, 1463, 1464, 1485, 1484,    4, 1127,\n",
       "        1463, 1484, 1148,    4, 1148, 1149, 1485, 1484]),\n",
       " array([   4, 1128, 1129, 1465, 1464,    4, 1128, 1129, 1150, 1149,    4,\n",
       "        1129, 1465, 1486, 1150,    4, 1464, 1465, 1486, 1485,    4, 1128,\n",
       "        1464, 1485, 1149,    4, 1149, 1150, 1486, 1485]),\n",
       " array([   4, 1129, 1130, 1466, 1465,    4, 1129, 1130, 1151, 1150,    4,\n",
       "        1130, 1466, 1487, 1151,    4, 1465, 1466, 1487, 1486,    4, 1129,\n",
       "        1465, 1486, 1150,    4, 1150, 1151, 1487, 1486]),\n",
       " array([   4, 1146, 1147, 1483, 1482,    4, 1146, 1147, 1168, 1167,    4,\n",
       "        1147, 1483, 1504, 1168,    4, 1482, 1483, 1504, 1503,    4, 1146,\n",
       "        1482, 1503, 1167,    4, 1167, 1168, 1504, 1503]),\n",
       " array([   4, 1147, 1148, 1484, 1483,    4, 1147, 1148, 1169, 1168,    4,\n",
       "        1148, 1484, 1505, 1169,    4, 1483, 1484, 1505, 1504,    4, 1147,\n",
       "        1483, 1504, 1168,    4, 1168, 1169, 1505, 1504]),\n",
       " array([   4, 1148, 1149, 1485, 1484,    4, 1148, 1149, 1170, 1169,    4,\n",
       "        1149, 1485, 1506, 1170,    4, 1484, 1485, 1506, 1505,    4, 1148,\n",
       "        1484, 1505, 1169,    4, 1169, 1170, 1506, 1505]),\n",
       " array([   4, 1149, 1150, 1486, 1485,    4, 1149, 1150, 1171, 1170,    4,\n",
       "        1150, 1486, 1507, 1171,    4, 1485, 1486, 1507, 1506,    4, 1149,\n",
       "        1485, 1506, 1170,    4, 1170, 1171, 1507, 1506]),\n",
       " array([   4, 1166, 1167, 1503, 1502,    4, 1166, 1167, 1188, 1187,    4,\n",
       "        1167, 1503, 1524, 1188,    4, 1502, 1503, 1524, 1523,    4, 1166,\n",
       "        1502, 1523, 1187,    4, 1187, 1188, 1524, 1523]),\n",
       " array([   4, 1167, 1168, 1504, 1503,    4, 1167, 1168, 1189, 1188,    4,\n",
       "        1168, 1504, 1525, 1189,    4, 1503, 1504, 1525, 1524,    4, 1167,\n",
       "        1503, 1524, 1188,    4, 1188, 1189, 1525, 1524]),\n",
       " array([   4, 1168, 1169, 1505, 1504,    4, 1168, 1169, 1190, 1189,    4,\n",
       "        1169, 1505, 1526, 1190,    4, 1504, 1505, 1526, 1525,    4, 1168,\n",
       "        1504, 1525, 1189,    4, 1189, 1190, 1526, 1525]),\n",
       " array([   4, 1169, 1170, 1506, 1505,    4, 1169, 1170, 1191, 1190,    4,\n",
       "        1170, 1506, 1527, 1191,    4, 1505, 1506, 1527, 1526,    4, 1169,\n",
       "        1505, 1526, 1190,    4, 1190, 1191, 1527, 1526]),\n",
       " array([   4, 1170, 1171, 1507, 1506,    4, 1170, 1171, 1192, 1191,    4,\n",
       "        1171, 1507, 1528, 1192,    4, 1506, 1507, 1528, 1527,    4, 1170,\n",
       "        1506, 1527, 1191,    4, 1191, 1192, 1528, 1527]),\n",
       " array([   4, 1187, 1188, 1524, 1523,    4, 1187, 1188, 1209, 1208,    4,\n",
       "        1188, 1524, 1545, 1209,    4, 1523, 1524, 1545, 1544,    4, 1187,\n",
       "        1523, 1544, 1208,    4, 1208, 1209, 1545, 1544]),\n",
       " array([   4, 1188, 1189, 1525, 1524,    4, 1188, 1189, 1210, 1209,    4,\n",
       "        1189, 1525, 1546, 1210,    4, 1524, 1525, 1546, 1545,    4, 1188,\n",
       "        1524, 1545, 1209,    4, 1209, 1210, 1546, 1545]),\n",
       " array([   4, 1189, 1190, 1526, 1525,    4, 1189, 1190, 1211, 1210,    4,\n",
       "        1190, 1526, 1547, 1211,    4, 1525, 1526, 1547, 1546,    4, 1189,\n",
       "        1525, 1546, 1210,    4, 1210, 1211, 1547, 1546]),\n",
       " array([   4, 1190, 1191, 1527, 1526,    4, 1190, 1191, 1212, 1211,    4,\n",
       "        1191, 1527, 1548, 1212,    4, 1526, 1527, 1548, 1547,    4, 1190,\n",
       "        1526, 1547, 1211,    4, 1211, 1212, 1548, 1547]),\n",
       " array([   4, 1193, 1194, 1530, 1529,    4, 1193, 1194, 1215, 1214,    4,\n",
       "        1194, 1530, 1551, 1215,    4, 1529, 1530, 1551, 1550,    4, 1193,\n",
       "        1529, 1550, 1214,    4, 1214, 1215, 1551, 1550]),\n",
       " array([   4, 1208, 1209, 1545, 1544,    4, 1208, 1209, 1230, 1229,    4,\n",
       "        1209, 1545, 1566, 1230,    4, 1544, 1545, 1566, 1565,    4, 1208,\n",
       "        1544, 1565, 1229,    4, 1229, 1230, 1566, 1565]),\n",
       " array([   4, 1209, 1210, 1546, 1545,    4, 1209, 1210, 1231, 1230,    4,\n",
       "        1210, 1546, 1567, 1231,    4, 1545, 1546, 1567, 1566,    4, 1209,\n",
       "        1545, 1566, 1230,    4, 1230, 1231, 1567, 1566]),\n",
       " array([   4, 1210, 1211, 1547, 1546,    4, 1210, 1211, 1232, 1231,    4,\n",
       "        1211, 1547, 1568, 1232,    4, 1546, 1547, 1568, 1567,    4, 1210,\n",
       "        1546, 1567, 1231,    4, 1231, 1232, 1568, 1567]),\n",
       " array([   4, 1211, 1212, 1548, 1547,    4, 1211, 1212, 1233, 1232,    4,\n",
       "        1212, 1548, 1569, 1233,    4, 1547, 1548, 1569, 1568,    4, 1211,\n",
       "        1547, 1568, 1232,    4, 1232, 1233, 1569, 1568]),\n",
       " array([   4, 1213, 1214, 1550, 1549,    4, 1213, 1214, 1235, 1234,    4,\n",
       "        1214, 1550, 1571, 1235,    4, 1549, 1550, 1571, 1570,    4, 1213,\n",
       "        1549, 1570, 1234,    4, 1234, 1235, 1571, 1570]),\n",
       " array([   4, 1214, 1215, 1551, 1550,    4, 1214, 1215, 1236, 1235,    4,\n",
       "        1215, 1551, 1572, 1236,    4, 1550, 1551, 1572, 1571,    4, 1214,\n",
       "        1550, 1571, 1235,    4, 1235, 1236, 1572, 1571]),\n",
       " array([   4, 1215, 1216, 1552, 1551,    4, 1215, 1216, 1237, 1236,    4,\n",
       "        1216, 1552, 1573, 1237,    4, 1551, 1552, 1573, 1572,    4, 1215,\n",
       "        1551, 1572, 1236,    4, 1236, 1237, 1573, 1572]),\n",
       " array([   4, 1228, 1229, 1565, 1564,    4, 1228, 1229, 1250, 1249,    4,\n",
       "        1229, 1565, 1586, 1250,    4, 1564, 1565, 1586, 1585,    4, 1228,\n",
       "        1564, 1585, 1249,    4, 1249, 1250, 1586, 1585]),\n",
       " array([   4, 1229, 1230, 1566, 1565,    4, 1229, 1230, 1251, 1250,    4,\n",
       "        1230, 1566, 1587, 1251,    4, 1565, 1566, 1587, 1586,    4, 1229,\n",
       "        1565, 1586, 1250,    4, 1250, 1251, 1587, 1586]),\n",
       " array([   4, 1230, 1231, 1567, 1566,    4, 1230, 1231, 1252, 1251,    4,\n",
       "        1231, 1567, 1588, 1252,    4, 1566, 1567, 1588, 1587,    4, 1230,\n",
       "        1566, 1587, 1251,    4, 1251, 1252, 1588, 1587]),\n",
       " array([   4, 1231, 1232, 1568, 1567,    4, 1231, 1232, 1253, 1252,    4,\n",
       "        1232, 1568, 1589, 1253,    4, 1567, 1568, 1589, 1588,    4, 1231,\n",
       "        1567, 1588, 1252,    4, 1252, 1253, 1589, 1588]),\n",
       " array([   4, 1232, 1233, 1569, 1568,    4, 1232, 1233, 1254, 1253,    4,\n",
       "        1233, 1569, 1590, 1254,    4, 1568, 1569, 1590, 1589,    4, 1232,\n",
       "        1568, 1589, 1253,    4, 1253, 1254, 1590, 1589]),\n",
       " array([   4, 1233, 1234, 1570, 1569,    4, 1233, 1234, 1255, 1254,    4,\n",
       "        1234, 1570, 1591, 1255,    4, 1569, 1570, 1591, 1590,    4, 1233,\n",
       "        1569, 1590, 1254,    4, 1254, 1255, 1591, 1590]),\n",
       " array([   4, 1234, 1235, 1571, 1570,    4, 1234, 1235, 1256, 1255,    4,\n",
       "        1235, 1571, 1592, 1256,    4, 1570, 1571, 1592, 1591,    4, 1234,\n",
       "        1570, 1591, 1255,    4, 1255, 1256, 1592, 1591]),\n",
       " array([   4, 1235, 1236, 1572, 1571,    4, 1235, 1236, 1257, 1256,    4,\n",
       "        1236, 1572, 1593, 1257,    4, 1571, 1572, 1593, 1592,    4, 1235,\n",
       "        1571, 1592, 1256,    4, 1256, 1257, 1593, 1592]),\n",
       " array([   4, 1236, 1237, 1573, 1572,    4, 1236, 1237, 1258, 1257,    4,\n",
       "        1237, 1573, 1594, 1258,    4, 1572, 1573, 1594, 1593,    4, 1236,\n",
       "        1572, 1593, 1257,    4, 1257, 1258, 1594, 1593]),\n",
       " array([   4, 1249, 1250, 1586, 1585,    4, 1249, 1250, 1271, 1270,    4,\n",
       "        1250, 1586, 1607, 1271,    4, 1585, 1586, 1607, 1606,    4, 1249,\n",
       "        1585, 1606, 1270,    4, 1270, 1271, 1607, 1606]),\n",
       " array([   4, 1250, 1251, 1587, 1586,    4, 1250, 1251, 1272, 1271,    4,\n",
       "        1251, 1587, 1608, 1272,    4, 1586, 1587, 1608, 1607,    4, 1250,\n",
       "        1586, 1607, 1271,    4, 1271, 1272, 1608, 1607]),\n",
       " array([   4, 1251, 1252, 1588, 1587,    4, 1251, 1252, 1273, 1272,    4,\n",
       "        1252, 1588, 1609, 1273,    4, 1587, 1588, 1609, 1608,    4, 1251,\n",
       "        1587, 1608, 1272,    4, 1272, 1273, 1609, 1608]),\n",
       " array([   4, 1252, 1253, 1589, 1588,    4, 1252, 1253, 1274, 1273,    4,\n",
       "        1253, 1589, 1610, 1274,    4, 1588, 1589, 1610, 1609,    4, 1252,\n",
       "        1588, 1609, 1273,    4, 1273, 1274, 1610, 1609]),\n",
       " array([   4, 1253, 1254, 1590, 1589,    4, 1253, 1254, 1275, 1274,    4,\n",
       "        1254, 1590, 1611, 1275,    4, 1589, 1590, 1611, 1610,    4, 1253,\n",
       "        1589, 1610, 1274,    4, 1274, 1275, 1611, 1610]),\n",
       " array([   4, 1254, 1255, 1591, 1590,    4, 1254, 1255, 1276, 1275,    4,\n",
       "        1255, 1591, 1612, 1276,    4, 1590, 1591, 1612, 1611,    4, 1254,\n",
       "        1590, 1611, 1275,    4, 1275, 1276, 1612, 1611]),\n",
       " array([   4, 1255, 1256, 1592, 1591,    4, 1255, 1256, 1277, 1276,    4,\n",
       "        1256, 1592, 1613, 1277,    4, 1591, 1592, 1613, 1612,    4, 1255,\n",
       "        1591, 1612, 1276,    4, 1276, 1277, 1613, 1612]),\n",
       " array([   4, 1256, 1257, 1593, 1592,    4, 1256, 1257, 1278, 1277,    4,\n",
       "        1257, 1593, 1614, 1278,    4, 1592, 1593, 1614, 1613,    4, 1256,\n",
       "        1592, 1613, 1277,    4, 1277, 1278, 1614, 1613]),\n",
       " array([   4, 1257, 1258, 1594, 1593,    4, 1257, 1258, 1279, 1278,    4,\n",
       "        1258, 1594, 1615, 1279,    4, 1593, 1594, 1615, 1614,    4, 1257,\n",
       "        1593, 1614, 1278,    4, 1278, 1279, 1615, 1614]),\n",
       " array([   4, 1258, 1259, 1595, 1594,    4, 1258, 1259, 1280, 1279,    4,\n",
       "        1259, 1595, 1616, 1280,    4, 1594, 1595, 1616, 1615,    4, 1258,\n",
       "        1594, 1615, 1279,    4, 1279, 1280, 1616, 1615]),\n",
       " array([   4, 1270, 1271, 1607, 1606,    4, 1270, 1271, 1292, 1291,    4,\n",
       "        1271, 1607, 1628, 1292,    4, 1606, 1607, 1628, 1627,    4, 1270,\n",
       "        1606, 1627, 1291,    4, 1291, 1292, 1628, 1627]),\n",
       " array([   4, 1271, 1272, 1608, 1607,    4, 1271, 1272, 1293, 1292,    4,\n",
       "        1272, 1608, 1629, 1293,    4, 1607, 1608, 1629, 1628,    4, 1271,\n",
       "        1607, 1628, 1292,    4, 1292, 1293, 1629, 1628]),\n",
       " array([   4, 1272, 1273, 1609, 1608,    4, 1272, 1273, 1294, 1293,    4,\n",
       "        1273, 1609, 1630, 1294,    4, 1608, 1609, 1630, 1629,    4, 1272,\n",
       "        1608, 1629, 1293,    4, 1293, 1294, 1630, 1629]),\n",
       " array([   4, 1273, 1274, 1610, 1609,    4, 1273, 1274, 1295, 1294,    4,\n",
       "        1274, 1610, 1631, 1295,    4, 1609, 1610, 1631, 1630,    4, 1273,\n",
       "        1609, 1630, 1294,    4, 1294, 1295, 1631, 1630]),\n",
       " array([   4, 1274, 1275, 1611, 1610,    4, 1274, 1275, 1296, 1295,    4,\n",
       "        1275, 1611, 1632, 1296,    4, 1610, 1611, 1632, 1631,    4, 1274,\n",
       "        1610, 1631, 1295,    4, 1295, 1296, 1632, 1631]),\n",
       " array([   4, 1278, 1279, 1615, 1614,    4, 1278, 1279, 1300, 1299,    4,\n",
       "        1279, 1615, 1636, 1300,    4, 1614, 1615, 1636, 1635,    4, 1278,\n",
       "        1614, 1635, 1299,    4, 1299, 1300, 1636, 1635]),\n",
       " array([   4, 1279, 1280, 1616, 1615,    4, 1279, 1280, 1301, 1300,    4,\n",
       "        1280, 1616, 1637, 1301,    4, 1615, 1616, 1637, 1636,    4, 1279,\n",
       "        1615, 1636, 1300,    4, 1300, 1301, 1637, 1636]),\n",
       " array([   4, 1280, 1281, 1617, 1616,    4, 1280, 1281, 1302, 1301,    4,\n",
       "        1281, 1617, 1638, 1302,    4, 1616, 1617, 1638, 1637,    4, 1280,\n",
       "        1616, 1637, 1301,    4, 1301, 1302, 1638, 1637]),\n",
       " array([   4, 1283, 1282, 1618, 1619,    4, 1283, 1282, 1303, 1304,    4,\n",
       "        1282, 1618, 1639, 1303,    4, 1619, 1618, 1639, 1640,    4, 1283,\n",
       "        1619, 1640, 1304,    4, 1304, 1303, 1639, 1640]),\n",
       " array([   4, 1290, 1291, 1627, 1626,    4, 1290, 1291, 1312, 1311,    4,\n",
       "        1291, 1627, 1648, 1312,    4, 1626, 1627, 1648, 1647,    4, 1290,\n",
       "        1626, 1647, 1311,    4, 1311, 1312, 1648, 1647]),\n",
       " array([   4, 1291, 1292, 1628, 1627,    4, 1291, 1292, 1313, 1312,    4,\n",
       "        1292, 1628, 1649, 1313,    4, 1627, 1628, 1649, 1648,    4, 1291,\n",
       "        1627, 1648, 1312,    4, 1312, 1313, 1649, 1648]),\n",
       " array([   4, 1292, 1293, 1629, 1628,    4, 1292, 1293, 1314, 1313,    4,\n",
       "        1293, 1629, 1650, 1314,    4, 1628, 1629, 1650, 1649,    4, 1292,\n",
       "        1628, 1649, 1313,    4, 1313, 1314, 1650, 1649]),\n",
       " array([   4, 1293, 1294, 1630, 1629,    4, 1293, 1294, 1315, 1314,    4,\n",
       "        1294, 1630, 1651, 1315,    4, 1629, 1630, 1651, 1650,    4, 1293,\n",
       "        1629, 1650, 1314,    4, 1314, 1315, 1651, 1650]),\n",
       " array([   4, 1294, 1295, 1631, 1630,    4, 1294, 1295, 1316, 1315,    4,\n",
       "        1295, 1631, 1652, 1316,    4, 1630, 1631, 1652, 1651,    4, 1294,\n",
       "        1630, 1651, 1315,    4, 1315, 1316, 1652, 1651]),\n",
       " array([   4, 1300, 1301, 1637, 1636,    4, 1300, 1301, 1322, 1321,    4,\n",
       "        1301, 1637, 1658, 1322,    4, 1636, 1637, 1658, 1657,    4, 1300,\n",
       "        1636, 1657, 1321,    4, 1321, 1322, 1658, 1657]),\n",
       " array([   4, 1301, 1302, 1638, 1637,    4, 1301, 1302, 1323, 1322,    4,\n",
       "        1302, 1638, 1659, 1323,    4, 1637, 1638, 1659, 1658,    4, 1301,\n",
       "        1637, 1658, 1322,    4, 1322, 1323, 1659, 1658]),\n",
       " array([   4, 1304, 1303, 1639, 1640,    4, 1304, 1303, 1324, 1325,    4,\n",
       "        1303, 1639, 1660, 1324,    4, 1640, 1639, 1660, 1661,    4, 1304,\n",
       "        1640, 1661, 1325,    4, 1325, 1324, 1660, 1661]),\n",
       " array([   4, 1303, 1305, 1641, 1639,    4, 1303, 1305, 1326, 1324,    4,\n",
       "        1305, 1641, 1662, 1326,    4, 1639, 1641, 1662, 1660,    4, 1303,\n",
       "        1639, 1660, 1324,    4, 1324, 1326, 1662, 1660]),\n",
       " array([   4, 1310, 1311, 1647, 1646,    4, 1310, 1311, 1332, 1331,    4,\n",
       "        1311, 1647, 1668, 1332,    4, 1646, 1647, 1668, 1667,    4, 1310,\n",
       "        1646, 1667, 1331,    4, 1331, 1332, 1668, 1667]),\n",
       " array([   4, 1311, 1312, 1648, 1647,    4, 1311, 1312, 1333, 1332,    4,\n",
       "        1312, 1648, 1669, 1333,    4, 1647, 1648, 1669, 1668,    4, 1311,\n",
       "        1647, 1668, 1332,    4, 1332, 1333, 1669, 1668]),\n",
       " array([   4, 1312, 1313, 1649, 1648,    4, 1312, 1313, 1334, 1333,    4,\n",
       "        1313, 1649, 1670, 1334,    4, 1648, 1649, 1670, 1669,    4, 1312,\n",
       "        1648, 1669, 1333,    4, 1333, 1334, 1670, 1669]),\n",
       " array([   4, 1313, 1314, 1650, 1649,    4, 1313, 1314, 1335, 1334,    4,\n",
       "        1314, 1650, 1671, 1335,    4, 1649, 1650, 1671, 1670,    4, 1313,\n",
       "        1649, 1670, 1334,    4, 1334, 1335, 1671, 1670]),\n",
       " array([   4, 1314, 1315, 1651, 1650,    4, 1314, 1315, 1336, 1335,    4,\n",
       "        1315, 1651, 1672, 1336,    4, 1650, 1651, 1672, 1671,    4, 1314,\n",
       "        1650, 1671, 1335,    4, 1335, 1336, 1672, 1671]),\n",
       " array([   4, 1315, 1316, 1652, 1651,    4, 1315, 1316, 1337, 1336,    4,\n",
       "        1316, 1652, 1673, 1337,    4, 1651, 1652, 1673, 1672,    4, 1315,\n",
       "        1651, 1672, 1336,    4, 1336, 1337, 1673, 1672]),\n",
       " array([   4, 1321, 1322, 1658, 1657,    4, 1321, 1322, 1343, 1342,    4,\n",
       "        1322, 1658, 1679, 1343,    4, 1657, 1658, 1679, 1678,    4, 1321,\n",
       "        1657, 1678, 1342,    4, 1342, 1343, 1679, 1678]),\n",
       " array([   4, 1322, 1323, 1659, 1658,    4, 1322, 1323, 1344, 1343,    4,\n",
       "        1323, 1659, 1680, 1344,    4, 1658, 1659, 1680, 1679,    4, 1322,\n",
       "        1658, 1679, 1343,    4, 1343, 1344, 1680, 1679]),\n",
       " array([   4, 1371, 1373, 1709, 1707,    4, 1371, 1373, 1374, 1372,    4,\n",
       "        1373, 1709, 1710, 1374,    4, 1707, 1709, 1710, 1708,    4, 1371,\n",
       "        1707, 1708, 1372,    4, 1372, 1374, 1710, 1708]),\n",
       " array([   4, 1373, 1375, 1711, 1709,    4, 1373, 1375, 1376, 1374,    4,\n",
       "        1375, 1711, 1712, 1376,    4, 1709, 1711, 1712, 1710,    4, 1373,\n",
       "        1709, 1710, 1374,    4, 1374, 1376, 1712, 1710]),\n",
       " array([   4, 1379, 1381, 1717, 1715,    4, 1379, 1381, 1382, 1380,    4,\n",
       "        1381, 1717, 1718, 1382,    4, 1715, 1717, 1718, 1716,    4, 1379,\n",
       "        1715, 1716, 1380,    4, 1380, 1382, 1718, 1716]),\n",
       " array([   4, 1380, 1382, 1718, 1716,    4, 1380, 1382, 1405, 1404,    4,\n",
       "        1382, 1718, 1741, 1405,    4, 1716, 1718, 1741, 1740,    4, 1380,\n",
       "        1716, 1740, 1404,    4, 1404, 1405, 1741, 1740]),\n",
       " array([   4, 1421, 1422, 1758, 1757,    4, 1421, 1422, 1443, 1442,    4,\n",
       "        1422, 1758, 1779, 1443,    4, 1757, 1758, 1779, 1778,    4, 1421,\n",
       "        1757, 1778, 1442,    4, 1442, 1443, 1779, 1778]),\n",
       " array([   4, 1440, 1441, 1777, 1776,    4, 1440, 1441, 1462, 1461,    4,\n",
       "        1441, 1777, 1798, 1462,    4, 1776, 1777, 1798, 1797,    4, 1440,\n",
       "        1776, 1797, 1461,    4, 1461, 1462, 1798, 1797]),\n",
       " array([   4, 1441, 1442, 1778, 1777,    4, 1441, 1442, 1463, 1462,    4,\n",
       "        1442, 1778, 1799, 1463,    4, 1777, 1778, 1799, 1798,    4, 1441,\n",
       "        1777, 1798, 1462,    4, 1462, 1463, 1799, 1798]),\n",
       " array([   4, 1442, 1443, 1779, 1778,    4, 1442, 1443, 1464, 1463,    4,\n",
       "        1443, 1779, 1800, 1464,    4, 1778, 1779, 1800, 1799,    4, 1442,\n",
       "        1778, 1799, 1463,    4, 1463, 1464, 1800, 1799]),\n",
       " array([   4, 1443, 1444, 1780, 1779,    4, 1443, 1444, 1465, 1464,    4,\n",
       "        1444, 1780, 1801, 1465,    4, 1779, 1780, 1801, 1800,    4, 1443,\n",
       "        1779, 1800, 1464,    4, 1464, 1465, 1801, 1800]),\n",
       " array([   4, 1444, 1445, 1781, 1780,    4, 1444, 1445, 1466, 1465,    4,\n",
       "        1445, 1781, 1802, 1466,    4, 1780, 1781, 1802, 1801,    4, 1444,\n",
       "        1780, 1801, 1465,    4, 1465, 1466, 1802, 1801]),\n",
       " array([   4, 1461, 1462, 1798, 1797,    4, 1461, 1462, 1483, 1482,    4,\n",
       "        1462, 1798, 1819, 1483,    4, 1797, 1798, 1819, 1818,    4, 1461,\n",
       "        1797, 1818, 1482,    4, 1482, 1483, 1819, 1818]),\n",
       " array([   4, 1462, 1463, 1799, 1798,    4, 1462, 1463, 1484, 1483,    4,\n",
       "        1463, 1799, 1820, 1484,    4, 1798, 1799, 1820, 1819,    4, 1462,\n",
       "        1798, 1819, 1483,    4, 1483, 1484, 1820, 1819]),\n",
       " array([   4, 1463, 1464, 1800, 1799,    4, 1463, 1464, 1485, 1484,    4,\n",
       "        1464, 1800, 1821, 1485,    4, 1799, 1800, 1821, 1820,    4, 1463,\n",
       "        1799, 1820, 1484,    4, 1484, 1485, 1821, 1820]),\n",
       " array([   4, 1464, 1465, 1801, 1800,    4, 1464, 1465, 1486, 1485,    4,\n",
       "        1465, 1801, 1822, 1486,    4, 1800, 1801, 1822, 1821,    4, 1464,\n",
       "        1800, 1821, 1485,    4, 1485, 1486, 1822, 1821]),\n",
       " array([   4, 1465, 1466, 1802, 1801,    4, 1465, 1466, 1487, 1486,    4,\n",
       "        1466, 1802, 1823, 1487,    4, 1801, 1802, 1823, 1822,    4, 1465,\n",
       "        1801, 1822, 1486,    4, 1486, 1487, 1823, 1822]),\n",
       " array([   4, 1481, 1482, 1818, 1817,    4, 1481, 1482, 1503, 1502,    4,\n",
       "        1482, 1818, 1839, 1503,    4, 1817, 1818, 1839, 1838,    4, 1481,\n",
       "        1817, 1838, 1502,    4, 1502, 1503, 1839, 1838]),\n",
       " array([   4, 1482, 1483, 1819, 1818,    4, 1482, 1483, 1504, 1503,    4,\n",
       "        1483, 1819, 1840, 1504,    4, 1818, 1819, 1840, 1839,    4, 1482,\n",
       "        1818, 1839, 1503,    4, 1503, 1504, 1840, 1839]),\n",
       " array([   4, 1483, 1484, 1820, 1819,    4, 1483, 1484, 1505, 1504,    4,\n",
       "        1484, 1820, 1841, 1505,    4, 1819, 1820, 1841, 1840,    4, 1483,\n",
       "        1819, 1840, 1504,    4, 1504, 1505, 1841, 1840]),\n",
       " array([   4, 1484, 1485, 1821, 1820,    4, 1484, 1485, 1506, 1505,    4,\n",
       "        1485, 1821, 1842, 1506,    4, 1820, 1821, 1842, 1841,    4, 1484,\n",
       "        1820, 1841, 1505,    4, 1505, 1506, 1842, 1841]),\n",
       " array([   4, 1485, 1486, 1822, 1821,    4, 1485, 1486, 1507, 1506,    4,\n",
       "        1486, 1822, 1843, 1507,    4, 1821, 1822, 1843, 1842,    4, 1485,\n",
       "        1821, 1842, 1506,    4, 1506, 1507, 1843, 1842]),\n",
       " array([   4, 1486, 1487, 1823, 1822,    4, 1486, 1487, 1508, 1507,    4,\n",
       "        1487, 1823, 1844, 1508,    4, 1822, 1823, 1844, 1843,    4, 1486,\n",
       "        1822, 1843, 1507,    4, 1507, 1508, 1844, 1843]),\n",
       " array([   4, 1487, 1488, 1824, 1823,    4, 1487, 1488, 1509, 1508,    4,\n",
       "        1488, 1824, 1845, 1509,    4, 1823, 1824, 1845, 1844,    4, 1487,\n",
       "        1823, 1844, 1508,    4, 1508, 1509, 1845, 1844]),\n",
       " array([   4, 1502, 1503, 1839, 1838,    4, 1502, 1503, 1524, 1523,    4,\n",
       "        1503, 1839, 1860, 1524,    4, 1838, 1839, 1860, 1859,    4, 1502,\n",
       "        1838, 1859, 1523,    4, 1523, 1524, 1860, 1859]),\n",
       " array([   4, 1503, 1504, 1840, 1839,    4, 1503, 1504, 1525, 1524,    4,\n",
       "        1504, 1840, 1861, 1525,    4, 1839, 1840, 1861, 1860,    4, 1503,\n",
       "        1839, 1860, 1524,    4, 1524, 1525, 1861, 1860]),\n",
       " array([   4, 1504, 1505, 1841, 1840,    4, 1504, 1505, 1526, 1525,    4,\n",
       "        1505, 1841, 1862, 1526,    4, 1840, 1841, 1862, 1861,    4, 1504,\n",
       "        1840, 1861, 1525,    4, 1525, 1526, 1862, 1861]),\n",
       " array([   4, 1505, 1506, 1842, 1841,    4, 1505, 1506, 1527, 1526,    4,\n",
       "        1506, 1842, 1863, 1527,    4, 1841, 1842, 1863, 1862,    4, 1505,\n",
       "        1841, 1862, 1526,    4, 1526, 1527, 1863, 1862]),\n",
       " array([   4, 1506, 1507, 1843, 1842,    4, 1506, 1507, 1528, 1527,    4,\n",
       "        1507, 1843, 1864, 1528,    4, 1842, 1843, 1864, 1863,    4, 1506,\n",
       "        1842, 1863, 1527,    4, 1527, 1528, 1864, 1863]),\n",
       " array([   4, 1507, 1508, 1844, 1843,    4, 1507, 1508, 1529, 1528,    4,\n",
       "        1508, 1844, 1865, 1529,    4, 1843, 1844, 1865, 1864,    4, 1507,\n",
       "        1843, 1864, 1528,    4, 1528, 1529, 1865, 1864]),\n",
       " array([   4, 1508, 1509, 1845, 1844,    4, 1508, 1509, 1530, 1529,    4,\n",
       "        1509, 1845, 1866, 1530,    4, 1844, 1845, 1866, 1865,    4, 1508,\n",
       "        1844, 1865, 1529,    4, 1529, 1530, 1866, 1865]),\n",
       " array([   4, 1509, 1510, 1846, 1845,    4, 1509, 1510, 1531, 1530,    4,\n",
       "        1510, 1846, 1867, 1531,    4, 1845, 1846, 1867, 1866,    4, 1509,\n",
       "        1845, 1866, 1530,    4, 1530, 1531, 1867, 1866]),\n",
       " array([   4, 1523, 1524, 1860, 1859,    4, 1523, 1524, 1545, 1544,    4,\n",
       "        1524, 1860, 1881, 1545,    4, 1859, 1860, 1881, 1880,    4, 1523,\n",
       "        1859, 1880, 1544,    4, 1544, 1545, 1881, 1880]),\n",
       " array([   4, 1524, 1525, 1861, 1860,    4, 1524, 1525, 1546, 1545,    4,\n",
       "        1525, 1861, 1882, 1546,    4, 1860, 1861, 1882, 1881,    4, 1524,\n",
       "        1860, 1881, 1545,    4, 1545, 1546, 1882, 1881]),\n",
       " array([   4, 1525, 1526, 1862, 1861,    4, 1525, 1526, 1547, 1546,    4,\n",
       "        1526, 1862, 1883, 1547,    4, 1861, 1862, 1883, 1882,    4, 1525,\n",
       "        1861, 1882, 1546,    4, 1546, 1547, 1883, 1882]),\n",
       " array([   4, 1526, 1527, 1863, 1862,    4, 1526, 1527, 1548, 1547,    4,\n",
       "        1527, 1863, 1884, 1548,    4, 1862, 1863, 1884, 1883,    4, 1526,\n",
       "        1862, 1883, 1547,    4, 1547, 1548, 1884, 1883]),\n",
       " array([   4, 1528, 1529, 1865, 1864,    4, 1528, 1529, 1550, 1549,    4,\n",
       "        1529, 1865, 1886, 1550,    4, 1864, 1865, 1886, 1885,    4, 1528,\n",
       "        1864, 1885, 1549,    4, 1549, 1550, 1886, 1885]),\n",
       " array([   4, 1529, 1530, 1866, 1865,    4, 1529, 1530, 1551, 1550,    4,\n",
       "        1530, 1866, 1887, 1551,    4, 1865, 1866, 1887, 1886,    4, 1529,\n",
       "        1865, 1886, 1550,    4, 1550, 1551, 1887, 1886]),\n",
       " array([   4, 1530, 1531, 1867, 1866,    4, 1530, 1531, 1552, 1551,    4,\n",
       "        1531, 1867, 1888, 1552,    4, 1866, 1867, 1888, 1887,    4, 1530,\n",
       "        1866, 1887, 1551,    4, 1551, 1552, 1888, 1887]),\n",
       " array([   4, 1531, 1532, 1868, 1867,    4, 1531, 1532, 1553, 1552,    4,\n",
       "        1532, 1868, 1889, 1553,    4, 1867, 1868, 1889, 1888,    4, 1531,\n",
       "        1867, 1888, 1552,    4, 1552, 1553, 1889, 1888]),\n",
       " array([   4, 1532, 1533, 1869, 1868,    4, 1532, 1533, 1554, 1553,    4,\n",
       "        1533, 1869, 1890, 1554,    4, 1868, 1869, 1890, 1889,    4, 1532,\n",
       "        1868, 1889, 1553,    4, 1553, 1554, 1890, 1889]),\n",
       " array([   4, 1543, 1544, 1880, 1879,    4, 1543, 1544, 1565, 1564,    4,\n",
       "        1544, 1880, 1901, 1565,    4, 1879, 1880, 1901, 1900,    4, 1543,\n",
       "        1879, 1900, 1564,    4, 1564, 1565, 1901, 1900]),\n",
       " array([   4, 1544, 1545, 1881, 1880,    4, 1544, 1545, 1566, 1565,    4,\n",
       "        1545, 1881, 1902, 1566,    4, 1880, 1881, 1902, 1901,    4, 1544,\n",
       "        1880, 1901, 1565,    4, 1565, 1566, 1902, 1901]),\n",
       " array([   4, 1545, 1546, 1882, 1881,    4, 1545, 1546, 1567, 1566,    4,\n",
       "        1546, 1882, 1903, 1567,    4, 1881, 1882, 1903, 1902,    4, 1545,\n",
       "        1881, 1902, 1566,    4, 1566, 1567, 1903, 1902]),\n",
       " array([   4, 1546, 1547, 1883, 1882,    4, 1546, 1547, 1568, 1567,    4,\n",
       "        1547, 1883, 1904, 1568,    4, 1882, 1883, 1904, 1903,    4, 1546,\n",
       "        1882, 1903, 1567,    4, 1567, 1568, 1904, 1903]),\n",
       " array([   4, 1547, 1548, 1884, 1883,    4, 1547, 1548, 1569, 1568,    4,\n",
       "        1548, 1884, 1905, 1569,    4, 1883, 1884, 1905, 1904,    4, 1547,\n",
       "        1883, 1904, 1568,    4, 1568, 1569, 1905, 1904]),\n",
       " array([   4, 1549, 1550, 1886, 1885,    4, 1549, 1550, 1571, 1570,    4,\n",
       "        1550, 1886, 1907, 1571,    4, 1885, 1886, 1907, 1906,    4, 1549,\n",
       "        1885, 1906, 1570,    4, 1570, 1571, 1907, 1906]),\n",
       " array([   4, 1550, 1551, 1887, 1886,    4, 1550, 1551, 1572, 1571,    4,\n",
       "        1551, 1887, 1908, 1572,    4, 1886, 1887, 1908, 1907,    4, 1550,\n",
       "        1886, 1907, 1571,    4, 1571, 1572, 1908, 1907]),\n",
       " array([   4, 1551, 1552, 1888, 1887,    4, 1551, 1552, 1573, 1572,    4,\n",
       "        1552, 1888, 1909, 1573,    4, 1887, 1888, 1909, 1908,    4, 1551,\n",
       "        1887, 1908, 1572,    4, 1572, 1573, 1909, 1908]),\n",
       " array([   4, 1552, 1553, 1889, 1888,    4, 1552, 1553, 1574, 1573,    4,\n",
       "        1553, 1889, 1910, 1574,    4, 1888, 1889, 1910, 1909,    4, 1552,\n",
       "        1888, 1909, 1573,    4, 1573, 1574, 1910, 1909]),\n",
       " array([   4, 1553, 1554, 1890, 1889,    4, 1553, 1554, 1575, 1574,    4,\n",
       "        1554, 1890, 1911, 1575,    4, 1889, 1890, 1911, 1910,    4, 1553,\n",
       "        1889, 1910, 1574,    4, 1574, 1575, 1911, 1910]),\n",
       " array([   4, 1564, 1565, 1901, 1900,    4, 1564, 1565, 1586, 1585,    4,\n",
       "        1565, 1901, 1922, 1586,    4, 1900, 1901, 1922, 1921,    4, 1564,\n",
       "        1900, 1921, 1585,    4, 1585, 1586, 1922, 1921]),\n",
       " array([   4, 1565, 1566, 1902, 1901,    4, 1565, 1566, 1587, 1586,    4,\n",
       "        1566, 1902, 1923, 1587,    4, 1901, 1902, 1923, 1922,    4, 1565,\n",
       "        1901, 1922, 1586,    4, 1586, 1587, 1923, 1922]),\n",
       " array([   4, 1566, 1567, 1903, 1902,    4, 1566, 1567, 1588, 1587,    4,\n",
       "        1567, 1903, 1924, 1588,    4, 1902, 1903, 1924, 1923,    4, 1566,\n",
       "        1902, 1923, 1587,    4, 1587, 1588, 1924, 1923]),\n",
       " array([   4, 1567, 1568, 1904, 1903,    4, 1567, 1568, 1589, 1588,    4,\n",
       "        1568, 1904, 1925, 1589,    4, 1903, 1904, 1925, 1924,    4, 1567,\n",
       "        1903, 1924, 1588,    4, 1588, 1589, 1925, 1924]),\n",
       " array([   4, 1568, 1569, 1905, 1904,    4, 1568, 1569, 1590, 1589,    4,\n",
       "        1569, 1905, 1926, 1590,    4, 1904, 1905, 1926, 1925,    4, 1568,\n",
       "        1904, 1925, 1589,    4, 1589, 1590, 1926, 1925]),\n",
       " array([   4, 1569, 1570, 1906, 1905,    4, 1569, 1570, 1591, 1590,    4,\n",
       "        1570, 1906, 1927, 1591,    4, 1905, 1906, 1927, 1926,    4, 1569,\n",
       "        1905, 1926, 1590,    4, 1590, 1591, 1927, 1926]),\n",
       " array([   4, 1571, 1572, 1908, 1907,    4, 1571, 1572, 1593, 1592,    4,\n",
       "        1572, 1908, 1929, 1593,    4, 1907, 1908, 1929, 1928,    4, 1571,\n",
       "        1907, 1928, 1592,    4, 1592, 1593, 1929, 1928]),\n",
       " array([   4, 1572, 1573, 1909, 1908,    4, 1572, 1573, 1594, 1593,    4,\n",
       "        1573, 1909, 1930, 1594,    4, 1908, 1909, 1930, 1929,    4, 1572,\n",
       "        1908, 1929, 1593,    4, 1593, 1594, 1930, 1929]),\n",
       " array([   4, 1573, 1574, 1910, 1909,    4, 1573, 1574, 1595, 1594,    4,\n",
       "        1574, 1910, 1931, 1595,    4, 1909, 1910, 1931, 1930,    4, 1573,\n",
       "        1909, 1930, 1594,    4, 1594, 1595, 1931, 1930]),\n",
       " array([   4, 1574, 1575, 1911, 1910,    4, 1574, 1575, 1596, 1595,    4,\n",
       "        1575, 1911, 1932, 1596,    4, 1910, 1911, 1932, 1931,    4, 1574,\n",
       "        1910, 1931, 1595,    4, 1595, 1596, 1932, 1931]),\n",
       " array([   4, 1584, 1585, 1921, 1920,    4, 1584, 1585, 1606, 1605,    4,\n",
       "        1585, 1921, 1942, 1606,    4, 1920, 1921, 1942, 1941,    4, 1584,\n",
       "        1920, 1941, 1605,    4, 1605, 1606, 1942, 1941]),\n",
       " array([   4, 1585, 1586, 1922, 1921,    4, 1585, 1586, 1607, 1606,    4,\n",
       "        1586, 1922, 1943, 1607,    4, 1921, 1922, 1943, 1942,    4, 1585,\n",
       "        1921, 1942, 1606,    4, 1606, 1607, 1943, 1942]),\n",
       " array([   4, 1586, 1587, 1923, 1922,    4, 1586, 1587, 1608, 1607,    4,\n",
       "        1587, 1923, 1944, 1608,    4, 1922, 1923, 1944, 1943,    4, 1586,\n",
       "        1922, 1943, 1607,    4, 1607, 1608, 1944, 1943]),\n",
       " array([   4, 1587, 1588, 1924, 1923,    4, 1587, 1588, 1609, 1608,    4,\n",
       "        1588, 1924, 1945, 1609,    4, 1923, 1924, 1945, 1944,    4, 1587,\n",
       "        1923, 1944, 1608,    4, 1608, 1609, 1945, 1944]),\n",
       " array([   4, 1588, 1589, 1925, 1924,    4, 1588, 1589, 1610, 1609,    4,\n",
       "        1589, 1925, 1946, 1610,    4, 1924, 1925, 1946, 1945,    4, 1588,\n",
       "        1924, 1945, 1609,    4, 1609, 1610, 1946, 1945]),\n",
       " array([   4, 1589, 1590, 1926, 1925,    4, 1589, 1590, 1611, 1610,    4,\n",
       "        1590, 1926, 1947, 1611,    4, 1925, 1926, 1947, 1946,    4, 1589,\n",
       "        1925, 1946, 1610,    4, 1610, 1611, 1947, 1946]),\n",
       " array([   4, 1593, 1594, 1930, 1929,    4, 1593, 1594, 1615, 1614,    4,\n",
       "        1594, 1930, 1951, 1615,    4, 1929, 1930, 1951, 1950,    4, 1593,\n",
       "        1929, 1950, 1614,    4, 1614, 1615, 1951, 1950]),\n",
       " array([   4, 1594, 1595, 1931, 1930,    4, 1594, 1595, 1616, 1615,    4,\n",
       "        1595, 1931, 1952, 1616,    4, 1930, 1931, 1952, 1951,    4, 1594,\n",
       "        1930, 1951, 1615,    4, 1615, 1616, 1952, 1951]),\n",
       " array([   4, 1595, 1596, 1932, 1931,    4, 1595, 1596, 1617, 1616,    4,\n",
       "        1596, 1932, 1953, 1617,    4, 1931, 1932, 1953, 1952,    4, 1595,\n",
       "        1931, 1952, 1616,    4, 1616, 1617, 1953, 1952]),\n",
       " array([   4, 1598, 1597, 1933, 1934,    4, 1598, 1597, 1618, 1619,    4,\n",
       "        1597, 1933, 1954, 1618,    4, 1934, 1933, 1954, 1955,    4, 1598,\n",
       "        1934, 1955, 1619,    4, 1619, 1618, 1954, 1955]),\n",
       " array([   4, 1605, 1606, 1942, 1941,    4, 1605, 1606, 1627, 1626,    4,\n",
       "        1606, 1942, 1963, 1627,    4, 1941, 1942, 1963, 1962,    4, 1605,\n",
       "        1941, 1962, 1626,    4, 1626, 1627, 1963, 1962]),\n",
       " array([   4, 1606, 1607, 1943, 1942,    4, 1606, 1607, 1628, 1627,    4,\n",
       "        1607, 1943, 1964, 1628,    4, 1942, 1943, 1964, 1963,    4, 1606,\n",
       "        1942, 1963, 1627,    4, 1627, 1628, 1964, 1963]),\n",
       " array([   4, 1607, 1608, 1944, 1943,    4, 1607, 1608, 1629, 1628,    4,\n",
       "        1608, 1944, 1965, 1629,    4, 1943, 1944, 1965, 1964,    4, 1607,\n",
       "        1943, 1964, 1628,    4, 1628, 1629, 1965, 1964]),\n",
       " array([   4, 1608, 1609, 1945, 1944,    4, 1608, 1609, 1630, 1629,    4,\n",
       "        1609, 1945, 1966, 1630,    4, 1944, 1945, 1966, 1965,    4, 1608,\n",
       "        1944, 1965, 1629,    4, 1629, 1630, 1966, 1965]),\n",
       " array([   4, 1609, 1610, 1946, 1945,    4, 1609, 1610, 1631, 1630,    4,\n",
       "        1610, 1946, 1967, 1631,    4, 1945, 1946, 1967, 1966,    4, 1609,\n",
       "        1945, 1966, 1630,    4, 1630, 1631, 1967, 1966]),\n",
       " array([   4, 1615, 1616, 1952, 1951,    4, 1615, 1616, 1637, 1636,    4,\n",
       "        1616, 1952, 1973, 1637,    4, 1951, 1952, 1973, 1972,    4, 1615,\n",
       "        1951, 1972, 1636,    4, 1636, 1637, 1973, 1972]),\n",
       " array([   4, 1616, 1617, 1953, 1952,    4, 1616, 1617, 1638, 1637,    4,\n",
       "        1617, 1953, 1974, 1638,    4, 1952, 1953, 1974, 1973,    4, 1616,\n",
       "        1952, 1973, 1637,    4, 1637, 1638, 1974, 1973]),\n",
       " array([   4, 1619, 1618, 1954, 1955,    4, 1619, 1618, 1639, 1640,    4,\n",
       "        1618, 1954, 1975, 1639,    4, 1955, 1954, 1975, 1976,    4, 1619,\n",
       "        1955, 1976, 1640,    4, 1640, 1639, 1975, 1976]),\n",
       " array([   4, 1618, 1620, 1956, 1954,    4, 1618, 1620, 1641, 1639,    4,\n",
       "        1620, 1956, 1977, 1641,    4, 1954, 1956, 1977, 1975,    4, 1618,\n",
       "        1954, 1975, 1639,    4, 1639, 1641, 1977, 1975]),\n",
       " array([   4, 1620, 1621, 1957, 1956,    4, 1620, 1621, 1642, 1641,    4,\n",
       "        1621, 1957, 1978, 1642,    4, 1956, 1957, 1978, 1977,    4, 1620,\n",
       "        1956, 1977, 1641,    4, 1641, 1642, 1978, 1977]),\n",
       " array([   4, 1625, 1626, 1962, 1961,    4, 1625, 1626, 1647, 1646,    4,\n",
       "        1626, 1962, 1983, 1647,    4, 1961, 1962, 1983, 1982,    4, 1625,\n",
       "        1961, 1982, 1646,    4, 1646, 1647, 1983, 1982]),\n",
       " array([   4, 1626, 1627, 1963, 1962,    4, 1626, 1627, 1648, 1647,    4,\n",
       "        1627, 1963, 1984, 1648,    4, 1962, 1963, 1984, 1983,    4, 1626,\n",
       "        1962, 1983, 1647,    4, 1647, 1648, 1984, 1983]),\n",
       " array([   4, 1627, 1628, 1964, 1963,    4, 1627, 1628, 1649, 1648,    4,\n",
       "        1628, 1964, 1985, 1649,    4, 1963, 1964, 1985, 1984,    4, 1627,\n",
       "        1963, 1984, 1648,    4, 1648, 1649, 1985, 1984]),\n",
       " array([   4, 1628, 1629, 1965, 1964,    4, 1628, 1629, 1650, 1649,    4,\n",
       "        1629, 1965, 1986, 1650,    4, 1964, 1965, 1986, 1985,    4, 1628,\n",
       "        1964, 1985, 1649,    4, 1649, 1650, 1986, 1985]),\n",
       " array([   4, 1629, 1630, 1966, 1965,    4, 1629, 1630, 1651, 1650,    4,\n",
       "        1630, 1966, 1987, 1651,    4, 1965, 1966, 1987, 1986,    4, 1629,\n",
       "        1965, 1986, 1650,    4, 1650, 1651, 1987, 1986]),\n",
       " array([   4, 1637, 1638, 1974, 1973,    4, 1637, 1638, 1659, 1658,    4,\n",
       "        1638, 1974, 1995, 1659,    4, 1973, 1974, 1995, 1994,    4, 1637,\n",
       "        1973, 1994, 1658,    4, 1658, 1659, 1995, 1994]),\n",
       " array([   4, 1640, 1639, 1975, 1976,    4, 1640, 1639, 1660, 1661,    4,\n",
       "        1639, 1975, 1996, 1660,    4, 1976, 1975, 1996, 1997,    4, 1640,\n",
       "        1976, 1997, 1661,    4, 1661, 1660, 1996, 1997]),\n",
       " array([   4, 1639, 1641, 1977, 1975,    4, 1639, 1641, 1662, 1660,    4,\n",
       "        1641, 1977, 1998, 1662,    4, 1975, 1977, 1998, 1996,    4, 1639,\n",
       "        1975, 1996, 1660,    4, 1660, 1662, 1998, 1996]),\n",
       " array([   4, 1641, 1642, 1978, 1977,    4, 1641, 1642, 1663, 1662,    4,\n",
       "        1642, 1978, 1999, 1663,    4, 1977, 1978, 1999, 1998,    4, 1641,\n",
       "        1977, 1998, 1662,    4, 1662, 1663, 1999, 1998]),\n",
       " array([   4, 1642, 1643, 1979, 1978,    4, 1642, 1643, 1664, 1663,    4,\n",
       "        1643, 1979, 2000, 1664,    4, 1978, 1979, 2000, 1999,    4, 1642,\n",
       "        1978, 1999, 1663,    4, 1663, 1664, 2000, 1999]),\n",
       " array([   4, 1643, 1644, 1980, 1979,    4, 1643, 1644, 1665, 1664,    4,\n",
       "        1644, 1980, 2001, 1665,    4, 1979, 1980, 2001, 2000,    4, 1643,\n",
       "        1979, 2000, 1664,    4, 1664, 1665, 2001, 2000]),\n",
       " array([   4, 1644, 1645, 1981, 1980,    4, 1644, 1645, 1666, 1665,    4,\n",
       "        1645, 1981, 2002, 1666,    4, 1980, 1981, 2002, 2001,    4, 1644,\n",
       "        1980, 2001, 1665,    4, 1665, 1666, 2002, 2001]),\n",
       " array([   4, 1645, 1646, 1982, 1981,    4, 1645, 1646, 1667, 1666,    4,\n",
       "        1646, 1982, 2003, 1667,    4, 1981, 1982, 2003, 2002,    4, 1645,\n",
       "        1981, 2002, 1666,    4, 1666, 1667, 2003, 2002]),\n",
       " array([   4, 1646, 1647, 1983, 1982,    4, 1646, 1647, 1668, 1667,    4,\n",
       "        1647, 1983, 2004, 1668,    4, 1982, 1983, 2004, 2003,    4, 1646,\n",
       "        1982, 2003, 1667,    4, 1667, 1668, 2004, 2003]),\n",
       " array([   4, 1647, 1648, 1984, 1983,    4, 1647, 1648, 1669, 1668,    4,\n",
       "        1648, 1984, 2005, 1669,    4, 1983, 1984, 2005, 2004,    4, 1647,\n",
       "        1983, 2004, 1668,    4, 1668, 1669, 2005, 2004]),\n",
       " array([   4, 1648, 1649, 1985, 1984,    4, 1648, 1649, 1670, 1669,    4,\n",
       "        1649, 1985, 2006, 1670,    4, 1984, 1985, 2006, 2005,    4, 1648,\n",
       "        1984, 2005, 1669,    4, 1669, 1670, 2006, 2005]),\n",
       " array([   4, 1649, 1650, 1986, 1985,    4, 1649, 1650, 1671, 1670,    4,\n",
       "        1650, 1986, 2007, 1671,    4, 1985, 1986, 2007, 2006,    4, 1649,\n",
       "        1985, 2006, 1670,    4, 1670, 1671, 2007, 2006]),\n",
       " array([   4, 1650, 1651, 1987, 1986,    4, 1650, 1651, 1672, 1671,    4,\n",
       "        1651, 1987, 2008, 1672,    4, 1986, 1987, 2008, 2007,    4, 1650,\n",
       "        1986, 2007, 1671,    4, 1671, 1672, 2008, 2007]),\n",
       " array([   4, 1651, 1652, 1988, 1987,    4, 1651, 1652, 1673, 1672,    4,\n",
       "        1652, 1988, 2009, 1673,    4, 1987, 1988, 2009, 2008,    4, 1651,\n",
       "        1987, 2008, 1672,    4, 1672, 1673, 2009, 2008]),\n",
       " array([   4, 1707, 1709, 2045, 2043,    4, 1707, 1709, 1710, 1708,    4,\n",
       "        1709, 2045, 2046, 1710,    4, 2043, 2045, 2046, 2044,    4, 1707,\n",
       "        2043, 2044, 1708,    4, 1708, 1710, 2046, 2044]),\n",
       " array([   4, 1709, 1711, 2047, 2045,    4, 1709, 1711, 1712, 1710,    4,\n",
       "        1711, 2047, 2048, 1712,    4, 2045, 2047, 2048, 2046,    4, 1709,\n",
       "        2045, 2046, 1710,    4, 1710, 1712, 2048, 2046]),\n",
       " array([   4, 1713, 1715, 2051, 2049,    4, 1713, 1715, 1716, 1714,    4,\n",
       "        1715, 2051, 2052, 1716,    4, 2049, 2051, 2052, 2050,    4, 1713,\n",
       "        2049, 2050, 1714,    4, 1714, 1716, 2052, 2050]),\n",
       " array([   4, 1706, 1708, 2044, 2042,    4, 1706, 1708, 1736, 1735,    4,\n",
       "        1708, 2044, 2072, 1736,    4, 2042, 2044, 2072, 2071,    4, 1706,\n",
       "        2042, 2071, 1735,    4, 1735, 1736, 2072, 2071]),\n",
       " array([   4, 1708, 1710, 2046, 2044,    4, 1708, 1710, 1737, 1736,    4,\n",
       "        1710, 2046, 2073, 1737,    4, 2044, 2046, 2073, 2072,    4, 1708,\n",
       "        2044, 2072, 1736,    4, 1736, 1737, 2073, 2072]),\n",
       " array([   4, 1734, 1735, 2071, 2070,    4, 1734, 1735, 1756, 1755,    4,\n",
       "        1735, 2071, 2092, 1756,    4, 2070, 2071, 2092, 2091,    4, 1734,\n",
       "        2070, 2091, 1755,    4, 1755, 1756, 2092, 2091]),\n",
       " array([   4, 1735, 1736, 2072, 2071,    4, 1735, 1736, 1757, 1756,    4,\n",
       "        1736, 2072, 2093, 1757,    4, 2071, 2072, 2093, 2092,    4, 1735,\n",
       "        2071, 2092, 1756,    4, 1756, 1757, 2093, 2092]),\n",
       " array([   4, 1736, 1737, 2073, 2072,    4, 1736, 1737, 1758, 1757,    4,\n",
       "        1737, 2073, 2094, 1758,    4, 2072, 2073, 2094, 2093,    4, 1736,\n",
       "        2072, 2093, 1757,    4, 1757, 1758, 2094, 2093]),\n",
       " array([   4, 1755, 1756, 2092, 2091,    4, 1755, 1756, 1777, 1776,    4,\n",
       "        1756, 2092, 2113, 1777,    4, 2091, 2092, 2113, 2112,    4, 1755,\n",
       "        2091, 2112, 1776,    4, 1776, 1777, 2113, 2112]),\n",
       " array([   4, 1756, 1757, 2093, 2092,    4, 1756, 1757, 1778, 1777,    4,\n",
       "        1757, 2093, 2114, 1778,    4, 2092, 2093, 2114, 2113,    4, 1756,\n",
       "        2092, 2113, 1777,    4, 1777, 1778, 2114, 2113]),\n",
       " array([   4, 1775, 1776, 2112, 2111,    4, 1775, 1776, 1797, 1796,    4,\n",
       "        1776, 2112, 2133, 1797,    4, 2111, 2112, 2133, 2132,    4, 1775,\n",
       "        2111, 2132, 1796,    4, 1796, 1797, 2133, 2132]),\n",
       " array([   4, 1776, 1777, 2113, 2112,    4, 1776, 1777, 1798, 1797,    4,\n",
       "        1777, 2113, 2134, 1798,    4, 2112, 2113, 2134, 2133,    4, 1776,\n",
       "        2112, 2133, 1797,    4, 1797, 1798, 2134, 2133]),\n",
       " array([   4, 1777, 1778, 2114, 2113,    4, 1777, 1778, 1799, 1798,    4,\n",
       "        1778, 2114, 2135, 1799,    4, 2113, 2114, 2135, 2134,    4, 1777,\n",
       "        2113, 2134, 1798,    4, 1798, 1799, 2135, 2134]),\n",
       " array([   4, 1778, 1779, 2115, 2114,    4, 1778, 1779, 1800, 1799,    4,\n",
       "        1779, 2115, 2136, 1800,    4, 2114, 2115, 2136, 2135,    4, 1778,\n",
       "        2114, 2135, 1799,    4, 1799, 1800, 2136, 2135]),\n",
       " array([   4, 1796, 1797, 2133, 2132,    4, 1796, 1797, 1818, 1817,    4,\n",
       "        1797, 2133, 2154, 1818,    4, 2132, 2133, 2154, 2153,    4, 1796,\n",
       "        2132, 2153, 1817,    4, 1817, 1818, 2154, 2153]),\n",
       " array([   4, 1797, 1798, 2134, 2133,    4, 1797, 1798, 1819, 1818,    4,\n",
       "        1798, 2134, 2155, 1819,    4, 2133, 2134, 2155, 2154,    4, 1797,\n",
       "        2133, 2154, 1818,    4, 1818, 1819, 2155, 2154]),\n",
       " array([   4, 1798, 1799, 2135, 2134,    4, 1798, 1799, 1820, 1819,    4,\n",
       "        1799, 2135, 2156, 1820,    4, 2134, 2135, 2156, 2155,    4, 1798,\n",
       "        2134, 2155, 1819,    4, 1819, 1820, 2156, 2155]),\n",
       " array([   4, 1799, 1800, 2136, 2135,    4, 1799, 1800, 1821, 1820,    4,\n",
       "        1800, 2136, 2157, 1821,    4, 2135, 2136, 2157, 2156,    4, 1799,\n",
       "        2135, 2156, 1820,    4, 1820, 1821, 2157, 2156]),\n",
       " array([   4, 1802, 1803, 2139, 2138,    4, 1802, 1803, 1824, 1823,    4,\n",
       "        1803, 2139, 2160, 1824,    4, 2138, 2139, 2160, 2159,    4, 1802,\n",
       "        2138, 2159, 1823,    4, 1823, 1824, 2160, 2159]),\n",
       " array([   4, 1817, 1818, 2154, 2153,    4, 1817, 1818, 1839, 1838,    4,\n",
       "        1818, 2154, 2175, 1839,    4, 2153, 2154, 2175, 2174,    4, 1817,\n",
       "        2153, 2174, 1838,    4, 1838, 1839, 2175, 2174]),\n",
       " array([   4, 1818, 1819, 2155, 2154,    4, 1818, 1819, 1840, 1839,    4,\n",
       "        1819, 2155, 2176, 1840,    4, 2154, 2155, 2176, 2175,    4, 1818,\n",
       "        2154, 2175, 1839,    4, 1839, 1840, 2176, 2175]),\n",
       " array([   4, 1819, 1820, 2156, 2155,    4, 1819, 1820, 1841, 1840,    4,\n",
       "        1820, 2156, 2177, 1841,    4, 2155, 2156, 2177, 2176,    4, 1819,\n",
       "        2155, 2176, 1840,    4, 1840, 1841, 2177, 2176]),\n",
       " array([   4, 1820, 1821, 2157, 2156,    4, 1820, 1821, 1842, 1841,    4,\n",
       "        1821, 2157, 2178, 1842,    4, 2156, 2157, 2178, 2177,    4, 1820,\n",
       "        2156, 2177, 1841,    4, 1841, 1842, 2178, 2177]),\n",
       " array([   4, 1821, 1822, 2158, 2157,    4, 1821, 1822, 1843, 1842,    4,\n",
       "        1822, 2158, 2179, 1843,    4, 2157, 2158, 2179, 2178,    4, 1821,\n",
       "        2157, 2178, 1842,    4, 1842, 1843, 2179, 2178]),\n",
       " array([   4, 1822, 1823, 2159, 2158,    4, 1822, 1823, 1844, 1843,    4,\n",
       "        1823, 2159, 2180, 1844,    4, 2158, 2159, 2180, 2179,    4, 1822,\n",
       "        2158, 2179, 1843,    4, 1843, 1844, 2180, 2179]),\n",
       " array([   4, 1823, 1824, 2160, 2159,    4, 1823, 1824, 1845, 1844,    4,\n",
       "        1824, 2160, 2181, 1845,    4, 2159, 2160, 2181, 2180,    4, 1823,\n",
       "        2159, 2180, 1844,    4, 1844, 1845, 2181, 2180]),\n",
       " array([   4, 1824, 1825, 2161, 2160,    4, 1824, 1825, 1846, 1845,    4,\n",
       "        1825, 2161, 2182, 1846,    4, 2160, 2161, 2182, 2181,    4, 1824,\n",
       "        2160, 2181, 1845,    4, 1845, 1846, 2182, 2181]),\n",
       " array([   4, 1825, 1826, 2162, 2161,    4, 1825, 1826, 1847, 1846,    4,\n",
       "        1826, 2162, 2183, 1847,    4, 2161, 2162, 2183, 2182,    4, 1825,\n",
       "        2161, 2182, 1846,    4, 1846, 1847, 2183, 2182]),\n",
       " array([   4, 1838, 1839, 2175, 2174,    4, 1838, 1839, 1860, 1859,    4,\n",
       "        1839, 2175, 2196, 1860,    4, 2174, 2175, 2196, 2195,    4, 1838,\n",
       "        2174, 2195, 1859,    4, 1859, 1860, 2196, 2195]),\n",
       " array([   4, 1839, 1840, 2176, 2175,    4, 1839, 1840, 1861, 1860,    4,\n",
       "        1840, 2176, 2197, 1861,    4, 2175, 2176, 2197, 2196,    4, 1839,\n",
       "        2175, 2196, 1860,    4, 1860, 1861, 2197, 2196]),\n",
       " array([   4, 1840, 1841, 2177, 2176,    4, 1840, 1841, 1862, 1861,    4,\n",
       "        1841, 2177, 2198, 1862,    4, 2176, 2177, 2198, 2197,    4, 1840,\n",
       "        2176, 2197, 1861,    4, 1861, 1862, 2198, 2197]),\n",
       " array([   4, 1841, 1842, 2178, 2177,    4, 1841, 1842, 1863, 1862,    4,\n",
       "        1842, 2178, 2199, 1863,    4, 2177, 2178, 2199, 2198,    4, 1841,\n",
       "        2177, 2198, 1862,    4, 1862, 1863, 2199, 2198]),\n",
       " array([   4, 1843, 1844, 2180, 2179,    4, 1843, 1844, 1865, 1864,    4,\n",
       "        1844, 2180, 2201, 1865,    4, 2179, 2180, 2201, 2200,    4, 1843,\n",
       "        2179, 2200, 1864,    4, 1864, 1865, 2201, 2200]),\n",
       " array([   4, 1844, 1845, 2181, 2180,    4, 1844, 1845, 1866, 1865,    4,\n",
       "        1845, 2181, 2202, 1866,    4, 2180, 2181, 2202, 2201,    4, 1844,\n",
       "        2180, 2201, 1865,    4, 1865, 1866, 2202, 2201]),\n",
       " array([   4, 1845, 1846, 2182, 2181,    4, 1845, 1846, 1867, 1866,    4,\n",
       "        1846, 2182, 2203, 1867,    4, 2181, 2182, 2203, 2202,    4, 1845,\n",
       "        2181, 2202, 1866,    4, 1866, 1867, 2203, 2202]),\n",
       " array([   4, 1846, 1847, 2183, 2182,    4, 1846, 1847, 1868, 1867,    4,\n",
       "        1847, 2183, 2204, 1868,    4, 2182, 2183, 2204, 2203,    4, 1846,\n",
       "        2182, 2203, 1867,    4, 1867, 1868, 2204, 2203]),\n",
       " array([   4, 1847, 1848, 2184, 2183,    4, 1847, 1848, 1869, 1868,    4,\n",
       "        1848, 2184, 2205, 1869,    4, 2183, 2184, 2205, 2204,    4, 1847,\n",
       "        2183, 2204, 1868,    4, 1868, 1869, 2205, 2204]),\n",
       " array([   4, 1858, 1859, 2195, 2194,    4, 1858, 1859, 1880, 1879,    4,\n",
       "        1859, 2195, 2216, 1880,    4, 2194, 2195, 2216, 2215,    4, 1858,\n",
       "        2194, 2215, 1879,    4, 1879, 1880, 2216, 2215]),\n",
       " array([   4, 1859, 1860, 2196, 2195,    4, 1859, 1860, 1881, 1880,    4,\n",
       "        1860, 2196, 2217, 1881,    4, 2195, 2196, 2217, 2216,    4, 1859,\n",
       "        2195, 2216, 1880,    4, 1880, 1881, 2217, 2216]),\n",
       " array([   4, 1860, 1861, 2197, 2196,    4, 1860, 1861, 1882, 1881,    4,\n",
       "        1861, 2197, 2218, 1882,    4, 2196, 2197, 2218, 2217,    4, 1860,\n",
       "        2196, 2217, 1881,    4, 1881, 1882, 2218, 2217]),\n",
       " array([   4, 1861, 1862, 2198, 2197,    4, 1861, 1862, 1883, 1882,    4,\n",
       "        1862, 2198, 2219, 1883,    4, 2197, 2198, 2219, 2218,    4, 1861,\n",
       "        2197, 2218, 1882,    4, 1882, 1883, 2219, 2218]),\n",
       " array([   4, 1862, 1863, 2199, 2198,    4, 1862, 1863, 1884, 1883,    4,\n",
       "        1863, 2199, 2220, 1884,    4, 2198, 2199, 2220, 2219,    4, 1862,\n",
       "        2198, 2219, 1883,    4, 1883, 1884, 2220, 2219]),\n",
       " array([   4, 1865, 1866, 2202, 2201,    4, 1865, 1866, 1887, 1886,    4,\n",
       "        1866, 2202, 2223, 1887,    4, 2201, 2202, 2223, 2222,    4, 1865,\n",
       "        2201, 2222, 1886,    4, 1886, 1887, 2223, 2222]),\n",
       " array([   4, 1866, 1867, 2203, 2202,    4, 1866, 1867, 1888, 1887,    4,\n",
       "        1867, 2203, 2224, 1888,    4, 2202, 2203, 2224, 2223,    4, 1866,\n",
       "        2202, 2223, 1887,    4, 1887, 1888, 2224, 2223]),\n",
       " array([   4, 1867, 1868, 2204, 2203,    4, 1867, 1868, 1889, 1888,    4,\n",
       "        1868, 2204, 2225, 1889,    4, 2203, 2204, 2225, 2224,    4, 1867,\n",
       "        2203, 2224, 1888,    4, 1888, 1889, 2225, 2224]),\n",
       " array([   4, 1868, 1869, 2205, 2204,    4, 1868, 1869, 1890, 1889,    4,\n",
       "        1869, 2205, 2226, 1890,    4, 2204, 2205, 2226, 2225,    4, 1868,\n",
       "        2204, 2225, 1889,    4, 1889, 1890, 2226, 2225]),\n",
       " array([   4, 1878, 1879, 2215, 2214,    4, 1878, 1879, 1900, 1899,    4,\n",
       "        1879, 2215, 2236, 1900,    4, 2214, 2215, 2236, 2235,    4, 1878,\n",
       "        2214, 2235, 1899,    4, 1899, 1900, 2236, 2235]),\n",
       " array([   4, 1879, 1880, 2216, 2215,    4, 1879, 1880, 1901, 1900,    4,\n",
       "        1880, 2216, 2237, 1901,    4, 2215, 2216, 2237, 2236,    4, 1879,\n",
       "        2215, 2236, 1900,    4, 1900, 1901, 2237, 2236]),\n",
       " array([   4, 1880, 1881, 2217, 2216,    4, 1880, 1881, 1902, 1901,    4,\n",
       "        1881, 2217, 2238, 1902,    4, 2216, 2217, 2238, 2237,    4, 1880,\n",
       "        2216, 2237, 1901,    4, 1901, 1902, 2238, 2237]),\n",
       " array([   4, 1881, 1882, 2218, 2217,    4, 1881, 1882, 1903, 1902,    4,\n",
       "        1882, 2218, 2239, 1903,    4, 2217, 2218, 2239, 2238,    4, 1881,\n",
       "        2217, 2238, 1902,    4, 1902, 1903, 2239, 2238]),\n",
       " array([   4, 1882, 1883, 2219, 2218,    4, 1882, 1883, 1904, 1903,    4,\n",
       "        1883, 2219, 2240, 1904,    4, 2218, 2219, 2240, 2239,    4, 1882,\n",
       "        2218, 2239, 1903,    4, 1903, 1904, 2240, 2239]),\n",
       " array([   4, 1883, 1884, 2220, 2219,    4, 1883, 1884, 1905, 1904,    4,\n",
       "        1884, 2220, 2241, 1905,    4, 2219, 2220, 2241, 2240,    4, 1883,\n",
       "        2219, 2240, 1904,    4, 1904, 1905, 2241, 2240]),\n",
       " array([   4, 1886, 1887, 2223, 2222,    4, 1886, 1887, 1908, 1907,    4,\n",
       "        1887, 2223, 2244, 1908,    4, 2222, 2223, 2244, 2243,    4, 1886,\n",
       "        2222, 2243, 1907,    4, 1907, 1908, 2244, 2243]),\n",
       " array([   4, 1887, 1888, 2224, 2223,    4, 1887, 1888, 1909, 1908,    4,\n",
       "        1888, 2224, 2245, 1909,    4, 2223, 2224, 2245, 2244,    4, 1887,\n",
       "        2223, 2244, 1908,    4, 1908, 1909, 2245, 2244]),\n",
       " array([   4, 1888, 1889, 2225, 2224,    4, 1888, 1889, 1910, 1909,    4,\n",
       "        1889, 2225, 2246, 1910,    4, 2224, 2225, 2246, 2245,    4, 1888,\n",
       "        2224, 2245, 1909,    4, 1909, 1910, 2246, 2245]),\n",
       " array([   4, 1889, 1890, 2226, 2225,    4, 1889, 1890, 1911, 1910,    4,\n",
       "        1890, 2226, 2247, 1911,    4, 2225, 2226, 2247, 2246,    4, 1889,\n",
       "        2225, 2246, 1910,    4, 1910, 1911, 2247, 2246]),\n",
       " array([   4, 1899, 1900, 2236, 2235,    4, 1899, 1900, 1921, 1920,    4,\n",
       "        1900, 2236, 2257, 1921,    4, 2235, 2236, 2257, 2256,    4, 1899,\n",
       "        2235, 2256, 1920,    4, 1920, 1921, 2257, 2256]),\n",
       " array([   4, 1900, 1901, 2237, 2236,    4, 1900, 1901, 1922, 1921,    4,\n",
       "        1901, 2237, 2258, 1922,    4, 2236, 2237, 2258, 2257,    4, 1900,\n",
       "        2236, 2257, 1921,    4, 1921, 1922, 2258, 2257]),\n",
       " array([   4, 1901, 1902, 2238, 2237,    4, 1901, 1902, 1923, 1922,    4,\n",
       "        1902, 2238, 2259, 1923,    4, 2237, 2238, 2259, 2258,    4, 1901,\n",
       "        2237, 2258, 1922,    4, 1922, 1923, 2259, 2258]),\n",
       " array([   4, 1902, 1903, 2239, 2238,    4, 1902, 1903, 1924, 1923,    4,\n",
       "        1903, 2239, 2260, 1924,    4, 2238, 2239, 2260, 2259,    4, 1902,\n",
       "        2238, 2259, 1923,    4, 1923, 1924, 2260, 2259]),\n",
       " array([   4, 1903, 1904, 2240, 2239,    4, 1903, 1904, 1925, 1924,    4,\n",
       "        1904, 2240, 2261, 1925,    4, 2239, 2240, 2261, 2260,    4, 1903,\n",
       "        2239, 2260, 1924,    4, 1924, 1925, 2261, 2260]),\n",
       " array([   4, 1904, 1905, 2241, 2240,    4, 1904, 1905, 1926, 1925,    4,\n",
       "        1905, 2241, 2262, 1926,    4, 2240, 2241, 2262, 2261,    4, 1904,\n",
       "        2240, 2261, 1925,    4, 1925, 1926, 2262, 2261]),\n",
       " array([   4, 1908, 1909, 2245, 2244,    4, 1908, 1909, 1930, 1929,    4,\n",
       "        1909, 2245, 2266, 1930,    4, 2244, 2245, 2266, 2265,    4, 1908,\n",
       "        2244, 2265, 1929,    4, 1929, 1930, 2266, 2265]),\n",
       " array([   4, 1909, 1910, 2246, 2245,    4, 1909, 1910, 1931, 1930,    4,\n",
       "        1910, 2246, 2267, 1931,    4, 2245, 2246, 2267, 2266,    4, 1909,\n",
       "        2245, 2266, 1930,    4, 1930, 1931, 2267, 2266]),\n",
       " array([   4, 1910, 1911, 2247, 2246,    4, 1910, 1911, 1932, 1931,    4,\n",
       "        1911, 2247, 2268, 1932,    4, 2246, 2247, 2268, 2267,    4, 1910,\n",
       "        2246, 2267, 1931,    4, 1931, 1932, 2268, 2267]),\n",
       " array([   4, 1913, 1912, 2248, 2249,    4, 1913, 1912, 1933, 1934,    4,\n",
       "        1912, 2248, 2269, 1933,    4, 2249, 2248, 2269, 2270,    4, 1913,\n",
       "        2249, 2270, 1934,    4, 1934, 1933, 2269, 2270]),\n",
       " array([   4, 1917, 1918, 2254, 2253,    4, 1917, 1918, 1939, 1938,    4,\n",
       "        1918, 2254, 2275, 1939,    4, 2253, 2254, 2275, 2274,    4, 1917,\n",
       "        2253, 2274, 1938,    4, 1938, 1939, 2275, 2274]),\n",
       " array([   4, 1918, 1919, 2255, 2254,    4, 1918, 1919, 1940, 1939,    4,\n",
       "        1919, 2255, 2276, 1940,    4, 2254, 2255, 2276, 2275,    4, 1918,\n",
       "        2254, 2275, 1939,    4, 1939, 1940, 2276, 2275]),\n",
       " array([   4, 1919, 1920, 2256, 2255,    4, 1919, 1920, 1941, 1940,    4,\n",
       "        1920, 2256, 2277, 1941,    4, 2255, 2256, 2277, 2276,    4, 1919,\n",
       "        2255, 2276, 1940,    4, 1940, 1941, 2277, 2276]),\n",
       " array([   4, 1920, 1921, 2257, 2256,    4, 1920, 1921, 1942, 1941,    4,\n",
       "        1921, 2257, 2278, 1942,    4, 2256, 2257, 2278, 2277,    4, 1920,\n",
       "        2256, 2277, 1941,    4, 1941, 1942, 2278, 2277]),\n",
       " array([   4, 1921, 1922, 2258, 2257,    4, 1921, 1922, 1943, 1942,    4,\n",
       "        1922, 2258, 2279, 1943,    4, 2257, 2258, 2279, 2278,    4, 1921,\n",
       "        2257, 2278, 1942,    4, 1942, 1943, 2279, 2278]),\n",
       " array([   4, 1922, 1923, 2259, 2258,    4, 1922, 1923, 1944, 1943,    4,\n",
       "        1923, 2259, 2280, 1944,    4, 2258, 2259, 2280, 2279,    4, 1922,\n",
       "        2258, 2279, 1943,    4, 1943, 1944, 2280, 2279]),\n",
       " array([   4, 1923, 1924, 2260, 2259,    4, 1923, 1924, 1945, 1944,    4,\n",
       "        1924, 2260, 2281, 1945,    4, 2259, 2260, 2281, 2280,    4, 1923,\n",
       "        2259, 2280, 1944,    4, 1944, 1945, 2281, 2280]),\n",
       " array([   4, 1924, 1925, 2261, 2260,    4, 1924, 1925, 1946, 1945,    4,\n",
       "        1925, 2261, 2282, 1946,    4, 2260, 2261, 2282, 2281,    4, 1924,\n",
       "        2260, 2281, 1945,    4, 1945, 1946, 2282, 2281]),\n",
       " array([   4, 1925, 1926, 2262, 2261,    4, 1925, 1926, 1947, 1946,    4,\n",
       "        1926, 2262, 2283, 1947,    4, 2261, 2262, 2283, 2282,    4, 1925,\n",
       "        2261, 2282, 1946,    4, 1946, 1947, 2283, 2282]),\n",
       " array([   4, 1929, 1930, 2266, 2265,    4, 1929, 1930, 1951, 1950,    4,\n",
       "        1930, 2266, 2287, 1951,    4, 2265, 2266, 2287, 2286,    4, 1929,\n",
       "        2265, 2286, 1950,    4, 1950, 1951, 2287, 2286]),\n",
       " array([   4, 1930, 1931, 2267, 2266,    4, 1930, 1931, 1952, 1951,    4,\n",
       "        1931, 2267, 2288, 1952,    4, 2266, 2267, 2288, 2287,    4, 1930,\n",
       "        2266, 2287, 1951,    4, 1951, 1952, 2288, 2287]),\n",
       " array([   4, 1931, 1932, 2268, 2267,    4, 1931, 1932, 1953, 1952,    4,\n",
       "        1932, 2268, 2289, 1953,    4, 2267, 2268, 2289, 2288,    4, 1931,\n",
       "        2267, 2288, 1952,    4, 1952, 1953, 2289, 2288]),\n",
       " array([   4, 1934, 1933, 2269, 2270,    4, 1934, 1933, 1954, 1955,    4,\n",
       "        1933, 2269, 2290, 1954,    4, 2270, 2269, 2290, 2291,    4, 1934,\n",
       "        2270, 2291, 1955,    4, 1955, 1954, 2290, 2291]),\n",
       " array([   4, 1933, 1935, 2271, 2269,    4, 1933, 1935, 1956, 1954,    4,\n",
       "        1935, 2271, 2292, 1956,    4, 2269, 2271, 2292, 2290,    4, 1933,\n",
       "        2269, 2290, 1954,    4, 1954, 1956, 2292, 2290]),\n",
       " array([   4, 1938, 1939, 2275, 2274,    4, 1938, 1939, 1960, 1959,    4,\n",
       "        1939, 2275, 2296, 1960,    4, 2274, 2275, 2296, 2295,    4, 1938,\n",
       "        2274, 2295, 1959,    4, 1959, 1960, 2296, 2295]),\n",
       " array([   4, 1939, 1940, 2276, 2275,    4, 1939, 1940, 1961, 1960,    4,\n",
       "        1940, 2276, 2297, 1961,    4, 2275, 2276, 2297, 2296,    4, 1939,\n",
       "        2275, 2296, 1960,    4, 1960, 1961, 2297, 2296]),\n",
       " array([   4, 1940, 1941, 2277, 2276,    4, 1940, 1941, 1962, 1961,    4,\n",
       "        1941, 2277, 2298, 1962,    4, 2276, 2277, 2298, 2297,    4, 1940,\n",
       "        2276, 2297, 1961,    4, 1961, 1962, 2298, 2297]),\n",
       " array([   4, 1941, 1942, 2278, 2277,    4, 1941, 1942, 1963, 1962,    4,\n",
       "        1942, 2278, 2299, 1963,    4, 2277, 2278, 2299, 2298,    4, 1941,\n",
       "        2277, 2298, 1962,    4, 1962, 1963, 2299, 2298]),\n",
       " array([   4, 1942, 1943, 2279, 2278,    4, 1942, 1943, 1964, 1963,    4,\n",
       "        1943, 2279, 2300, 1964,    4, 2278, 2279, 2300, 2299,    4, 1942,\n",
       "        2278, 2299, 1963,    4, 1963, 1964, 2300, 2299]),\n",
       " array([   4, 1943, 1944, 2280, 2279,    4, 1943, 1944, 1965, 1964,    4,\n",
       "        1944, 2280, 2301, 1965,    4, 2279, 2280, 2301, 2300,    4, 1943,\n",
       "        2279, 2300, 1964,    4, 1964, 1965, 2301, 2300]),\n",
       " array([   4, 1944, 1945, 2281, 2280,    4, 1944, 1945, 1966, 1965,    4,\n",
       "        1945, 2281, 2302, 1966,    4, 2280, 2281, 2302, 2301,    4, 1944,\n",
       "        2280, 2301, 1965,    4, 1965, 1966, 2302, 2301]),\n",
       " array([   4, 1945, 1946, 2282, 2281,    4, 1945, 1946, 1967, 1966,    4,\n",
       "        1946, 2282, 2303, 1967,    4, 2281, 2282, 2303, 2302,    4, 1945,\n",
       "        2281, 2302, 1966,    4, 1966, 1967, 2303, 2302]),\n",
       " array([   4, 1946, 1947, 2283, 2282,    4, 1946, 1947, 1968, 1967,    4,\n",
       "        1947, 2283, 2304, 1968,    4, 2282, 2283, 2304, 2303,    4, 1946,\n",
       "        2282, 2303, 1967,    4, 1967, 1968, 2304, 2303]),\n",
       " array([   4, 1951, 1952, 2288, 2287,    4, 1951, 1952, 1973, 1972,    4,\n",
       "        1952, 2288, 2309, 1973,    4, 2287, 2288, 2309, 2308,    4, 1951,\n",
       "        2287, 2308, 1972,    4, 1972, 1973, 2309, 2308]),\n",
       " array([   4, 1952, 1953, 2289, 2288,    4, 1952, 1953, 1974, 1973,    4,\n",
       "        1953, 2289, 2310, 1974,    4, 2288, 2289, 2310, 2309,    4, 1952,\n",
       "        2288, 2309, 1973,    4, 1973, 1974, 2310, 2309]),\n",
       " array([   4, 1955, 1954, 2290, 2291,    4, 1955, 1954, 1975, 1976,    4,\n",
       "        1954, 2290, 2311, 1975,    4, 2291, 2290, 2311, 2312,    4, 1955,\n",
       "        2291, 2312, 1976,    4, 1976, 1975, 2311, 2312]),\n",
       " array([   4, 1954, 1956, 2292, 2290,    4, 1954, 1956, 1977, 1975,    4,\n",
       "        1956, 2292, 2313, 1977,    4, 2290, 2292, 2313, 2311,    4, 1954,\n",
       "        2290, 2311, 1975,    4, 1975, 1977, 2313, 2311]),\n",
       " array([   4, 1956, 1957, 2293, 2292,    4, 1956, 1957, 1978, 1977,    4,\n",
       "        1957, 2293, 2314, 1978,    4, 2292, 2293, 2314, 2313,    4, 1956,\n",
       "        2292, 2313, 1977,    4, 1977, 1978, 2314, 2313]),\n",
       " array([   4, 1960, 1961, 2297, 2296,    4, 1960, 1961, 1982, 1981,    4,\n",
       "        1961, 2297, 2318, 1982,    4, 2296, 2297, 2318, 2317,    4, 1960,\n",
       "        2296, 2317, 1981,    4, 1981, 1982, 2318, 2317]),\n",
       " array([   4, 1961, 1962, 2298, 2297,    4, 1961, 1962, 1983, 1982,    4,\n",
       "        1962, 2298, 2319, 1983,    4, 2297, 2298, 2319, 2318,    4, 1961,\n",
       "        2297, 2318, 1982,    4, 1982, 1983, 2319, 2318]),\n",
       " array([   4, 1962, 1963, 2299, 2298,    4, 1962, 1963, 1984, 1983,    4,\n",
       "        1963, 2299, 2320, 1984,    4, 2298, 2299, 2320, 2319,    4, 1962,\n",
       "        2298, 2319, 1983,    4, 1983, 1984, 2320, 2319]),\n",
       " array([   4, 1963, 1964, 2300, 2299,    4, 1963, 1964, 1985, 1984,    4,\n",
       "        1964, 2300, 2321, 1985,    4, 2299, 2300, 2321, 2320,    4, 1963,\n",
       "        2299, 2320, 1984,    4, 1984, 1985, 2321, 2320]),\n",
       " array([   4, 1964, 1965, 2301, 2300,    4, 1964, 1965, 1986, 1985,    4,\n",
       "        1965, 2301, 2322, 1986,    4, 2300, 2301, 2322, 2321,    4, 1964,\n",
       "        2300, 2321, 1985,    4, 1985, 1986, 2322, 2321]),\n",
       " array([   4, 1965, 1966, 2302, 2301,    4, 1965, 1966, 1987, 1986,    4,\n",
       "        1966, 2302, 2323, 1987,    4, 2301, 2302, 2323, 2322,    4, 1965,\n",
       "        2301, 2322, 1986,    4, 1986, 1987, 2323, 2322]),\n",
       " array([   4, 1966, 1967, 2303, 2302,    4, 1966, 1967, 1988, 1987,    4,\n",
       "        1967, 2303, 2324, 1988,    4, 2302, 2303, 2324, 2323,    4, 1966,\n",
       "        2302, 2323, 1987,    4, 1987, 1988, 2324, 2323]),\n",
       " array([   4, 1967, 1968, 2304, 2303,    4, 1967, 1968, 1989, 1988,    4,\n",
       "        1968, 2304, 2325, 1989,    4, 2303, 2304, 2325, 2324,    4, 1967,\n",
       "        2303, 2324, 1988,    4, 1988, 1989, 2325, 2324]),\n",
       " array([   4, 1973, 1974, 2310, 2309,    4, 1973, 1974, 1995, 1994,    4,\n",
       "        1974, 2310, 2331, 1995,    4, 2309, 2310, 2331, 2330,    4, 1973,\n",
       "        2309, 2330, 1994,    4, 1994, 1995, 2331, 2330]),\n",
       " array([   4, 1976, 1975, 2311, 2312,    4, 1976, 1975, 1996, 1997,    4,\n",
       "        1975, 2311, 2332, 1996,    4, 2312, 2311, 2332, 2333,    4, 1976,\n",
       "        2312, 2333, 1997,    4, 1997, 1996, 2332, 2333]),\n",
       " array([   4, 1975, 1977, 2313, 2311,    4, 1975, 1977, 1998, 1996,    4,\n",
       "        1977, 2313, 2334, 1998,    4, 2311, 2313, 2334, 2332,    4, 1975,\n",
       "        2311, 2332, 1996,    4, 1996, 1998, 2334, 2332]),\n",
       " array([   4, 1977, 1978, 2314, 2313,    4, 1977, 1978, 1999, 1998,    4,\n",
       "        1978, 2314, 2335, 1999,    4, 2313, 2314, 2335, 2334,    4, 1977,\n",
       "        2313, 2334, 1998,    4, 1998, 1999, 2335, 2334]),\n",
       " array([   4, 1978, 1979, 2315, 2314,    4, 1978, 1979, 2000, 1999,    4,\n",
       "        1979, 2315, 2336, 2000,    4, 2314, 2315, 2336, 2335,    4, 1978,\n",
       "        2314, 2335, 1999,    4, 1999, 2000, 2336, 2335]),\n",
       " array([   4, 1981, 1982, 2318, 2317,    4, 1981, 1982, 2003, 2002,    4,\n",
       "        1982, 2318, 2339, 2003,    4, 2317, 2318, 2339, 2338,    4, 1981,\n",
       "        2317, 2338, 2002,    4, 2002, 2003, 2339, 2338]),\n",
       " array([   4, 1982, 1983, 2319, 2318,    4, 1982, 1983, 2004, 2003,    4,\n",
       "        1983, 2319, 2340, 2004,    4, 2318, 2319, 2340, 2339,    4, 1982,\n",
       "        2318, 2339, 2003,    4, 2003, 2004, 2340, 2339]),\n",
       " array([   4, 1983, 1984, 2320, 2319,    4, 1983, 1984, 2005, 2004,    4,\n",
       "        1984, 2320, 2341, 2005,    4, 2319, 2320, 2341, 2340,    4, 1983,\n",
       "        2319, 2340, 2004,    4, 2004, 2005, 2341, 2340]),\n",
       " array([   4, 1984, 1985, 2321, 2320,    4, 1984, 1985, 2006, 2005,    4,\n",
       "        1985, 2321, 2342, 2006,    4, 2320, 2321, 2342, 2341,    4, 1984,\n",
       "        2320, 2341, 2005,    4, 2005, 2006, 2342, 2341]),\n",
       " array([   4, 1985, 1986, 2322, 2321,    4, 1985, 1986, 2007, 2006,    4,\n",
       "        1986, 2322, 2343, 2007,    4, 2321, 2322, 2343, 2342,    4, 1985,\n",
       "        2321, 2342, 2006,    4, 2006, 2007, 2343, 2342]),\n",
       " array([   4, 1986, 1987, 2323, 2322,    4, 1986, 1987, 2008, 2007,    4,\n",
       "        1987, 2323, 2344, 2008,    4, 2322, 2323, 2344, 2343,    4, 1986,\n",
       "        2322, 2343, 2007,    4, 2007, 2008, 2344, 2343]),\n",
       " array([   4, 1987, 1988, 2324, 2323,    4, 1987, 1988, 2009, 2008,    4,\n",
       "        1988, 2324, 2345, 2009,    4, 2323, 2324, 2345, 2344,    4, 1987,\n",
       "        2323, 2344, 2008,    4, 2008, 2009, 2345, 2344]),\n",
       " array([   4, 1988, 1989, 2325, 2324,    4, 1988, 1989, 2010, 2009,    4,\n",
       "        1989, 2325, 2346, 2010,    4, 2324, 2325, 2346, 2345,    4, 1988,\n",
       "        2324, 2345, 2009,    4, 2009, 2010, 2346, 2345]),\n",
       " array([   4, 2039, 2041, 2377, 2375,    4, 2039, 2041, 2042, 2040,    4,\n",
       "        2041, 2377, 2378, 2042,    4, 2375, 2377, 2378, 2376,    4, 2039,\n",
       "        2375, 2376, 2040,    4, 2040, 2042, 2378, 2376]),\n",
       " array([   4, 2041, 2043, 2379, 2377,    4, 2041, 2043, 2044, 2042,    4,\n",
       "        2043, 2379, 2380, 2044,    4, 2377, 2379, 2380, 2378,    4, 2041,\n",
       "        2377, 2378, 2042,    4, 2042, 2044, 2380, 2378]),\n",
       " array([   4, 2043, 2045, 2381, 2379,    4, 2043, 2045, 2046, 2044,    4,\n",
       "        2045, 2381, 2382, 2046,    4, 2379, 2381, 2382, 2380,    4, 2043,\n",
       "        2379, 2380, 2044,    4, 2044, 2046, 2382, 2380]),\n",
       " array([   4, 2045, 2047, 2383, 2381,    4, 2045, 2047, 2048, 2046,    4,\n",
       "        2047, 2383, 2384, 2048,    4, 2381, 2383, 2384, 2382,    4, 2045,\n",
       "        2381, 2382, 2046,    4, 2046, 2048, 2384, 2382]),\n",
       " array([   4, 2040, 2042, 2378, 2376,    4, 2040, 2042, 2071, 2070,    4,\n",
       "        2042, 2378, 2407, 2071,    4, 2376, 2378, 2407, 2406,    4, 2040,\n",
       "        2376, 2406, 2070,    4, 2070, 2071, 2407, 2406]),\n",
       " array([   4, 2042, 2044, 2380, 2378,    4, 2042, 2044, 2072, 2071,    4,\n",
       "        2044, 2380, 2408, 2072,    4, 2378, 2380, 2408, 2407,    4, 2042,\n",
       "        2378, 2407, 2071,    4, 2071, 2072, 2408, 2407]),\n",
       " array([   4, 2044, 2046, 2382, 2380,    4, 2044, 2046, 2073, 2072,    4,\n",
       "        2046, 2382, 2409, 2073,    4, 2380, 2382, 2409, 2408,    4, 2044,\n",
       "        2380, 2408, 2072,    4, 2072, 2073, 2409, 2408]),\n",
       " array([   4, 2069, 2070, 2406, 2405,    4, 2069, 2070, 2091, 2090,    4,\n",
       "        2070, 2406, 2427, 2091,    4, 2405, 2406, 2427, 2426,    4, 2069,\n",
       "        2405, 2426, 2090,    4, 2090, 2091, 2427, 2426]),\n",
       " array([   4, 2070, 2071, 2407, 2406,    4, 2070, 2071, 2092, 2091,    4,\n",
       "        2071, 2407, 2428, 2092,    4, 2406, 2407, 2428, 2427,    4, 2070,\n",
       "        2406, 2427, 2091,    4, 2091, 2092, 2428, 2427]),\n",
       " array([   4, 2071, 2072, 2408, 2407,    4, 2071, 2072, 2093, 2092,    4,\n",
       "        2072, 2408, 2429, 2093,    4, 2407, 2408, 2429, 2428,    4, 2071,\n",
       "        2407, 2428, 2092,    4, 2092, 2093, 2429, 2428]),\n",
       " array([   4, 2090, 2091, 2427, 2426,    4, 2090, 2091, 2112, 2111,    4,\n",
       "        2091, 2427, 2448, 2112,    4, 2426, 2427, 2448, 2447,    4, 2090,\n",
       "        2426, 2447, 2111,    4, 2111, 2112, 2448, 2447]),\n",
       " array([   4, 2091, 2092, 2428, 2427,    4, 2091, 2092, 2113, 2112,    4,\n",
       "        2092, 2428, 2449, 2113,    4, 2427, 2428, 2449, 2448,    4, 2091,\n",
       "        2427, 2448, 2112,    4, 2112, 2113, 2449, 2448]),\n",
       " array([   4, 2092, 2093, 2429, 2428,    4, 2092, 2093, 2114, 2113,    4,\n",
       "        2093, 2429, 2450, 2114,    4, 2428, 2429, 2450, 2449,    4, 2092,\n",
       "        2428, 2449, 2113,    4, 2113, 2114, 2450, 2449]),\n",
       " array([   4, 2111, 2112, 2448, 2447,    4, 2111, 2112, 2133, 2132,    4,\n",
       "        2112, 2448, 2469, 2133,    4, 2447, 2448, 2469, 2468,    4, 2111,\n",
       "        2447, 2468, 2132,    4, 2132, 2133, 2469, 2468]),\n",
       " array([   4, 2112, 2113, 2449, 2448,    4, 2112, 2113, 2134, 2133,    4,\n",
       "        2113, 2449, 2470, 2134,    4, 2448, 2449, 2470, 2469,    4, 2112,\n",
       "        2448, 2469, 2133,    4, 2133, 2134, 2470, 2469]),\n",
       " array([   4, 2113, 2114, 2450, 2449,    4, 2113, 2114, 2135, 2134,    4,\n",
       "        2114, 2450, 2471, 2135,    4, 2449, 2450, 2471, 2470,    4, 2113,\n",
       "        2449, 2470, 2134,    4, 2134, 2135, 2471, 2470]),\n",
       " array([   4, 2131, 2132, 2468, 2467,    4, 2131, 2132, 2153, 2152,    4,\n",
       "        2132, 2468, 2489, 2153,    4, 2467, 2468, 2489, 2488,    4, 2131,\n",
       "        2467, 2488, 2152,    4, 2152, 2153, 2489, 2488]),\n",
       " array([   4, 2132, 2133, 2469, 2468,    4, 2132, 2133, 2154, 2153,    4,\n",
       "        2133, 2469, 2490, 2154,    4, 2468, 2469, 2490, 2489,    4, 2132,\n",
       "        2468, 2489, 2153,    4, 2153, 2154, 2490, 2489]),\n",
       " array([   4, 2133, 2134, 2470, 2469,    4, 2133, 2134, 2155, 2154,    4,\n",
       "        2134, 2470, 2491, 2155,    4, 2469, 2470, 2491, 2490,    4, 2133,\n",
       "        2469, 2490, 2154,    4, 2154, 2155, 2491, 2490]),\n",
       " array([   4, 2134, 2135, 2471, 2470,    4, 2134, 2135, 2156, 2155,    4,\n",
       "        2135, 2471, 2492, 2156,    4, 2470, 2471, 2492, 2491,    4, 2134,\n",
       "        2470, 2491, 2155,    4, 2155, 2156, 2492, 2491]),\n",
       " array([   4, 2135, 2136, 2472, 2471,    4, 2135, 2136, 2157, 2156,    4,\n",
       "        2136, 2472, 2493, 2157,    4, 2471, 2472, 2493, 2492,    4, 2135,\n",
       "        2471, 2492, 2156,    4, 2156, 2157, 2493, 2492]),\n",
       " array([   4, 2152, 2153, 2489, 2488,    4, 2152, 2153, 2174, 2173,    4,\n",
       "        2153, 2489, 2510, 2174,    4, 2488, 2489, 2510, 2509,    4, 2152,\n",
       "        2488, 2509, 2173,    4, 2173, 2174, 2510, 2509]),\n",
       " array([   4, 2153, 2154, 2490, 2489,    4, 2153, 2154, 2175, 2174,    4,\n",
       "        2154, 2490, 2511, 2175,    4, 2489, 2490, 2511, 2510,    4, 2153,\n",
       "        2489, 2510, 2174,    4, 2174, 2175, 2511, 2510]),\n",
       " array([   4, 2154, 2155, 2491, 2490,    4, 2154, 2155, 2176, 2175,    4,\n",
       "        2155, 2491, 2512, 2176,    4, 2490, 2491, 2512, 2511,    4, 2154,\n",
       "        2490, 2511, 2175,    4, 2175, 2176, 2512, 2511]),\n",
       " array([   4, 2155, 2156, 2492, 2491,    4, 2155, 2156, 2177, 2176,    4,\n",
       "        2156, 2492, 2513, 2177,    4, 2491, 2492, 2513, 2512,    4, 2155,\n",
       "        2491, 2512, 2176,    4, 2176, 2177, 2513, 2512]),\n",
       " array([   4, 2156, 2157, 2493, 2492,    4, 2156, 2157, 2178, 2177,    4,\n",
       "        2157, 2493, 2514, 2178,    4, 2492, 2493, 2514, 2513,    4, 2156,\n",
       "        2492, 2513, 2177,    4, 2177, 2178, 2514, 2513]),\n",
       " array([   4, 2173, 2174, 2510, 2509,    4, 2173, 2174, 2195, 2194,    4,\n",
       "        2174, 2510, 2531, 2195,    4, 2509, 2510, 2531, 2530,    4, 2173,\n",
       "        2509, 2530, 2194,    4, 2194, 2195, 2531, 2530]),\n",
       " array([   4, 2174, 2175, 2511, 2510,    4, 2174, 2175, 2196, 2195,    4,\n",
       "        2175, 2511, 2532, 2196,    4, 2510, 2511, 2532, 2531,    4, 2174,\n",
       "        2510, 2531, 2195,    4, 2195, 2196, 2532, 2531]),\n",
       " array([   4, 2175, 2176, 2512, 2511,    4, 2175, 2176, 2197, 2196,    4,\n",
       "        2176, 2512, 2533, 2197,    4, 2511, 2512, 2533, 2532,    4, 2175,\n",
       "        2511, 2532, 2196,    4, 2196, 2197, 2533, 2532]),\n",
       " array([   4, 2176, 2177, 2513, 2512,    4, 2176, 2177, 2198, 2197,    4,\n",
       "        2177, 2513, 2534, 2198,    4, 2512, 2513, 2534, 2533,    4, 2176,\n",
       "        2512, 2533, 2197,    4, 2197, 2198, 2534, 2533]),\n",
       " array([   4, 2177, 2178, 2514, 2513,    4, 2177, 2178, 2199, 2198,    4,\n",
       "        2178, 2514, 2535, 2199,    4, 2513, 2514, 2535, 2534,    4, 2177,\n",
       "        2513, 2534, 2198,    4, 2198, 2199, 2535, 2534]),\n",
       " array([   4, 2190, 2191, 2527, 2526,    4, 2190, 2191, 2212, 2211,    4,\n",
       "        2191, 2527, 2548, 2212,    4, 2526, 2527, 2548, 2547,    4, 2190,\n",
       "        2526, 2547, 2211,    4, 2211, 2212, 2548, 2547]),\n",
       " array([   4, 2193, 2194, 2530, 2529,    4, 2193, 2194, 2215, 2214,    4,\n",
       "        2194, 2530, 2551, 2215,    4, 2529, 2530, 2551, 2550,    4, 2193,\n",
       "        2529, 2550, 2214,    4, 2214, 2215, 2551, 2550]),\n",
       " array([   4, 2194, 2195, 2531, 2530,    4, 2194, 2195, 2216, 2215,    4,\n",
       "        2195, 2531, 2552, 2216,    4, 2530, 2531, 2552, 2551,    4, 2194,\n",
       "        2530, 2551, 2215,    4, 2215, 2216, 2552, 2551]),\n",
       " array([   4, 2195, 2196, 2532, 2531,    4, 2195, 2196, 2217, 2216,    4,\n",
       "        2196, 2532, 2553, 2217,    4, 2531, 2532, 2553, 2552,    4, 2195,\n",
       "        2531, 2552, 2216,    4, 2216, 2217, 2553, 2552]),\n",
       " array([   4, 2196, 2197, 2533, 2532,    4, 2196, 2197, 2218, 2217,    4,\n",
       "        2197, 2533, 2554, 2218,    4, 2532, 2533, 2554, 2553,    4, 2196,\n",
       "        2532, 2553, 2217,    4, 2217, 2218, 2554, 2553]),\n",
       " array([   4, 2209, 2210, 2546, 2545,    4, 2209, 2210, 2231, 2230,    4,\n",
       "        2210, 2546, 2567, 2231,    4, 2545, 2546, 2567, 2566,    4, 2209,\n",
       "        2545, 2566, 2230,    4, 2230, 2231, 2567, 2566]),\n",
       " array([   4, 2210, 2211, 2547, 2546,    4, 2210, 2211, 2232, 2231,    4,\n",
       "        2211, 2547, 2568, 2232,    4, 2546, 2547, 2568, 2567,    4, 2210,\n",
       "        2546, 2567, 2231,    4, 2231, 2232, 2568, 2567]),\n",
       " array([   4, 2211, 2212, 2548, 2547,    4, 2211, 2212, 2233, 2232,    4,\n",
       "        2212, 2548, 2569, 2233,    4, 2547, 2548, 2569, 2568,    4, 2211,\n",
       "        2547, 2568, 2232,    4, 2232, 2233, 2569, 2568]),\n",
       " array([   4, 2212, 2213, 2549, 2548,    4, 2212, 2213, 2234, 2233,    4,\n",
       "        2213, 2549, 2570, 2234,    4, 2548, 2549, 2570, 2569,    4, 2212,\n",
       "        2548, 2569, 2233,    4, 2233, 2234, 2570, 2569]),\n",
       " array([   4, 2213, 2214, 2550, 2549,    4, 2213, 2214, 2235, 2234,    4,\n",
       "        2214, 2550, 2571, 2235,    4, 2549, 2550, 2571, 2570,    4, 2213,\n",
       "        2549, 2570, 2234,    4, 2234, 2235, 2571, 2570]),\n",
       " array([   4, 2214, 2215, 2551, 2550,    4, 2214, 2215, 2236, 2235,    4,\n",
       "        2215, 2551, 2572, 2236,    4, 2550, 2551, 2572, 2571,    4, 2214,\n",
       "        2550, 2571, 2235,    4, 2235, 2236, 2572, 2571]),\n",
       " array([   4, 2215, 2216, 2552, 2551,    4, 2215, 2216, 2237, 2236,    4,\n",
       "        2216, 2552, 2573, 2237,    4, 2551, 2552, 2573, 2572,    4, 2215,\n",
       "        2551, 2572, 2236,    4, 2236, 2237, 2573, 2572]),\n",
       " array([   4, 2216, 2217, 2553, 2552,    4, 2216, 2217, 2238, 2237,    4,\n",
       "        2217, 2553, 2574, 2238,    4, 2552, 2553, 2574, 2573,    4, 2216,\n",
       "        2552, 2573, 2237,    4, 2237, 2238, 2574, 2573]),\n",
       " array([   4, 2217, 2218, 2554, 2553,    4, 2217, 2218, 2239, 2238,    4,\n",
       "        2218, 2554, 2575, 2239,    4, 2553, 2554, 2575, 2574,    4, 2217,\n",
       "        2553, 2574, 2238,    4, 2238, 2239, 2575, 2574]),\n",
       " array([   4, 2228, 2227, 2563, 2564,    4, 2228, 2227, 2248, 2249,    4,\n",
       "        2227, 2563, 2584, 2248,    4, 2564, 2563, 2584, 2585,    4, 2228,\n",
       "        2564, 2585, 2249,    4, 2249, 2248, 2584, 2585]),\n",
       " array([   4, 2227, 2229, 2565, 2563,    4, 2227, 2229, 2250, 2248,    4,\n",
       "        2229, 2565, 2586, 2250,    4, 2563, 2565, 2586, 2584,    4, 2227,\n",
       "        2563, 2584, 2248,    4, 2248, 2250, 2586, 2584]),\n",
       " array([   4, 2229, 2230, 2566, 2565,    4, 2229, 2230, 2251, 2250,    4,\n",
       "        2230, 2566, 2587, 2251,    4, 2565, 2566, 2587, 2586,    4, 2229,\n",
       "        2565, 2586, 2250,    4, 2250, 2251, 2587, 2586]),\n",
       " array([   4, 2230, 2231, 2567, 2566,    4, 2230, 2231, 2252, 2251,    4,\n",
       "        2231, 2567, 2588, 2252,    4, 2566, 2567, 2588, 2587,    4, 2230,\n",
       "        2566, 2587, 2251,    4, 2251, 2252, 2588, 2587]),\n",
       " array([   4, 2231, 2232, 2568, 2567,    4, 2231, 2232, 2253, 2252,    4,\n",
       "        2232, 2568, 2589, 2253,    4, 2567, 2568, 2589, 2588,    4, 2231,\n",
       "        2567, 2588, 2252,    4, 2252, 2253, 2589, 2588]),\n",
       " array([   4, 2232, 2233, 2569, 2568,    4, 2232, 2233, 2254, 2253,    4,\n",
       "        2233, 2569, 2590, 2254,    4, 2568, 2569, 2590, 2589,    4, 2232,\n",
       "        2568, 2589, 2253,    4, 2253, 2254, 2590, 2589]),\n",
       " array([   4, 2233, 2234, 2570, 2569,    4, 2233, 2234, 2255, 2254,    4,\n",
       "        2234, 2570, 2591, 2255,    4, 2569, 2570, 2591, 2590,    4, 2233,\n",
       "        2569, 2590, 2254,    4, 2254, 2255, 2591, 2590]),\n",
       " array([   4, 2234, 2235, 2571, 2570,    4, 2234, 2235, 2256, 2255,    4,\n",
       "        2235, 2571, 2592, 2256,    4, 2570, 2571, 2592, 2591,    4, 2234,\n",
       "        2570, 2591, 2255,    4, 2255, 2256, 2592, 2591]),\n",
       " array([   4, 2235, 2236, 2572, 2571,    4, 2235, 2236, 2257, 2256,    4,\n",
       "        2236, 2572, 2593, 2257,    4, 2571, 2572, 2593, 2592,    4, 2235,\n",
       "        2571, 2592, 2256,    4, 2256, 2257, 2593, 2592]),\n",
       " array([   4, 2236, 2237, 2573, 2572,    4, 2236, 2237, 2258, 2257,    4,\n",
       "        2237, 2573, 2594, 2258,    4, 2572, 2573, 2594, 2593,    4, 2236,\n",
       "        2572, 2593, 2257,    4, 2257, 2258, 2594, 2593]),\n",
       " array([   4, 2237, 2238, 2574, 2573,    4, 2237, 2238, 2259, 2258,    4,\n",
       "        2238, 2574, 2595, 2259,    4, 2573, 2574, 2595, 2594,    4, 2237,\n",
       "        2573, 2594, 2258,    4, 2258, 2259, 2595, 2594]),\n",
       " array([   4, 2238, 2239, 2575, 2574,    4, 2238, 2239, 2260, 2259,    4,\n",
       "        2239, 2575, 2596, 2260,    4, 2574, 2575, 2596, 2595,    4, 2238,\n",
       "        2574, 2595, 2259,    4, 2259, 2260, 2596, 2595]),\n",
       " array([   4, 2239, 2240, 2576, 2575,    4, 2239, 2240, 2261, 2260,    4,\n",
       "        2240, 2576, 2597, 2261,    4, 2575, 2576, 2597, 2596,    4, 2239,\n",
       "        2575, 2596, 2260,    4, 2260, 2261, 2597, 2596]),\n",
       " array([   4, 2249, 2248, 2584, 2585,    4, 2249, 2248, 2269, 2270,    4,\n",
       "        2248, 2584, 2605, 2269,    4, 2585, 2584, 2605, 2606,    4, 2249,\n",
       "        2585, 2606, 2270,    4, 2270, 2269, 2605, 2606]),\n",
       " array([   4, 2248, 2250, 2586, 2584,    4, 2248, 2250, 2271, 2269,    4,\n",
       "        2250, 2586, 2607, 2271,    4, 2584, 2586, 2607, 2605,    4, 2248,\n",
       "        2584, 2605, 2269,    4, 2269, 2271, 2607, 2605]),\n",
       " array([   4, 2250, 2251, 2587, 2586,    4, 2250, 2251, 2272, 2271,    4,\n",
       "        2251, 2587, 2608, 2272,    4, 2586, 2587, 2608, 2607,    4, 2250,\n",
       "        2586, 2607, 2271,    4, 2271, 2272, 2608, 2607]),\n",
       " array([   4, 2251, 2252, 2588, 2587,    4, 2251, 2252, 2273, 2272,    4,\n",
       "        2252, 2588, 2609, 2273,    4, 2587, 2588, 2609, 2608,    4, 2251,\n",
       "        2587, 2608, 2272,    4, 2272, 2273, 2609, 2608]),\n",
       " array([   4, 2252, 2253, 2589, 2588,    4, 2252, 2253, 2274, 2273,    4,\n",
       "        2253, 2589, 2610, 2274,    4, 2588, 2589, 2610, 2609,    4, 2252,\n",
       "        2588, 2609, 2273,    4, 2273, 2274, 2610, 2609]),\n",
       " array([   4, 2253, 2254, 2590, 2589,    4, 2253, 2254, 2275, 2274,    4,\n",
       "        2254, 2590, 2611, 2275,    4, 2589, 2590, 2611, 2610,    4, 2253,\n",
       "        2589, 2610, 2274,    4, 2274, 2275, 2611, 2610]),\n",
       " array([   4, 2254, 2255, 2591, 2590,    4, 2254, 2255, 2276, 2275,    4,\n",
       "        2255, 2591, 2612, 2276,    4, 2590, 2591, 2612, 2611,    4, 2254,\n",
       "        2590, 2611, 2275,    4, 2275, 2276, 2612, 2611]),\n",
       " array([   4, 2255, 2256, 2592, 2591,    4, 2255, 2256, 2277, 2276,    4,\n",
       "        2256, 2592, 2613, 2277,    4, 2591, 2592, 2613, 2612,    4, 2255,\n",
       "        2591, 2612, 2276,    4, 2276, 2277, 2613, 2612]),\n",
       " array([   4, 2256, 2257, 2593, 2592,    4, 2256, 2257, 2278, 2277,    4,\n",
       "        2257, 2593, 2614, 2278,    4, 2592, 2593, 2614, 2613,    4, 2256,\n",
       "        2592, 2613, 2277,    4, 2277, 2278, 2614, 2613]),\n",
       " array([   4, 2257, 2258, 2594, 2593,    4, 2257, 2258, 2279, 2278,    4,\n",
       "        2258, 2594, 2615, 2279,    4, 2593, 2594, 2615, 2614,    4, 2257,\n",
       "        2593, 2614, 2278,    4, 2278, 2279, 2615, 2614]),\n",
       " array([   4, 2258, 2259, 2595, 2594,    4, 2258, 2259, 2280, 2279,    4,\n",
       "        2259, 2595, 2616, 2280,    4, 2594, 2595, 2616, 2615,    4, 2258,\n",
       "        2594, 2615, 2279,    4, 2279, 2280, 2616, 2615]),\n",
       " array([   4, 2259, 2260, 2596, 2595,    4, 2259, 2260, 2281, 2280,    4,\n",
       "        2260, 2596, 2617, 2281,    4, 2595, 2596, 2617, 2616,    4, 2259,\n",
       "        2595, 2616, 2280,    4, 2280, 2281, 2617, 2616]),\n",
       " array([   4, 2260, 2261, 2597, 2596,    4, 2260, 2261, 2282, 2281,    4,\n",
       "        2261, 2597, 2618, 2282,    4, 2596, 2597, 2618, 2617,    4, 2260,\n",
       "        2596, 2617, 2281,    4, 2281, 2282, 2618, 2617]),\n",
       " array([   4, 2270, 2269, 2605, 2606,    4, 2270, 2269, 2290, 2291,    4,\n",
       "        2269, 2605, 2626, 2290,    4, 2606, 2605, 2626, 2627,    4, 2270,\n",
       "        2606, 2627, 2291,    4, 2291, 2290, 2626, 2627]),\n",
       " array([   4, 2273, 2274, 2610, 2609,    4, 2273, 2274, 2295, 2294,    4,\n",
       "        2274, 2610, 2631, 2295,    4, 2609, 2610, 2631, 2630,    4, 2273,\n",
       "        2609, 2630, 2294,    4, 2294, 2295, 2631, 2630]),\n",
       " array([   4, 2274, 2275, 2611, 2610,    4, 2274, 2275, 2296, 2295,    4,\n",
       "        2275, 2611, 2632, 2296,    4, 2610, 2611, 2632, 2631,    4, 2274,\n",
       "        2610, 2631, 2295,    4, 2295, 2296, 2632, 2631]),\n",
       " array([   4, 2275, 2276, 2612, 2611,    4, 2275, 2276, 2297, 2296,    4,\n",
       "        2276, 2612, 2633, 2297,    4, 2611, 2612, 2633, 2632,    4, 2275,\n",
       "        2611, 2632, 2296,    4, 2296, 2297, 2633, 2632]),\n",
       " array([   4, 2276, 2277, 2613, 2612,    4, 2276, 2277, 2298, 2297,    4,\n",
       "        2277, 2613, 2634, 2298,    4, 2612, 2613, 2634, 2633,    4, 2276,\n",
       "        2612, 2633, 2297,    4, 2297, 2298, 2634, 2633]),\n",
       " array([   4, 2277, 2278, 2614, 2613,    4, 2277, 2278, 2299, 2298,    4,\n",
       "        2278, 2614, 2635, 2299,    4, 2613, 2614, 2635, 2634,    4, 2277,\n",
       "        2613, 2634, 2298,    4, 2298, 2299, 2635, 2634]),\n",
       " array([   4, 2278, 2279, 2615, 2614,    4, 2278, 2279, 2300, 2299,    4,\n",
       "        2279, 2615, 2636, 2300,    4, 2614, 2615, 2636, 2635,    4, 2278,\n",
       "        2614, 2635, 2299,    4, 2299, 2300, 2636, 2635]),\n",
       " array([   4, 2279, 2280, 2616, 2615,    4, 2279, 2280, 2301, 2300,    4,\n",
       "        2280, 2616, 2637, 2301,    4, 2615, 2616, 2637, 2636,    4, 2279,\n",
       "        2615, 2636, 2300,    4, 2300, 2301, 2637, 2636]),\n",
       " array([   4, 2280, 2281, 2617, 2616,    4, 2280, 2281, 2302, 2301,    4,\n",
       "        2281, 2617, 2638, 2302,    4, 2616, 2617, 2638, 2637,    4, 2280,\n",
       "        2616, 2637, 2301,    4, 2301, 2302, 2638, 2637]),\n",
       " array([   4, 2281, 2282, 2618, 2617,    4, 2281, 2282, 2303, 2302,    4,\n",
       "        2282, 2618, 2639, 2303,    4, 2617, 2618, 2639, 2638,    4, 2281,\n",
       "        2617, 2638, 2302,    4, 2302, 2303, 2639, 2638]),\n",
       " array([   4, 2282, 2283, 2619, 2618,    4, 2282, 2283, 2304, 2303,    4,\n",
       "        2283, 2619, 2640, 2304,    4, 2618, 2619, 2640, 2639,    4, 2282,\n",
       "        2618, 2639, 2303,    4, 2303, 2304, 2640, 2639]),\n",
       " array([   4, 2288, 2289, 2625, 2624,    4, 2288, 2289, 2310, 2309,    4,\n",
       "        2289, 2625, 2646, 2310,    4, 2624, 2625, 2646, 2645,    4, 2288,\n",
       "        2624, 2645, 2309,    4, 2309, 2310, 2646, 2645]),\n",
       " array([   4, 2295, 2296, 2632, 2631,    4, 2295, 2296, 2317, 2316,    4,\n",
       "        2296, 2632, 2653, 2317,    4, 2631, 2632, 2653, 2652,    4, 2295,\n",
       "        2631, 2652, 2316,    4, 2316, 2317, 2653, 2652]),\n",
       " array([   4, 2296, 2297, 2633, 2632,    4, 2296, 2297, 2318, 2317,    4,\n",
       "        2297, 2633, 2654, 2318,    4, 2632, 2633, 2654, 2653,    4, 2296,\n",
       "        2632, 2653, 2317,    4, 2317, 2318, 2654, 2653]),\n",
       " array([   4, 2297, 2298, 2634, 2633,    4, 2297, 2298, 2319, 2318,    4,\n",
       "        2298, 2634, 2655, 2319,    4, 2633, 2634, 2655, 2654,    4, 2297,\n",
       "        2633, 2654, 2318,    4, 2318, 2319, 2655, 2654]),\n",
       " array([   4, 2299, 2300, 2636, 2635,    4, 2299, 2300, 2321, 2320,    4,\n",
       "        2300, 2636, 2657, 2321,    4, 2635, 2636, 2657, 2656,    4, 2299,\n",
       "        2635, 2656, 2320,    4, 2320, 2321, 2657, 2656]),\n",
       " array([   4, 2300, 2301, 2637, 2636,    4, 2300, 2301, 2322, 2321,    4,\n",
       "        2301, 2637, 2658, 2322,    4, 2636, 2637, 2658, 2657,    4, 2300,\n",
       "        2636, 2657, 2321,    4, 2321, 2322, 2658, 2657]),\n",
       " array([   4, 2301, 2302, 2638, 2637,    4, 2301, 2302, 2323, 2322,    4,\n",
       "        2302, 2638, 2659, 2323,    4, 2637, 2638, 2659, 2658,    4, 2301,\n",
       "        2637, 2658, 2322,    4, 2322, 2323, 2659, 2658]),\n",
       " array([   4, 2302, 2303, 2639, 2638,    4, 2302, 2303, 2324, 2323,    4,\n",
       "        2303, 2639, 2660, 2324,    4, 2638, 2639, 2660, 2659,    4, 2302,\n",
       "        2638, 2659, 2323,    4, 2323, 2324, 2660, 2659]),\n",
       " array([   4, 2303, 2304, 2640, 2639,    4, 2303, 2304, 2325, 2324,    4,\n",
       "        2304, 2640, 2661, 2325,    4, 2639, 2640, 2661, 2660,    4, 2303,\n",
       "        2639, 2660, 2324,    4, 2324, 2325, 2661, 2660]),\n",
       " array([   4, 2304, 2305, 2641, 2640,    4, 2304, 2305, 2326, 2325,    4,\n",
       "        2305, 2641, 2662, 2326,    4, 2640, 2641, 2662, 2661,    4, 2304,\n",
       "        2640, 2661, 2325,    4, 2325, 2326, 2662, 2661]),\n",
       " array([   4, 2316, 2317, 2653, 2652,    4, 2316, 2317, 2338, 2337,    4,\n",
       "        2317, 2653, 2674, 2338,    4, 2652, 2653, 2674, 2673,    4, 2316,\n",
       "        2652, 2673, 2337,    4, 2337, 2338, 2674, 2673]),\n",
       " array([   4, 2317, 2318, 2654, 2653,    4, 2317, 2318, 2339, 2338,    4,\n",
       "        2318, 2654, 2675, 2339,    4, 2653, 2654, 2675, 2674,    4, 2317,\n",
       "        2653, 2674, 2338,    4, 2338, 2339, 2675, 2674]),\n",
       " array([   4, 2321, 2322, 2658, 2657,    4, 2321, 2322, 2343, 2342,    4,\n",
       "        2322, 2658, 2679, 2343,    4, 2657, 2658, 2679, 2678,    4, 2321,\n",
       "        2657, 2678, 2342,    4, 2342, 2343, 2679, 2678]),\n",
       " array([   4, 2322, 2323, 2659, 2658,    4, 2322, 2323, 2344, 2343,    4,\n",
       "        2323, 2659, 2680, 2344,    4, 2658, 2659, 2680, 2679,    4, 2322,\n",
       "        2658, 2679, 2343,    4, 2343, 2344, 2680, 2679]),\n",
       " array([   4, 2323, 2324, 2660, 2659,    4, 2323, 2324, 2345, 2344,    4,\n",
       "        2324, 2660, 2681, 2345,    4, 2659, 2660, 2681, 2680,    4, 2323,\n",
       "        2659, 2680, 2344,    4, 2344, 2345, 2681, 2680]),\n",
       " array([   4, 2324, 2325, 2661, 2660,    4, 2324, 2325, 2346, 2345,    4,\n",
       "        2325, 2661, 2682, 2346,    4, 2660, 2661, 2682, 2681,    4, 2324,\n",
       "        2660, 2681, 2345,    4, 2345, 2346, 2682, 2681]),\n",
       " array([   4, 2325, 2326, 2662, 2661,    4, 2325, 2326, 2347, 2346,    4,\n",
       "        2326, 2662, 2683, 2347,    4, 2661, 2662, 2683, 2682,    4, 2325,\n",
       "        2661, 2682, 2346,    4, 2346, 2347, 2683, 2682]),\n",
       " array([   4, 2326, 2327, 2663, 2662,    4, 2326, 2327, 2348, 2347,    4,\n",
       "        2327, 2663, 2684, 2348,    4, 2662, 2663, 2684, 2683,    4, 2326,\n",
       "        2662, 2683, 2347,    4, 2347, 2348, 2684, 2683]),\n",
       " array([   4, 2375, 2377, 2713, 2711,    4, 2375, 2377, 2378, 2376,    4,\n",
       "        2377, 2713, 2714, 2378,    4, 2711, 2713, 2714, 2712,    4, 2375,\n",
       "        2711, 2712, 2376,    4, 2376, 2378, 2714, 2712]),\n",
       " array([   4, 2377, 2379, 2715, 2713,    4, 2377, 2379, 2380, 2378,    4,\n",
       "        2379, 2715, 2716, 2380,    4, 2713, 2715, 2716, 2714,    4, 2377,\n",
       "        2713, 2714, 2378,    4, 2378, 2380, 2716, 2714]),\n",
       " array([   4, 2379, 2381, 2717, 2715,    4, 2379, 2381, 2382, 2380,    4,\n",
       "        2381, 2717, 2718, 2382,    4, 2715, 2717, 2718, 2716,    4, 2379,\n",
       "        2715, 2716, 2380,    4, 2380, 2382, 2718, 2716]),\n",
       " array([   4, 2381, 2383, 2719, 2717,    4, 2381, 2383, 2384, 2382,    4,\n",
       "        2383, 2719, 2720, 2384,    4, 2717, 2719, 2720, 2718,    4, 2381,\n",
       "        2717, 2718, 2382,    4, 2382, 2384, 2720, 2718]),\n",
       " array([   4, 2383, 2385, 2721, 2719,    4, 2383, 2385, 2386, 2384,    4,\n",
       "        2385, 2721, 2722, 2386,    4, 2719, 2721, 2722, 2720,    4, 2383,\n",
       "        2719, 2720, 2384,    4, 2384, 2386, 2722, 2720]),\n",
       " array([   4, 2385, 2387, 2723, 2721,    4, 2385, 2387, 2388, 2386,    4,\n",
       "        2387, 2723, 2724, 2388,    4, 2721, 2723, 2724, 2722,    4, 2385,\n",
       "        2721, 2722, 2386,    4, 2386, 2388, 2724, 2722]),\n",
       " array([   4, 2387, 2389, 2725, 2723,    4, 2387, 2389, 2390, 2388,    4,\n",
       "        2389, 2725, 2726, 2390,    4, 2723, 2725, 2726, 2724,    4, 2387,\n",
       "        2723, 2724, 2388,    4, 2388, 2390, 2726, 2724]),\n",
       " array([   4, 2376, 2378, 2714, 2712,    4, 2376, 2378, 2407, 2406,    4,\n",
       "        2378, 2714, 2743, 2407,    4, 2712, 2714, 2743, 2742,    4, 2376,\n",
       "        2712, 2742, 2406,    4, 2406, 2407, 2743, 2742]),\n",
       " array([   4, 2378, 2380, 2716, 2714,    4, 2378, 2380, 2408, 2407,    4,\n",
       "        2380, 2716, 2744, 2408,    4, 2714, 2716, 2744, 2743,    4, 2378,\n",
       "        2714, 2743, 2407,    4, 2407, 2408, 2744, 2743]),\n",
       " array([   4, 2380, 2382, 2718, 2716,    4, 2380, 2382, 2409, 2408,    4,\n",
       "        2382, 2718, 2745, 2409,    4, 2716, 2718, 2745, 2744,    4, 2380,\n",
       "        2716, 2744, 2408,    4, 2408, 2409, 2745, 2744]),\n",
       " array([   4, 2382, 2384, 2720, 2718,    4, 2382, 2384, 2410, 2409,    4,\n",
       "        2384, 2720, 2746, 2410,    4, 2718, 2720, 2746, 2745,    4, 2382,\n",
       "        2718, 2745, 2409,    4, 2409, 2410, 2746, 2745]),\n",
       " array([   4, 2384, 2386, 2722, 2720,    4, 2384, 2386, 2411, 2410,    4,\n",
       "        2386, 2722, 2747, 2411,    4, 2720, 2722, 2747, 2746,    4, 2384,\n",
       "        2720, 2746, 2410,    4, 2410, 2411, 2747, 2746]),\n",
       " array([   4, 2386, 2388, 2724, 2722,    4, 2386, 2388, 2412, 2411,    4,\n",
       "        2388, 2724, 2748, 2412,    4, 2722, 2724, 2748, 2747,    4, 2386,\n",
       "        2722, 2747, 2411,    4, 2411, 2412, 2748, 2747]),\n",
       " array([   4, 2405, 2406, 2742, 2741,    4, 2405, 2406, 2427, 2426,    4,\n",
       "        2406, 2742, 2763, 2427,    4, 2741, 2742, 2763, 2762,    4, 2405,\n",
       "        2741, 2762, 2426,    4, 2426, 2427, 2763, 2762]),\n",
       " array([   4, 2406, 2407, 2743, 2742,    4, 2406, 2407, 2428, 2427,    4,\n",
       "        2407, 2743, 2764, 2428,    4, 2742, 2743, 2764, 2763,    4, 2406,\n",
       "        2742, 2763, 2427,    4, 2427, 2428, 2764, 2763]),\n",
       " array([   4, 2407, 2408, 2744, 2743,    4, 2407, 2408, 2429, 2428,    4,\n",
       "        2408, 2744, 2765, 2429,    4, 2743, 2744, 2765, 2764,    4, 2407,\n",
       "        2743, 2764, 2428,    4, 2428, 2429, 2765, 2764]),\n",
       " array([   4, 2419, 2420, 2756, 2755,    4, 2419, 2420, 2441, 2440,    4,\n",
       "        2420, 2756, 2777, 2441,    4, 2755, 2756, 2777, 2776,    4, 2419,\n",
       "        2755, 2776, 2440,    4, 2440, 2441, 2777, 2776]),\n",
       " array([   4, 2420, 2421, 2757, 2756,    4, 2420, 2421, 2442, 2441,    4,\n",
       "        2421, 2757, 2778, 2442,    4, 2756, 2757, 2778, 2777,    4, 2420,\n",
       "        2756, 2777, 2441,    4, 2441, 2442, 2778, 2777]),\n",
       " array([   4, 2425, 2426, 2762, 2761,    4, 2425, 2426, 2447, 2446,    4,\n",
       "        2426, 2762, 2783, 2447,    4, 2761, 2762, 2783, 2782,    4, 2425,\n",
       "        2761, 2782, 2446,    4, 2446, 2447, 2783, 2782]),\n",
       " array([   4, 2426, 2427, 2763, 2762,    4, 2426, 2427, 2448, 2447,    4,\n",
       "        2427, 2763, 2784, 2448,    4, 2762, 2763, 2784, 2783,    4, 2426,\n",
       "        2762, 2783, 2447,    4, 2447, 2448, 2784, 2783]),\n",
       " array([   4, 2427, 2428, 2764, 2763,    4, 2427, 2428, 2449, 2448,    4,\n",
       "        2428, 2764, 2785, 2449,    4, 2763, 2764, 2785, 2784,    4, 2427,\n",
       "        2763, 2784, 2448,    4, 2448, 2449, 2785, 2784]),\n",
       " array([   4, 2428, 2429, 2765, 2764,    4, 2428, 2429, 2450, 2449,    4,\n",
       "        2429, 2765, 2786, 2450,    4, 2764, 2765, 2786, 2785,    4, 2428,\n",
       "        2764, 2785, 2449,    4, 2449, 2450, 2786, 2785]),\n",
       " array([   4, 2441, 2442, 2778, 2777,    4, 2441, 2442, 2463, 2462,    4,\n",
       "        2442, 2778, 2799, 2463,    4, 2777, 2778, 2799, 2798,    4, 2441,\n",
       "        2777, 2798, 2462,    4, 2462, 2463, 2799, 2798]),\n",
       " array([   4, 2446, 2447, 2783, 2782,    4, 2446, 2447, 2468, 2467,    4,\n",
       "        2447, 2783, 2804, 2468,    4, 2782, 2783, 2804, 2803,    4, 2446,\n",
       "        2782, 2803, 2467,    4, 2467, 2468, 2804, 2803]),\n",
       " array([   4, 2447, 2448, 2784, 2783,    4, 2447, 2448, 2469, 2468,    4,\n",
       "        2448, 2784, 2805, 2469,    4, 2783, 2784, 2805, 2804,    4, 2447,\n",
       "        2783, 2804, 2468,    4, 2468, 2469, 2805, 2804]),\n",
       " array([   4, 2448, 2449, 2785, 2784,    4, 2448, 2449, 2470, 2469,    4,\n",
       "        2449, 2785, 2806, 2470,    4, 2784, 2785, 2806, 2805,    4, 2448,\n",
       "        2784, 2805, 2469,    4, 2469, 2470, 2806, 2805]),\n",
       " array([   4, 2449, 2450, 2786, 2785,    4, 2449, 2450, 2471, 2470,    4,\n",
       "        2450, 2786, 2807, 2471,    4, 2785, 2786, 2807, 2806,    4, 2449,\n",
       "        2785, 2806, 2470,    4, 2470, 2471, 2807, 2806]),\n",
       " array([   4, 2467, 2468, 2804, 2803,    4, 2467, 2468, 2489, 2488,    4,\n",
       "        2468, 2804, 2825, 2489,    4, 2803, 2804, 2825, 2824,    4, 2467,\n",
       "        2803, 2824, 2488,    4, 2488, 2489, 2825, 2824]),\n",
       " array([   4, 2468, 2469, 2805, 2804,    4, 2468, 2469, 2490, 2489,    4,\n",
       "        2469, 2805, 2826, 2490,    4, 2804, 2805, 2826, 2825,    4, 2468,\n",
       "        2804, 2825, 2489,    4, 2489, 2490, 2826, 2825]),\n",
       " array([   4, 2469, 2470, 2806, 2805,    4, 2469, 2470, 2491, 2490,    4,\n",
       "        2470, 2806, 2827, 2491,    4, 2805, 2806, 2827, 2826,    4, 2469,\n",
       "        2805, 2826, 2490,    4, 2490, 2491, 2827, 2826]),\n",
       " array([   4, 2470, 2471, 2807, 2806,    4, 2470, 2471, 2492, 2491,    4,\n",
       "        2471, 2807, 2828, 2492,    4, 2806, 2807, 2828, 2827,    4, 2470,\n",
       "        2806, 2827, 2491,    4, 2491, 2492, 2828, 2827]),\n",
       " array([   4, 2484, 2485, 2821, 2820,    4, 2484, 2485, 2506, 2505,    4,\n",
       "        2485, 2821, 2842, 2506,    4, 2820, 2821, 2842, 2841,    4, 2484,\n",
       "        2820, 2841, 2505,    4, 2505, 2506, 2842, 2841]),\n",
       " array([   4, 2485, 2486, 2822, 2821,    4, 2485, 2486, 2507, 2506,    4,\n",
       "        2486, 2822, 2843, 2507,    4, 2821, 2822, 2843, 2842,    4, 2485,\n",
       "        2821, 2842, 2506,    4, 2506, 2507, 2843, 2842]),\n",
       " array([   4, 2489, 2490, 2826, 2825,    4, 2489, 2490, 2511, 2510,    4,\n",
       "        2490, 2826, 2847, 2511,    4, 2825, 2826, 2847, 2846,    4, 2489,\n",
       "        2825, 2846, 2510,    4, 2510, 2511, 2847, 2846]),\n",
       " array([   4, 2490, 2491, 2827, 2826,    4, 2490, 2491, 2512, 2511,    4,\n",
       "        2491, 2827, 2848, 2512,    4, 2826, 2827, 2848, 2847,    4, 2490,\n",
       "        2826, 2847, 2511,    4, 2511, 2512, 2848, 2847]),\n",
       " array([   4, 2491, 2492, 2828, 2827,    4, 2491, 2492, 2513, 2512,    4,\n",
       "        2492, 2828, 2849, 2513,    4, 2827, 2828, 2849, 2848,    4, 2491,\n",
       "        2827, 2848, 2512,    4, 2512, 2513, 2849, 2848]),\n",
       " array([   4, 2492, 2493, 2829, 2828,    4, 2492, 2493, 2514, 2513,    4,\n",
       "        2493, 2829, 2850, 2514,    4, 2828, 2829, 2850, 2849,    4, 2492,\n",
       "        2828, 2849, 2513,    4, 2513, 2514, 2850, 2849]),\n",
       " array([   4, 2501, 2500, 2836, 2837,    4, 2501, 2500, 2521, 2522,    4,\n",
       "        2500, 2836, 2857, 2521,    4, 2837, 2836, 2857, 2858,    4, 2501,\n",
       "        2837, 2858, 2522,    4, 2522, 2521, 2857, 2858]),\n",
       " array([   4, 2500, 2502, 2838, 2836,    4, 2500, 2502, 2523, 2521,    4,\n",
       "        2502, 2838, 2859, 2523,    4, 2836, 2838, 2859, 2857,    4, 2500,\n",
       "        2836, 2857, 2521,    4, 2521, 2523, 2859, 2857]),\n",
       " array([   4, 2502, 2503, 2839, 2838,    4, 2502, 2503, 2524, 2523,    4,\n",
       "        2503, 2839, 2860, 2524,    4, 2838, 2839, 2860, 2859,    4, 2502,\n",
       "        2838, 2859, 2523,    4, 2523, 2524, 2860, 2859]),\n",
       " array([   4, 2503, 2504, 2840, 2839,    4, 2503, 2504, 2525, 2524,    4,\n",
       "        2504, 2840, 2861, 2525,    4, 2839, 2840, 2861, 2860,    4, 2503,\n",
       "        2839, 2860, 2524,    4, 2524, 2525, 2861, 2860]),\n",
       " array([   4, 2504, 2505, 2841, 2840,    4, 2504, 2505, 2526, 2525,    4,\n",
       "        2505, 2841, 2862, 2526,    4, 2840, 2841, 2862, 2861,    4, 2504,\n",
       "        2840, 2861, 2525,    4, 2525, 2526, 2862, 2861]),\n",
       " array([   4, 2505, 2506, 2842, 2841,    4, 2505, 2506, 2527, 2526,    4,\n",
       "        2506, 2842, 2863, 2527,    4, 2841, 2842, 2863, 2862,    4, 2505,\n",
       "        2841, 2862, 2526,    4, 2526, 2527, 2863, 2862]),\n",
       " array([   4, 2506, 2507, 2843, 2842,    4, 2506, 2507, 2528, 2527,    4,\n",
       "        2507, 2843, 2864, 2528,    4, 2842, 2843, 2864, 2863,    4, 2506,\n",
       "        2842, 2863, 2527,    4, 2527, 2528, 2864, 2863]),\n",
       " array([   4, 2510, 2511, 2847, 2846,    4, 2510, 2511, 2532, 2531,    4,\n",
       "        2511, 2847, 2868, 2532,    4, 2846, 2847, 2868, 2867,    4, 2510,\n",
       "        2846, 2867, 2531,    4, 2531, 2532, 2868, 2867]),\n",
       " array([   4, 2511, 2512, 2848, 2847,    4, 2511, 2512, 2533, 2532,    4,\n",
       "        2512, 2848, 2869, 2533,    4, 2847, 2848, 2869, 2868,    4, 2511,\n",
       "        2847, 2868, 2532,    4, 2532, 2533, 2869, 2868]),\n",
       " array([   4, 2512, 2513, 2849, 2848,    4, 2512, 2513, 2534, 2533,    4,\n",
       "        2513, 2849, 2870, 2534,    4, 2848, 2849, 2870, 2869,    4, 2512,\n",
       "        2848, 2869, 2533,    4, 2533, 2534, 2870, 2869]),\n",
       " array([   4, 2513, 2514, 2850, 2849,    4, 2513, 2514, 2535, 2534,    4,\n",
       "        2514, 2850, 2871, 2535,    4, 2849, 2850, 2871, 2870,    4, 2513,\n",
       "        2849, 2870, 2534,    4, 2534, 2535, 2871, 2870]),\n",
       " array([   4, 2522, 2521, 2857, 2858,    4, 2522, 2521, 2542, 2543,    4,\n",
       "        2521, 2857, 2878, 2542,    4, 2858, 2857, 2878, 2879,    4, 2522,\n",
       "        2858, 2879, 2543,    4, 2543, 2542, 2878, 2879]),\n",
       " array([   4, 2521, 2523, 2859, 2857,    4, 2521, 2523, 2544, 2542,    4,\n",
       "        2523, 2859, 2880, 2544,    4, 2857, 2859, 2880, 2878,    4, 2521,\n",
       "        2857, 2878, 2542,    4, 2542, 2544, 2880, 2878]),\n",
       " array([   4, 2523, 2524, 2860, 2859,    4, 2523, 2524, 2545, 2544,    4,\n",
       "        2524, 2860, 2881, 2545,    4, 2859, 2860, 2881, 2880,    4, 2523,\n",
       "        2859, 2880, 2544,    4, 2544, 2545, 2881, 2880]),\n",
       " array([   4, 2524, 2525, 2861, 2860,    4, 2524, 2525, 2546, 2545,    4,\n",
       "        2525, 2861, 2882, 2546,    4, 2860, 2861, 2882, 2881,    4, 2524,\n",
       "        2860, 2881, 2545,    4, 2545, 2546, 2882, 2881]),\n",
       " array([   4, 2525, 2526, 2862, 2861,    4, 2525, 2526, 2547, 2546,    4,\n",
       "        2526, 2862, 2883, 2547,    4, 2861, 2862, 2883, 2882,    4, 2525,\n",
       "        2861, 2882, 2546,    4, 2546, 2547, 2883, 2882]),\n",
       " array([   4, 2526, 2527, 2863, 2862,    4, 2526, 2527, 2548, 2547,    4,\n",
       "        2527, 2863, 2884, 2548,    4, 2862, 2863, 2884, 2883,    4, 2526,\n",
       "        2862, 2883, 2547,    4, 2547, 2548, 2884, 2883]),\n",
       " array([   4, 2532, 2533, 2869, 2868,    4, 2532, 2533, 2554, 2553,    4,\n",
       "        2533, 2869, 2890, 2554,    4, 2868, 2869, 2890, 2889,    4, 2532,\n",
       "        2868, 2889, 2553,    4, 2553, 2554, 2890, 2889]),\n",
       " array([   4, 2533, 2534, 2870, 2869,    4, 2533, 2534, 2555, 2554,    4,\n",
       "        2534, 2870, 2891, 2555,    4, 2869, 2870, 2891, 2890,    4, 2533,\n",
       "        2869, 2890, 2554,    4, 2554, 2555, 2891, 2890]),\n",
       " array([   4, 2534, 2535, 2871, 2870,    4, 2534, 2535, 2556, 2555,    4,\n",
       "        2535, 2871, 2892, 2556,    4, 2870, 2871, 2892, 2891,    4, 2534,\n",
       "        2870, 2891, 2555,    4, 2555, 2556, 2892, 2891]),\n",
       " array([   4, 2543, 2542, 2878, 2879,    4, 2543, 2542, 2563, 2564,    4,\n",
       "        2542, 2878, 2899, 2563,    4, 2879, 2878, 2899, 2900,    4, 2543,\n",
       "        2879, 2900, 2564,    4, 2564, 2563, 2899, 2900]),\n",
       " array([   4, 2542, 2544, 2880, 2878,    4, 2542, 2544, 2565, 2563,    4,\n",
       "        2544, 2880, 2901, 2565,    4, 2878, 2880, 2901, 2899,    4, 2542,\n",
       "        2878, 2899, 2563,    4, 2563, 2565, 2901, 2899]),\n",
       " array([   4, 2544, 2545, 2881, 2880,    4, 2544, 2545, 2566, 2565,    4,\n",
       "        2545, 2881, 2902, 2566,    4, 2880, 2881, 2902, 2901,    4, 2544,\n",
       "        2880, 2901, 2565,    4, 2565, 2566, 2902, 2901]),\n",
       " array([   4, 2545, 2546, 2882, 2881,    4, 2545, 2546, 2567, 2566,    4,\n",
       "        2546, 2882, 2903, 2567,    4, 2881, 2882, 2903, 2902,    4, 2545,\n",
       "        2881, 2902, 2566,    4, 2566, 2567, 2903, 2902]),\n",
       " array([   4, 2546, 2547, 2883, 2882,    4, 2546, 2547, 2568, 2567,    4,\n",
       "        2547, 2883, 2904, 2568,    4, 2882, 2883, 2904, 2903,    4, 2546,\n",
       "        2882, 2903, 2567,    4, 2567, 2568, 2904, 2903]),\n",
       " array([   4, 2547, 2548, 2884, 2883,    4, 2547, 2548, 2569, 2568,    4,\n",
       "        2548, 2884, 2905, 2569,    4, 2883, 2884, 2905, 2904,    4, 2547,\n",
       "        2883, 2904, 2568,    4, 2568, 2569, 2905, 2904]),\n",
       " array([   4, 2548, 2549, 2885, 2884,    4, 2548, 2549, 2570, 2569,    4,\n",
       "        2549, 2885, 2906, 2570,    4, 2884, 2885, 2906, 2905,    4, 2548,\n",
       "        2884, 2905, 2569,    4, 2569, 2570, 2906, 2905]),\n",
       " array([   4, 2553, 2554, 2890, 2889,    4, 2553, 2554, 2575, 2574,    4,\n",
       "        2554, 2890, 2911, 2575,    4, 2889, 2890, 2911, 2910,    4, 2553,\n",
       "        2889, 2910, 2574,    4, 2574, 2575, 2911, 2910]),\n",
       " array([   4, 2554, 2555, 2891, 2890,    4, 2554, 2555, 2576, 2575,    4,\n",
       "        2555, 2891, 2912, 2576,    4, 2890, 2891, 2912, 2911,    4, 2554,\n",
       "        2890, 2911, 2575,    4, 2575, 2576, 2912, 2911]),\n",
       " array([   4, 2555, 2556, 2892, 2891,    4, 2555, 2556, 2577, 2576,    4,\n",
       "        2556, 2892, 2913, 2577,    4, 2891, 2892, 2913, 2912,    4, 2555,\n",
       "        2891, 2912, 2576,    4, 2576, 2577, 2913, 2912]),\n",
       " array([   4, 2556, 2557, 2893, 2892,    4, 2556, 2557, 2578, 2577,    4,\n",
       "        2557, 2893, 2914, 2578,    4, 2892, 2893, 2914, 2913,    4, 2556,\n",
       "        2892, 2913, 2577,    4, 2577, 2578, 2914, 2913]),\n",
       " array([   4, 2564, 2563, 2899, 2900,    4, 2564, 2563, 2584, 2585,    4,\n",
       "        2563, 2899, 2920, 2584,    4, 2900, 2899, 2920, 2921,    4, 2564,\n",
       "        2900, 2921, 2585,    4, 2585, 2584, 2920, 2921]),\n",
       " array([   4, 2563, 2565, 2901, 2899,    4, 2563, 2565, 2586, 2584,    4,\n",
       "        2565, 2901, 2922, 2586,    4, 2899, 2901, 2922, 2920,    4, 2563,\n",
       "        2899, 2920, 2584,    4, 2584, 2586, 2922, 2920]),\n",
       " array([   4, 2565, 2566, 2902, 2901,    4, 2565, 2566, 2587, 2586,    4,\n",
       "        2566, 2902, 2923, 2587,    4, 2901, 2902, 2923, 2922,    4, 2565,\n",
       "        2901, 2922, 2586,    4, 2586, 2587, 2923, 2922]),\n",
       " array([   4, 2566, 2567, 2903, 2902,    4, 2566, 2567, 2588, 2587,    4,\n",
       "        2567, 2903, 2924, 2588,    4, 2902, 2903, 2924, 2923,    4, 2566,\n",
       "        2902, 2923, 2587,    4, 2587, 2588, 2924, 2923]),\n",
       " array([   4, 2567, 2568, 2904, 2903,    4, 2567, 2568, 2589, 2588,    4,\n",
       "        2568, 2904, 2925, 2589,    4, 2903, 2904, 2925, 2924,    4, 2567,\n",
       "        2903, 2924, 2588,    4, 2588, 2589, 2925, 2924]),\n",
       " array([   4, 2568, 2569, 2905, 2904,    4, 2568, 2569, 2590, 2589,    4,\n",
       "        2569, 2905, 2926, 2590,    4, 2904, 2905, 2926, 2925,    4, 2568,\n",
       "        2904, 2925, 2589,    4, 2589, 2590, 2926, 2925]),\n",
       " array([   4, 2569, 2570, 2906, 2905,    4, 2569, 2570, 2591, 2590,    4,\n",
       "        2570, 2906, 2927, 2591,    4, 2905, 2906, 2927, 2926,    4, 2569,\n",
       "        2905, 2926, 2590,    4, 2590, 2591, 2927, 2926]),\n",
       " array([   4, 2570, 2571, 2907, 2906,    4, 2570, 2571, 2592, 2591,    4,\n",
       "        2571, 2907, 2928, 2592,    4, 2906, 2907, 2928, 2927,    4, 2570,\n",
       "        2906, 2927, 2591,    4, 2591, 2592, 2928, 2927]),\n",
       " array([   4, 2574, 2575, 2911, 2910,    4, 2574, 2575, 2596, 2595,    4,\n",
       "        2575, 2911, 2932, 2596,    4, 2910, 2911, 2932, 2931,    4, 2574,\n",
       "        2910, 2931, 2595,    4, 2595, 2596, 2932, 2931]),\n",
       " array([   4, 2575, 2576, 2912, 2911,    4, 2575, 2576, 2597, 2596,    4,\n",
       "        2576, 2912, 2933, 2597,    4, 2911, 2912, 2933, 2932,    4, 2575,\n",
       "        2911, 2932, 2596,    4, 2596, 2597, 2933, 2932]),\n",
       " array([   4, 2576, 2577, 2913, 2912,    4, 2576, 2577, 2598, 2597,    4,\n",
       "        2577, 2913, 2934, 2598,    4, 2912, 2913, 2934, 2933,    4, 2576,\n",
       "        2912, 2933, 2597,    4, 2597, 2598, 2934, 2933]),\n",
       " array([   4, 2577, 2578, 2914, 2913,    4, 2577, 2578, 2599, 2598,    4,\n",
       "        2578, 2914, 2935, 2599,    4, 2913, 2914, 2935, 2934,    4, 2577,\n",
       "        2913, 2934, 2598,    4, 2598, 2599, 2935, 2934]),\n",
       " array([   4, 2578, 2579, 2915, 2914,    4, 2578, 2579, 2600, 2599,    4,\n",
       "        2579, 2915, 2936, 2600,    4, 2914, 2915, 2936, 2935,    4, 2578,\n",
       "        2914, 2935, 2599,    4, 2599, 2600, 2936, 2935]),\n",
       " array([   4, 2585, 2584, 2920, 2921,    4, 2585, 2584, 2605, 2606,    4,\n",
       "        2584, 2920, 2941, 2605,    4, 2921, 2920, 2941, 2942,    4, 2585,\n",
       "        2921, 2942, 2606,    4, 2606, 2605, 2941, 2942]),\n",
       " array([   4, 2584, 2586, 2922, 2920,    4, 2584, 2586, 2607, 2605,    4,\n",
       "        2586, 2922, 2943, 2607,    4, 2920, 2922, 2943, 2941,    4, 2584,\n",
       "        2920, 2941, 2605,    4, 2605, 2607, 2943, 2941]),\n",
       " array([   4, 2586, 2587, 2923, 2922,    4, 2586, 2587, 2608, 2607,    4,\n",
       "        2587, 2923, 2944, 2608,    4, 2922, 2923, 2944, 2943,    4, 2586,\n",
       "        2922, 2943, 2607,    4, 2607, 2608, 2944, 2943]),\n",
       " array([   4, 2587, 2588, 2924, 2923,    4, 2587, 2588, 2609, 2608,    4,\n",
       "        2588, 2924, 2945, 2609,    4, 2923, 2924, 2945, 2944,    4, 2587,\n",
       "        2923, 2944, 2608,    4, 2608, 2609, 2945, 2944]),\n",
       " array([   4, 2588, 2589, 2925, 2924,    4, 2588, 2589, 2610, 2609,    4,\n",
       "        2589, 2925, 2946, 2610,    4, 2924, 2925, 2946, 2945,    4, 2588,\n",
       "        2924, 2945, 2609,    4, 2609, 2610, 2946, 2945]),\n",
       " array([   4, 2589, 2590, 2926, 2925,    4, 2589, 2590, 2611, 2610,    4,\n",
       "        2590, 2926, 2947, 2611,    4, 2925, 2926, 2947, 2946,    4, 2589,\n",
       "        2925, 2946, 2610,    4, 2610, 2611, 2947, 2946]),\n",
       " array([   4, 2590, 2591, 2927, 2926,    4, 2590, 2591, 2612, 2611,    4,\n",
       "        2591, 2927, 2948, 2612,    4, 2926, 2927, 2948, 2947,    4, 2590,\n",
       "        2926, 2947, 2611,    4, 2611, 2612, 2948, 2947]),\n",
       " array([   4, 2591, 2592, 2928, 2927,    4, 2591, 2592, 2613, 2612,    4,\n",
       "        2592, 2928, 2949, 2613,    4, 2927, 2928, 2949, 2948,    4, 2591,\n",
       "        2927, 2948, 2612,    4, 2612, 2613, 2949, 2948]),\n",
       " array([   4, 2595, 2596, 2932, 2931,    4, 2595, 2596, 2617, 2616,    4,\n",
       "        2596, 2932, 2953, 2617,    4, 2931, 2932, 2953, 2952,    4, 2595,\n",
       "        2931, 2952, 2616,    4, 2616, 2617, 2953, 2952]),\n",
       " array([   4, 2596, 2597, 2933, 2932,    4, 2596, 2597, 2618, 2617,    4,\n",
       "        2597, 2933, 2954, 2618,    4, 2932, 2933, 2954, 2953,    4, 2596,\n",
       "        2932, 2953, 2617,    4, 2617, 2618, 2954, 2953]),\n",
       " array([   4, 2597, 2598, 2934, 2933,    4, 2597, 2598, 2619, 2618,    4,\n",
       "        2598, 2934, 2955, 2619,    4, 2933, 2934, 2955, 2954,    4, 2597,\n",
       "        2933, 2954, 2618,    4, 2618, 2619, 2955, 2954]),\n",
       " array([   4, 2598, 2599, 2935, 2934,    4, 2598, 2599, 2620, 2619,    4,\n",
       "        2599, 2935, 2956, 2620,    4, 2934, 2935, 2956, 2955,    4, 2598,\n",
       "        2934, 2955, 2619,    4, 2619, 2620, 2956, 2955]),\n",
       " array([   4, 2599, 2600, 2936, 2935,    4, 2599, 2600, 2621, 2620,    4,\n",
       "        2600, 2936, 2957, 2621,    4, 2935, 2936, 2957, 2956,    4, 2599,\n",
       "        2935, 2956, 2620,    4, 2620, 2621, 2957, 2956]),\n",
       " array([   4, 2608, 2609, 2945, 2944,    4, 2608, 2609, 2630, 2629,    4,\n",
       "        2609, 2945, 2966, 2630,    4, 2944, 2945, 2966, 2965,    4, 2608,\n",
       "        2944, 2965, 2629,    4, 2629, 2630, 2966, 2965]),\n",
       " array([   4, 2609, 2610, 2946, 2945,    4, 2609, 2610, 2631, 2630,    4,\n",
       "        2610, 2946, 2967, 2631,    4, 2945, 2946, 2967, 2966,    4, 2609,\n",
       "        2945, 2966, 2630,    4, 2630, 2631, 2967, 2966]),\n",
       " array([   4, 2610, 2611, 2947, 2946,    4, 2610, 2611, 2632, 2631,    4,\n",
       "        2611, 2947, 2968, 2632,    4, 2946, 2947, 2968, 2967,    4, 2610,\n",
       "        2946, 2967, 2631,    4, 2631, 2632, 2968, 2967]),\n",
       " array([   4, 2611, 2612, 2948, 2947,    4, 2611, 2612, 2633, 2632,    4,\n",
       "        2612, 2948, 2969, 2633,    4, 2947, 2948, 2969, 2968,    4, 2611,\n",
       "        2947, 2968, 2632,    4, 2632, 2633, 2969, 2968]),\n",
       " array([   4, 2615, 2616, 2952, 2951,    4, 2615, 2616, 2637, 2636,    4,\n",
       "        2616, 2952, 2973, 2637,    4, 2951, 2952, 2973, 2972,    4, 2615,\n",
       "        2951, 2972, 2636,    4, 2636, 2637, 2973, 2972]),\n",
       " array([   4, 2616, 2617, 2953, 2952,    4, 2616, 2617, 2638, 2637,    4,\n",
       "        2617, 2953, 2974, 2638,    4, 2952, 2953, 2974, 2973,    4, 2616,\n",
       "        2952, 2973, 2637,    4, 2637, 2638, 2974, 2973]),\n",
       " array([   4, 2617, 2618, 2954, 2953,    4, 2617, 2618, 2639, 2638,    4,\n",
       "        2618, 2954, 2975, 2639,    4, 2953, 2954, 2975, 2974,    4, 2617,\n",
       "        2953, 2974, 2638,    4, 2638, 2639, 2975, 2974]),\n",
       " array([   4, 2630, 2631, 2967, 2966,    4, 2630, 2631, 2652, 2651,    4,\n",
       "        2631, 2967, 2988, 2652,    4, 2966, 2967, 2988, 2987,    4, 2630,\n",
       "        2966, 2987, 2651,    4, 2651, 2652, 2988, 2987]),\n",
       " array([   4, 2631, 2632, 2968, 2967,    4, 2631, 2632, 2653, 2652,    4,\n",
       "        2632, 2968, 2989, 2653,    4, 2967, 2968, 2989, 2988,    4, 2631,\n",
       "        2967, 2988, 2652,    4, 2652, 2653, 2989, 2988]),\n",
       " array([   4, 2632, 2633, 2969, 2968,    4, 2632, 2633, 2654, 2653,    4,\n",
       "        2633, 2969, 2990, 2654,    4, 2968, 2969, 2990, 2989,    4, 2632,\n",
       "        2968, 2989, 2653,    4, 2653, 2654, 2990, 2989]),\n",
       " array([   4, 2636, 2637, 2973, 2972,    4, 2636, 2637, 2658, 2657,    4,\n",
       "        2637, 2973, 2994, 2658,    4, 2972, 2973, 2994, 2993,    4, 2636,\n",
       "        2972, 2993, 2657,    4, 2657, 2658, 2994, 2993]),\n",
       " array([   4, 2637, 2638, 2974, 2973,    4, 2637, 2638, 2659, 2658,    4,\n",
       "        2638, 2974, 2995, 2659,    4, 2973, 2974, 2995, 2994,    4, 2637,\n",
       "        2973, 2994, 2658,    4, 2658, 2659, 2995, 2994]),\n",
       " array([   4, 2638, 2639, 2975, 2974,    4, 2638, 2639, 2660, 2659,    4,\n",
       "        2639, 2975, 2996, 2660,    4, 2974, 2975, 2996, 2995,    4, 2638,\n",
       "        2974, 2995, 2659,    4, 2659, 2660, 2996, 2995]),\n",
       " array([   4, 2652, 2653, 2989, 2988,    4, 2652, 2653, 2674, 2673,    4,\n",
       "        2653, 2989, 3010, 2674,    4, 2988, 2989, 3010, 3009,    4, 2652,\n",
       "        2988, 3009, 2673,    4, 2673, 2674, 3010, 3009]),\n",
       " array([   4, 2653, 2654, 2990, 2989,    4, 2653, 2654, 2675, 2674,    4,\n",
       "        2654, 2990, 3011, 2675,    4, 2989, 2990, 3011, 3010,    4, 2653,\n",
       "        2989, 3010, 2674,    4, 2674, 2675, 3011, 3010]),\n",
       " array([   4, 2654, 2655, 2991, 2990,    4, 2654, 2655, 2676, 2675,    4,\n",
       "        2655, 2991, 3012, 2676,    4, 2990, 2991, 3012, 3011,    4, 2654,\n",
       "        2990, 3011, 2675,    4, 2675, 2676, 3012, 3011]),\n",
       " array([   4, 2655, 2656, 2992, 2991,    4, 2655, 2656, 2677, 2676,    4,\n",
       "        2656, 2992, 3013, 2677,    4, 2991, 2992, 3013, 3012,    4, 2655,\n",
       "        2991, 3012, 2676,    4, 2676, 2677, 3013, 3012]),\n",
       " array([   4, 2656, 2657, 2993, 2992,    4, 2656, 2657, 2678, 2677,    4,\n",
       "        2657, 2993, 3014, 2678,    4, 2992, 2993, 3014, 3013,    4, 2656,\n",
       "        2992, 3013, 2677,    4, 2677, 2678, 3014, 3013]),\n",
       " array([   4, 2657, 2658, 2994, 2993,    4, 2657, 2658, 2679, 2678,    4,\n",
       "        2658, 2994, 3015, 2679,    4, 2993, 2994, 3015, 3014,    4, 2657,\n",
       "        2993, 3014, 2678,    4, 2678, 2679, 3015, 3014]),\n",
       " array([   4, 2658, 2659, 2995, 2994,    4, 2658, 2659, 2680, 2679,    4,\n",
       "        2659, 2995, 3016, 2680,    4, 2994, 2995, 3016, 3015,    4, 2658,\n",
       "        2994, 3015, 2679,    4, 2679, 2680, 3016, 3015]),\n",
       " array([   4, 2659, 2660, 2996, 2995,    4, 2659, 2660, 2681, 2680,    4,\n",
       "        2660, 2996, 3017, 2681,    4, 2995, 2996, 3017, 3016,    4, 2659,\n",
       "        2995, 3016, 2680,    4, 2680, 2681, 3017, 3016]),\n",
       " array([   4, 2660, 2661, 2997, 2996,    4, 2660, 2661, 2682, 2681,    4,\n",
       "        2661, 2997, 3018, 2682,    4, 2996, 2997, 3018, 3017,    4, 2660,\n",
       "        2996, 3017, 2681,    4, 2681, 2682, 3018, 3017]),\n",
       " array([   4, 2661, 2662, 2998, 2997,    4, 2661, 2662, 2683, 2682,    4,\n",
       "        2662, 2998, 3019, 2683,    4, 2997, 2998, 3019, 3018,    4, 2661,\n",
       "        2997, 3018, 2682,    4, 2682, 2683, 3019, 3018]),\n",
       " array([   4, 2711, 2713, 3049, 3047,    4, 2711, 2713, 2714, 2712,    4,\n",
       "        2713, 3049, 3050, 2714,    4, 3047, 3049, 3050, 3048,    4, 2711,\n",
       "        3047, 3048, 2712,    4, 2712, 2714, 3050, 3048]),\n",
       " array([   4, 2713, 2715, 3051, 3049,    4, 2713, 2715, 2716, 2714,    4,\n",
       "        2715, 3051, 3052, 2716,    4, 3049, 3051, 3052, 3050,    4, 2713,\n",
       "        3049, 3050, 2714,    4, 2714, 2716, 3052, 3050]),\n",
       " array([   4, 2715, 2717, 3053, 3051,    4, 2715, 2717, 2718, 2716,    4,\n",
       "        2717, 3053, 3054, 2718,    4, 3051, 3053, 3054, 3052,    4, 2715,\n",
       "        3051, 3052, 2716,    4, 2716, 2718, 3054, 3052]),\n",
       " array([   4, 2717, 2719, 3055, 3053,    4, 2717, 2719, 2720, 2718,    4,\n",
       "        2719, 3055, 3056, 2720,    4, 3053, 3055, 3056, 3054,    4, 2717,\n",
       "        3053, 3054, 2718,    4, 2718, 2720, 3056, 3054]),\n",
       " array([   4, 2719, 2721, 3057, 3055,    4, 2719, 2721, 2722, 2720,    4,\n",
       "        2721, 3057, 3058, 2722,    4, 3055, 3057, 3058, 3056,    4, 2719,\n",
       "        3055, 3056, 2720,    4, 2720, 2722, 3058, 3056]),\n",
       " array([   4, 2721, 2723, 3059, 3057,    4, 2721, 2723, 2724, 2722,    4,\n",
       "        2723, 3059, 3060, 2724,    4, 3057, 3059, 3060, 3058,    4, 2721,\n",
       "        3057, 3058, 2722,    4, 2722, 2724, 3060, 3058]),\n",
       " array([   4, 2723, 2725, 3061, 3059,    4, 2723, 2725, 2726, 2724,    4,\n",
       "        2725, 3061, 3062, 2726,    4, 3059, 3061, 3062, 3060,    4, 2723,\n",
       "        3059, 3060, 2724,    4, 2724, 2726, 3062, 3060]),\n",
       " array([   4, 2725, 2727, 3063, 3061,    4, 2725, 2727, 2728, 2726,    4,\n",
       "        2727, 3063, 3064, 2728,    4, 3061, 3063, 3064, 3062,    4, 2725,\n",
       "        3061, 3062, 2726,    4, 2726, 2728, 3064, 3062]),\n",
       " array([   4, 2712, 2714, 3050, 3048,    4, 2712, 2714, 2743, 2742,    4,\n",
       "        2714, 3050, 3079, 2743,    4, 3048, 3050, 3079, 3078,    4, 2712,\n",
       "        3048, 3078, 2742,    4, 2742, 2743, 3079, 3078]),\n",
       " array([   4, 2714, 2716, 3052, 3050,    4, 2714, 2716, 2744, 2743,    4,\n",
       "        2716, 3052, 3080, 2744,    4, 3050, 3052, 3080, 3079,    4, 2714,\n",
       "        3050, 3079, 2743,    4, 2743, 2744, 3080, 3079]),\n",
       " array([   4, 2716, 2718, 3054, 3052,    4, 2716, 2718, 2745, 2744,    4,\n",
       "        2718, 3054, 3081, 2745,    4, 3052, 3054, 3081, 3080,    4, 2716,\n",
       "        3052, 3080, 2744,    4, 2744, 2745, 3081, 3080]),\n",
       " array([   4, 2718, 2720, 3056, 3054,    4, 2718, 2720, 2746, 2745,    4,\n",
       "        2720, 3056, 3082, 2746,    4, 3054, 3056, 3082, 3081,    4, 2718,\n",
       "        3054, 3081, 2745,    4, 2745, 2746, 3082, 3081]),\n",
       " array([   4, 2720, 2722, 3058, 3056,    4, 2720, 2722, 2747, 2746,    4,\n",
       "        2722, 3058, 3083, 2747,    4, 3056, 3058, 3083, 3082,    4, 2720,\n",
       "        3056, 3082, 2746,    4, 2746, 2747, 3083, 3082]),\n",
       " array([   4, 2722, 2724, 3060, 3058,    4, 2722, 2724, 2748, 2747,    4,\n",
       "        2724, 3060, 3084, 2748,    4, 3058, 3060, 3084, 3083,    4, 2722,\n",
       "        3058, 3083, 2747,    4, 2747, 2748, 3084, 3083]),\n",
       " array([   4, 2724, 2726, 3062, 3060,    4, 2724, 2726, 2749, 2748,    4,\n",
       "        2726, 3062, 3085, 2749,    4, 3060, 3062, 3085, 3084,    4, 2724,\n",
       "        3060, 3084, 2748,    4, 2748, 2749, 3085, 3084]),\n",
       " array([   4, 2741, 2742, 3078, 3077,    4, 2741, 2742, 2763, 2762,    4,\n",
       "        2742, 3078, 3099, 2763,    4, 3077, 3078, 3099, 3098,    4, 2741,\n",
       "        3077, 3098, 2762,    4, 2762, 2763, 3099, 3098]),\n",
       " array([   4, 2742, 2743, 3079, 3078,    4, 2742, 2743, 2764, 2763,    4,\n",
       "        2743, 3079, 3100, 2764,    4, 3078, 3079, 3100, 3099,    4, 2742,\n",
       "        3078, 3099, 2763,    4, 2763, 2764, 3100, 3099]),\n",
       " array([   4, 2743, 2744, 3080, 3079,    4, 2743, 2744, 2765, 2764,    4,\n",
       "        2744, 3080, 3101, 2765,    4, 3079, 3080, 3101, 3100,    4, 2743,\n",
       "        3079, 3100, 2764,    4, 2764, 2765, 3101, 3100]),\n",
       " array([   4, 2744, 2745, 3081, 3080,    4, 2744, 2745, 2766, 2765,    4,\n",
       "        2745, 3081, 3102, 2766,    4, 3080, 3081, 3102, 3101,    4, 2744,\n",
       "        3080, 3101, 2765,    4, 2765, 2766, 3102, 3101]),\n",
       " array([   4, 2746, 2747, 3083, 3082,    4, 2746, 2747, 2768, 2767,    4,\n",
       "        2747, 3083, 3104, 2768,    4, 3082, 3083, 3104, 3103,    4, 2746,\n",
       "        3082, 3103, 2767,    4, 2767, 2768, 3104, 3103]),\n",
       " array([   4, 2747, 2748, 3084, 3083,    4, 2747, 2748, 2769, 2768,    4,\n",
       "        2748, 3084, 3105, 2769,    4, 3083, 3084, 3105, 3104,    4, 2747,\n",
       "        3083, 3104, 2768,    4, 2768, 2769, 3105, 3104]),\n",
       " array([   4, 2761, 2762, 3098, 3097,    4, 2761, 2762, 2783, 2782,    4,\n",
       "        2762, 3098, 3119, 2783,    4, 3097, 3098, 3119, 3118,    4, 2761,\n",
       "        3097, 3118, 2782,    4, 2782, 2783, 3119, 3118]),\n",
       " array([   4, 2762, 2763, 3099, 3098,    4, 2762, 2763, 2784, 2783,    4,\n",
       "        2763, 3099, 3120, 2784,    4, 3098, 3099, 3120, 3119,    4, 2762,\n",
       "        3098, 3119, 2783,    4, 2783, 2784, 3120, 3119]),\n",
       " array([   4, 2763, 2764, 3100, 3099,    4, 2763, 2764, 2785, 2784,    4,\n",
       "        2764, 3100, 3121, 2785,    4, 3099, 3100, 3121, 3120,    4, 2763,\n",
       "        3099, 3120, 2784,    4, 2784, 2785, 3121, 3120]),\n",
       " array([   4, 2764, 2765, 3101, 3100,    4, 2764, 2765, 2786, 2785,    4,\n",
       "        2765, 3101, 3122, 2786,    4, 3100, 3101, 3122, 3121,    4, 2764,\n",
       "        3100, 3121, 2785,    4, 2785, 2786, 3122, 3121]),\n",
       " array([   4, 2768, 2769, 3105, 3104,    4, 2768, 2769, 2790, 2789,    4,\n",
       "        2769, 3105, 3126, 2790,    4, 3104, 3105, 3126, 3125,    4, 2768,\n",
       "        3104, 3125, 2789,    4, 2789, 2790, 3126, 3125]),\n",
       " array([   4, 2777, 2778, 3114, 3113,    4, 2777, 2778, 2799, 2798,    4,\n",
       "        2778, 3114, 3135, 2799,    4, 3113, 3114, 3135, 3134,    4, 2777,\n",
       "        3113, 3134, 2798,    4, 2798, 2799, 3135, 3134]),\n",
       " array([   4, 2778, 2779, 3115, 3114,    4, 2778, 2779, 2800, 2799,    4,\n",
       "        2779, 3115, 3136, 2800,    4, 3114, 3115, 3136, 3135,    4, 2778,\n",
       "        3114, 3135, 2799,    4, 2799, 2800, 3136, 3135]),\n",
       " array([   4, 2781, 2782, 3118, 3117,    4, 2781, 2782, 2803, 2802,    4,\n",
       "        2782, 3118, 3139, 2803,    4, 3117, 3118, 3139, 3138,    4, 2781,\n",
       "        3117, 3138, 2802,    4, 2802, 2803, 3139, 3138]),\n",
       " array([   4, 2782, 2783, 3119, 3118,    4, 2782, 2783, 2804, 2803,    4,\n",
       "        2783, 3119, 3140, 2804,    4, 3118, 3119, 3140, 3139,    4, 2782,\n",
       "        3118, 3139, 2803,    4, 2803, 2804, 3140, 3139]),\n",
       " array([   4, 2783, 2784, 3120, 3119,    4, 2783, 2784, 2805, 2804,    4,\n",
       "        2784, 3120, 3141, 2805,    4, 3119, 3120, 3141, 3140,    4, 2783,\n",
       "        3119, 3140, 2804,    4, 2804, 2805, 3141, 3140]),\n",
       " array([   4, 2784, 2785, 3121, 3120,    4, 2784, 2785, 2806, 2805,    4,\n",
       "        2785, 3121, 3142, 2806,    4, 3120, 3121, 3142, 3141,    4, 2784,\n",
       "        3120, 3141, 2805,    4, 2805, 2806, 3142, 3141]),\n",
       " array([   4, 2785, 2786, 3122, 3121,    4, 2785, 2786, 2807, 2806,    4,\n",
       "        2786, 3122, 3143, 2807,    4, 3121, 3122, 3143, 3142,    4, 2785,\n",
       "        3121, 3142, 2806,    4, 2806, 2807, 3143, 3142]),\n",
       " array([   4, 2798, 2799, 3135, 3134,    4, 2798, 2799, 2820, 2819,    4,\n",
       "        2799, 3135, 3156, 2820,    4, 3134, 3135, 3156, 3155,    4, 2798,\n",
       "        3134, 3155, 2819,    4, 2819, 2820, 3156, 3155]),\n",
       " array([   4, 2799, 2800, 3136, 3135,    4, 2799, 2800, 2821, 2820,    4,\n",
       "        2800, 3136, 3157, 2821,    4, 3135, 3136, 3157, 3156,    4, 2799,\n",
       "        3135, 3156, 2820,    4, 2820, 2821, 3157, 3156]),\n",
       " array([   4, 2802, 2803, 3139, 3138,    4, 2802, 2803, 2824, 2823,    4,\n",
       "        2803, 3139, 3160, 2824,    4, 3138, 3139, 3160, 3159,    4, 2802,\n",
       "        3138, 3159, 2823,    4, 2823, 2824, 3160, 3159]),\n",
       " array([   4, 2803, 2804, 3140, 3139,    4, 2803, 2804, 2825, 2824,    4,\n",
       "        2804, 3140, 3161, 2825,    4, 3139, 3140, 3161, 3160,    4, 2803,\n",
       "        3139, 3160, 2824,    4, 2824, 2825, 3161, 3160]),\n",
       " array([   4, 2804, 2805, 3141, 3140,    4, 2804, 2805, 2826, 2825,    4,\n",
       "        2805, 3141, 3162, 2826,    4, 3140, 3141, 3162, 3161,    4, 2804,\n",
       "        3140, 3161, 2825,    4, 2825, 2826, 3162, 3161]),\n",
       " array([   4, 2805, 2806, 3142, 3141,    4, 2805, 2806, 2827, 2826,    4,\n",
       "        2806, 3142, 3163, 2827,    4, 3141, 3142, 3163, 3162,    4, 2805,\n",
       "        3141, 3162, 2826,    4, 2826, 2827, 3163, 3162]),\n",
       " array([   4, 2806, 2807, 3143, 3142,    4, 2806, 2807, 2828, 2827,    4,\n",
       "        2807, 3143, 3164, 2828,    4, 3142, 3143, 3164, 3163,    4, 2806,\n",
       "        3142, 3163, 2827,    4, 2827, 2828, 3164, 3163]),\n",
       " array([   4, 2807, 2808, 3144, 3143,    4, 2807, 2808, 2829, 2828,    4,\n",
       "        2808, 3144, 3165, 2829,    4, 3143, 3144, 3165, 3164,    4, 2807,\n",
       "        3143, 3164, 2828,    4, 2828, 2829, 3165, 3164]),\n",
       " array([   4, 2818, 2819, 3155, 3154,    4, 2818, 2819, 2840, 2839,    4,\n",
       "        2819, 3155, 3176, 2840,    4, 3154, 3155, 3176, 3175,    4, 2818,\n",
       "        3154, 3175, 2839,    4, 2839, 2840, 3176, 3175]),\n",
       " array([   4, 2819, 2820, 3156, 3155,    4, 2819, 2820, 2841, 2840,    4,\n",
       "        2820, 3156, 3177, 2841,    4, 3155, 3156, 3177, 3176,    4, 2819,\n",
       "        3155, 3176, 2840,    4, 2840, 2841, 3177, 3176]),\n",
       " array([   4, 2820, 2821, 3157, 3156,    4, 2820, 2821, 2842, 2841,    4,\n",
       "        2821, 3157, 3178, 2842,    4, 3156, 3157, 3178, 3177,    4, 2820,\n",
       "        3156, 3177, 2841,    4, 2841, 2842, 3178, 3177]),\n",
       " array([   4, 2823, 2824, 3160, 3159,    4, 2823, 2824, 2845, 2844,    4,\n",
       "        2824, 3160, 3181, 2845,    4, 3159, 3160, 3181, 3180,    4, 2823,\n",
       "        3159, 3180, 2844,    4, 2844, 2845, 3181, 3180]),\n",
       " array([   4, 2824, 2825, 3161, 3160,    4, 2824, 2825, 2846, 2845,    4,\n",
       "        2825, 3161, 3182, 2846,    4, 3160, 3161, 3182, 3181,    4, 2824,\n",
       "        3160, 3181, 2845,    4, 2845, 2846, 3182, 3181]),\n",
       " array([   4, 2825, 2826, 3162, 3161,    4, 2825, 2826, 2847, 2846,    4,\n",
       "        2826, 3162, 3183, 2847,    4, 3161, 3162, 3183, 3182,    4, 2825,\n",
       "        3161, 3182, 2846,    4, 2846, 2847, 3183, 3182]),\n",
       " array([   4, 2826, 2827, 3163, 3162,    4, 2826, 2827, 2848, 2847,    4,\n",
       "        2827, 3163, 3184, 2848,    4, 3162, 3163, 3184, 3183,    4, 2826,\n",
       "        3162, 3183, 2847,    4, 2847, 2848, 3184, 3183]),\n",
       " array([   4, 2827, 2828, 3164, 3163,    4, 2827, 2828, 2849, 2848,    4,\n",
       "        2828, 3164, 3185, 2849,    4, 3163, 3164, 3185, 3184,    4, 2827,\n",
       "        3163, 3184, 2848,    4, 2848, 2849, 3185, 3184]),\n",
       " array([   4, 2828, 2829, 3165, 3164,    4, 2828, 2829, 2850, 2849,    4,\n",
       "        2829, 3165, 3186, 2850,    4, 3164, 3165, 3186, 3185,    4, 2828,\n",
       "        3164, 3185, 2849,    4, 2849, 2850, 3186, 3185]),\n",
       " array([   4, 2829, 2830, 3166, 3165,    4, 2829, 2830, 2851, 2850,    4,\n",
       "        2830, 3166, 3187, 2851,    4, 3165, 3166, 3187, 3186,    4, 2829,\n",
       "        3165, 3186, 2850,    4, 2850, 2851, 3187, 3186]),\n",
       " array([   4, 2837, 2836, 3172, 3173,    4, 2837, 2836, 2857, 2858,    4,\n",
       "        2836, 3172, 3193, 2857,    4, 3173, 3172, 3193, 3194,    4, 2837,\n",
       "        3173, 3194, 2858,    4, 2858, 2857, 3193, 3194]),\n",
       " array([   4, 2836, 2838, 3174, 3172,    4, 2836, 2838, 2859, 2857,    4,\n",
       "        2838, 3174, 3195, 2859,    4, 3172, 3174, 3195, 3193,    4, 2836,\n",
       "        3172, 3193, 2857,    4, 2857, 2859, 3195, 3193]),\n",
       " array([   4, 2838, 2839, 3175, 3174,    4, 2838, 2839, 2860, 2859,    4,\n",
       "        2839, 3175, 3196, 2860,    4, 3174, 3175, 3196, 3195,    4, 2838,\n",
       "        3174, 3195, 2859,    4, 2859, 2860, 3196, 3195]),\n",
       " array([   4, 2839, 2840, 3176, 3175,    4, 2839, 2840, 2861, 2860,    4,\n",
       "        2840, 3176, 3197, 2861,    4, 3175, 3176, 3197, 3196,    4, 2839,\n",
       "        3175, 3196, 2860,    4, 2860, 2861, 3197, 3196]),\n",
       " array([   4, 2840, 2841, 3177, 3176,    4, 2840, 2841, 2862, 2861,    4,\n",
       "        2841, 3177, 3198, 2862,    4, 3176, 3177, 3198, 3197,    4, 2840,\n",
       "        3176, 3197, 2861,    4, 2861, 2862, 3198, 3197]),\n",
       " array([   4, 2841, 2842, 3178, 3177,    4, 2841, 2842, 2863, 2862,    4,\n",
       "        2842, 3178, 3199, 2863,    4, 3177, 3178, 3199, 3198,    4, 2841,\n",
       "        3177, 3198, 2862,    4, 2862, 2863, 3199, 3198]),\n",
       " array([   4, 2844, 2845, 3181, 3180,    4, 2844, 2845, 2866, 2865,    4,\n",
       "        2845, 3181, 3202, 2866,    4, 3180, 3181, 3202, 3201,    4, 2844,\n",
       "        3180, 3201, 2865,    4, 2865, 2866, 3202, 3201]),\n",
       " array([   4, 2845, 2846, 3182, 3181,    4, 2845, 2846, 2867, 2866,    4,\n",
       "        2846, 3182, 3203, 2867,    4, 3181, 3182, 3203, 3202,    4, 2845,\n",
       "        3181, 3202, 2866,    4, 2866, 2867, 3203, 3202]),\n",
       " array([   4, 2846, 2847, 3183, 3182,    4, 2846, 2847, 2868, 2867,    4,\n",
       "        2847, 3183, 3204, 2868,    4, 3182, 3183, 3204, 3203,    4, 2846,\n",
       "        3182, 3203, 2867,    4, 2867, 2868, 3204, 3203]),\n",
       " array([   4, 2847, 2848, 3184, 3183,    4, 2847, 2848, 2869, 2868,    4,\n",
       "        2848, 3184, 3205, 2869,    4, 3183, 3184, 3205, 3204,    4, 2847,\n",
       "        3183, 3204, 2868,    4, 2868, 2869, 3205, 3204]),\n",
       " array([   4, 2848, 2849, 3185, 3184,    4, 2848, 2849, 2870, 2869,    4,\n",
       "        2849, 3185, 3206, 2870,    4, 3184, 3185, 3206, 3205,    4, 2848,\n",
       "        3184, 3205, 2869,    4, 2869, 2870, 3206, 3205]),\n",
       " array([   4, 2849, 2850, 3186, 3185,    4, 2849, 2850, 2871, 2870,    4,\n",
       "        2850, 3186, 3207, 2871,    4, 3185, 3186, 3207, 3206,    4, 2849,\n",
       "        3185, 3206, 2870,    4, 2870, 2871, 3207, 3206]),\n",
       " array([   4, 2850, 2851, 3187, 3186,    4, 2850, 2851, 2872, 2871,    4,\n",
       "        2851, 3187, 3208, 2872,    4, 3186, 3187, 3208, 3207,    4, 2850,\n",
       "        3186, 3207, 2871,    4, 2871, 2872, 3208, 3207]),\n",
       " array([   4, 2858, 2857, 3193, 3194,    4, 2858, 2857, 2878, 2879,    4,\n",
       "        2857, 3193, 3214, 2878,    4, 3194, 3193, 3214, 3215,    4, 2858,\n",
       "        3194, 3215, 2879,    4, 2879, 2878, 3214, 3215]),\n",
       " array([   4, 2857, 2859, 3195, 3193,    4, 2857, 2859, 2880, 2878,    4,\n",
       "        2859, 3195, 3216, 2880,    4, 3193, 3195, 3216, 3214,    4, 2857,\n",
       "        3193, 3214, 2878,    4, 2878, 2880, 3216, 3214]),\n",
       " array([   4, 2859, 2860, 3196, 3195,    4, 2859, 2860, 2881, 2880,    4,\n",
       "        2860, 3196, 3217, 2881,    4, 3195, 3196, 3217, 3216,    4, 2859,\n",
       "        3195, 3216, 2880,    4, 2880, 2881, 3217, 3216]),\n",
       " array([   4, 2860, 2861, 3197, 3196,    4, 2860, 2861, 2882, 2881,    4,\n",
       "        2861, 3197, 3218, 2882,    4, 3196, 3197, 3218, 3217,    4, 2860,\n",
       "        3196, 3217, 2881,    4, 2881, 2882, 3218, 3217]),\n",
       " array([   4, 2861, 2862, 3198, 3197,    4, 2861, 2862, 2883, 2882,    4,\n",
       "        2862, 3198, 3219, 2883,    4, 3197, 3198, 3219, 3218,    4, 2861,\n",
       "        3197, 3218, 2882,    4, 2882, 2883, 3219, 3218]),\n",
       " array([   4, 2865, 2866, 3202, 3201,    4, 2865, 2866, 2887, 2886,    4,\n",
       "        2866, 3202, 3223, 2887,    4, 3201, 3202, 3223, 3222,    4, 2865,\n",
       "        3201, 3222, 2886,    4, 2886, 2887, 3223, 3222]),\n",
       " array([   4, 2867, 2868, 3204, 3203,    4, 2867, 2868, 2889, 2888,    4,\n",
       "        2868, 3204, 3225, 2889,    4, 3203, 3204, 3225, 3224,    4, 2867,\n",
       "        3203, 3224, 2888,    4, 2888, 2889, 3225, 3224]),\n",
       " array([   4, 2868, 2869, 3205, 3204,    4, 2868, 2869, 2890, 2889,    4,\n",
       "        2869, 3205, 3226, 2890,    4, 3204, 3205, 3226, 3225,    4, 2868,\n",
       "        3204, 3225, 2889,    4, 2889, 2890, 3226, 3225]),\n",
       " array([   4, 2869, 2870, 3206, 3205,    4, 2869, 2870, 2891, 2890,    4,\n",
       "        2870, 3206, 3227, 2891,    4, 3205, 3206, 3227, 3226,    4, 2869,\n",
       "        3205, 3226, 2890,    4, 2890, 2891, 3227, 3226]),\n",
       " array([   4, 2870, 2871, 3207, 3206,    4, 2870, 2871, 2892, 2891,    4,\n",
       "        2871, 3207, 3228, 2892,    4, 3206, 3207, 3228, 3227,    4, 2870,\n",
       "        3206, 3227, 2891,    4, 2891, 2892, 3228, 3227]),\n",
       " array([   4, 2871, 2872, 3208, 3207,    4, 2871, 2872, 2893, 2892,    4,\n",
       "        2872, 3208, 3229, 2893,    4, 3207, 3208, 3229, 3228,    4, 2871,\n",
       "        3207, 3228, 2892,    4, 2892, 2893, 3229, 3228]),\n",
       " array([   4, 2879, 2878, 3214, 3215,    4, 2879, 2878, 2899, 2900,    4,\n",
       "        2878, 3214, 3235, 2899,    4, 3215, 3214, 3235, 3236,    4, 2879,\n",
       "        3215, 3236, 2900,    4, 2900, 2899, 3235, 3236]),\n",
       " array([   4, 2878, 2880, 3216, 3214,    4, 2878, 2880, 2901, 2899,    4,\n",
       "        2880, 3216, 3237, 2901,    4, 3214, 3216, 3237, 3235,    4, 2878,\n",
       "        3214, 3235, 2899,    4, 2899, 2901, 3237, 3235]),\n",
       " array([   4, 2880, 2881, 3217, 3216,    4, 2880, 2881, 2902, 2901,    4,\n",
       "        2881, 3217, 3238, 2902,    4, 3216, 3217, 3238, 3237,    4, 2880,\n",
       "        3216, 3237, 2901,    4, 2901, 2902, 3238, 3237]),\n",
       " array([   4, 2881, 2882, 3218, 3217,    4, 2881, 2882, 2903, 2902,    4,\n",
       "        2882, 3218, 3239, 2903,    4, 3217, 3218, 3239, 3238,    4, 2881,\n",
       "        3217, 3238, 2902,    4, 2902, 2903, 3239, 3238]),\n",
       " array([   4, 2882, 2883, 3219, 3218,    4, 2882, 2883, 2904, 2903,    4,\n",
       "        2883, 3219, 3240, 2904,    4, 3218, 3219, 3240, 3239,    4, 2882,\n",
       "        3218, 3239, 2903,    4, 2903, 2904, 3240, 3239]),\n",
       " array([   4, 2883, 2884, 3220, 3219,    4, 2883, 2884, 2905, 2904,    4,\n",
       "        2884, 3220, 3241, 2905,    4, 3219, 3220, 3241, 3240,    4, 2883,\n",
       "        3219, 3240, 2904,    4, 2904, 2905, 3241, 3240]),\n",
       " array([   4, 2889, 2890, 3226, 3225,    4, 2889, 2890, 2911, 2910,    4,\n",
       "        2890, 3226, 3247, 2911,    4, 3225, 3226, 3247, 3246,    4, 2889,\n",
       "        3225, 3246, 2910,    4, 2910, 2911, 3247, 3246]),\n",
       " array([   4, 2890, 2891, 3227, 3226,    4, 2890, 2891, 2912, 2911,    4,\n",
       "        2891, 3227, 3248, 2912,    4, 3226, 3227, 3248, 3247,    4, 2890,\n",
       "        3226, 3247, 2911,    4, 2911, 2912, 3248, 3247]),\n",
       " array([   4, 2891, 2892, 3228, 3227,    4, 2891, 2892, 2913, 2912,    4,\n",
       "        2892, 3228, 3249, 2913,    4, 3227, 3228, 3249, 3248,    4, 2891,\n",
       "        3227, 3248, 2912,    4, 2912, 2913, 3249, 3248]),\n",
       " array([   4, 2892, 2893, 3229, 3228,    4, 2892, 2893, 2914, 2913,    4,\n",
       "        2893, 3229, 3250, 2914,    4, 3228, 3229, 3250, 3249,    4, 2892,\n",
       "        3228, 3249, 2913,    4, 2913, 2914, 3250, 3249]),\n",
       " array([   4, 2900, 2899, 3235, 3236,    4, 2900, 2899, 2920, 2921,    4,\n",
       "        2899, 3235, 3256, 2920,    4, 3236, 3235, 3256, 3257,    4, 2900,\n",
       "        3236, 3257, 2921,    4, 2921, 2920, 3256, 3257]),\n",
       " array([   4, 2899, 2901, 3237, 3235,    4, 2899, 2901, 2922, 2920,    4,\n",
       "        2901, 3237, 3258, 2922,    4, 3235, 3237, 3258, 3256,    4, 2899,\n",
       "        3235, 3256, 2920,    4, 2920, 2922, 3258, 3256]),\n",
       " array([   4, 2901, 2902, 3238, 3237,    4, 2901, 2902, 2923, 2922,    4,\n",
       "        2902, 3238, 3259, 2923,    4, 3237, 3238, 3259, 3258,    4, 2901,\n",
       "        3237, 3258, 2922,    4, 2922, 2923, 3259, 3258]),\n",
       " array([   4, 2902, 2903, 3239, 3238,    4, 2902, 2903, 2924, 2923,    4,\n",
       "        2903, 3239, 3260, 2924,    4, 3238, 3239, 3260, 3259,    4, 2902,\n",
       "        3238, 3259, 2923,    4, 2923, 2924, 3260, 3259]),\n",
       " array([   4, 2903, 2904, 3240, 3239,    4, 2903, 2904, 2925, 2924,    4,\n",
       "        2904, 3240, 3261, 2925,    4, 3239, 3240, 3261, 3260,    4, 2903,\n",
       "        3239, 3260, 2924,    4, 2924, 2925, 3261, 3260]),\n",
       " array([   4, 2904, 2905, 3241, 3240,    4, 2904, 2905, 2926, 2925,    4,\n",
       "        2905, 3241, 3262, 2926,    4, 3240, 3241, 3262, 3261,    4, 2904,\n",
       "        3240, 3261, 2925,    4, 2925, 2926, 3262, 3261]),\n",
       " array([   4, 2905, 2906, 3242, 3241,    4, 2905, 2906, 2927, 2926,    4,\n",
       "        2906, 3242, 3263, 2927,    4, 3241, 3242, 3263, 3262,    4, 2905,\n",
       "        3241, 3262, 2926,    4, 2926, 2927, 3263, 3262]),\n",
       " array([   4, 2910, 2911, 3247, 3246,    4, 2910, 2911, 2932, 2931,    4,\n",
       "        2911, 3247, 3268, 2932,    4, 3246, 3247, 3268, 3267,    4, 2910,\n",
       "        3246, 3267, 2931,    4, 2931, 2932, 3268, 3267]),\n",
       " array([   4, 2911, 2912, 3248, 3247,    4, 2911, 2912, 2933, 2932,    4,\n",
       "        2912, 3248, 3269, 2933,    4, 3247, 3248, 3269, 3268,    4, 2911,\n",
       "        3247, 3268, 2932,    4, 2932, 2933, 3269, 3268]),\n",
       " array([   4, 2912, 2913, 3249, 3248,    4, 2912, 2913, 2934, 2933,    4,\n",
       "        2913, 3249, 3270, 2934,    4, 3248, 3249, 3270, 3269,    4, 2912,\n",
       "        3248, 3269, 2933,    4, 2933, 2934, 3270, 3269]),\n",
       " array([   4, 2913, 2914, 3250, 3249,    4, 2913, 2914, 2935, 2934,    4,\n",
       "        2914, 3250, 3271, 2935,    4, 3249, 3250, 3271, 3270,    4, 2913,\n",
       "        3249, 3270, 2934,    4, 2934, 2935, 3271, 3270]),\n",
       " array([   4, 2914, 2915, 3251, 3250,    4, 2914, 2915, 2936, 2935,    4,\n",
       "        2915, 3251, 3272, 2936,    4, 3250, 3251, 3272, 3271,    4, 2914,\n",
       "        3250, 3271, 2935,    4, 2935, 2936, 3272, 3271]),\n",
       " array([   4, 2921, 2920, 3256, 3257,    4, 2921, 2920, 2941, 2942,    4,\n",
       "        2920, 3256, 3277, 2941,    4, 3257, 3256, 3277, 3278,    4, 2921,\n",
       "        3257, 3278, 2942,    4, 2942, 2941, 3277, 3278]),\n",
       " array([   4, 2920, 2922, 3258, 3256,    4, 2920, 2922, 2943, 2941,    4,\n",
       "        2922, 3258, 3279, 2943,    4, 3256, 3258, 3279, 3277,    4, 2920,\n",
       "        3256, 3277, 2941,    4, 2941, 2943, 3279, 3277]),\n",
       " array([   4, 2922, 2923, 3259, 3258,    4, 2922, 2923, 2944, 2943,    4,\n",
       "        2923, 3259, 3280, 2944,    4, 3258, 3259, 3280, 3279,    4, 2922,\n",
       "        3258, 3279, 2943,    4, 2943, 2944, 3280, 3279]),\n",
       " array([   4, 2923, 2924, 3260, 3259,    4, 2923, 2924, 2945, 2944,    4,\n",
       "        2924, 3260, 3281, 2945,    4, 3259, 3260, 3281, 3280,    4, 2923,\n",
       "        3259, 3280, 2944,    4, 2944, 2945, 3281, 3280]),\n",
       " array([   4, 2924, 2925, 3261, 3260,    4, 2924, 2925, 2946, 2945,    4,\n",
       "        2925, 3261, 3282, 2946,    4, 3260, 3261, 3282, 3281,    4, 2924,\n",
       "        3260, 3281, 2945,    4, 2945, 2946, 3282, 3281]),\n",
       " array([   4, 2925, 2926, 3262, 3261,    4, 2925, 2926, 2947, 2946,    4,\n",
       "        2926, 3262, 3283, 2947,    4, 3261, 3262, 3283, 3282,    4, 2925,\n",
       "        3261, 3282, 2946,    4, 2946, 2947, 3283, 3282]),\n",
       " array([   4, 2926, 2927, 3263, 3262,    4, 2926, 2927, 2948, 2947,    4,\n",
       "        2927, 3263, 3284, 2948,    4, 3262, 3263, 3284, 3283,    4, 2926,\n",
       "        3262, 3283, 2947,    4, 2947, 2948, 3284, 3283]),\n",
       " array([   4, 2931, 2932, 3268, 3267,    4, 2931, 2932, 2953, 2952,    4,\n",
       "        2932, 3268, 3289, 2953,    4, 3267, 3268, 3289, 3288,    4, 2931,\n",
       "        3267, 3288, 2952,    4, 2952, 2953, 3289, 3288]),\n",
       " array([   4, 2932, 2933, 3269, 3268,    4, 2932, 2933, 2954, 2953,    4,\n",
       "        2933, 3269, 3290, 2954,    4, 3268, 3269, 3290, 3289,    4, 2932,\n",
       "        3268, 3289, 2953,    4, 2953, 2954, 3290, 3289]),\n",
       " array([   4, 2933, 2934, 3270, 3269,    4, 2933, 2934, 2955, 2954,    4,\n",
       "        2934, 3270, 3291, 2955,    4, 3269, 3270, 3291, 3290,    4, 2933,\n",
       "        3269, 3290, 2954,    4, 2954, 2955, 3291, 3290]),\n",
       " array([   4, 2934, 2935, 3271, 3270,    4, 2934, 2935, 2956, 2955,    4,\n",
       "        2935, 3271, 3292, 2956,    4, 3270, 3271, 3292, 3291,    4, 2934,\n",
       "        3270, 3291, 2955,    4, 2955, 2956, 3292, 3291]),\n",
       " array([   4, 2935, 2936, 3272, 3271,    4, 2935, 2936, 2957, 2956,    4,\n",
       "        2936, 3272, 3293, 2957,    4, 3271, 3272, 3293, 3292,    4, 2935,\n",
       "        3271, 3292, 2956,    4, 2956, 2957, 3293, 3292]),\n",
       " array([   4, 2945, 2946, 3282, 3281,    4, 2945, 2946, 2967, 2966,    4,\n",
       "        2946, 3282, 3303, 2967,    4, 3281, 3282, 3303, 3302,    4, 2945,\n",
       "        3281, 3302, 2966,    4, 2966, 2967, 3303, 3302]),\n",
       " array([   4, 2946, 2947, 3283, 3282,    4, 2946, 2947, 2968, 2967,    4,\n",
       "        2947, 3283, 3304, 2968,    4, 3282, 3283, 3304, 3303,    4, 2946,\n",
       "        3282, 3303, 2967,    4, 2967, 2968, 3304, 3303]),\n",
       " array([   4, 2951, 2952, 3288, 3287,    4, 2951, 2952, 2973, 2972,    4,\n",
       "        2952, 3288, 3309, 2973,    4, 3287, 3288, 3309, 3308,    4, 2951,\n",
       "        3287, 3308, 2972,    4, 2972, 2973, 3309, 3308]),\n",
       " array([   4, 2952, 2953, 3289, 3288,    4, 2952, 2953, 2974, 2973,    4,\n",
       "        2953, 3289, 3310, 2974,    4, 3288, 3289, 3310, 3309,    4, 2952,\n",
       "        3288, 3309, 2973,    4, 2973, 2974, 3310, 3309]),\n",
       " array([   4, 2953, 2954, 3290, 3289,    4, 2953, 2954, 2975, 2974,    4,\n",
       "        2954, 3290, 3311, 2975,    4, 3289, 3290, 3311, 3310,    4, 2953,\n",
       "        3289, 3310, 2974,    4, 2974, 2975, 3311, 3310]),\n",
       " array([   4, 2954, 2955, 3291, 3290,    4, 2954, 2955, 2976, 2975,    4,\n",
       "        2955, 3291, 3312, 2976,    4, 3290, 3291, 3312, 3311,    4, 2954,\n",
       "        3290, 3311, 2975,    4, 2975, 2976, 3312, 3311]),\n",
       " array([   4, 2955, 2956, 3292, 3291,    4, 2955, 2956, 2977, 2976,    4,\n",
       "        2956, 3292, 3313, 2977,    4, 3291, 3292, 3313, 3312,    4, 2955,\n",
       "        3291, 3312, 2976,    4, 2976, 2977, 3313, 3312]),\n",
       " array([   4, 2956, 2957, 3293, 3292,    4, 2956, 2957, 2978, 2977,    4,\n",
       "        2957, 3293, 3314, 2978,    4, 3292, 3293, 3314, 3313,    4, 2956,\n",
       "        3292, 3313, 2977,    4, 2977, 2978, 3314, 3313]),\n",
       " array([   4, 2967, 2968, 3304, 3303,    4, 2967, 2968, 2989, 2988,    4,\n",
       "        2968, 3304, 3325, 2989,    4, 3303, 3304, 3325, 3324,    4, 2967,\n",
       "        3303, 3324, 2988,    4, 2988, 2989, 3325, 3324]),\n",
       " array([   4, 2968, 2969, 3305, 3304,    4, 2968, 2969, 2990, 2989,    4,\n",
       "        2969, 3305, 3326, 2990,    4, 3304, 3305, 3326, 3325,    4, 2968,\n",
       "        3304, 3325, 2989,    4, 2989, 2990, 3326, 3325]),\n",
       " array([   4, 2972, 2973, 3309, 3308,    4, 2972, 2973, 2994, 2993,    4,\n",
       "        2973, 3309, 3330, 2994,    4, 3308, 3309, 3330, 3329,    4, 2972,\n",
       "        3308, 3329, 2993,    4, 2993, 2994, 3330, 3329]),\n",
       " array([   4, 2973, 2974, 3310, 3309,    4, 2973, 2974, 2995, 2994,    4,\n",
       "        2974, 3310, 3331, 2995,    4, 3309, 3310, 3331, 3330,    4, 2973,\n",
       "        3309, 3330, 2994,    4, 2994, 2995, 3331, 3330]),\n",
       " array([   4, 2974, 2975, 3311, 3310,    4, 2974, 2975, 2996, 2995,    4,\n",
       "        2975, 3311, 3332, 2996,    4, 3310, 3311, 3332, 3331,    4, 2974,\n",
       "        3310, 3331, 2995,    4, 2995, 2996, 3332, 3331]),\n",
       " array([   4, 2975, 2976, 3312, 3311,    4, 2975, 2976, 2997, 2996,    4,\n",
       "        2976, 3312, 3333, 2997,    4, 3311, 3312, 3333, 3332,    4, 2975,\n",
       "        3311, 3332, 2996,    4, 2996, 2997, 3333, 3332]),\n",
       " array([   4, 2976, 2977, 3313, 3312,    4, 2976, 2977, 2998, 2997,    4,\n",
       "        2977, 3313, 3334, 2998,    4, 3312, 3313, 3334, 3333,    4, 2976,\n",
       "        3312, 3333, 2997,    4, 2997, 2998, 3334, 3333]),\n",
       " array([   4, 2977, 2978, 3314, 3313,    4, 2977, 2978, 2999, 2998,    4,\n",
       "        2978, 3314, 3335, 2999,    4, 3313, 3314, 3335, 3334,    4, 2977,\n",
       "        3313, 3334, 2998,    4, 2998, 2999, 3335, 3334]),\n",
       " array([   4, 2988, 2989, 3325, 3324,    4, 2988, 2989, 3010, 3009,    4,\n",
       "        2989, 3325, 3346, 3010,    4, 3324, 3325, 3346, 3345,    4, 2988,\n",
       "        3324, 3345, 3009,    4, 3009, 3010, 3346, 3345]),\n",
       " array([   4, 2989, 2990, 3326, 3325,    4, 2989, 2990, 3011, 3010,    4,\n",
       "        2990, 3326, 3347, 3011,    4, 3325, 3326, 3347, 3346,    4, 2989,\n",
       "        3325, 3346, 3010,    4, 3010, 3011, 3347, 3346]),\n",
       " array([   4, 2990, 2991, 3327, 3326,    4, 2990, 2991, 3012, 3011,    4,\n",
       "        2991, 3327, 3348, 3012,    4, 3326, 3327, 3348, 3347,    4, 2990,\n",
       "        3326, 3347, 3011,    4, 3011, 3012, 3348, 3347]),\n",
       " array([   4, 2992, 2993, 3329, 3328,    4, 2992, 2993, 3014, 3013,    4,\n",
       "        2993, 3329, 3350, 3014,    4, 3328, 3329, 3350, 3349,    4, 2992,\n",
       "        3328, 3349, 3013,    4, 3013, 3014, 3350, 3349]),\n",
       " array([   4, 2993, 2994, 3330, 3329,    4, 2993, 2994, 3015, 3014,    4,\n",
       "        2994, 3330, 3351, 3015,    4, 3329, 3330, 3351, 3350,    4, 2993,\n",
       "        3329, 3350, 3014,    4, 3014, 3015, 3351, 3350]),\n",
       " array([   4, 2994, 2995, 3331, 3330,    4, 2994, 2995, 3016, 3015,    4,\n",
       "        2995, 3331, 3352, 3016,    4, 3330, 3331, 3352, 3351,    4, 2994,\n",
       "        3330, 3351, 3015,    4, 3015, 3016, 3352, 3351]),\n",
       " array([   4, 2995, 2996, 3332, 3331,    4, 2995, 2996, 3017, 3016,    4,\n",
       "        2996, 3332, 3353, 3017,    4, 3331, 3332, 3353, 3352,    4, 2995,\n",
       "        3331, 3352, 3016,    4, 3016, 3017, 3353, 3352]),\n",
       " array([   4, 2996, 2997, 3333, 3332,    4, 2996, 2997, 3018, 3017,    4,\n",
       "        2997, 3333, 3354, 3018,    4, 3332, 3333, 3354, 3353,    4, 2996,\n",
       "        3332, 3353, 3017,    4, 3017, 3018, 3354, 3353]),\n",
       " array([   4, 2997, 2998, 3334, 3333,    4, 2997, 2998, 3019, 3018,    4,\n",
       "        2998, 3334, 3355, 3019,    4, 3333, 3334, 3355, 3354,    4, 2997,\n",
       "        3333, 3354, 3018,    4, 3018, 3019, 3355, 3354]),\n",
       " array([   4, 2998, 2999, 3335, 3334,    4, 2998, 2999, 3020, 3019,    4,\n",
       "        2999, 3335, 3356, 3020,    4, 3334, 3335, 3356, 3355,    4, 2998,\n",
       "        3334, 3355, 3019,    4, 3019, 3020, 3356, 3355]),\n",
       " array([   4, 3047, 3049, 3385, 3383,    4, 3047, 3049, 3050, 3048,    4,\n",
       "        3049, 3385, 3386, 3050,    4, 3383, 3385, 3386, 3384,    4, 3047,\n",
       "        3383, 3384, 3048,    4, 3048, 3050, 3386, 3384]),\n",
       " array([   4, 3049, 3051, 3387, 3385,    4, 3049, 3051, 3052, 3050,    4,\n",
       "        3051, 3387, 3388, 3052,    4, 3385, 3387, 3388, 3386,    4, 3049,\n",
       "        3385, 3386, 3050,    4, 3050, 3052, 3388, 3386]),\n",
       " array([   4, 3051, 3053, 3389, 3387,    4, 3051, 3053, 3054, 3052,    4,\n",
       "        3053, 3389, 3390, 3054,    4, 3387, 3389, 3390, 3388,    4, 3051,\n",
       "        3387, 3388, 3052,    4, 3052, 3054, 3390, 3388]),\n",
       " array([   4, 3053, 3055, 3391, 3389,    4, 3053, 3055, 3056, 3054,    4,\n",
       "        3055, 3391, 3392, 3056,    4, 3389, 3391, 3392, 3390,    4, 3053,\n",
       "        3389, 3390, 3054,    4, 3054, 3056, 3392, 3390]),\n",
       " array([   4, 3055, 3057, 3393, 3391,    4, 3055, 3057, 3058, 3056,    4,\n",
       "        3057, 3393, 3394, 3058,    4, 3391, 3393, 3394, 3392,    4, 3055,\n",
       "        3391, 3392, 3056,    4, 3056, 3058, 3394, 3392]),\n",
       " array([   4, 3057, 3059, 3395, 3393,    4, 3057, 3059, 3060, 3058,    4,\n",
       "        3059, 3395, 3396, 3060,    4, 3393, 3395, 3396, 3394,    4, 3057,\n",
       "        3393, 3394, 3058,    4, 3058, 3060, 3396, 3394]),\n",
       " array([   4, 3048, 3050, 3386, 3384,    4, 3048, 3050, 3079, 3078,    4,\n",
       "        3050, 3386, 3415, 3079,    4, 3384, 3386, 3415, 3414,    4, 3048,\n",
       "        3384, 3414, 3078,    4, 3078, 3079, 3415, 3414]),\n",
       " array([   4, 3050, 3052, 3388, 3386,    4, 3050, 3052, 3080, 3079,    4,\n",
       "        3052, 3388, 3416, 3080,    4, 3386, 3388, 3416, 3415,    4, 3050,\n",
       "        3386, 3415, 3079,    4, 3079, 3080, 3416, 3415]),\n",
       " array([   4, 3052, 3054, 3390, 3388,    4, 3052, 3054, 3081, 3080,    4,\n",
       "        3054, 3390, 3417, 3081,    4, 3388, 3390, 3417, 3416,    4, 3052,\n",
       "        3388, 3416, 3080,    4, 3080, 3081, 3417, 3416]),\n",
       " array([   4, 3054, 3056, 3392, 3390,    4, 3054, 3056, 3082, 3081,    4,\n",
       "        3056, 3392, 3418, 3082,    4, 3390, 3392, 3418, 3417,    4, 3054,\n",
       "        3390, 3417, 3081,    4, 3081, 3082, 3418, 3417]),\n",
       " array([   4, 3056, 3058, 3394, 3392,    4, 3056, 3058, 3083, 3082,    4,\n",
       "        3058, 3394, 3419, 3083,    4, 3392, 3394, 3419, 3418,    4, 3056,\n",
       "        3392, 3418, 3082,    4, 3082, 3083, 3419, 3418]),\n",
       " array([   4, 3058, 3060, 3396, 3394,    4, 3058, 3060, 3084, 3083,    4,\n",
       "        3060, 3396, 3420, 3084,    4, 3394, 3396, 3420, 3419,    4, 3058,\n",
       "        3394, 3419, 3083,    4, 3083, 3084, 3420, 3419]),\n",
       " array([   4, 3077, 3078, 3414, 3413,    4, 3077, 3078, 3099, 3098,    4,\n",
       "        3078, 3414, 3435, 3099,    4, 3413, 3414, 3435, 3434,    4, 3077,\n",
       "        3413, 3434, 3098,    4, 3098, 3099, 3435, 3434]),\n",
       " array([   4, 3078, 3079, 3415, 3414,    4, 3078, 3079, 3100, 3099,    4,\n",
       "        3079, 3415, 3436, 3100,    4, 3414, 3415, 3436, 3435,    4, 3078,\n",
       "        3414, 3435, 3099,    4, 3099, 3100, 3436, 3435]),\n",
       " array([   4, 3079, 3080, 3416, 3415,    4, 3079, 3080, 3101, 3100,    4,\n",
       "        3080, 3416, 3437, 3101,    4, 3415, 3416, 3437, 3436,    4, 3079,\n",
       "        3415, 3436, 3100,    4, 3100, 3101, 3437, 3436]),\n",
       " array([   4, 3080, 3081, 3417, 3416,    4, 3080, 3081, 3102, 3101,    4,\n",
       "        3081, 3417, 3438, 3102,    4, 3416, 3417, 3438, 3437,    4, 3080,\n",
       "        3416, 3437, 3101,    4, 3101, 3102, 3438, 3437]),\n",
       " array([   4, 3081, 3082, 3418, 3417,    4, 3081, 3082, 3103, 3102,    4,\n",
       "        3082, 3418, 3439, 3103,    4, 3417, 3418, 3439, 3438,    4, 3081,\n",
       "        3417, 3438, 3102,    4, 3102, 3103, 3439, 3438]),\n",
       " array([   4, 3082, 3083, 3419, 3418,    4, 3082, 3083, 3104, 3103,    4,\n",
       "        3083, 3419, 3440, 3104,    4, 3418, 3419, 3440, 3439,    4, 3082,\n",
       "        3418, 3439, 3103,    4, 3103, 3104, 3440, 3439]),\n",
       " array([   4, 3097, 3098, 3434, 3433,    4, 3097, 3098, 3119, 3118,    4,\n",
       "        3098, 3434, 3455, 3119,    4, 3433, 3434, 3455, 3454,    4, 3097,\n",
       "        3433, 3454, 3118,    4, 3118, 3119, 3455, 3454]),\n",
       " array([   4, 3098, 3099, 3435, 3434,    4, 3098, 3099, 3120, 3119,    4,\n",
       "        3099, 3435, 3456, 3120,    4, 3434, 3435, 3456, 3455,    4, 3098,\n",
       "        3434, 3455, 3119,    4, 3119, 3120, 3456, 3455]),\n",
       " array([   4, 3099, 3100, 3436, 3435,    4, 3099, 3100, 3121, 3120,    4,\n",
       "        3100, 3436, 3457, 3121,    4, 3435, 3436, 3457, 3456,    4, 3099,\n",
       "        3435, 3456, 3120,    4, 3120, 3121, 3457, 3456]),\n",
       " array([   4, 3103, 3104, 3440, 3439,    4, 3103, 3104, 3125, 3124,    4,\n",
       "        3104, 3440, 3461, 3125,    4, 3439, 3440, 3461, 3460,    4, 3103,\n",
       "        3439, 3460, 3124,    4, 3124, 3125, 3461, 3460]),\n",
       " array([   4, 3104, 3105, 3441, 3440,    4, 3104, 3105, 3126, 3125,    4,\n",
       "        3105, 3441, 3462, 3126,    4, 3440, 3441, 3462, 3461,    4, 3104,\n",
       "        3440, 3461, 3125,    4, 3125, 3126, 3462, 3461]),\n",
       " array([   4, 3113, 3114, 3450, 3449,    4, 3113, 3114, 3135, 3134,    4,\n",
       "        3114, 3450, 3471, 3135,    4, 3449, 3450, 3471, 3470,    4, 3113,\n",
       "        3449, 3470, 3134,    4, 3134, 3135, 3471, 3470]),\n",
       " array([   4, 3114, 3115, 3451, 3450,    4, 3114, 3115, 3136, 3135,    4,\n",
       "        3115, 3451, 3472, 3136,    4, 3450, 3451, 3472, 3471,    4, 3114,\n",
       "        3450, 3471, 3135,    4, 3135, 3136, 3472, 3471]),\n",
       " array([   4, 3117, 3118, 3454, 3453,    4, 3117, 3118, 3139, 3138,    4,\n",
       "        3118, 3454, 3475, 3139,    4, 3453, 3454, 3475, 3474,    4, 3117,\n",
       "        3453, 3474, 3138,    4, 3138, 3139, 3475, 3474]),\n",
       " array([   4, 3118, 3119, 3455, 3454,    4, 3118, 3119, 3140, 3139,    4,\n",
       "        3119, 3455, 3476, 3140,    4, 3454, 3455, 3476, 3475,    4, 3118,\n",
       "        3454, 3475, 3139,    4, 3139, 3140, 3476, 3475]),\n",
       " array([   4, 3119, 3120, 3456, 3455,    4, 3119, 3120, 3141, 3140,    4,\n",
       "        3120, 3456, 3477, 3141,    4, 3455, 3456, 3477, 3476,    4, 3119,\n",
       "        3455, 3476, 3140,    4, 3140, 3141, 3477, 3476]),\n",
       " array([   4, 3120, 3121, 3457, 3456,    4, 3120, 3121, 3142, 3141,    4,\n",
       "        3121, 3457, 3478, 3142,    4, 3456, 3457, 3478, 3477,    4, 3120,\n",
       "        3456, 3477, 3141,    4, 3141, 3142, 3478, 3477]),\n",
       " array([   4, 3134, 3135, 3471, 3470,    4, 3134, 3135, 3156, 3155,    4,\n",
       "        3135, 3471, 3492, 3156,    4, 3470, 3471, 3492, 3491,    4, 3134,\n",
       "        3470, 3491, 3155,    4, 3155, 3156, 3492, 3491]),\n",
       " array([   4, 3137, 3138, 3474, 3473,    4, 3137, 3138, 3159, 3158,    4,\n",
       "        3138, 3474, 3495, 3159,    4, 3473, 3474, 3495, 3494,    4, 3137,\n",
       "        3473, 3494, 3158,    4, 3158, 3159, 3495, 3494]),\n",
       " array([   4, 3138, 3139, 3475, 3474,    4, 3138, 3139, 3160, 3159,    4,\n",
       "        3139, 3475, 3496, 3160,    4, 3474, 3475, 3496, 3495,    4, 3138,\n",
       "        3474, 3495, 3159,    4, 3159, 3160, 3496, 3495]),\n",
       " array([   4, 3139, 3140, 3476, 3475,    4, 3139, 3140, 3161, 3160,    4,\n",
       "        3140, 3476, 3497, 3161,    4, 3475, 3476, 3497, 3496,    4, 3139,\n",
       "        3475, 3496, 3160,    4, 3160, 3161, 3497, 3496]),\n",
       " array([   4, 3140, 3141, 3477, 3476,    4, 3140, 3141, 3162, 3161,    4,\n",
       "        3141, 3477, 3498, 3162,    4, 3476, 3477, 3498, 3497,    4, 3140,\n",
       "        3476, 3497, 3161,    4, 3161, 3162, 3498, 3497]),\n",
       " array([   4, 3141, 3142, 3478, 3477,    4, 3141, 3142, 3163, 3162,    4,\n",
       "        3142, 3478, 3499, 3163,    4, 3477, 3478, 3499, 3498,    4, 3141,\n",
       "        3477, 3498, 3162,    4, 3162, 3163, 3499, 3498]),\n",
       " array([   4, 3152, 3151, 3487, 3488,    4, 3152, 3151, 3172, 3173,    4,\n",
       "        3151, 3487, 3508, 3172,    4, 3488, 3487, 3508, 3509,    4, 3152,\n",
       "        3488, 3509, 3173,    4, 3173, 3172, 3508, 3509]),\n",
       " array([   4, 3151, 3153, 3489, 3487,    4, 3151, 3153, 3174, 3172,    4,\n",
       "        3153, 3489, 3510, 3174,    4, 3487, 3489, 3510, 3508,    4, 3151,\n",
       "        3487, 3508, 3172,    4, 3172, 3174, 3510, 3508]),\n",
       " array([   4, 3153, 3154, 3490, 3489,    4, 3153, 3154, 3175, 3174,    4,\n",
       "        3154, 3490, 3511, 3175,    4, 3489, 3490, 3511, 3510,    4, 3153,\n",
       "        3489, 3510, 3174,    4, 3174, 3175, 3511, 3510]),\n",
       " array([   4, 3154, 3155, 3491, 3490,    4, 3154, 3155, 3176, 3175,    4,\n",
       "        3155, 3491, 3512, 3176,    4, 3490, 3491, 3512, 3511,    4, 3154,\n",
       "        3490, 3511, 3175,    4, 3175, 3176, 3512, 3511]),\n",
       " array([   4, 3155, 3156, 3492, 3491,    4, 3155, 3156, 3177, 3176,    4,\n",
       "        3156, 3492, 3513, 3177,    4, 3491, 3492, 3513, 3512,    4, 3155,\n",
       "        3491, 3512, 3176,    4, 3176, 3177, 3513, 3512]),\n",
       " array([   4, 3158, 3159, 3495, 3494,    4, 3158, 3159, 3180, 3179,    4,\n",
       "        3159, 3495, 3516, 3180,    4, 3494, 3495, 3516, 3515,    4, 3158,\n",
       "        3494, 3515, 3179,    4, 3179, 3180, 3516, 3515]),\n",
       " array([   4, 3159, 3160, 3496, 3495,    4, 3159, 3160, 3181, 3180,    4,\n",
       "        3160, 3496, 3517, 3181,    4, 3495, 3496, 3517, 3516,    4, 3159,\n",
       "        3495, 3516, 3180,    4, 3180, 3181, 3517, 3516]),\n",
       " array([   4, 3160, 3161, 3497, 3496,    4, 3160, 3161, 3182, 3181,    4,\n",
       "        3161, 3497, 3518, 3182,    4, 3496, 3497, 3518, 3517,    4, 3160,\n",
       "        3496, 3517, 3181,    4, 3181, 3182, 3518, 3517]),\n",
       " array([   4, 3161, 3162, 3498, 3497,    4, 3161, 3162, 3183, 3182,    4,\n",
       "        3162, 3498, 3519, 3183,    4, 3497, 3498, 3519, 3518,    4, 3161,\n",
       "        3497, 3518, 3182,    4, 3182, 3183, 3519, 3518]),\n",
       " array([   4, 3162, 3163, 3499, 3498,    4, 3162, 3163, 3184, 3183,    4,\n",
       "        3163, 3499, 3520, 3184,    4, 3498, 3499, 3520, 3519,    4, 3162,\n",
       "        3498, 3519, 3183,    4, 3183, 3184, 3520, 3519]),\n",
       " array([   4, 3163, 3164, 3500, 3499,    4, 3163, 3164, 3185, 3184,    4,\n",
       "        3164, 3500, 3521, 3185,    4, 3499, 3500, 3521, 3520,    4, 3163,\n",
       "        3499, 3520, 3184,    4, 3184, 3185, 3521, 3520]),\n",
       " array([   4, 3173, 3172, 3508, 3509,    4, 3173, 3172, 3193, 3194,    4,\n",
       "        3172, 3508, 3529, 3193,    4, 3509, 3508, 3529, 3530,    4, 3173,\n",
       "        3509, 3530, 3194,    4, 3194, 3193, 3529, 3530]),\n",
       " array([   4, 3172, 3174, 3510, 3508,    4, 3172, 3174, 3195, 3193,    4,\n",
       "        3174, 3510, 3531, 3195,    4, 3508, 3510, 3531, 3529,    4, 3172,\n",
       "        3508, 3529, 3193,    4, 3193, 3195, 3531, 3529]),\n",
       " array([   4, 3174, 3175, 3511, 3510,    4, 3174, 3175, 3196, 3195,    4,\n",
       "        3175, 3511, 3532, 3196,    4, 3510, 3511, 3532, 3531,    4, 3174,\n",
       "        3510, 3531, 3195,    4, 3195, 3196, 3532, 3531]),\n",
       " array([   4, 3175, 3176, 3512, 3511,    4, 3175, 3176, 3197, 3196,    4,\n",
       "        3176, 3512, 3533, 3197,    4, 3511, 3512, 3533, 3532,    4, 3175,\n",
       "        3511, 3532, 3196,    4, 3196, 3197, 3533, 3532]),\n",
       " array([   4, 3176, 3177, 3513, 3512,    4, 3176, 3177, 3198, 3197,    4,\n",
       "        3177, 3513, 3534, 3198,    4, 3512, 3513, 3534, 3533,    4, 3176,\n",
       "        3512, 3533, 3197,    4, 3197, 3198, 3534, 3533]),\n",
       " array([   4, 3179, 3180, 3516, 3515,    4, 3179, 3180, 3201, 3200,    4,\n",
       "        3180, 3516, 3537, 3201,    4, 3515, 3516, 3537, 3536,    4, 3179,\n",
       "        3515, 3536, 3200,    4, 3200, 3201, 3537, 3536]),\n",
       " array([   4, 3180, 3181, 3517, 3516,    4, 3180, 3181, 3202, 3201,    4,\n",
       "        3181, 3517, 3538, 3202,    4, 3516, 3517, 3538, 3537,    4, 3180,\n",
       "        3516, 3537, 3201,    4, 3201, 3202, 3538, 3537]),\n",
       " array([   4, 3183, 3184, 3520, 3519,    4, 3183, 3184, 3205, 3204,    4,\n",
       "        3184, 3520, 3541, 3205,    4, 3519, 3520, 3541, 3540,    4, 3183,\n",
       "        3519, 3540, 3204,    4, 3204, 3205, 3541, 3540]),\n",
       " array([   4, 3184, 3185, 3521, 3520,    4, 3184, 3185, 3206, 3205,    4,\n",
       "        3185, 3521, 3542, 3206,    4, 3520, 3521, 3542, 3541,    4, 3184,\n",
       "        3520, 3541, 3205,    4, 3205, 3206, 3542, 3541]),\n",
       " array([   4, 3185, 3186, 3522, 3521,    4, 3185, 3186, 3207, 3206,    4,\n",
       "        3186, 3522, 3543, 3207,    4, 3521, 3522, 3543, 3542,    4, 3185,\n",
       "        3521, 3542, 3206,    4, 3206, 3207, 3543, 3542]),\n",
       " array([   4, 3194, 3193, 3529, 3530,    4, 3194, 3193, 3214, 3215,    4,\n",
       "        3193, 3529, 3550, 3214,    4, 3530, 3529, 3550, 3551,    4, 3194,\n",
       "        3530, 3551, 3215,    4, 3215, 3214, 3550, 3551]),\n",
       " array([   4, 3193, 3195, 3531, 3529,    4, 3193, 3195, 3216, 3214,    4,\n",
       "        3195, 3531, 3552, 3216,    4, 3529, 3531, 3552, 3550,    4, 3193,\n",
       "        3529, 3550, 3214,    4, 3214, 3216, 3552, 3550]),\n",
       " array([   4, 3195, 3196, 3532, 3531,    4, 3195, 3196, 3217, 3216,    4,\n",
       "        3196, 3532, 3553, 3217,    4, 3531, 3532, 3553, 3552,    4, 3195,\n",
       "        3531, 3552, 3216,    4, 3216, 3217, 3553, 3552]),\n",
       " array([   4, 3196, 3197, 3533, 3532,    4, 3196, 3197, 3218, 3217,    4,\n",
       "        3197, 3533, 3554, 3218,    4, 3532, 3533, 3554, 3553,    4, 3196,\n",
       "        3532, 3553, 3217,    4, 3217, 3218, 3554, 3553]),\n",
       " array([   4, 3200, 3201, 3537, 3536,    4, 3200, 3201, 3222, 3221,    4,\n",
       "        3201, 3537, 3558, 3222,    4, 3536, 3537, 3558, 3557,    4, 3200,\n",
       "        3536, 3557, 3221,    4, 3221, 3222, 3558, 3557]),\n",
       " array([   4, 3201, 3202, 3538, 3537,    4, 3201, 3202, 3223, 3222,    4,\n",
       "        3202, 3538, 3559, 3223,    4, 3537, 3538, 3559, 3558,    4, 3201,\n",
       "        3537, 3558, 3222,    4, 3222, 3223, 3559, 3558]),\n",
       " array([   4, 3205, 3206, 3542, 3541,    4, 3205, 3206, 3227, 3226,    4,\n",
       "        3206, 3542, 3563, 3227,    4, 3541, 3542, 3563, 3562,    4, 3205,\n",
       "        3541, 3562, 3226,    4, 3226, 3227, 3563, 3562]),\n",
       " array([   4, 3206, 3207, 3543, 3542,    4, 3206, 3207, 3228, 3227,    4,\n",
       "        3207, 3543, 3564, 3228,    4, 3542, 3543, 3564, 3563,    4, 3206,\n",
       "        3542, 3563, 3227,    4, 3227, 3228, 3564, 3563]),\n",
       " array([   4, 3207, 3208, 3544, 3543,    4, 3207, 3208, 3229, 3228,    4,\n",
       "        3208, 3544, 3565, 3229,    4, 3543, 3544, 3565, 3564,    4, 3207,\n",
       "        3543, 3564, 3228,    4, 3228, 3229, 3565, 3564]),\n",
       " array([   4, 3215, 3214, 3550, 3551,    4, 3215, 3214, 3235, 3236,    4,\n",
       "        3214, 3550, 3571, 3235,    4, 3551, 3550, 3571, 3572,    4, 3215,\n",
       "        3551, 3572, 3236,    4, 3236, 3235, 3571, 3572]),\n",
       " array([   4, 3214, 3216, 3552, 3550,    4, 3214, 3216, 3237, 3235,    4,\n",
       "        3216, 3552, 3573, 3237,    4, 3550, 3552, 3573, 3571,    4, 3214,\n",
       "        3550, 3571, 3235,    4, 3235, 3237, 3573, 3571]),\n",
       " array([   4, 3216, 3217, 3553, 3552,    4, 3216, 3217, 3238, 3237,    4,\n",
       "        3217, 3553, 3574, 3238,    4, 3552, 3553, 3574, 3573,    4, 3216,\n",
       "        3552, 3573, 3237,    4, 3237, 3238, 3574, 3573]),\n",
       " array([   4, 3217, 3218, 3554, 3553,    4, 3217, 3218, 3239, 3238,    4,\n",
       "        3218, 3554, 3575, 3239,    4, 3553, 3554, 3575, 3574,    4, 3217,\n",
       "        3553, 3574, 3238,    4, 3238, 3239, 3575, 3574]),\n",
       " array([   4, 3218, 3219, 3555, 3554,    4, 3218, 3219, 3240, 3239,    4,\n",
       "        3219, 3555, 3576, 3240,    4, 3554, 3555, 3576, 3575,    4, 3218,\n",
       "        3554, 3575, 3239,    4, 3239, 3240, 3576, 3575]),\n",
       " array([   4, 3220, 3221, 3557, 3556,    4, 3220, 3221, 3242, 3241,    4,\n",
       "        3221, 3557, 3578, 3242,    4, 3556, 3557, 3578, 3577,    4, 3220,\n",
       "        3556, 3577, 3241,    4, 3241, 3242, 3578, 3577]),\n",
       " array([   4, 3221, 3222, 3558, 3557,    4, 3221, 3222, 3243, 3242,    4,\n",
       "        3222, 3558, 3579, 3243,    4, 3557, 3558, 3579, 3578,    4, 3221,\n",
       "        3557, 3578, 3242,    4, 3242, 3243, 3579, 3578]),\n",
       " array([   4, 3222, 3223, 3559, 3558,    4, 3222, 3223, 3244, 3243,    4,\n",
       "        3223, 3559, 3580, 3244,    4, 3558, 3559, 3580, 3579,    4, 3222,\n",
       "        3558, 3579, 3243,    4, 3243, 3244, 3580, 3579]),\n",
       " array([   4, 3223, 3224, 3560, 3559,    4, 3223, 3224, 3245, 3244,    4,\n",
       "        3224, 3560, 3581, 3245,    4, 3559, 3560, 3581, 3580,    4, 3223,\n",
       "        3559, 3580, 3244,    4, 3244, 3245, 3581, 3580]),\n",
       " array([   4, 3226, 3227, 3563, 3562,    4, 3226, 3227, 3248, 3247,    4,\n",
       "        3227, 3563, 3584, 3248,    4, 3562, 3563, 3584, 3583,    4, 3226,\n",
       "        3562, 3583, 3247,    4, 3247, 3248, 3584, 3583]),\n",
       " array([   4, 3227, 3228, 3564, 3563,    4, 3227, 3228, 3249, 3248,    4,\n",
       "        3228, 3564, 3585, 3249,    4, 3563, 3564, 3585, 3584,    4, 3227,\n",
       "        3563, 3584, 3248,    4, 3248, 3249, 3585, 3584]),\n",
       " array([   4, 3228, 3229, 3565, 3564,    4, 3228, 3229, 3250, 3249,    4,\n",
       "        3229, 3565, 3586, 3250,    4, 3564, 3565, 3586, 3585,    4, 3228,\n",
       "        3564, 3585, 3249,    4, 3249, 3250, 3586, 3585]),\n",
       " array([   4, 3236, 3235, 3571, 3572,    4, 3236, 3235, 3256, 3257,    4,\n",
       "        3235, 3571, 3592, 3256,    4, 3572, 3571, 3592, 3593,    4, 3236,\n",
       "        3572, 3593, 3257,    4, 3257, 3256, 3592, 3593]),\n",
       " array([   4, 3235, 3237, 3573, 3571,    4, 3235, 3237, 3258, 3256,    4,\n",
       "        3237, 3573, 3594, 3258,    4, 3571, 3573, 3594, 3592,    4, 3235,\n",
       "        3571, 3592, 3256,    4, 3256, 3258, 3594, 3592]),\n",
       " array([   4, 3237, 3238, 3574, 3573,    4, 3237, 3238, 3259, 3258,    4,\n",
       "        3238, 3574, 3595, 3259,    4, 3573, 3574, 3595, 3594,    4, 3237,\n",
       "        3573, 3594, 3258,    4, 3258, 3259, 3595, 3594]),\n",
       " array([   4, 3238, 3239, 3575, 3574,    4, 3238, 3239, 3260, 3259,    4,\n",
       "        3239, 3575, 3596, 3260,    4, 3574, 3575, 3596, 3595,    4, 3238,\n",
       "        3574, 3595, 3259,    4, 3259, 3260, 3596, 3595]),\n",
       " array([   4, 3239, 3240, 3576, 3575,    4, 3239, 3240, 3261, 3260,    4,\n",
       "        3240, 3576, 3597, 3261,    4, 3575, 3576, 3597, 3596,    4, 3239,\n",
       "        3575, 3596, 3260,    4, 3260, 3261, 3597, 3596]),\n",
       " array([   4, 3240, 3241, 3577, 3576,    4, 3240, 3241, 3262, 3261,    4,\n",
       "        3241, 3577, 3598, 3262,    4, 3576, 3577, 3598, 3597,    4, 3240,\n",
       "        3576, 3597, 3261,    4, 3261, 3262, 3598, 3597]),\n",
       " array([   4, 3241, 3242, 3578, 3577,    4, 3241, 3242, 3263, 3262,    4,\n",
       "        3242, 3578, 3599, 3263,    4, 3577, 3578, 3599, 3598,    4, 3241,\n",
       "        3577, 3598, 3262,    4, 3262, 3263, 3599, 3598]),\n",
       " array([   4, 3242, 3243, 3579, 3578,    4, 3242, 3243, 3264, 3263,    4,\n",
       "        3243, 3579, 3600, 3264,    4, 3578, 3579, 3600, 3599,    4, 3242,\n",
       "        3578, 3599, 3263,    4, 3263, 3264, 3600, 3599]),\n",
       " array([   4, 3243, 3244, 3580, 3579,    4, 3243, 3244, 3265, 3264,    4,\n",
       "        3244, 3580, 3601, 3265,    4, 3579, 3580, 3601, 3600,    4, 3243,\n",
       "        3579, 3600, 3264,    4, 3264, 3265, 3601, 3600]),\n",
       " array([   4, 3244, 3245, 3581, 3580,    4, 3244, 3245, 3266, 3265,    4,\n",
       "        3245, 3581, 3602, 3266,    4, 3580, 3581, 3602, 3601,    4, 3244,\n",
       "        3580, 3601, 3265,    4, 3265, 3266, 3602, 3601]),\n",
       " array([   4, 3247, 3248, 3584, 3583,    4, 3247, 3248, 3269, 3268,    4,\n",
       "        3248, 3584, 3605, 3269,    4, 3583, 3584, 3605, 3604,    4, 3247,\n",
       "        3583, 3604, 3268,    4, 3268, 3269, 3605, 3604]),\n",
       " array([   4, 3248, 3249, 3585, 3584,    4, 3248, 3249, 3270, 3269,    4,\n",
       "        3249, 3585, 3606, 3270,    4, 3584, 3585, 3606, 3605,    4, 3248,\n",
       "        3584, 3605, 3269,    4, 3269, 3270, 3606, 3605]),\n",
       " array([   4, 3249, 3250, 3586, 3585,    4, 3249, 3250, 3271, 3270,    4,\n",
       "        3250, 3586, 3607, 3271,    4, 3585, 3586, 3607, 3606,    4, 3249,\n",
       "        3585, 3606, 3270,    4, 3270, 3271, 3607, 3606]),\n",
       " array([   4, 3250, 3251, 3587, 3586,    4, 3250, 3251, 3272, 3271,    4,\n",
       "        3251, 3587, 3608, 3272,    4, 3586, 3587, 3608, 3607,    4, 3250,\n",
       "        3586, 3607, 3271,    4, 3271, 3272, 3608, 3607]),\n",
       " array([   4, 3257, 3256, 3592, 3593,    4, 3257, 3256, 3277, 3278,    4,\n",
       "        3256, 3592, 3613, 3277,    4, 3593, 3592, 3613, 3614,    4, 3257,\n",
       "        3593, 3614, 3278,    4, 3278, 3277, 3613, 3614]),\n",
       " array([   4, 3256, 3258, 3594, 3592,    4, 3256, 3258, 3279, 3277,    4,\n",
       "        3258, 3594, 3615, 3279,    4, 3592, 3594, 3615, 3613,    4, 3256,\n",
       "        3592, 3613, 3277,    4, 3277, 3279, 3615, 3613]),\n",
       " array([   4, 3258, 3259, 3595, 3594,    4, 3258, 3259, 3280, 3279,    4,\n",
       "        3259, 3595, 3616, 3280,    4, 3594, 3595, 3616, 3615,    4, 3258,\n",
       "        3594, 3615, 3279,    4, 3279, 3280, 3616, 3615]),\n",
       " array([   4, 3261, 3262, 3598, 3597,    4, 3261, 3262, 3283, 3282,    4,\n",
       "        3262, 3598, 3619, 3283,    4, 3597, 3598, 3619, 3618,    4, 3261,\n",
       "        3597, 3618, 3282,    4, 3282, 3283, 3619, 3618]),\n",
       " array([   4, 3262, 3263, 3599, 3598,    4, 3262, 3263, 3284, 3283,    4,\n",
       "        3263, 3599, 3620, 3284,    4, 3598, 3599, 3620, 3619,    4, 3262,\n",
       "        3598, 3619, 3283,    4, 3283, 3284, 3620, 3619]),\n",
       " array([   4, 3263, 3264, 3600, 3599,    4, 3263, 3264, 3285, 3284,    4,\n",
       "        3264, 3600, 3621, 3285,    4, 3599, 3600, 3621, 3620,    4, 3263,\n",
       "        3599, 3620, 3284,    4, 3284, 3285, 3621, 3620]),\n",
       " array([   4, 3267, 3268, 3604, 3603,    4, 3267, 3268, 3289, 3288,    4,\n",
       "        3268, 3604, 3625, 3289,    4, 3603, 3604, 3625, 3624,    4, 3267,\n",
       "        3603, 3624, 3288,    4, 3288, 3289, 3625, 3624]),\n",
       " array([   4, 3268, 3269, 3605, 3604,    4, 3268, 3269, 3290, 3289,    4,\n",
       "        3269, 3605, 3626, 3290,    4, 3604, 3605, 3626, 3625,    4, 3268,\n",
       "        3604, 3625, 3289,    4, 3289, 3290, 3626, 3625]),\n",
       " array([   4, 3269, 3270, 3606, 3605,    4, 3269, 3270, 3291, 3290,    4,\n",
       "        3270, 3606, 3627, 3291,    4, 3605, 3606, 3627, 3626,    4, 3269,\n",
       "        3605, 3626, 3290,    4, 3290, 3291, 3627, 3626]),\n",
       " array([   4, 3270, 3271, 3607, 3606,    4, 3270, 3271, 3292, 3291,    4,\n",
       "        3271, 3607, 3628, 3292,    4, 3606, 3607, 3628, 3627,    4, 3270,\n",
       "        3606, 3627, 3291,    4, 3291, 3292, 3628, 3627]),\n",
       " array([   4, 3271, 3272, 3608, 3607,    4, 3271, 3272, 3293, 3292,    4,\n",
       "        3272, 3608, 3629, 3293,    4, 3607, 3608, 3629, 3628,    4, 3271,\n",
       "        3607, 3628, 3292,    4, 3292, 3293, 3629, 3628]),\n",
       " array([   4, 3278, 3277, 3613, 3614,    4, 3278, 3277, 3298, 3299,    4,\n",
       "        3277, 3613, 3634, 3298,    4, 3614, 3613, 3634, 3635,    4, 3278,\n",
       "        3614, 3635, 3299,    4, 3299, 3298, 3634, 3635]),\n",
       " array([   4, 3288, 3289, 3625, 3624,    4, 3288, 3289, 3310, 3309,    4,\n",
       "        3289, 3625, 3646, 3310,    4, 3624, 3625, 3646, 3645,    4, 3288,\n",
       "        3624, 3645, 3309,    4, 3309, 3310, 3646, 3645]),\n",
       " array([   4, 3289, 3290, 3626, 3625,    4, 3289, 3290, 3311, 3310,    4,\n",
       "        3290, 3626, 3647, 3311,    4, 3625, 3626, 3647, 3646,    4, 3289,\n",
       "        3625, 3646, 3310,    4, 3310, 3311, 3647, 3646]),\n",
       " array([   4, 3290, 3291, 3627, 3626,    4, 3290, 3291, 3312, 3311,    4,\n",
       "        3291, 3627, 3648, 3312,    4, 3626, 3627, 3648, 3647,    4, 3290,\n",
       "        3626, 3647, 3311,    4, 3311, 3312, 3648, 3647]),\n",
       " array([   4, 3291, 3292, 3628, 3627,    4, 3291, 3292, 3313, 3312,    4,\n",
       "        3292, 3628, 3649, 3313,    4, 3627, 3628, 3649, 3648,    4, 3291,\n",
       "        3627, 3648, 3312,    4, 3312, 3313, 3649, 3648]),\n",
       " array([   4, 3292, 3293, 3629, 3628,    4, 3292, 3293, 3314, 3313,    4,\n",
       "        3293, 3629, 3650, 3314,    4, 3628, 3629, 3650, 3649,    4, 3292,\n",
       "        3628, 3649, 3313,    4, 3313, 3314, 3650, 3649]),\n",
       " array([   4, 3309, 3310, 3646, 3645,    4, 3309, 3310, 3331, 3330,    4,\n",
       "        3310, 3646, 3667, 3331,    4, 3645, 3646, 3667, 3666,    4, 3309,\n",
       "        3645, 3666, 3330,    4, 3330, 3331, 3667, 3666]),\n",
       " array([   4, 3310, 3311, 3647, 3646,    4, 3310, 3311, 3332, 3331,    4,\n",
       "        3311, 3647, 3668, 3332,    4, 3646, 3647, 3668, 3667,    4, 3310,\n",
       "        3646, 3667, 3331,    4, 3331, 3332, 3668, 3667]),\n",
       " array([   4, 3311, 3312, 3648, 3647,    4, 3311, 3312, 3333, 3332,    4,\n",
       "        3312, 3648, 3669, 3333,    4, 3647, 3648, 3669, 3668,    4, 3311,\n",
       "        3647, 3668, 3332,    4, 3332, 3333, 3669, 3668]),\n",
       " array([   4, 3312, 3313, 3649, 3648,    4, 3312, 3313, 3334, 3333,    4,\n",
       "        3313, 3649, 3670, 3334,    4, 3648, 3649, 3670, 3669,    4, 3312,\n",
       "        3648, 3669, 3333,    4, 3333, 3334, 3670, 3669]),\n",
       " array([   4, 3313, 3314, 3650, 3649,    4, 3313, 3314, 3335, 3334,    4,\n",
       "        3314, 3650, 3671, 3335,    4, 3649, 3650, 3671, 3670,    4, 3313,\n",
       "        3649, 3670, 3334,    4, 3334, 3335, 3671, 3670]),\n",
       " array([   4, 3325, 3326, 3662, 3661,    4, 3325, 3326, 3347, 3346,    4,\n",
       "        3326, 3662, 3683, 3347,    4, 3661, 3662, 3683, 3682,    4, 3325,\n",
       "        3661, 3682, 3346,    4, 3346, 3347, 3683, 3682]),\n",
       " array([   4, 3326, 3327, 3663, 3662,    4, 3326, 3327, 3348, 3347,    4,\n",
       "        3327, 3663, 3684, 3348,    4, 3662, 3663, 3684, 3683,    4, 3326,\n",
       "        3662, 3683, 3347,    4, 3347, 3348, 3684, 3683]),\n",
       " array([   4, 3329, 3330, 3666, 3665,    4, 3329, 3330, 3351, 3350,    4,\n",
       "        3330, 3666, 3687, 3351,    4, 3665, 3666, 3687, 3686,    4, 3329,\n",
       "        3665, 3686, 3350,    4, 3350, 3351, 3687, 3686]),\n",
       " array([   4, 3330, 3331, 3667, 3666,    4, 3330, 3331, 3352, 3351,    4,\n",
       "        3331, 3667, 3688, 3352,    4, 3666, 3667, 3688, 3687,    4, 3330,\n",
       "        3666, 3687, 3351,    4, 3351, 3352, 3688, 3687]),\n",
       " array([   4, 3331, 3332, 3668, 3667,    4, 3331, 3332, 3353, 3352,    4,\n",
       "        3332, 3668, 3689, 3353,    4, 3667, 3668, 3689, 3688,    4, 3331,\n",
       "        3667, 3688, 3352,    4, 3352, 3353, 3689, 3688]),\n",
       " array([   4, 3332, 3333, 3669, 3668,    4, 3332, 3333, 3354, 3353,    4,\n",
       "        3333, 3669, 3690, 3354,    4, 3668, 3669, 3690, 3689,    4, 3332,\n",
       "        3668, 3689, 3353,    4, 3353, 3354, 3690, 3689]),\n",
       " array([   4, 3333, 3334, 3670, 3669,    4, 3333, 3334, 3355, 3354,    4,\n",
       "        3334, 3670, 3691, 3355,    4, 3669, 3670, 3691, 3690,    4, 3333,\n",
       "        3669, 3690, 3354,    4, 3354, 3355, 3691, 3690]),\n",
       " array([   4, 3334, 3335, 3671, 3670,    4, 3334, 3335, 3356, 3355,    4,\n",
       "        3335, 3671, 3692, 3356,    4, 3670, 3671, 3692, 3691,    4, 3334,\n",
       "        3670, 3691, 3355,    4, 3355, 3356, 3692, 3691])]"
      ]
     },
     "execution_count": 44,
     "metadata": {},
     "output_type": "execute_result"
    }
   ],
   "source": [
    "mconect_polydata_square "
   ]
  },
  {
   "cell_type": "code",
   "execution_count": 42,
   "id": "c18e0e0b",
   "metadata": {},
   "outputs": [],
   "source": [
    "# Initialize gmsh:\n",
    "gmsh.initialize()\n",
    " \n",
    "# cube points:\n",
    "lc = 1e-2\n",
    "point1 = gmsh.model.geo.add_point(0, 0, 0, lc)\n",
    "point2 = gmsh.model.geo.add_point(1, 0, 0, lc)\n",
    "point3 = gmsh.model.geo.add_point(1, 1, 0, lc)\n",
    "point4 = gmsh.model.geo.add_point(0, 1, 0, lc)\n",
    "point5 = gmsh.model.geo.add_point(0, 1, 1, lc)\n",
    "point6 = gmsh.model.geo.add_point(0, 0, 1, lc)\n",
    "point7 = gmsh.model.geo.add_point(1, 0, 1, lc)\n",
    "point8 = gmsh.model.geo.add_point(1, 1, 1, lc)\n",
    " \n",
    "# Create the relevant Gmsh data structures\n",
    "# from Gmsh model.\n",
    "gmsh.model.geo.synchronize()\n",
    " \n",
    "# Generate mesh:\n",
    "gmsh.model.mesh.generate()\n",
    " \n",
    "# Write mesh data:\n",
    "gmsh.write(\"GFG.msh\")\n",
    " \n",
    "gmsh.fltk.run()\n",
    " \n",
    "# It finalize the Gmsh API\n",
    "gmsh.finalize()"
   ]
  },
  {
   "cell_type": "code",
   "execution_count": null,
   "id": "97dc444a",
   "metadata": {},
   "outputs": [],
   "source": []
  }
 ],
 "metadata": {
  "kernelspec": {
   "display_name": "Python 3",
   "language": "python",
   "name": "python3"
  },
  "language_info": {
   "codemirror_mode": {
    "name": "ipython",
    "version": 3
   },
   "file_extension": ".py",
   "mimetype": "text/x-python",
   "name": "python",
   "nbconvert_exporter": "python",
   "pygments_lexer": "ipython3",
   "version": "3.8.10"
  }
 },
 "nbformat": 4,
 "nbformat_minor": 5
}
